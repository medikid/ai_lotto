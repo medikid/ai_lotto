{
 "cells": [
  {
   "cell_type": "markdown",
   "metadata": {},
   "source": [
    "<a href=\"https://colab.research.google.com/github/medikid/ai_lotto/blob/master/notebooks/data_prep.ipynb\" target=\"_parent\"><img src=\"https://colab.research.google.com/assets/colab-badge.svg\" alt=\"Open In Colab\"/></a>"
   ]
  },
  {
   "cell_type": "code",
   "execution_count": null,
   "metadata": {},
   "outputs": [],
   "source": [
    "# Prepare Colab"
   ]
  },
  {
   "cell_type": "code",
   "execution_count": null,
   "metadata": {},
   "outputs": [],
   "source": [
    "from google.colab import drive\n",
    "drive.mount('/content/drive')"
   ]
  },
  {
   "cell_type": "code",
   "execution_count": null,
   "metadata": {},
   "outputs": [],
   "source": [
    "%cd 'drive/My Drive/Colab/Datascience/ai_lotto' #change dir to proj folder and load all .py files and cd back to notebooks folder\n",
    "\n",
    "from idata import Data\n",
    "from idataset import Dataset\n",
    "from imodel import Model\n",
    "from ker_model import KER_Model\n",
    "from tfl_model import TFL_Model\n",
    "\n",
    "\n",
    "%cd 'notebooks'"
   ]
  },
  {
   "cell_type": "markdown",
   "metadata": {},
   "source": [
    "# Prepare Master Data Files"
   ]
  },
  {
   "cell_type": "code",
   "execution_count": null,
   "metadata": {},
   "outputs": [],
   "source": [
    "# Prepare master data. First load all master files\n",
    "#!python3 '../idata.py' #from ipynb.fs.full.idata \n",
    "# from idata import Data\n",
    "# import numpy as np\n",
    "# import pandas as pd\n",
    "\n",
    "_GAME = 'keno'"
   ]
  },
  {
   "cell_type": "code",
   "execution_count": null,
   "metadata": {},
   "outputs": [],
   "source": [
    "# Load master pickl, deconstruct and load deconstructed files\n",
    "master_data = Data(\"{0}_master\".format(_GAME), True); #true flag will load master and sub_master DFs\n",
    "DF_IDs = master_data._DF_IDs;\n",
    "DF_R = master_data._DF_R;\n",
    "DF_DR = master_data._DF_DR;\n",
    "DF_DP = master_data._DF_DP;"
   ]
  },
  {
   "cell_type": "code",
   "execution_count": null,
   "metadata": {},
   "outputs": [],
   "source": [
    "# load individul sub-master files\n",
    "DF_DR = pd.read_pickle(\"../data/{0}/master/{0}_master_dr.pkl\".format(_GAME))"
   ]
  },
  {
   "cell_type": "code",
   "execution_count": null,
   "metadata": {},
   "outputs": [],
   "source": [
    "#load specific sub-master files\n",
    "import pandas as pd\n",
    "_DATA_TYPE = 'dr'; _GAME='keno'; Dataframes={}\n",
    "Dataframes[\"DF_{0}\".format(_DATA_TYPE).upper()] = pd.read_pickle(\"../data/{0}/master/{0}_master_{1}.pkl\".format(_GAME, _DATA_TYPE))\n",
    "Dataframes['DF_DR']"
   ]
  },
  {
   "cell_type": "code",
   "execution_count": null,
   "metadata": {},
   "outputs": [],
   "source": [
    "#create new master files for each data types\n",
    "master_data.create_new('hotspot_master_ids', DF_IDs)\n",
    "master_data.create_new('hotspot_master_r', DF_R)\n",
    "master_data.create_new('hotspot_master_dr', DF_DR)\n",
    "master_data.create_new('hotspot_master_dp', DF_DP)"
   ]
  },
  {
   "cell_type": "code",
   "execution_count": null,
   "metadata": {},
   "outputs": [],
   "source": [
    "Dataframes['DF_DR'].shape"
   ]
  },
  {
   "cell_type": "markdown",
   "metadata": {},
   "source": [
    "# Prepare training datasets"
   ]
  },
  {
   "cell_type": "code",
   "execution_count": null,
   "metadata": {},
   "outputs": [],
   "source": [
    "pwd"
   ]
  },
  {
   "cell_type": "code",
   "execution_count": null,
   "metadata": {},
   "outputs": [],
   "source": [
    "# !python3 '../idataset.py' \n",
    "from ipynb.fs.full.idataset import Dataset\n",
    "# from idataset import Dataset\n",
    "_GAME = 'keno';\n",
    "\n",
    "#pull some valid dataset to initiate empty datset\n",
    "D = Dataset(\"{0}_x15_2m_dr\".format(_GAME))"
   ]
  },
  {
   "cell_type": "code",
   "execution_count": null,
   "metadata": {},
   "outputs": [],
   "source": [
    "nTests = 15;\n",
    "_DATA_TYPE = 'dr'; DF = Dataframes['DF_DR']\n",
    "DatasetLists_dr=[\n",
    "    \"{0}_x15_25k_{1}\".format(_GAME,_DATA_TYPE) \\\n",
    "    , \"{0}_x15_100k_{1}\".format(_GAME,_DATA_TYPE) \\\n",
    "    , \"{0}_x15_250k_{1}\".format(_GAME,_DATA_TYPE) \\\n",
    "    , \"{0}_x15_500k_{1}\".format(_GAME,_DATA_TYPE) \\\n",
    "    , \"{0}_x15_1m_{1}\".format(_GAME,_DATA_TYPE)  \\\n",
    "    , \"{0}_x15_2m_{1}\".format(_GAME,_DATA_TYPE)  \\\n",
    "    , \"{0}_x15_2.528m_{1}\".format(_GAME,_DATA_TYPE)  \\\n",
    "];\n",
    "\n",
    "for dt in DatasetLists_dr:\n",
    "    D.create_new_by_id(DF, dt, nTests);"
   ]
  },
  {
   "cell_type": "code",
   "execution_count": null,
   "metadata": {},
   "outputs": [],
   "source": [
    "nTests = 15;\n",
    "DatasetLists_dr=[\n",
    "    'hotspot_x15_25k_dp' \\\n",
    "    , 'hotspot_x15_100k_dp' \\\n",
    "    , 'hotspot_x15_200k_dp' \\\n",
    "    , 'hotspot_x15_300k_dp' \\\n",
    "    , 'hotspot_x15_310k_dp'  \\\n",
    "    , 'hotspot_x15_310k_dp'  \\\n",
    "];\n",
    "for dt in DatasetLists_dp:\n",
    "    D.create_new_by_id(DF_DP, dt, nTests);"
   ]
  },
  {
   "cell_type": "code",
   "execution_count": null,
   "metadata": {},
   "outputs": [],
   "source": [
    "_GAME = 'keno'; _TYPE='master'\n",
    "var = \"../data/{0}/{1}\".format(_GAME,_TYPE )\n",
    "print(var)"
   ]
  },
  {
   "cell_type": "code",
   "execution_count": 1,
   "metadata": {},
   "outputs": [
    {
     "name": "stderr",
     "output_type": "stream",
     "text": [
      "Using TensorFlow backend.\n"
     ]
    }
   ],
   "source": [
    "# %load '../load_lib.py'\n",
    "\n",
    "%run '../ifile.py'\n",
    "%run '../idata.py'\n",
    "%run '../idataset.py'\n",
    "%run '../imodel.py'\n",
    "%run '../ker_model.py'\n",
    "%run '../ker_model_loader.py'\n",
    "%run '../tfl_model.py'\n",
    "%run '../ai.py'\n",
    "%run '../itrainer.py'\n"
   ]
  },
  {
   "cell_type": "code",
   "execution_count": 2,
   "metadata": {},
   "outputs": [
    {
     "name": "stdout",
     "output_type": "stream",
     "text": [
      "xndraw100k, new_st100.0, multiple1000, notationk\n",
      "[iFile:__init__]\n",
      "xndraw100k, new_st100.0, multiple1000, notationk\n",
      "[iFile:derive_game_path]data/keno/\n",
      "[iFile:derive_folder_path] data/keno/x15/100k/\n",
      "[iDataset:derive_file_path] datasets/keno_x15_100k_dr.npz\n",
      "[ifile:derive_full_path] ../data/keno/x15/100k/datasets/keno_x15_100k_dr.npz\n",
      "xndraw2.528m, new_st2.528, multiple1000000, notationm\n",
      "[iFile:derive_game_path]data/keno/\n",
      "[iFile:derive_folder_path] data/keno/x15/2.528m/\n",
      "[iDataset:derive_file_path] datasets/keno_x15_2.528m_dr.npz\n",
      "[ifile:derive_full_path] ../data/keno/x15/2.528m/datasets/keno_x15_2.528m_dr.npz\n",
      "[iFile:__init__]\n",
      "[ifile:derive_full_path] ../data/keno/master/keno_master.pkl\n",
      "Saved new datast file ../data/keno/x15/2.528m/datasets/keno_x15_2.528m_dr.npz\n"
     ]
    }
   ],
   "source": [
    "# from ipynb.fs.full.idataset import Dataset\n",
    "import pandas as pd\n",
    "_DATA_TYPE = 'dr'; _GAME='keno'; Dataframes={}\n",
    "Dataframes[\"DF_{0}\".format(_DATA_TYPE).upper()] = pd.read_pickle(\"../data/{0}/master/{0}_master_{1}.pkl\".format(_GAME, _DATA_TYPE))\n",
    "Dataframes['DF_DR']\n",
    "D = Dataset(\"{0}_x15_100k_dr\".format(_GAME))\n",
    "D.create_new_by_id(Dataframes['DF_DR'], 'keno_x15_2.528m_dr', 15);"
   ]
  },
  {
   "cell_type": "code",
   "execution_count": null,
   "metadata": {},
   "outputs": [],
   "source": []
  }
 ],
 "metadata": {
  "kernelspec": {
   "display_name": "Python 3",
   "language": "python",
   "name": "python3"
  },
  "language_info": {
   "codemirror_mode": {
    "name": "ipython",
    "version": 3
   },
   "file_extension": ".py",
   "mimetype": "text/x-python",
   "name": "python",
   "nbconvert_exporter": "python",
   "pygments_lexer": "ipython3",
   "version": "3.6.9"
  }
 },
 "nbformat": 4,
 "nbformat_minor": 4
}
