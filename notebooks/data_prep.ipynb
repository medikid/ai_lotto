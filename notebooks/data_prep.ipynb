{
 "cells": [
  {
   "cell_type": "markdown",
   "metadata": {},
   "source": [
    "# Prepare Master Data Files"
   ]
  },
  {
   "cell_type": "code",
   "execution_count": 4,
   "metadata": {
    "collapsed": true,
    "jupyter": {
     "outputs_hidden": true
    }
   },
   "outputs": [
    {
     "name": "stdout",
     "output_type": "stream",
     "text": [
      "[iFile:__init__]\n",
      "[ifile:derive_full_path] ../data/hotspot/master/hotspot_master.pkl\n",
      "ERROR: Missing Master Dataframe\n",
      "Loaded data file ../data/hotspot/master/hotspot_master.pkl\n"
     ]
    }
   ],
   "source": [
    "# Prepare master data. First load all master files\n",
    "from ipynb.fs.full.idata import Data\n",
    "\n",
    "master_data = Data('hotspot_master', True); #true flag will load master and sub_master DFs\n",
    "DF_IDs = master_data._DF_IDs;\n",
    "DF_R = master_data._DF_R;\n",
    "DF_DR = master_data._DF_DR;\n",
    "DF_DP = master_data._DF_DP;"
   ]
  },
  {
   "cell_type": "code",
   "execution_count": 2,
   "metadata": {
    "collapsed": true,
    "jupyter": {
     "outputs_hidden": true
    }
   },
   "outputs": [
    {
     "name": "stdout",
     "output_type": "stream",
     "text": [
      "[ifile:derive_full_path] ../data/hotspot/master/hotspot_master_ids.pkl\n",
      "Saved new file ../data/hotspot/master/hotspot_master_ids.pkl\n",
      "[ifile:derive_full_path] ../data/hotspot/master/hotspot_master_r.pkl\n",
      "Saved new file ../data/hotspot/master/hotspot_master_r.pkl\n",
      "[ifile:derive_full_path] ../data/hotspot/master/hotspot_master_dr.pkl\n",
      "Saved new file ../data/hotspot/master/hotspot_master_dr.pkl\n",
      "[ifile:derive_full_path] ../data/hotspot/master/hotspot_master_dp.pkl\n",
      "Saved new file ../data/hotspot/master/hotspot_master_dp.pkl\n"
     ]
    }
   ],
   "source": [
    "#create new master files for each data types\n",
    "master_data.create_new('hotspot_master_ids', DF_IDs)\n",
    "master_data.create_new('hotspot_master_r', DF_R)\n",
    "master_data.create_new('hotspot_master_dr', DF_DR)\n",
    "master_data.create_new('hotspot_master_dp', DF_DP)"
   ]
  },
  {
   "cell_type": "markdown",
   "metadata": {},
   "source": [
    "# Prepare training datasets"
   ]
  },
  {
   "cell_type": "code",
   "execution_count": 5,
   "metadata": {
    "collapsed": true,
    "jupyter": {
     "outputs_hidden": true
    }
   },
   "outputs": [
    {
     "name": "stdout",
     "output_type": "stream",
     "text": [
      "File format not included in FIle Name\n",
      "[iFile:__init__]\n",
      "File format not included in FIle Name\n",
      "[iFile:derive_folder_path] data/hotspot/x15/25k/\n",
      "[iDataset:derive_file_path] datasets/hotspot_x15_25k_dr.npz\n",
      "[ifile:derive_full_path] ../data/hotspot/x15/25k/datasets/hotspot_x15_25k_dr.npz\n"
     ]
    }
   ],
   "source": [
    "from ipynb.fs.full.idataset import Dataset\n",
    "\n",
    "#pull some valid dataset to initiate empty datset\n",
    "D = Dataset('hotspot_x15_25k_dr')"
   ]
  },
  {
   "cell_type": "code",
   "execution_count": 6,
   "metadata": {
    "collapsed": true,
    "jupyter": {
     "outputs_hidden": true
    }
   },
   "outputs": [
    {
     "name": "stdout",
     "output_type": "stream",
     "text": [
      "File format not included in FIle Name\n",
      "[iFile:derive_folder_path] data/hotspot/x15/25k/\n",
      "[iDataset:derive_file_path] datasets/hotspot_x15_25k_dr.npz\n",
      "[ifile:derive_full_path] ../data/hotspot/x15/25k/datasets/hotspot_x15_25k_dr.npz\n",
      "[iFile:__init__]\n",
      "[ifile:derive_full_path] ../data/hotspot/master/hotspot_master.pkl\n",
      "Saved new datast file ../data/hotspot/x15/25k/datasets/hotspot_x15_25k_dr.npz\n",
      "File format not included in FIle Name\n",
      "[iFile:derive_folder_path] data/hotspot/x15/100k/\n",
      "[iDataset:derive_file_path] datasets/hotspot_x15_100k_dr.npz\n",
      "[ifile:derive_full_path] ../data/hotspot/x15/100k/datasets/hotspot_x15_100k_dr.npz\n",
      "[iFile:__init__]\n",
      "[ifile:derive_full_path] ../data/hotspot/master/hotspot_master.pkl\n",
      "Saved new datast file ../data/hotspot/x15/100k/datasets/hotspot_x15_100k_dr.npz\n",
      "File format not included in FIle Name\n",
      "[iFile:derive_folder_path] data/hotspot/x15/200k/\n",
      "[iDataset:derive_file_path] datasets/hotspot_x15_200k_dr.npz\n",
      "[ifile:derive_full_path] ../data/hotspot/x15/200k/datasets/hotspot_x15_200k_dr.npz\n",
      "[iFile:__init__]\n",
      "[ifile:derive_full_path] ../data/hotspot/master/hotspot_master.pkl\n",
      "Saved new datast file ../data/hotspot/x15/200k/datasets/hotspot_x15_200k_dr.npz\n",
      "File format not included in FIle Name\n",
      "[iFile:derive_folder_path] data/hotspot/x15/300k/\n",
      "[iDataset:derive_file_path] datasets/hotspot_x15_300k_dr.npz\n",
      "[ifile:derive_full_path] ../data/hotspot/x15/300k/datasets/hotspot_x15_300k_dr.npz\n",
      "[iFile:__init__]\n",
      "[ifile:derive_full_path] ../data/hotspot/master/hotspot_master.pkl\n",
      "Saved new datast file ../data/hotspot/x15/300k/datasets/hotspot_x15_300k_dr.npz\n",
      "File format not included in FIle Name\n",
      "[iFile:derive_folder_path] data/hotspot/x15/310k/\n",
      "[iDataset:derive_file_path] datasets/hotspot_x15_310k_dr.npz\n",
      "[ifile:derive_full_path] ../data/hotspot/x15/310k/datasets/hotspot_x15_310k_dr.npz\n",
      "[iFile:__init__]\n",
      "[ifile:derive_full_path] ../data/hotspot/master/hotspot_master.pkl\n",
      "Saved new datast file ../data/hotspot/x15/310k/datasets/hotspot_x15_310k_dr.npz\n"
     ]
    }
   ],
   "source": [
    "nTests = 15;\n",
    "DatasetLists_dr=[\n",
    "    'hotspot_x15_25k_dr' \\\n",
    "    , 'hotspot_x15_100k_dr' \\\n",
    "    , 'hotspot_x15_200k_dr' \\\n",
    "    , 'hotspot_x15_300k_dr' \\\n",
    "    , 'hotspot_x15_310k_dr'  \\\n",
    "];\n",
    "\n",
    "for dt in DatasetLists_dr:\n",
    "    D.create_new_by_id(DF_DR, dt, nTests);"
   ]
  },
  {
   "cell_type": "code",
   "execution_count": 7,
   "metadata": {
    "collapsed": true,
    "jupyter": {
     "outputs_hidden": true
    }
   },
   "outputs": [
    {
     "name": "stdout",
     "output_type": "stream",
     "text": [
      "File format not included in FIle Name\n",
      "[iFile:derive_folder_path] data/hotspot/x15/25k/\n",
      "[iDataset:derive_file_path] datasets/hotspot_x15_25k_dP.npz\n",
      "[ifile:derive_full_path] ../data/hotspot/x15/25k/datasets/hotspot_x15_25k_dP.npz\n",
      "[iFile:__init__]\n",
      "[ifile:derive_full_path] ../data/hotspot/master/hotspot_master.pkl\n",
      "Saved new datast file ../data/hotspot/x15/25k/datasets/hotspot_x15_25k_dP.npz\n",
      "File format not included in FIle Name\n",
      "[iFile:derive_folder_path] data/hotspot/x15/100k/\n",
      "[iDataset:derive_file_path] datasets/hotspot_x15_100k_dp.npz\n",
      "[ifile:derive_full_path] ../data/hotspot/x15/100k/datasets/hotspot_x15_100k_dp.npz\n",
      "[iFile:__init__]\n",
      "[ifile:derive_full_path] ../data/hotspot/master/hotspot_master.pkl\n",
      "Saved new datast file ../data/hotspot/x15/100k/datasets/hotspot_x15_100k_dp.npz\n",
      "File format not included in FIle Name\n",
      "[iFile:derive_folder_path] data/hotspot/x15/200k/\n",
      "[iDataset:derive_file_path] datasets/hotspot_x15_200k_dp.npz\n",
      "[ifile:derive_full_path] ../data/hotspot/x15/200k/datasets/hotspot_x15_200k_dp.npz\n",
      "[iFile:__init__]\n",
      "[ifile:derive_full_path] ../data/hotspot/master/hotspot_master.pkl\n",
      "Saved new datast file ../data/hotspot/x15/200k/datasets/hotspot_x15_200k_dp.npz\n",
      "File format not included in FIle Name\n",
      "[iFile:derive_folder_path] data/hotspot/x15/300k/\n",
      "[iDataset:derive_file_path] datasets/hotspot_x15_300k_dp.npz\n",
      "[ifile:derive_full_path] ../data/hotspot/x15/300k/datasets/hotspot_x15_300k_dp.npz\n",
      "[iFile:__init__]\n",
      "[ifile:derive_full_path] ../data/hotspot/master/hotspot_master.pkl\n",
      "Saved new datast file ../data/hotspot/x15/300k/datasets/hotspot_x15_300k_dp.npz\n",
      "File format not included in FIle Name\n",
      "[iFile:derive_folder_path] data/hotspot/x15/310k/\n",
      "[iDataset:derive_file_path] datasets/hotspot_x15_310k_dp.npz\n",
      "[ifile:derive_full_path] ../data/hotspot/x15/310k/datasets/hotspot_x15_310k_dp.npz\n",
      "[iFile:__init__]\n",
      "[ifile:derive_full_path] ../data/hotspot/master/hotspot_master.pkl\n",
      "Saved new datast file ../data/hotspot/x15/310k/datasets/hotspot_x15_310k_dp.npz\n"
     ]
    }
   ],
   "source": [
    "nTests = 15;\n",
    "DatasetLists_dr=[\n",
    "    'hotspot_x15_25k_dp' \\\n",
    "    , 'hotspot_x15_100k_dp' \\\n",
    "    , 'hotspot_x15_200k_dp' \\\n",
    "    , 'hotspot_x15_300k_dp' \\\n",
    "    , 'hotspot_x15_310k_dp'  \\\n",
    "];\n",
    "for dt in DatasetLists_dp:\n",
    "    D.create_new_by_id(DF_DP, dt, nTests);"
   ]
  },
  {
   "cell_type": "code",
   "execution_count": null,
   "metadata": {
    "collapsed": true,
    "jupyter": {
     "outputs_hidden": true
    }
   },
   "outputs": [],
   "source": []
  }
 ],
 "metadata": {
  "kernelspec": {
   "display_name": "Python 3",
   "language": "python",
   "name": "python3"
  },
  "language_info": {
   "codemirror_mode": {
    "name": "ipython",
    "version": 3
   },
   "file_extension": ".py",
   "mimetype": "text/x-python",
   "name": "python",
   "nbconvert_exporter": "python",
   "pygments_lexer": "ipython3",
   "version": "3.6.9"
  }
 },
 "nbformat": 4,
 "nbformat_minor": 4
}
