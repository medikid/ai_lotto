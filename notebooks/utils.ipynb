{
 "cells": [
  {
   "cell_type": "markdown",
   "metadata": {},
   "source": [
    "<a href=\"https://colab.research.google.com/github/medikid/ai_lotto/blob/master/notebooks/git_functions.ipynb\" target=\"_parent\"><img src=\"https://colab.research.google.com/assets/colab-badge.svg\" alt=\"Open In Colab\"/></a>"
   ]
  },
  {
   "cell_type": "markdown",
   "metadata": {},
   "source": [
    "## Convert IPyNB to Py"
   ]
  },
  {
   "cell_type": "code",
   "execution_count": 2,
   "metadata": {},
   "outputs": [
    {
     "name": "stdout",
     "output_type": "stream",
     "text": [
      "Writing ../ifile.py\n",
      "Writing ../idata.py\n",
      "Writing ../idataset.py\n",
      "Writing ../imodel.py\n",
      "Writing ../ker_model.py\n",
      "Writing ../tfl_model.py\n",
      "Writing ../ai.py\n",
      "Writing ../ipredictor.py\n",
      "Writing ../itrainer.py\n"
     ]
    }
   ],
   "source": [
    "#Save all ipynb files to py and make sure first line has %%WRITEFILE to py files\n",
    "\n",
    "%run 'ifile.ipynb'\n",
    "\n",
    "%run 'idata.ipynb'\n",
    "%run 'idataset.ipynb'\n",
    "\n",
    "%run 'imodel.ipynb'\n",
    "%run 'ker_model.ipynb'\n",
    "%run 'ker_model_loader.ipynb'\n",
    "%run 'tfl_model.ipynb'\n",
    "\n",
    "\n",
    "%run 'ai.ipynb'\n",
    "%run 'ipredictor.ipynb'\n",
    "%run 'itrainer.ipynb'"
   ]
  },
  {
   "cell_type": "markdown",
   "metadata": {},
   "source": [
    "## Run Py files to memory"
   ]
  },
  {
   "cell_type": "code",
   "execution_count": 2,
   "metadata": {},
   "outputs": [],
   "source": [
    "# %load '../load_lib.py'\n",
    "# then import lib as 'from ifile import iFile' on your notebooks\n",
    "\n",
    "%run '../ifile.py'\n",
    "%run '../idata.py'\n",
    "%run '../idataset.py'\n",
    "%run '../imodel.py'\n",
    "%run '../ker_model.py'\n",
    "%run '../ker_model_loader.py'\n",
    "%run '../tfl_model.py'\n",
    "%run '../ai.py'\n",
    "%run '../itrainer.py'\n"
   ]
  },
  {
   "cell_type": "markdown",
   "metadata": {},
   "source": [
    "# GIthub Functions"
   ]
  },
  {
   "cell_type": "markdown",
   "metadata": {},
   "source": [
    "## Git ADD, COMMIT and PUSH to remote"
   ]
  },
  {
   "cell_type": "code",
   "execution_count": null,
   "metadata": {},
   "outputs": [
    {
     "name": "stdout",
     "output_type": "stream",
     "text": [
      "[master ce0f5ab] Added git functions\n",
      " 15 files changed, 376 insertions(+), 142 deletions(-)\n",
      " create mode 100755 notebooks/.ipynb_checkpoints/itrainer-checkpoint.ipynb\n",
      " create mode 100755 notebooks/itrainer.ipynb\n",
      "Username for 'https://github.com': "
     ]
    }
   ],
   "source": [
    "!git add -A .\n",
    "!git commit -m \"Added git functions\"\n",
    "!git push origin master"
   ]
  },
  {
   "cell_type": "markdown",
   "metadata": {},
   "source": [
    "## Git Pull from remote github repo"
   ]
  },
  {
   "cell_type": "code",
   "execution_count": 2,
   "metadata": {},
   "outputs": [
    {
     "name": "stdout",
     "output_type": "stream",
     "text": [
      "Already up to date.\n"
     ]
    }
   ],
   "source": [
    "!git pull"
   ]
  },
  {
   "cell_type": "markdown",
   "metadata": {},
   "source": [
    "## Git conflict local - so reset local to match remote"
   ]
  },
  {
   "cell_type": "code",
   "execution_count": null,
   "metadata": {},
   "outputs": [],
   "source": [
    "!git fetch --all\n",
    "!git reset --hard origin/master\n",
    "!git pull"
   ]
  },
  {
   "cell_type": "markdown",
   "metadata": {},
   "source": [
    "## Unpushed local changes - Stash local, Pull Remote and write local changes to pulled remote"
   ]
  },
  {
   "cell_type": "code",
   "execution_count": null,
   "metadata": {},
   "outputs": [],
   "source": [
    "!git stash\n",
    "!git pull\n",
    "!git stash pop"
   ]
  },
  {
   "cell_type": "markdown",
   "metadata": {},
   "source": [
    "## Setup git config repo"
   ]
  },
  {
   "cell_type": "code",
   "execution_count": null,
   "metadata": {},
   "outputs": [],
   "source": [
    "#!git config --global user.email \"soma.programmer@gmail.com\"\n",
    "#!git config --global user.name \"medikid\"\n",
    "\n",
    "#!git remote set-url origin https://github.com/medikid/ai_lotto.git\n"
   ]
  },
  {
   "cell_type": "code",
   "execution_count": null,
   "metadata": {},
   "outputs": [],
   "source": [
    "!git remote show origin"
   ]
  },
  {
   "cell_type": "markdown",
   "metadata": {},
   "source": [
    "# Sync G-Drive with Data Folder"
   ]
  },
  {
   "cell_type": "code",
   "execution_count": 14,
   "metadata": {
    "collapsed": true,
    "jupyter": {
     "outputs_hidden": true
    }
   },
   "outputs": [
    {
     "name": "stdout",
     "output_type": "stream",
     "text": [
      "Synchronizing directory ../data with ../g_drive\n",
      "Source directory: ../g_drive:\n",
      "Updating file ../data/hotspot/x15/300k/datasets/hotspot_x15_300k_dr.npz\n",
      "Updating file ../data/keno/x15/2.528m/models/ker/2/keno.ker.2.1.h5\n",
      "Updating file ../data/keno/x15/500k/datasets/keno_x15_500k_dr.npz\n",
      "Updating file ../data/keno/x15/25k/models/ker/4/1/checkpoints/keno.ker.4.1.e0020.h5\n",
      "Updating file ../data/keno/untrained_models/keno.ker.2.h5\n",
      "Updating file ../data/keno/x15/25k/models/ker/4/1/checkpoints/keno.ker.4.1.e0005.h5\n",
      "dirsync finished in 64.6 seconds.\n",
      "90 directories parsed, 0 files copied\n",
      "6 files were updated by timestamp.\n",
      "\n",
      "Synchronizing directory ../g_drive with ../data\n",
      "Source directory: ../data:\n",
      "Copying file keno_master.pkl from ../data/keno/master to ../g_drive/keno/master\n",
      "Copying file hotspot_x15_310k_dp.npz from ../data/hotspot/x15/310k/datasets to ../g_drive/hotspot/x15/310k/datasets\n",
      "Copying file hotspot_x15_200k_dp.npz from ../data/hotspot/x15/200k/datasets to ../g_drive/hotspot/x15/200k/datasets\n",
      "Copying file hotspot_x15_100k_dp.npz from ../data/hotspot/x15/100k/datasets to ../g_drive/hotspot/x15/100k/datasets\n",
      "Copying file hotspot_x15_25k_dP.npz from ../data/hotspot/x15/25k/datasets to ../g_drive/hotspot/x15/25k/datasets\n",
      "Copying file hotspot_x15_300k_dp.npz from ../data/hotspot/x15/300k/datasets to ../g_drive/hotspot/x15/300k/datasets\n",
      "Updating file ../g_drive/hotspot/master/hotspot_master_ids.pkl\n",
      "Updating file ../g_drive/hotspot/master/hotspot_master_dr.pkl\n",
      "Updating file ../g_drive/keno/x15/2.528m/datasets/keno_x15_2.528m_dr.npz\n",
      "Updating file ../g_drive/hotspot/x15/100k/datasets/hotspot_x15_100k_dr.npz\n",
      "Updating file ../g_drive/keno/master/keno_master_r.pkl\n",
      "Updating file ../g_drive/keno/master/keno_master_dp.pkl\n",
      "Updating file ../g_drive/hotspot/master/hotspot_master_dp.pkl\n",
      "Updating file ../g_drive/keno/master/keno_master_dr.pkl\n",
      "Updating file ../g_drive/hotspot/master/hotspot_master_r.pkl\n",
      "dirsync finished in 92.5 seconds.\n",
      "90 directories parsed, 6 files copied\n",
      "22 directories were created.\n",
      "9 files were updated by timestamp.\n",
      "\n"
     ]
    },
    {
     "data": {
      "text/plain": [
       "{'../g_drive/hotspot/db',\n",
       " '../g_drive/hotspot/master/hotspot_master_dp.pkl',\n",
       " '../g_drive/hotspot/master/hotspot_master_dr.pkl',\n",
       " '../g_drive/hotspot/master/hotspot_master_ids.pkl',\n",
       " '../g_drive/hotspot/master/hotspot_master_r.pkl',\n",
       " '../g_drive/hotspot/x15/100k/datasets/hotspot_x15_100k_dp.npz',\n",
       " '../g_drive/hotspot/x15/100k/datasets/hotspot_x15_100k_dr.npz',\n",
       " '../g_drive/hotspot/x15/200k/datasets/hotspot_x15_200k_dp.npz',\n",
       " '../g_drive/hotspot/x15/25k/datasets/hotspot_x15_25k_dP.npz',\n",
       " '../g_drive/hotspot/x15/25k/models/ker/2',\n",
       " '../g_drive/hotspot/x15/300k/datasets/hotspot_x15_300k_dp.npz',\n",
       " '../g_drive/hotspot/x15/300k/models/ker',\n",
       " '../g_drive/hotspot/x15/300k/models/ker/3',\n",
       " '../g_drive/hotspot/x15/310k/datasets/hotspot_x15_310k_dp.npz',\n",
       " '../g_drive/hotspot/x2/300k',\n",
       " '../g_drive/hotspot/x2/300k/datasets',\n",
       " '../g_drive/keno/.ipynb_checkpoints',\n",
       " '../g_drive/keno/master/.ipynb_checkpoints',\n",
       " '../g_drive/keno/master/keno_master.pkl',\n",
       " '../g_drive/keno/master/keno_master_dp.pkl',\n",
       " '../g_drive/keno/master/keno_master_dr.pkl',\n",
       " '../g_drive/keno/master/keno_master_r.pkl',\n",
       " '../g_drive/keno/x15/100k/models',\n",
       " '../g_drive/keno/x15/100k/models/ker/2',\n",
       " '../g_drive/keno/x15/2.528m/.ipynb_checkpoints',\n",
       " '../g_drive/keno/x15/2.528m/datasets/keno_x15_2.528m_dr.npz',\n",
       " '../g_drive/keno/x15/2.528m/models/.ipynb_checkpoints',\n",
       " '../g_drive/keno/x15/2.528m/models/ker/.ipynb_checkpoints',\n",
       " '../g_drive/keno/x15/25k/models/.ipynb_checkpoints',\n",
       " '../g_drive/keno/x15/25k/models/ker/1/0',\n",
       " '../g_drive/keno/x15/25k/models/ker/1/10',\n",
       " '../g_drive/keno/x15/25k/models/ker/1/2',\n",
       " '../g_drive/keno/x15/25k/models/ker/2/1',\n",
       " '../g_drive/keno/x15/25k/models/ker/3',\n",
       " '../g_drive/keno/x15/25k/models/ker/4/1/.ipynb_checkpoints',\n",
       " '../g_drive/keno/x15/2m/models/ker',\n",
       " '../g_drive/keno/x15/2m/models/ker/2'}"
      ]
     },
     "execution_count": 14,
     "metadata": {},
     "output_type": "execute_result"
    }
   ],
   "source": [
    "#!pip install dirsync\n",
    "\n",
    "from dirsync import sync\n",
    "source_path = '../g_drive'\n",
    "target_path = '../data'\n",
    "\n",
    "sync(source_path, target_path, 'sync', verbose  = True) #for syncing one way\n",
    "sync(target_path, source_path, 'sync', verbose = True) #for syncing the opposite way\n",
    "\n",
    "# sync(source_path, target_path, 'diff') #for syncing one way\n",
    "# sync(target_path, source_path, 'diff') #for syncing the opposite way"
   ]
  },
  {
   "cell_type": "code",
   "execution_count": 20,
   "metadata": {},
   "outputs": [
    {
     "name": "stdout",
     "output_type": "stream",
     "text": [
      "../data/\n",
      "├── hotspot\n",
      "│   ├── db\n",
      "│   ├── master\n",
      "│   │   ├── hotspot_master_dp.pkl\n",
      "│   │   ├── hotspot_master_dr.pkl\n",
      "│   │   ├── hotspot_master_ids.pkl\n",
      "│   │   ├── hotspot_master.pkl\n",
      "│   │   └── hotspot_master_r.pkl\n",
      "│   ├── untrained_models\n",
      "│   │   └── hotspot.ker.1.h5\n",
      "│   ├── x15\n",
      "│   │   ├── 100k\n",
      "│   │   │   └── datasets\n",
      "│   │   │       ├── hotspot_x15_100k_dp.npz\n",
      "│   │   │       └── hotspot_x15_100k_dr.npz\n",
      "│   │   ├── 200k\n",
      "│   │   │   └── datasets\n",
      "│   │   │       ├── hotspot_x15_200k_dp.npz\n",
      "│   │   │       └── hotspot_x15_200k_dr.npz\n",
      "│   │   ├── 25k\n",
      "│   │   │   ├── datasets\n",
      "│   │   │   │   ├── hotspot_x15_25k_dp.npz\n",
      "│   │   │   │   ├── hotspot_x15_25k_dP.npz\n",
      "│   │   │   │   └── hotspot_x15_25k_dr.npz\n",
      "│   │   │   └── models\n",
      "│   │   │       └── ker\n",
      "│   │   │           └── 2\n",
      "│   │   ├── 2m\n",
      "│   │   │   └── datasets\n",
      "│   │   ├── 300k\n",
      "│   │   │   ├── datasets\n",
      "│   │   │   │   ├── hotspot_x15_300k_dp.npz\n",
      "│   │   │   │   └── hotspot_x15_300k_dr.npz\n",
      "│   │   │   └── models\n",
      "│   │   │       └── ker\n",
      "│   │   │           └── 3\n",
      "│   │   └── 310k\n",
      "│   │       ├── datasets\n",
      "│   │       │   ├── hotspot_x15_310k_dp.npz\n",
      "│   │       │   └── hotspot_x15_310k_dr.npz\n",
      "│   │       └── models\n",
      "│   │           └── ker\n",
      "│   │               ├── 1\n",
      "│   │               └── 4\n",
      "│   │                   └── 1\n",
      "│   │                       └── checkpoints\n",
      "│   │                           ├── hotspot.ker.4.1.e0001.h5\n",
      "│   │                           ├── hotspot.ker.4.1.e0002.h5\n",
      "│   │                           ├── hotspot.ker.4.1.e0003.h5\n",
      "│   │                           ├── hotspot.ker.4.1.e0004.h5\n",
      "│   │                           ├── hotspot.ker.4.1.e0005.h5\n",
      "│   │                           ├── hotspot.ker.4.1.e0006.h5\n",
      "│   │                           ├── hotspot.ker.4.1.e0007.h5\n",
      "│   │                           ├── hotspot.ker.4.1.e0008.h5\n",
      "│   │                           ├── hotspot.ker.4.1.e0009.h5\n",
      "│   │                           ├── hotspot.ker.4.1.e0010.h5\n",
      "│   │                           ├── hotspot.ker.4.1.e0011.h5\n",
      "│   │                           ├── hotspot.ker.4.1.e0012.h5\n",
      "│   │                           ├── hotspot.ker.4.1.e0013.h5\n",
      "│   │                           ├── hotspot.ker.4.1.e0014.h5\n",
      "│   │                           ├── hotspot.ker.4.1.e0015.h5\n",
      "│   │                           ├── hotspot.ker.4.1.e0016.h5\n",
      "│   │                           ├── hotspot.ker.4.1.e0017.h5\n",
      "│   │                           ├── hotspot.ker.4.1.e0018.h5\n",
      "│   │                           ├── hotspot.ker.4.1.e0019.h5\n",
      "│   │                           ├── hotspot.ker.4.1.e0020.h5\n",
      "│   │                           ├── hotspot.ker.4.1.e0021.h5\n",
      "│   │                           ├── hotspot.ker.4.1.e0022.h5\n",
      "│   │                           ├── hotspot.ker.4.1.e0023.h5\n",
      "│   │                           ├── hotspot.ker.4.1.e0024.h5\n",
      "│   │                           ├── hotspot.ker.4.1.e0025.h5\n",
      "│   │                           ├── hotspot.ker.4.1.e0026.h5\n",
      "│   │                           ├── hotspot.ker.4.1.e0027.h5\n",
      "│   │                           ├── hotspot.ker.4.1.e0028.h5\n",
      "│   │                           ├── hotspot.ker.4.1.e0029.h5\n",
      "│   │                           ├── hotspot.ker.4.1.e0030.h5\n",
      "│   │                           ├── hotspot.ker.4.1.e0031.h5\n",
      "│   │                           ├── hotspot.ker.4.1.e0032.h5\n",
      "│   │                           ├── hotspot.ker.4.1.e0033.h5\n",
      "│   │                           ├── hotspot.ker.4.1.e0034.h5\n",
      "│   │                           ├── hotspot.ker.4.1.e0035.h5\n",
      "│   │                           ├── hotspot.ker.4.1.e0036.h5\n",
      "│   │                           ├── hotspot.ker.4.1.e0037.h5\n",
      "│   │                           ├── hotspot.ker.4.1.e0038.h5\n",
      "│   │                           ├── hotspot.ker.4.1.e0039.h5\n",
      "│   │                           ├── hotspot.ker.4.1.e0040.h5\n",
      "│   │                           ├── hotspot.ker.4.1.e0041.h5\n",
      "│   │                           ├── hotspot.ker.4.1.e0042.h5\n",
      "│   │                           ├── hotspot.ker.4.1.e0043.h5\n",
      "│   │                           ├── hotspot.ker.4.1.e0044.h5\n",
      "│   │                           ├── hotspot.ker.4.1.e0045.h5\n",
      "│   │                           ├── hotspot.ker.4.1.e0046.h5\n",
      "│   │                           ├── hotspot.ker.4.1.e0047.h5\n",
      "│   │                           ├── hotspot.ker.4.1.e0048.h5\n",
      "│   │                           ├── hotspot.ker.4.1.e0049.h5\n",
      "│   │                           └── hotspot.ker.4.1.e0050.h5\n",
      "│   └── x2\n",
      "│       └── 300k\n",
      "│           └── datasets\n",
      "├── keno\n",
      "│   ├── master\n",
      "│   │   ├── keno_master_dp.pkl\n",
      "│   │   ├── keno_master_dr.pkl\n",
      "│   │   ├── keno_master.pkl\n",
      "│   │   └── keno_master_r.pkl\n",
      "│   ├── untrained_models\n",
      "│   │   ├── keno.ker.1.h5\n",
      "│   │   ├── keno.ker.2.h5\n",
      "│   │   ├── keno.ker.3.h5\n",
      "│   │   └── keno.ker.4.h5\n",
      "│   └── x15\n",
      "│       ├── 100k\n",
      "│       │   ├── datasets\n",
      "│       │   │   └── keno_x15_100k_dr.npz\n",
      "│       │   └── models\n",
      "│       │       └── ker\n",
      "│       │           └── 2\n",
      "│       ├── 1m\n",
      "│       │   └── datasets\n",
      "│       │       └── keno_x15_1m_dr.npz\n",
      "│       ├── 250k\n",
      "│       │   └── datasets\n",
      "│       │       └── keno_x15_250k_dr.npz\n",
      "│       ├── 2.528m\n",
      "│       │   ├── datasets\n",
      "│       │   │   └── keno_x15_2.528m_dr.npz\n",
      "│       │   └── models\n",
      "│       │       └── ker\n",
      "│       │           ├── 1\n",
      "│       │           │   └── keno.ker.1.1.h5\n",
      "│       │           ├── 2\n",
      "│       │           │   └── keno.ker.2.1.h5\n",
      "│       │           ├── 3\n",
      "│       │           └── 4\n",
      "│       │               └── 1\n",
      "│       │                   └── checkpoints\n",
      "│       │                       ├── keno.ker.4.1.e0001.h5\n",
      "│       │                       ├── keno.ker.4.1.e0002.h5\n",
      "│       │                       ├── keno.ker.4.1.e0003.h5\n",
      "│       │                       ├── keno.ker.4.1.e0004.h5\n",
      "│       │                       ├── keno.ker.4.1.e0005.h5\n",
      "│       │                       ├── keno.ker.4.1.e0006.h5\n",
      "│       │                       ├── keno.ker.4.1.e0007.h5\n",
      "│       │                       ├── keno.ker.4.1.e0008.h5\n",
      "│       │                       ├── keno.ker.4.1.e0009.h5\n",
      "│       │                       ├── keno.ker.4.1.e0010.h5\n",
      "│       │                       ├── keno.ker.4.1.e0011.h5\n",
      "│       │                       ├── keno.ker.4.1.e0012.h5\n",
      "│       │                       ├── keno.ker.4.1.e0013.h5\n",
      "│       │                       ├── keno.ker.4.1.e0014.h5\n",
      "│       │                       ├── keno.ker.4.1.e0015.h5\n",
      "│       │                       ├── keno.ker.4.1.e0016.h5\n",
      "│       │                       ├── keno.ker.4.1.e0017.h5\n",
      "│       │                       ├── keno.ker.4.1.e0018.h5\n",
      "│       │                       ├── keno.ker.4.1.e0019.h5\n",
      "│       │                       ├── keno.ker.4.1.e0020.h5\n",
      "│       │                       ├── keno.ker.4.1.e0021.h5\n",
      "│       │                       ├── keno.ker.4.1.e0022.h5\n",
      "│       │                       ├── keno.ker.4.1.e0023.h5\n",
      "│       │                       ├── keno.ker.4.1.e0024.h5\n",
      "│       │                       ├── keno.ker.4.1.e0025.h5\n",
      "│       │                       ├── keno.ker.4.1.e0026.h5\n",
      "│       │                       ├── keno.ker.4.1.e0027.h5\n",
      "│       │                       ├── keno.ker.4.1.e0028.h5\n",
      "│       │                       ├── keno.ker.4.1.e0029.h5\n",
      "│       │                       ├── keno.ker.4.1.e0030.h5\n",
      "│       │                       ├── keno.ker.4.1.e0031.h5\n",
      "│       │                       ├── keno.ker.4.1.e0032.h5\n",
      "│       │                       ├── keno.ker.4.1.e0033.h5\n",
      "│       │                       ├── keno.ker.4.1.e0034.h5\n",
      "│       │                       ├── keno.ker.4.1.e0035.h5\n",
      "│       │                       ├── keno.ker.4.1.e0036.h5\n",
      "│       │                       ├── keno.ker.4.1.e0037.h5\n",
      "│       │                       ├── keno.ker.4.1.e0038.h5\n",
      "│       │                       ├── keno.ker.4.1.e0039.h5\n",
      "│       │                       ├── keno.ker.4.1.e0040.h5\n",
      "│       │                       ├── keno.ker.4.1.e0041.h5\n",
      "│       │                       ├── keno.ker.4.1.e0042.h5\n",
      "│       │                       ├── keno.ker.4.1.e0043.h5\n",
      "│       │                       ├── keno.ker.4.1.e0044.h5\n",
      "│       │                       ├── keno.ker.4.1.e0045.h5\n",
      "│       │                       ├── keno.ker.4.1.e0046.h5\n",
      "│       │                       ├── keno.ker.4.1.e0047.h5\n",
      "│       │                       ├── keno.ker.4.1.e0048.h5\n",
      "│       │                       ├── keno.ker.4.1.e0049.h5\n",
      "│       │                       ├── keno.ker.4.1.e0050.h5\n",
      "│       │                       ├── keno.ker.4.1.e0051.h5\n",
      "│       │                       └── keno.ker.4.1.e0052.h5\n",
      "│       ├── 25k\n",
      "│       │   ├── datasets\n",
      "│       │   │   └── keno_x15_25k_dr.npz\n",
      "│       │   └── models\n",
      "│       │       └── ker\n",
      "│       │           ├── 1\n",
      "│       │           │   ├── 0\n",
      "│       │           │   ├── 10\n",
      "│       │           │   └── 2\n",
      "│       │           ├── 2\n",
      "│       │           │   └── 1\n",
      "│       │           ├── 3\n",
      "│       │           └── 4\n",
      "│       │               └── 1\n",
      "│       │                   └── checkpoints\n",
      "│       │                       ├── keno.ker.4.1.e0005.h5\n",
      "│       │                       ├── keno.ker.4.1.e0010.h5\n",
      "│       │                       ├── keno.ker.4.1.e0015.h5\n",
      "│       │                       ├── keno.ker.4.1.e0020.h5\n",
      "│       │                       ├── keno.ker.4.1.e0025.h5\n",
      "│       │                       └── keno.ker.4.1.e0030.h5\n",
      "│       ├── 2m\n",
      "│       │   ├── datasets\n",
      "│       │   │   └── keno_x15_2m_dr.npz\n",
      "│       │   └── models\n",
      "│       │       └── ker\n",
      "│       │           └── 2\n",
      "│       └── 500k\n",
      "│           └── datasets\n",
      "│               └── keno_x15_500k_dr.npz\n",
      "└── print_folder_tree.ipynb\n",
      "\n",
      "76 directories, 143 files\n"
     ]
    }
   ],
   "source": [
    "!tree '../data/'"
   ]
  }
 ],
 "metadata": {
  "kernelspec": {
   "display_name": "Python 3",
   "language": "python",
   "name": "python3"
  },
  "language_info": {
   "codemirror_mode": {
    "name": "ipython",
    "version": 3
   },
   "file_extension": ".py",
   "mimetype": "text/x-python",
   "name": "python",
   "nbconvert_exporter": "python",
   "pygments_lexer": "ipython3",
   "version": "3.6.9"
  }
 },
 "nbformat": 4,
 "nbformat_minor": 4
}
