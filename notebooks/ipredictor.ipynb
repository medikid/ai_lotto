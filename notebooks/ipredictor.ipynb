{
 "cells": [
  {
   "cell_type": "markdown",
   "metadata": {},
   "source": [
    "# Predict draws"
   ]
  },
  {
   "cell_type": "code",
   "execution_count": 1,
   "metadata": {},
   "outputs": [
    {
     "name": "stdout",
     "output_type": "stream",
     "text": [
      "Writing ../ipredictor.py\n"
     ]
    }
   ],
   "source": [
    "%%writefile '../ipredictor.py'\n",
    "\n",
    "class Predictor:\n",
    "    _M = None\n",
    "    _D = None\n",
    "    _PREDS = {}\n",
    "    \n",
    "    def __init__(self, Model):\n",
    "        self._M = Model;\n",
    "        \n",
    "    def predict(self, X_test)\n",
    "        y_hat = self._M.predict(X_test);\n",
    "        return y_hat;\n",
    "    \n",
    "    def predict_batch(self, Dataset):\n",
    "        IDs_test = Dataset['IDs_test'];\n",
    "        X_test = Dataset['X_test'];\n",
    "        Y_test = Dataset['Y_test'];\n",
    "        \n",
    "        "
   ]
  },
  {
   "cell_type": "code",
   "execution_count": null,
   "metadata": {},
   "outputs": [],
   "source": []
  }
 ],
 "metadata": {
  "kernelspec": {
   "display_name": "Python 3",
   "language": "python",
   "name": "python3"
  },
  "language_info": {
   "codemirror_mode": {
    "name": "ipython",
    "version": 3
   },
   "file_extension": ".py",
   "mimetype": "text/x-python",
   "name": "python",
   "nbconvert_exporter": "python",
   "pygments_lexer": "ipython3",
   "version": "3.6.9"
  }
 },
 "nbformat": 4,
 "nbformat_minor": 4
}
