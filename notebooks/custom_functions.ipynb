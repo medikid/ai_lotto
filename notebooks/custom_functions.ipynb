{
 "cells": [
  {
   "cell_type": "code",
   "execution_count": 6,
   "metadata": {},
   "outputs": [
    {
     "name": "stdout",
     "output_type": "stream",
     "text": [
      "Overwriting ../custom_functions.py\n"
     ]
    }
   ],
   "source": [
    "%%writefile '../custom_functions.py'\n",
    "\n",
    "from keras import backend as K\n",
    "from sklearn.metrics import confusion_matrix\n",
    "import numpy as np\n",
    "\n",
    "class cf_metrics:\n",
    "\n",
    "    def recall_a(y_true, y_pred):\n",
    "        true_positives = K.sum(K.round(K.clip(y_true * y_pred, 0, 1)))\n",
    "        possible_positives = K.sum(K.round(K.clip(y_true, 0, 1)))\n",
    "        recall = true_positives / (possible_positives + K.epsilon())\n",
    "        return recall\n",
    "\n",
    "    def precision_a(y_true, y_pred):\n",
    "        true_positives = K.sum(K.round(K.clip(y_true * y_pred, 0, 1)))\n",
    "        predicted_positives = K.sum(K.round(K.clip(y_pred, 0, 1)))\n",
    "        precision = true_positives / (predicted_positives + K.epsilon())\n",
    "        return precision\n",
    "\n",
    "    def f1_a(y_true, y_pred):\n",
    "        precision = precision_a(y_true, y_pred)\n",
    "        recall = recall_a(y_true, y_pred)\n",
    "        return 2*((precision*recall)/(precision+recall+K.epsilon()))\n",
    "    \n",
    "    def recall_b(y_true, y_pred):\n",
    "        cm = confusion_matrix(y_true, y_pred)\n",
    "        recall = np.diag(cm) / np.sum(cm, axis = 1)\n",
    "        return recall;\n",
    "        \n",
    "    def precision_b(y_true, y_pred):\n",
    "        cm = confusion_matrix(y_true, y_pred)\n",
    "        precision = np.diag(cm) / np.sum(cm, axis = 0)\n",
    "        return precision;\n",
    "    \n",
    "    \n",
    "    \n",
    "class cf_losses:\n",
    "    \n",
    "    def loss_a(y_tru, y_pred):\n",
    "        pass;\n",
    "\n",
    "\n"
   ]
  },
  {
   "cell_type": "code",
   "execution_count": null,
   "metadata": {},
   "outputs": [],
   "source": []
  }
 ],
 "metadata": {
  "kernelspec": {
   "display_name": "Python 3",
   "language": "python",
   "name": "python3"
  },
  "language_info": {
   "codemirror_mode": {
    "name": "ipython",
    "version": 3
   },
   "file_extension": ".py",
   "mimetype": "text/x-python",
   "name": "python",
   "nbconvert_exporter": "python",
   "pygments_lexer": "ipython3",
   "version": "3.6.9"
  }
 },
 "nbformat": 4,
 "nbformat_minor": 4
}
