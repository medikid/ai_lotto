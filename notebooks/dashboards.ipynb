{
 "cells": [
  {
   "cell_type": "markdown",
   "metadata": {},
   "source": [
    "# CHART DASHBOARDS"
   ]
  },
  {
   "cell_type": "markdown",
   "metadata": {},
   "source": [
    "### Logs dashboards"
   ]
  },
  {
   "cell_type": "code",
   "execution_count": 55,
   "metadata": {},
   "outputs": [
    {
     "name": "stdout",
     "output_type": "stream",
     "text": [
      "Setting up sqlite  sqlite:////home/work/ai_lotto/notebooks/db/ai_lotto.db\n",
      "Setting up sqlite  sqlite:////home/work/ai_lotto/notebooks/db/ai_lotto.db\n"
     ]
    },
    {
     "name": "stderr",
     "output_type": "stream",
     "text": [
      "/usr/local/lib/python3.6/dist-packages/sqlalchemy/ext/declarative/clsregistry.py:129: SAWarning: This declarative base already contains a class with the same class name and module name as __main__.TrainingSession, and will be replaced in the string-lookup table.\n",
      "  % (item.__module__, item.__name__)\n",
      "/usr/local/lib/python3.6/dist-packages/sqlalchemy/ext/declarative/clsregistry.py:129: SAWarning: This declarative base already contains a class with the same class name and module name as __main__.TrainingLog, and will be replaced in the string-lookup table.\n",
      "  % (item.__module__, item.__name__)\n"
     ]
    }
   ],
   "source": [
    "%run 'db/models/training_session.py'\n",
    "%run 'db/models/training_log.py'\n",
    "\n",
    "from db.models import training_session, training_log\n",
    "import matplotlib.pyplot as plt "
   ]
  },
  {
   "cell_type": "code",
   "execution_count": 106,
   "metadata": {},
   "outputs": [
    {
     "name": "stdout",
     "output_type": "stream",
     "text": [
      "\n"
     ]
    },
    {
     "data": {
      "image/png": "[encoded data removed]",
      "text/plain": [
       "<Figure size 432x288 with 1 Axes>"
      ]
     },
     "metadata": {
      "needs_background": "light"
     },
     "output_type": "display_data"
    }
   ],
   "source": [
    "#modset_id = \"hotspot.ker.4.13[x15_25k_dr]\";\n",
    "modset_id = \"keno.ker.4.13[x15_2.528m_dr]\"\n",
    "\n",
    "trainingLog = training_log.TrainingLog(modset_id);\n",
    "df_logs = trainingLog.get_dataframe();\n",
    "df_logs.set_index('train_log_id', inplace=True)\n",
    "logs = df_logs.loc[df_logs.modset_id == modset_id ]\n",
    "\n",
    "logs.plot(kind='line',x='epoch',y='loss',ax=plt.gca())\n",
    "logs.plot(kind='line',x='epoch',y='metric_value', legend='precision_top10', color='red', ax=plt.gca())\n",
    "\n",
    "plt.title('{0} - Loss vs {1}'.format(modset_id, logs['metric_name'].unique()[0]))\n",
    "plt.legend(['loss',logs['metric_name'].unique()[0]])\n",
    "plt.show()"
   ]
  },
  {
   "cell_type": "code",
   "execution_count": 104,
   "metadata": {},
   "outputs": [
    {
     "name": "stdout",
     "output_type": "stream",
     "text": [
      "\n",
      "modset_id\n",
      "hotspot.ker.4.13[x15_25k_dr]    1200\n",
      "keno.ker.4.13[x15_2.528m_dr]      10\n",
      "Name: epochs_total, dtype: int64\n"
     ]
    },
    {
     "data": {
      "text/plain": [
       "<matplotlib.axes._subplots.AxesSubplot at 0x7fbe284ba978>"
      ]
     },
     "execution_count": 104,
     "metadata": {},
     "output_type": "execute_result"
    },
    {
     "data": {
      "image/png": "[encoded data removed]",
      "text/plain": [
       "<Figure size 432x288 with 1 Axes>"
      ]
     },
     "metadata": {
      "needs_background": "light"
     },
     "output_type": "display_data"
    }
   ],
   "source": [
    "# List of sessions\n",
    "sessions = training_session.TrainingSession(modset_id)\n",
    "df_sessions = sessions.get_dataframe()\n",
    "print(df_sessions.groupby('modset_id')['epochs_total'].sum())\n",
    "df_sessions.groupby('modset_id')['epochs_total'].sum().plot(kind='bar')"
   ]
  },
  {
   "cell_type": "code",
   "execution_count": 107,
   "metadata": {},
   "outputs": [
    {
     "data": {
      "text/html": [
       "<div>\n",
       "<style scoped>\n",
       "    .dataframe tbody tr th:only-of-type {\n",
       "        vertical-align: middle;\n",
       "    }\n",
       "\n",
       "    .dataframe tbody tr th {\n",
       "        vertical-align: top;\n",
       "    }\n",
       "\n",
       "    .dataframe thead th {\n",
       "        text-align: right;\n",
       "    }\n",
       "</style>\n",
       "<table border=\"1\" class=\"dataframe\">\n",
       "  <thead>\n",
       "    <tr style=\"text-align: right;\">\n",
       "      <th></th>\n",
       "      <th>train_sess_id</th>\n",
       "      <th>modset_id</th>\n",
       "      <th>datetime</th>\n",
       "      <th>epoch</th>\n",
       "      <th>loss</th>\n",
       "      <th>metric_name</th>\n",
       "      <th>metric_value</th>\n",
       "    </tr>\n",
       "    <tr>\n",
       "      <th>train_log_id</th>\n",
       "      <th></th>\n",
       "      <th></th>\n",
       "      <th></th>\n",
       "      <th></th>\n",
       "      <th></th>\n",
       "      <th></th>\n",
       "      <th></th>\n",
       "    </tr>\n",
       "  </thead>\n",
       "  <tbody>\n",
       "    <tr>\n",
       "      <th>1</th>\n",
       "      <td>20200526231640</td>\n",
       "      <td>keno.ker.4.13[x15_2.528m_dr]</td>\n",
       "      <td>2020-05-26 23:16:49.094720</td>\n",
       "      <td>2</td>\n",
       "      <td>0.45678</td>\n",
       "      <td>precision_top10</td>\n",
       "      <td>0.345667</td>\n",
       "    </tr>\n",
       "  </tbody>\n",
       "</table>\n",
       "</div>"
      ],
      "text/plain": [
       "               train_sess_id                     modset_id  \\\n",
       "train_log_id                                                 \n",
       "1             20200526231640  keno.ker.4.13[x15_2.528m_dr]   \n",
       "\n",
       "                               datetime  epoch     loss      metric_name  \\\n",
       "train_log_id                                                               \n",
       "1            2020-05-26 23:16:49.094720      2  0.45678  precision_top10   \n",
       "\n",
       "              metric_value  \n",
       "train_log_id                \n",
       "1                 0.345667  "
      ]
     },
     "execution_count": 107,
     "metadata": {},
     "output_type": "execute_result"
    }
   ],
   "source": []
  },
  {
   "cell_type": "markdown",
   "metadata": {},
   "source": [
    "### Reference\n",
    "\n",
    "https://queirozf.com/entries/pandas-dataframe-plot-examples-with-matplotlib-pyplot#plot-two-columns-as-scatter-plot\n",
    "http://jonathansoma.com/lede/algorithms-2017/classes/fuzziness-matplotlib/understand-df-plot-in-pandas/"
   ]
  },
  {
   "cell_type": "code",
   "execution_count": null,
   "metadata": {},
   "outputs": [],
   "source": []
  }
 ],
 "metadata": {
  "kernelspec": {
   "display_name": "Python 3",
   "language": "python",
   "name": "python3"
  },
  "language_info": {
   "codemirror_mode": {
    "name": "ipython",
    "version": 3
   },
   "file_extension": ".py",
   "mimetype": "text/x-python",
   "name": "python",
   "nbconvert_exporter": "python",
   "pygments_lexer": "ipython3",
   "version": "3.6.9"
  }
 },
 "nbformat": 4,
 "nbformat_minor": 4
}
