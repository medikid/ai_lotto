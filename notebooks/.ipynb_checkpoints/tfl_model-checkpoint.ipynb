{
 "cells": [
  {
   "cell_type": "markdown",
   "metadata": {
    "colab_type": "text",
    "id": "view-in-github"
   },
   "source": [
    "<a href=\"https://colab.research.google.com/github/medikid/ai_lotto/blob/master/notebooks/tfl_model.ipynb\" target=\"_parent\"><img src=\"https://colab.research.google.com/assets/colab-badge.svg\" alt=\"Open In Colab\"/></a>"
   ]
  },
  {
   "cell_type": "code",
   "execution_count": 2,
   "metadata": {
    "colab": {},
    "colab_type": "code",
    "id": "6hDq6kfFnCNC"
   },
   "outputs": [
    {
     "name": "stdout",
     "output_type": "stream",
     "text": [
      "Overwriting ../tfl_model.py\n"
     ]
    }
   ],
   "source": [
    "%%writefile \"../tfl_model.py\"\n",
    "\n",
    "%run '../imodel.py' #from ipynb.fs.full.imodel import Model\n",
    "import tensorflow as tfl\n",
    "\n",
    "class TFL_Model(Model):\n",
    "    _MODEL_PATH = None;\n",
    "    \n",
    "    def __init__(self, ModelID, Dataset):\n",
    "        super().__init__(ModelID, Dataset)\n",
    " \n",
    "    def load(self):\n",
    "        print(\"Loading {0}\".format(self._FULL_PATH))\n",
    "        pass;\n",
    "    \n",
    "    def save(self):\n",
    "        print(\"Saving {0}\".format(self._FULL_PATH))\n",
    "    \n",
    "    def load_best_version(self):\n",
    "        pass;\n",
    "    \n",
    "    def load_latest_version(self):\n",
    "        pass;\n",
    "        \n",
    "    \n",
    "    "
   ]
  },
  {
   "cell_type": "code",
   "execution_count": null,
   "metadata": {
    "colab": {},
    "colab_type": "code",
    "id": "mhwXE9fHnCNJ"
   },
   "outputs": [],
   "source": []
  }
 ],
 "metadata": {
  "colab": {
   "include_colab_link": true,
   "name": "tfl_model.ipynb",
   "provenance": []
  },
  "kernelspec": {
   "display_name": "Python 3",
   "language": "python",
   "name": "python3"
  },
  "language_info": {
   "codemirror_mode": {
    "name": "ipython",
    "version": 3
   },
   "file_extension": ".py",
   "mimetype": "text/x-python",
   "name": "python",
   "nbconvert_exporter": "python",
   "pygments_lexer": "ipython3",
   "version": "3.6.9"
  }
 },
 "nbformat": 4,
 "nbformat_minor": 4
}
