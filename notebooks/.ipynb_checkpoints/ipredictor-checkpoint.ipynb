{
 "cells": [
  {
   "cell_type": "markdown",
   "metadata": {},
   "source": [
    "# Predict draws"
   ]
  },
  {
   "cell_type": "code",
   "execution_count": null,
   "metadata": {},
   "outputs": [],
   "source": [
    "%%writefile '../ipredictor.py'\n",
    "\n",
    "from imodel import Model\n",
    "from idataset import Dataset\n",
    "\n",
    "class Predictor:\n",
    "    _M = None\n",
    "    _D = None\n",
    "    _PREDS = {}\n",
    "    \n",
    "    def __init__(self, Model):\n",
    "        self._M = Model;\n",
    "        \n",
    "    def predict(self, X_test):\n",
    "        y_hat = self._M.predict(X_test);\n",
    "        return y_hat;\n",
    "    \n",
    "    def predict_batch(self, Dataset):\n",
    "        IDs_test = Dataset['IDs_test'];\n",
    "        X_test = Dataset['X_test'];\n",
    "        Y_test = Dataset['Y_test'];\n",
    "        \n",
    "    def predict_proba(self):\n",
    "        y_test = self._M.predict_proba(X_test)\n",
    "        \n",
    "        "
   ]
  },
  {
   "cell_type": "code",
   "execution_count": 1,
   "metadata": {},
   "outputs": [
    {
     "name": "stderr",
     "output_type": "stream",
     "text": [
      "Using TensorFlow backend.\n"
     ]
    }
   ],
   "source": [
    "# %load '../load_lib.py'\n",
    "\n",
    "%run '../ifile.py'\n",
    "%run '../idata.py'\n",
    "%run '../idataset.py'\n",
    "%run '../imodel.py'\n",
    "%run '../ker_model.py'\n",
    "%run '../ker_model_loader.py'\n",
    "%run '../tfl_model.py'\n",
    "%run '../ai.py'\n",
    "%run '../itrainer.py'\n"
   ]
  },
  {
   "cell_type": "code",
   "execution_count": 2,
   "metadata": {},
   "outputs": [],
   "source": [
    "# from ipynb.fs.full.idataset import Dataset\n",
    "# from ipynb.fs.full.ker_model import KER_Model\n",
    "\n",
    "class iPredict:\n",
    "    _MODELS = {};\n",
    "    _DATASET = None;\n",
    "    \n",
    "    def __init__(self, ModelID, DatasetID):\n",
    "        self._D = Dataset(DatasetID);\n",
    "        self._D.load();\n",
    "        \n",
    "        self._M = Model(ModelID, self._D);\n",
    "        self._M.load();\n",
    "        \n",
    "    def test(self):\n",
    "        self._Y_HAT = self._M.predict(X_TEST)\n",
    "        \n",
    "    def predict(self, X_predict):\n",
    "        Y_hat = self._M.predict(X_predict)\n",
    "        return Y_hat\n",
    "        \n",
    "    def print_prediction(self, Predicted, Actual):\n",
    "        predicted = Predicted.flatten();\n",
    "        #sorted_indexes = np.argsort(predicted)\n",
    "        actual = Actual.flatten();\n",
    "        \n",
    "        print(\"\\n n.Predicted[Actual]\")\n",
    "        for n in range(len(predicted)):\n",
    "            print(\"{0}. {1} [{2}]\".format(n+1,predicted[n],actual[n]) )\n",
    "    \n",
    "    #fix this\n",
    "    def print_prediction_by_rank(self, Predicted, Actual):\n",
    "        predicted = Predicted.flatten();\n",
    "        ranked_indexes =  np.argsort(predicted); # ranked_index[rank] = index\n",
    "        ranks_0 = np.argsort(ranked_indexes); #0-indexed rank, so add+1\n",
    "        ranks = [80] - ranks_0 #will covert it to desc ordered 1-indexed\n",
    "        actual = Actual.flatten();\n",
    "        \n",
    "                \n",
    "        print(\"\\n Rank.[n] Predicted [Actual] \")\n",
    "        for r in range(len(predicted)):\n",
    "            i = ranked_indexes[r]\n",
    "            print(\"R{0}.[#{1}] {2} [{3}]\".format(r+1,i+1,predicted[i],actual[i]) )\n",
    "            \n",
    "    def print_prediction_by_number(self, Predicted, Actual):\n",
    "        predicted = Predicted.flatten();\n",
    "        ranked_indexes = np.argsort(predicted); # ranked_index[rank] = index\n",
    "        ranks_0 = np.argsort(ranked_indexes); #0-indexed ascending rank, so add+1\n",
    "        ranks = [80] - ranks_0 #will covert it to desc ordered 1-indexed 80-rank0=rank80\n",
    "        actual = Actual.flatten();\n",
    "        \n",
    "        print(\"\\n n.Predicted[Actual]-Rank#\")\n",
    "        for n in range(len(predicted)):\n",
    "            print(\"{0}. {1} [{2}] - Rank#{3}\".format(n+1,predicted[n],actual[n],ranks[n]+1) )\n",
    "            "
   ]
  },
  {
   "cell_type": "code",
   "execution_count": 3,
   "metadata": {},
   "outputs": [
    {
     "name": "stdout",
     "output_type": "stream",
     "text": [
      "xndraw2.528m, new_st2.528, multiple1000000, notationm\n",
      "[iFile:__init__]\n",
      "xndraw2.528m, new_st2.528, multiple1000000, notationm\n",
      "[iFile:derive_game_path]data/keno/\n",
      "[iFile:derive_folder_path] data/keno/x15/2.528m/\n",
      "[iDataset:derive_file_path] datasets/keno_x15_2.528m_dr.npz\n",
      "[ifile:derive_full_path] ../data/keno/x15/2.528m/datasets/keno_x15_2.528m_dr.npz\n",
      "Loading dataset ../data/keno/x15/2.528m/datasets/keno_x15_2.528m_dr.npz\n",
      "[iModel:decipher_file_name]\n",
      "[iModel:set_decipher_info] {'GAME': 'keno', 'xnINPUTS': 'x15', 'nINPUTS': 15, 'xnDRAWS': '2.528m', 'nDRAWS': 2528000, 'DATA_TYPE': 'dr', 'API': 'ker', 'BUILD': '4', 'MAKE': '1', 'VERSION': 'e0014', 'IS_CHECKPOINT': True, 'CHECKPOINT_EPOCH': 14}\n",
      "[iFile:__init__]\n",
      "[iModel:decipher_file_name]\n",
      "[iModel:set_decipher_info] {'GAME': 'keno', 'xnINPUTS': 'x15', 'nINPUTS': 15, 'xnDRAWS': '2.528m', 'nDRAWS': 2528000, 'DATA_TYPE': 'dr', 'API': 'ker', 'BUILD': '4', 'MAKE': '1', 'VERSION': 'e0014', 'IS_CHECKPOINT': True, 'CHECKPOINT_EPOCH': 14}\n",
      "[iModel:derive_file_path] models/ker/4/1/keno.ker.4.1.e0014.h5\n",
      "[iFile:derive_game_path]data/keno/\n",
      "[ifile:derive_full_path] ../data/keno/x15/2.528m/models/ker/4/1/keno.ker.4.1.e0014.h5\n",
      "[iModel:derive_checkpoints_folder] Ensured ../data/keno/x15/2.528m/models/ker/4/1/checkpoints/\n",
      "[iModel:__init__\n",
      "[Model:loader] converted Model to KER_Model\n",
      "[KER_Model:load]: Loading ../data/keno/x15/2.528m/models/ker/4/1/keno.ker.4.1.e0014.h5\n",
      "[KER_Model:load_checkpoint] Loaded ../data/keno/x15/2.528m/models/ker/4/1/checkpoints/keno.ker.4.1.e0014.h5\n"
     ]
    }
   ],
   "source": [
    "ipred = iPredict('keno.ker.4.1.e0014', 'keno_x15_2.528m_dr')"
   ]
  },
  {
   "cell_type": "code",
   "execution_count": 4,
   "metadata": {},
   "outputs": [
    {
     "name": "stdout",
     "output_type": "stream",
     "text": [
      "Model: \"sequential_3\"\n",
      "_________________________________________________________________\n",
      "Layer (type)                 Output Shape              Param #   \n",
      "=================================================================\n",
      "lstm_5 (LSTM)                (None, 15, 80)            51520     \n",
      "_________________________________________________________________\n",
      "lstm_6 (LSTM)                (None, 160)               154240    \n",
      "_________________________________________________________________\n",
      "dense_5 (Dense)              (None, 160)               25760     \n",
      "_________________________________________________________________\n",
      "dense_6 (Dense)              (None, 80)                12880     \n",
      "=================================================================\n",
      "Total params: 244,400\n",
      "Trainable params: 244,400\n",
      "Non-trainable params: 0\n",
      "_________________________________________________________________\n",
      "None\n"
     ]
    }
   ],
   "source": [
    "ipred._M.print_summary()"
   ]
  },
  {
   "cell_type": "code",
   "execution_count": 12,
   "metadata": {},
   "outputs": [
    {
     "data": {
      "text/plain": [
       "array([[2528016],\n",
       "       [2528017],\n",
       "       [2528018],\n",
       "       [2528019],\n",
       "       [2528020],\n",
       "       [2528021],\n",
       "       [2528022],\n",
       "       [2528023],\n",
       "       [2528024],\n",
       "       [2528025],\n",
       "       [2528026],\n",
       "       [2528027],\n",
       "       [2528028],\n",
       "       [2528029],\n",
       "       [2528030]])"
      ]
     },
     "execution_count": 12,
     "metadata": {},
     "output_type": "execute_result"
    }
   ],
   "source": [
    "ipred._D._D['IDs_test']"
   ]
  }
 ],
 "metadata": {
  "kernelspec": {
   "display_name": "Python 3",
   "language": "python",
   "name": "python3"
  },
  "language_info": {
   "codemirror_mode": {
    "name": "ipython",
    "version": 3
   },
   "file_extension": ".py",
   "mimetype": "text/x-python",
   "name": "python",
   "nbconvert_exporter": "python",
   "pygments_lexer": "ipython3",
   "version": "3.6.9"
  }
 },
 "nbformat": 4,
 "nbformat_minor": 4
}
