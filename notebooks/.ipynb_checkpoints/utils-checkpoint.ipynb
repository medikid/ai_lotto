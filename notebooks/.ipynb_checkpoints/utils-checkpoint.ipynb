{
 "cells": [
  {
   "cell_type": "markdown",
   "metadata": {},
   "source": [
    "<a href=\"https://colab.research.google.com/github/medikid/ai_lotto/blob/master/notebooks/git_functions.ipynb\" target=\"_parent\"><img src=\"https://colab.research.google.com/assets/colab-badge.svg\" alt=\"Open In Colab\"/></a>"
   ]
  },
  {
   "cell_type": "markdown",
   "metadata": {},
   "source": [
    "## Convert IPyNB to Py"
   ]
  },
  {
   "cell_type": "code",
   "execution_count": null,
   "metadata": {},
   "outputs": [],
   "source": [
    "#Save all ipynb files to py and make sure first line has %%WRITEFILE to py files\n",
    "\n",
    "%run 'ifile.ipynb'\n",
    "\n",
    "%run 'idata.ipynb'\n",
    "%run 'idataset.ipynb'\n",
    "\n",
    "%run 'imodel.ipynb'\n",
    "%run 'ker_model.ipynb'\n",
    "%run 'ker_model_loader.ipynb'\n",
    "%run 'tfl_model.ipynb'\n",
    "\n",
    "\n",
    "%run 'ai.ipynb'\n",
    "%run 'ipredictor.ipynb'\n",
    "%run 'itrainer.ipynb'"
   ]
  },
  {
   "cell_type": "markdown",
   "metadata": {},
   "source": [
    "## Run Py files to memory"
   ]
  },
  {
   "cell_type": "code",
   "execution_count": null,
   "metadata": {},
   "outputs": [],
   "source": [
    "# %load '../load_lib.py'\n",
    "# then import lib as 'from ifile import iFile' on your notebooks\n",
    "\n",
    "%run '../ifile.py'\n",
    "%run '../idata.py'\n",
    "%run '../idataset.py'\n",
    "%run '../imodel.py'\n",
    "%run '../ker_model.py'\n",
    "%run '../ker_model_loader.py'\n",
    "%run '../tfl_model.py'\n",
    "%run '../ai.py'\n",
    "%run '../itrainer.py'\n"
   ]
  },
  {
   "cell_type": "markdown",
   "metadata": {},
   "source": [
    "# GIthub Functions"
   ]
  },
  {
   "cell_type": "markdown",
   "metadata": {},
   "source": [
    "## Git ADD, COMMIT and PUSH to remote"
   ]
  },
  {
   "cell_type": "code",
   "execution_count": null,
   "metadata": {},
   "outputs": [],
   "source": [
    "!git add -A .\n",
    "!git commit -m \"Added git functions\"\n",
    "!git push origin master"
   ]
  },
  {
   "cell_type": "markdown",
   "metadata": {},
   "source": [
    "## Git Pull from remote github repo"
   ]
  },
  {
   "cell_type": "code",
   "execution_count": null,
   "metadata": {},
   "outputs": [],
   "source": [
    "!git pull"
   ]
  },
  {
   "cell_type": "markdown",
   "metadata": {},
   "source": [
    "## Git conflict local - so reset local to match remote"
   ]
  },
  {
   "cell_type": "code",
   "execution_count": null,
   "metadata": {},
   "outputs": [],
   "source": [
    "!git fetch --all\n",
    "!git reset --hard origin/master\n",
    "!git pull"
   ]
  },
  {
   "cell_type": "markdown",
   "metadata": {},
   "source": [
    "## Unpushed local changes - Stash local, Pull Remote and write local changes to pulled remote"
   ]
  },
  {
   "cell_type": "code",
   "execution_count": null,
   "metadata": {},
   "outputs": [],
   "source": [
    "!git stash\n",
    "!git pull\n",
    "!git stash pop"
   ]
  },
  {
   "cell_type": "markdown",
   "metadata": {},
   "source": [
    "## Setup git config repo"
   ]
  },
  {
   "cell_type": "code",
   "execution_count": null,
   "metadata": {},
   "outputs": [],
   "source": [
    "#!git config --global user.email \"soma.programmer@gmail.com\"\n",
    "#!git config --global user.name \"medikid\"\n",
    "\n",
    "#!git remote set-url origin https://github.com/medikid/ai_lotto.git\n"
   ]
  },
  {
   "cell_type": "code",
   "execution_count": null,
   "metadata": {},
   "outputs": [],
   "source": [
    "!git remote show origin"
   ]
  },
  {
   "cell_type": "markdown",
   "metadata": {},
   "source": [
    "# Sync G-Drive with Data Folder"
   ]
  },
  {
   "cell_type": "code",
   "execution_count": null,
   "metadata": {},
   "outputs": [],
   "source": [
    "#!pip install dirsync\n",
    "\n",
    "from dirsync import sync\n",
    "source_path = '../g_drive'\n",
    "target_path = '../data'\n",
    "\n",
    "sync(source_path, target_path, 'sync', verbose  = True) #for syncing one way\n",
    "sync(target_path, source_path, 'sync', verbose = True) #for syncing the opposite way\n",
    "\n",
    "# sync(source_path, target_path, 'diff') #for syncing one way\n",
    "# sync(target_path, source_path, 'diff') #for syncing the opposite way"
   ]
  },
  {
   "cell_type": "code",
   "execution_count": null,
   "metadata": {},
   "outputs": [],
   "source": [
    "!tree '../data/'"
   ]
  },
  {
   "cell_type": "code",
   "execution_count": null,
   "metadata": {},
   "outputs": [],
   "source": [
    "import os, shutil\n",
    "\n",
    "#shutil.copy(a,b)\n",
    "src_folder = \"../data\"\n",
    "dst_folder = \"../archive\"\n",
    "for src_file_path in [os.path.join(dp, f) for dp, dn, fn in os.walk(os.path.expanduser(\"../data\")) for f in fn]:\n",
    "    src_folder_path = os.path.dirname(src_file_path)\n",
    "    src_file_format = src_file_path.split('.')[-1]; # 'h5'\n",
    "    src_file_name = os.path.basename(src_file_path);\n",
    "    game = st.split('/')[2]\n",
    "#     print(\"Full path: {0} \\n \\\n",
    "#     folder_path: {1} \\n \\\n",
    "#     file_name: {2} \\n \\\n",
    "#     file_format: {3}\".format(full_path, folder_path, file_name, file_format ));\n",
    "    if (src_file_format == 'h5'):\n",
    "        dst_file_name = '[{0}]{1}'.format(src_dataset_id, src_file_name);\n",
    "        dst_file_path = '{0}/{1}/models/{2}.{3}'.format(dst_folder, game, dst_file_name,src_file_format)\n",
    "\n",
    "        \n",
    "    "
   ]
  },
  {
   "cell_type": "code",
   "execution_count": null,
   "metadata": {},
   "outputs": [],
   "source": [
    "st = '../data/keno/master/keno_master_dr'\n",
    "#st.split('.')[-1]\n",
    "st.split('/')[2]"
   ]
  },
  {
   "cell_type": "code",
   "execution_count": null,
   "metadata": {},
   "outputs": [],
   "source": [
    "import shutil\n",
    "\n",
    "shutil.copy('ifile.ipynb', 'archive_ifile.ipynb')"
   ]
  },
  {
   "cell_type": "code",
   "execution_count": 24,
   "metadata": {},
   "outputs": [],
   "source": [
    "import os, shutil\n",
    "\n",
    "class Archiver:\n",
    "    srcFolder = \"../data\"\n",
    "    dstFolder = \"../archive\"\n",
    "    srcFiles = []\n",
    "    dstFiles = []\n",
    "    \n",
    "    def __init__(self, src='../data', dst='../archive'):\n",
    "        self.srcFolder = src;\n",
    "        self.dstFolder = dst;\n",
    "        self.srcFiles = [os.path.join(dp, f) for dp, dn, fn in os.walk(os.path.expanduser(self.srcFolder)) for f in fn];\n",
    "        self.dstFiles = [os.path.join(dp, f) for dp, dn, fn in os.walk(os.path.expanduser(self.dstFolder)) for f in fn];\n",
    "        print('Source:{0} Files'.format(len(self.srcFiles)))\n",
    "        print('Dest: {0} Files'.format(len(self.dstFiles)))\n",
    "        \n",
    "    def process_files(self):        \n",
    "        for srcFilePath in self.srcFiles:\n",
    "            srcFolderPath = os.path.dirname(srcFilePath)\n",
    "            srcFileFormat = srcFilePath.split('.')[-1]; # 'h5'\n",
    "            srcFileName = os.path.basename(srcFilePath);\n",
    "            game = srcFilePath.split('/')[2]\n",
    "            if (srcFileFormat == 'h5'): \n",
    "                self.archive_h5(srcFilePath);\n",
    "            elif (srcFileFormat == 'pkl'):\n",
    "                self.archive_pkl(srcFilePath);\n",
    "            elif (srcFileFormat == 'npz'):\n",
    "                self.archive_npz(srcFilePath);\n",
    "            else:\n",
    "                print(\"Unknown format: {0}\".format(srcFilePath))\n",
    "                    \n",
    "    def archive_h5(self, srcFilePath):\n",
    "        srcFolderPath = os.path.dirname(srcFilePath)\n",
    "        srcFileName = os.path.basename(srcFilePath);\n",
    "        srcFileFormat = srcFilePath.split('.')[-1];\n",
    "        folders = srcFolderPath.split('/');\n",
    "        try:\n",
    "            game = folders[2];\n",
    "            xnInputs = folders[3];\n",
    "            xnDraws = folders[4]\n",
    "            srcDatasetID = '{0}_{1}_{2}_dr'.format(game,xnInputs,xnDraws)\n",
    "            dstFileName = '[{0}]{1}'.format(srcDatasetID, srcFileName);\n",
    "            dstFilePath = '{0}/{1}/models/{2}'.format(self.dstFolder, game, dstFileName)\n",
    "            #print('{0}=>{1}'.format(srcFilePath, dstFilePath))\n",
    "            if(os.path.exists(dstFilePath)):\n",
    "                pass;\n",
    "            else:\n",
    "                self.archive(srcFilePath, dstFilePath);\n",
    "            \n",
    "        except IndexError:\n",
    "            if (folders[3] == 'untrained_models'):\n",
    "                game = folders[2]\n",
    "                dstFileName = '[untrained]{0}'.format(srcFileName);\n",
    "                dstFilePath = '{0}/{1}/models/{2}'.format(self.dstFolder, game, dstFileName)\n",
    "                if(os.path.exists(dstFilePath)):\n",
    "                    pass;\n",
    "                else:\n",
    "                    self.archive(srcFilePath, dstFilePath);\n",
    "            else:\n",
    "                print(\"exception\",srcFilePath)\n",
    "    \n",
    "    def archive_pkl(self, srcFilePath):\n",
    "        game = srcFilePath.split('/')[2]\n",
    "        isMaster = srcFilePath.split('/')[3]\n",
    "        srcFileName = os.path.basename(srcFilePath);\n",
    "        dstFileName = srcFileName;\n",
    "        if (isMaster == 'master'):\n",
    "            dstFilePath = '{0}/{1}/masters/{2}'.format(self.dstFolder, game, dstFileName)\n",
    "        \n",
    "        if(os.path.exists(dstFilePath)):\n",
    "                pass;\n",
    "        else:\n",
    "            self.archive(srcFilePath, dstFilePath);\n",
    "            \n",
    "    def archive_npz(self, srcFilePath):\n",
    "        game = srcFilePath.split('/')[2]\n",
    "        srcFileName = os.path.basename(srcFilePath);\n",
    "        dstFileName = srcFileName;\n",
    "        dstFilePath = '{0}/{1}/datasets/{2}'.format(self.dstFolder, game, dstFileName)\n",
    "        #print(srcFilePath)\n",
    "        if(os.path.exists(dstFilePath)):\n",
    "                pass;\n",
    "        else:\n",
    "            self.archive(srcFilePath, dstFilePath);\n",
    "            \n",
    "    def archive(self, srcFilePath, dstFilePath):\n",
    "        shutil.copy(srcFilePath, dstFilePath);\n",
    "        print(\"Copying {0}\".format(os.path.basename(dstFilePath)));\n",
    "    "
   ]
  },
  {
   "cell_type": "code",
   "execution_count": 25,
   "metadata": {},
   "outputs": [
    {
     "name": "stdout",
     "output_type": "stream",
     "text": [
      "Source:156 Files\n",
      "Dest: 154 Files\n",
      "Unknown format: ../data/print_folder_tree.ipynb\n",
      "Unknown format: ../data/.ipynb_checkpoints/print_folder_tree-checkpoint.ipynb\n"
     ]
    }
   ],
   "source": [
    "arc = Archiver();\n",
    "arc.process_files();"
   ]
  },
  {
   "cell_type": "code",
   "execution_count": null,
   "metadata": {},
   "outputs": [],
   "source": []
  },
  {
   "cell_type": "code",
   "execution_count": null,
   "metadata": {},
   "outputs": [],
   "source": []
  }
 ],
 "metadata": {
  "kernelspec": {
   "display_name": "Python 3",
   "language": "python",
   "name": "python3"
  },
  "language_info": {
   "codemirror_mode": {
    "name": "ipython",
    "version": 3
   },
   "file_extension": ".py",
   "mimetype": "text/x-python",
   "name": "python",
   "nbconvert_exporter": "python",
   "pygments_lexer": "ipython3",
   "version": "3.6.9"
  }
 },
 "nbformat": 4,
 "nbformat_minor": 4
}
