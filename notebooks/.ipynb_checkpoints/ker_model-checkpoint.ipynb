{
 "cells": [
  {
   "cell_type": "code",
   "execution_count": 2,
   "metadata": {},
   "outputs": [],
   "source": [
    "from ipynb.fs.full.imodel import Model\n",
    "import keras as kr\n",
    "from keras.models import Sequential\n",
    "from keras.layers import LSTM, Dense\n",
    "\n",
    "class KER_Model(Model):\n",
    "    _MODEL_PATH = None;\n",
    "    \n",
    "    def __init__(self, ModelID, Dataset):\n",
    "        super().__init__(ModelID, Dataset)\n",
    "        self._MODEL_PATH = self._FULL_PATH;\n",
    "        print(\"[KER_Model:__init__]\")\n",
    " \n",
    "    def load(self):\n",
    "        print(\"[KER_Model:load]: Loading {0}\".format(self._FULL_PATH))\n",
    "        pass;\n",
    "    \n",
    "    def save(self):\n",
    "        self._M.save(self._FULL_PATH)\n",
    "        print(\"[KER_Model:save]: Saving {0}\".format(self._FULL_PATH))\n",
    "    \n",
    "    def load_best_version(self):\n",
    "        pass;\n",
    "    \n",
    "    def load_latest_version(self):\n",
    "        pass;\n",
    "        \n",
    "    \n",
    "    "
   ]
  },
  {
   "cell_type": "code",
   "execution_count": null,
   "metadata": {},
   "outputs": [],
   "source": []
  }
 ],
 "metadata": {
  "kernelspec": {
   "display_name": "Python 3",
   "language": "python",
   "name": "python3"
  },
  "language_info": {
   "codemirror_mode": {
    "name": "ipython",
    "version": 3
   },
   "file_extension": ".py",
   "mimetype": "text/x-python",
   "name": "python",
   "nbconvert_exporter": "python",
   "pygments_lexer": "ipython3",
   "version": "3.6.9"
  }
 },
 "nbformat": 4,
 "nbformat_minor": 4
}
