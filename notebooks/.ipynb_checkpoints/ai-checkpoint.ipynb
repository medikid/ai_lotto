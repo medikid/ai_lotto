{
 "cells": [
  {
   "cell_type": "code",
   "execution_count": 1,
   "metadata": {},
   "outputs": [
    {
     "name": "stderr",
     "output_type": "stream",
     "text": [
      "Using TensorFlow backend.\n"
     ]
    },
    {
     "name": "stdout",
     "output_type": "stream",
     "text": [
      "xndraw2.528m, new_st2.528, multiple1000000, notationm\n",
      "[iFile:__init__]\n",
      "xndraw2.528m, new_st2.528, multiple1000000, notationm\n",
      "[iFile:derive_folder_path] data/keno/x15/2.528m/\n",
      "[iDataset:derive_file_path] datasets/keno_x15_2.528m_dr.npz\n",
      "[ifile:derive_full_path] ../data/keno/x15/2.528m/datasets/keno_x15_2.528m_dr.npz\n",
      "Loading dataset ../data/keno/x15/2.528m/datasets/keno_x15_2.528m_dr.npz\n"
     ]
    }
   ],
   "source": [
    "from ipynb.fs.full.ker_model import KER_Model;\n",
    "from ipynb.fs.full.tfl_model import TFL_Model;\n",
    "from ipynb.fs.full.idataset import Dataset\n",
    "\n",
    "import numpy as np\n",
    "import pandas as pd\n",
    "\n",
    "class AI:\n",
    "    _MODEL =None;\n",
    "    _DATASET =None;\n",
    "    _MASTER=None;\n",
    "    _GAME = None;\n",
    "    _API = None;\n",
    "    \n",
    "    def __init__(self, ModelID, DatasetID):\n",
    "        self.load_dataset(DatasetID)\n",
    "        \n",
    "        self.load_model(ModelID, self._DATASET); #you need x5/25k from datasetfolder\n",
    "        \n",
    "        print(\"[AI:__init__]\")\n",
    "        pass;\n",
    "\n",
    "    \n",
    "    def setup_model(self, ModelName):\n",
    "        pass;\n",
    "    \n",
    "    def load_model(self, ModelID, Dataset):\n",
    "        info = ModelID.split(\".\");\n",
    "        self._GAME = info[0];\n",
    "        self._API = info[1]\n",
    "        \n",
    "        print(\"Game: {0} API {1}\".format(self._GAME, self._API))\n",
    "        \n",
    "        if (self._API == 'ker'):\n",
    "            self._MODEL = KER_Model(ModelID, Dataset);\n",
    "        elif(self._API == 'tfl'):\n",
    "            self._MODEL = TFL_Model(ModelID, Dataset);\n",
    "            \n",
    "        self._MODEL.load();\n",
    "        print(\"Loaded Model {0}\".format(self._MODEL._FULL_PATH))\n",
    "    \n",
    "    def load_dataset(self, DatasetName):\n",
    "        self._DATASET = Dataset(DatasetName); \n",
    "        self._DATASET.load();\n",
    "        #Dataset is stored in self._D._DATASET[IDs,X,Y,IDs_test,X_test,Y_test]\n",
    "        print(\"Loaded Dataset {0}\".format(self._DATASET._FULL_PATH))\n",
    "    \n",
    "    def save_model(self):\n",
    "        self._MODEL.save(self._FULL_PATH)\n",
    "        pass;\n",
    "    \n",
    "    def get_model_summary(self):\n",
    "        pass;\n",
    "    \n",
    "    def train_model(self):\n",
    "        pass;\n",
    "    \n",
    "    def predict_model(self, X_test, IsBatch=True):\n",
    "        Y_hat = self._MODEL.predict(X_test, IsBatch)\n",
    "        return Y_hat;\n",
    "    \n",
    "    "
   ]
  },
  {
   "cell_type": "code",
   "execution_count": 2,
   "metadata": {
    "slideshow": {
     "slide_type": "slide"
    }
   },
   "outputs": [
    {
     "name": "stdout",
     "output_type": "stream",
     "text": [
      "xndraw2.528m, new_st2.528, multiple1000000, notationm\n",
      "[iFile:__init__]\n",
      "xndraw2.528m, new_st2.528, multiple1000000, notationm\n",
      "[iFile:derive_folder_path] data/keno/x15/2.528m/\n",
      "[iDataset:derive_file_path] datasets/keno_x15_2.528m_dr.npz\n",
      "[ifile:derive_full_path] ../data/keno/x15/2.528m/datasets/keno_x15_2.528m_dr.npz\n",
      "Loading dataset ../data/keno/x15/2.528m/datasets/keno_x15_2.528m_dr.npz\n",
      "Loaded Dataset ../data/keno/x15/2.528m/datasets/keno_x15_2.528m_dr.npz\n",
      "Game: keno API ker\n",
      "[iModel:decipher_file_name]\n",
      "[iModel:set_decipher_info] {'GAME': 'keno', 'xnINPUTS': 'x15', 'nINPUTS': 15, 'xnDRAWS': '2.528m', 'nDRAWS': 2528000, 'DATA_TYPE': 'dr', 'API': 'ker', 'BUILD': '2', 'VERSION': '1'}\n",
      "[iFile:__init__]\n",
      "[iModel:decipher_file_name]\n",
      "[iModel:set_decipher_info] {'GAME': 'keno', 'xnINPUTS': 'x15', 'nINPUTS': 15, 'xnDRAWS': '2.528m', 'nDRAWS': 2528000, 'DATA_TYPE': 'dr', 'API': 'ker', 'BUILD': '2', 'VERSION': '1'}\n",
      "[iModel:derive_file_path] models/ker/2/keno.ker.2.1.h5\n",
      "[ifile:derive_full_path] ../data/keno/x15/2.528m/models/ker/2/keno.ker.2.1.h5\n",
      "[iModel:__init__\n",
      "[KER_Model:__init__]\n",
      "[KER_Model:load]: Loading ../data/keno/x15/2.528m/models/ker/2/keno.ker.2.1.h5\n",
      "Loaded Model ../data/keno/x15/2.528m/models/ker/2/keno.ker.2.1.h5\n",
      "[AI:__init__]\n"
     ]
    }
   ],
   "source": [
    "ai = AI('keno.ker.2.1','keno_x15_2.528m_dr');"
   ]
  },
  {
   "cell_type": "code",
   "execution_count": null,
   "metadata": {},
   "outputs": [],
   "source": [
    "ai._MODEL._FULL_PATH"
   ]
  },
  {
   "cell_type": "code",
   "execution_count": 11,
   "metadata": {},
   "outputs": [
    {
     "data": {
      "text/plain": [
       "array([[1, 0, 0, ..., 0, 1, 0],\n",
       "       [0, 0, 0, ..., 0, 0, 0],\n",
       "       [0, 1, 0, ..., 0, 0, 0],\n",
       "       ...,\n",
       "       [0, 0, 0, ..., 1, 0, 0],\n",
       "       [0, 0, 0, ..., 0, 0, 1],\n",
       "       [0, 1, 1, ..., 1, 0, 0]], dtype=int8)"
      ]
     },
     "execution_count": 11,
     "metadata": {},
     "output_type": "execute_result"
    }
   ],
   "source": [
    "ai._D._DATASET['X_test'][0]"
   ]
  },
  {
   "cell_type": "code",
   "execution_count": 10,
   "metadata": {},
   "outputs": [
    {
     "name": "stdout",
     "output_type": "stream",
     "text": [
      "Model: \"sequential_2\"\n",
      "_________________________________________________________________\n",
      "Layer (type)                 Output Shape              Param #   \n",
      "=================================================================\n",
      "lstm_3 (LSTM)                (None, 15, 100)           72400     \n",
      "_________________________________________________________________\n",
      "lstm_4 (LSTM)                (None, 100)               80400     \n",
      "_________________________________________________________________\n",
      "dense_2 (Dense)              (None, 80)                8080      \n",
      "=================================================================\n",
      "Total params: 160,880\n",
      "Trainable params: 160,880\n",
      "Non-trainable params: 0\n",
      "_________________________________________________________________\n"
     ]
    }
   ],
   "source": [
    "ai._MODEL._M.summary()"
   ]
  },
  {
   "cell_type": "code",
   "execution_count": 8,
   "metadata": {},
   "outputs": [
    {
     "ename": "TypeError",
     "evalue": "Required argument 'object' (pos 1) not found",
     "output_type": "error",
     "traceback": [
      "\u001b[0;31m---------------------------------------------------------------------------\u001b[0m",
      "\u001b[0;31mTypeError\u001b[0m                                 Traceback (most recent call last)",
      "\u001b[0;32m<ipython-input-8-239f52358896>\u001b[0m in \u001b[0;36m<module>\u001b[0;34m\u001b[0m\n\u001b[0;32m----> 1\u001b[0;31m \u001b[0my_hat\u001b[0m \u001b[0;34m=\u001b[0m \u001b[0mai\u001b[0m\u001b[0;34m.\u001b[0m\u001b[0mpredict_model\u001b[0m\u001b[0;34m(\u001b[0m\u001b[0mai\u001b[0m\u001b[0;34m.\u001b[0m\u001b[0m_D\u001b[0m\u001b[0;34m.\u001b[0m\u001b[0m_DATASET\u001b[0m\u001b[0;34m[\u001b[0m\u001b[0;34m'X_test'\u001b[0m\u001b[0;34m]\u001b[0m\u001b[0;34m[\u001b[0m\u001b[0;36m0\u001b[0m\u001b[0;34m]\u001b[0m\u001b[0;34m,\u001b[0m \u001b[0;32mFalse\u001b[0m\u001b[0;34m)\u001b[0m\u001b[0;34m\u001b[0m\u001b[0;34m\u001b[0m\u001b[0m\n\u001b[0m\u001b[1;32m      2\u001b[0m \u001b[0my_hat\u001b[0m\u001b[0;34m\u001b[0m\u001b[0;34m\u001b[0m\u001b[0m\n",
      "\u001b[0;32m<ipython-input-1-00aef0df5bd3>\u001b[0m in \u001b[0;36mpredict_model\u001b[0;34m(self, X_test, IsBatch)\u001b[0m\n\u001b[1;32m     57\u001b[0m \u001b[0;34m\u001b[0m\u001b[0m\n\u001b[1;32m     58\u001b[0m     \u001b[0;32mdef\u001b[0m \u001b[0mpredict_model\u001b[0m\u001b[0;34m(\u001b[0m\u001b[0mself\u001b[0m\u001b[0;34m,\u001b[0m \u001b[0mX_test\u001b[0m\u001b[0;34m,\u001b[0m \u001b[0mIsBatch\u001b[0m\u001b[0;34m=\u001b[0m\u001b[0;32mTrue\u001b[0m\u001b[0;34m)\u001b[0m\u001b[0;34m:\u001b[0m\u001b[0;34m\u001b[0m\u001b[0;34m\u001b[0m\u001b[0m\n\u001b[0;32m---> 59\u001b[0;31m         \u001b[0mY_hat\u001b[0m \u001b[0;34m=\u001b[0m \u001b[0mself\u001b[0m\u001b[0;34m.\u001b[0m\u001b[0m_M\u001b[0m\u001b[0;34m.\u001b[0m\u001b[0mpredict\u001b[0m\u001b[0;34m(\u001b[0m\u001b[0mX_test\u001b[0m\u001b[0;34m,\u001b[0m \u001b[0mIsBatch\u001b[0m\u001b[0;34m)\u001b[0m\u001b[0;34m\u001b[0m\u001b[0;34m\u001b[0m\u001b[0m\n\u001b[0m\u001b[1;32m     60\u001b[0m         \u001b[0;32mreturn\u001b[0m \u001b[0mY_hat\u001b[0m\u001b[0;34m;\u001b[0m\u001b[0;34m\u001b[0m\u001b[0;34m\u001b[0m\u001b[0m\n\u001b[1;32m     61\u001b[0m \u001b[0;34m\u001b[0m\u001b[0m\n",
      "\u001b[0;32m/home/work/ai_lotto/notebooks/ker_model.ipynb\u001b[0m in \u001b[0;36mpredict\u001b[0;34m(self, X_test, isBatch)\u001b[0m\n\u001b[1;32m     36\u001b[0m     \u001b[0;34m\"    \\n\"\u001b[0m\u001b[0;34m,\u001b[0m\u001b[0;34m\u001b[0m\u001b[0;34m\u001b[0m\u001b[0m\n\u001b[1;32m     37\u001b[0m     \u001b[0;34m\"    def load_latest_version(self):\\n\"\u001b[0m\u001b[0;34m,\u001b[0m\u001b[0;34m\u001b[0m\u001b[0;34m\u001b[0m\u001b[0m\n\u001b[0;32m---> 38\u001b[0;31m     \u001b[0;34m\"        pass;\\n\"\u001b[0m\u001b[0;34m,\u001b[0m\u001b[0;34m\u001b[0m\u001b[0;34m\u001b[0m\u001b[0m\n\u001b[0m\u001b[1;32m     39\u001b[0m     \u001b[0;34m\"    \\n\"\u001b[0m\u001b[0;34m,\u001b[0m\u001b[0;34m\u001b[0m\u001b[0;34m\u001b[0m\u001b[0m\n\u001b[1;32m     40\u001b[0m     \u001b[0;34m\"    def predict(self, X_test, isBatch=True):\\n\"\u001b[0m\u001b[0;34m,\u001b[0m\u001b[0;34m\u001b[0m\u001b[0;34m\u001b[0m\u001b[0m\n",
      "\u001b[0;31mTypeError\u001b[0m: Required argument 'object' (pos 1) not found"
     ]
    }
   ],
   "source": [
    "y_hat = ai.predict_model(ai._D._DATASET['X_test'][0], False)\n",
    "y_hat"
   ]
  },
  {
   "cell_type": "code",
   "execution_count": null,
   "metadata": {},
   "outputs": [],
   "source": []
  },
  {
   "cell_type": "code",
   "execution_count": null,
   "metadata": {},
   "outputs": [],
   "source": []
  }
 ],
 "metadata": {
  "kernelspec": {
   "display_name": "Python 3",
   "language": "python",
   "name": "python3"
  },
  "language_info": {
   "codemirror_mode": {
    "name": "ipython",
    "version": 3
   },
   "file_extension": ".py",
   "mimetype": "text/x-python",
   "name": "python",
   "nbconvert_exporter": "python",
   "pygments_lexer": "ipython3",
   "version": "3.6.9"
  },
  "toc-autonumbering": true,
  "toc-showtags": true
 },
 "nbformat": 4,
 "nbformat_minor": 4
}
