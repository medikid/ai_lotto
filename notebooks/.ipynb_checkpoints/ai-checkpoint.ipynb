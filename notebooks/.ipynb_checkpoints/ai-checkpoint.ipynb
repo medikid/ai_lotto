{
 "cells": [
  {
   "cell_type": "code",
   "execution_count": 15,
   "metadata": {},
   "outputs": [
    {
     "name": "stdout",
     "output_type": "stream",
     "text": [
      "Overwriting ../ai.py\n"
     ]
    }
   ],
   "source": [
    "%%writefile \"../ai.py\"\n",
    "\n",
    "!python3 '../ker_model.py' #from ipynb.fs.full.ker_model import KER_Model;\n",
    "!python3 '../tfl_model.py' #from ipynb.fs.full.tfl_model import TFL_Model;\n",
    "!python3 '../idataset.py' #from ipynb.fs.full.idataset import Dataset\n",
    "\n",
    "import numpy as np\n",
    "import pandas as pd\n",
    "\n",
    "class AI:\n",
    "    _MODEL =None;\n",
    "    _DATASET =None;\n",
    "    _MASTER=None;\n",
    "    _GAME = None;\n",
    "    _API = None;\n",
    "    \n",
    "    def __init__(self, ModelID, DatasetID):\n",
    "        self.load_dataset(DatasetID)\n",
    "        \n",
    "        self.load_model(ModelID, self._DATASET); #you need x5/25k from datasetfolder\n",
    "        \n",
    "        print(\"[AI:__init__]\")\n",
    "        pass;\n",
    "\n",
    "    \n",
    "    def setup_model(self, ModelName):\n",
    "        pass;\n",
    "    \n",
    "    def load_model(self, ModelID, Dataset):\n",
    "        info = ModelID.split(\".\");\n",
    "        self._GAME = info[0];\n",
    "        self._API = info[1]\n",
    "        \n",
    "        print(\"Game: {0} API {1}\".format(self._GAME, self._API))\n",
    "        \n",
    "        if (self._API == 'ker'):\n",
    "            self._MODEL = KER_Model(ModelID, Dataset);\n",
    "        elif(self._API == 'tfl'):\n",
    "            self._MODEL = TFL_Model(ModelID, Dataset);\n",
    "            \n",
    "        self._MODEL.load();\n",
    "        print(\"Loaded Model {0}\".format(self._MODEL._FULL_PATH))\n",
    "    \n",
    "    def load_dataset(self, DatasetName):\n",
    "        self._DATASET = Dataset(DatasetName); \n",
    "        self._DATASET.load();\n",
    "        #Dataset is stored in self._D._DATASET[IDs,X,Y,IDs_test,X_test,Y_test]\n",
    "        print(\"Loaded Dataset {0}\".format(self._DATASET._FULL_PATH))\n",
    "    \n",
    "    def save_model(self):\n",
    "        self._MODEL.save(self._FULL_PATH)\n",
    "        pass;\n",
    "    \n",
    "    def print_model_summary(self):\n",
    "        print(self._MODEL._M.summary())\n",
    "        pass;\n",
    "    \n",
    "    def train_model(self):\n",
    "        pass;\n",
    "    \n",
    "    def predict_model(self, X_test, IsBatch=True):\n",
    "        Y_hat = self._MODEL.predict(X_test, IsBatch)\n",
    "        return Y_hat;\n",
    "    \n",
    "    "
   ]
  }
 ],
 "metadata": {
  "kernelspec": {
   "display_name": "Python 3",
   "language": "python",
   "name": "python3"
  },
  "language_info": {
   "codemirror_mode": {
    "name": "ipython",
    "version": 3
   },
   "file_extension": ".py",
   "mimetype": "text/x-python",
   "name": "python",
   "nbconvert_exporter": "python",
   "pygments_lexer": "ipython3",
   "version": "3.6.9"
  },
  "toc-autonumbering": true,
  "toc-showtags": true
 },
 "nbformat": 4,
 "nbformat_minor": 4
}
