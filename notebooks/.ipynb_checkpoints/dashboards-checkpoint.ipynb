{
 "cells": [
  {
   "cell_type": "markdown",
   "metadata": {},
   "source": [
    "<a href=\"https://colab.research.google.com/github/medikid/ai_lotto/blob/master/notebooks/dashboards.ipynb\" target=\"_parent\"><img src=\"https://colab.research.google.com/assets/colab-badge.svg\" alt=\"Open In Colab\"/></a>"
   ]
  },
  {
   "cell_type": "markdown",
   "metadata": {},
   "source": [
    "# CHART DASHBOARDS"
   ]
  },
  {
   "cell_type": "code",
   "execution_count": null,
   "metadata": {
    "colab": {
     "base_uri": "https://localhost:8080/",
     "height": 124
    },
    "colab_type": "code",
    "id": "QUZLPAzg_vMn",
    "outputId": "66d38aab-5b3c-482a-e81f-9fa3a512ef8b"
   },
   "outputs": [],
   "source": [
    "#init colab notebooks\n",
    "\n",
    "from google.colab import drive\n",
    "drive.mount('/content/g_drive')"
   ]
  },
  {
   "cell_type": "code",
   "execution_count": null,
   "metadata": {},
   "outputs": [],
   "source": [
    "#perform all actions at once\n",
    "#!mkdir my_drive\n",
    "!ln -s \"/content/g_drive/My Drive/Colab/Datascience/ai_lotto\" \"/content\"\n",
    "%cd \"/content/ai_lotto\"\n",
    "\n",
    "import sys\n",
    "sys.path.append('/content/ai_lotto')\n",
    "%cd notebooks/"
   ]
  },
  {
   "cell_type": "code",
   "execution_count": null,
   "metadata": {},
   "outputs": [],
   "source": [
    "pwd"
   ]
  },
  {
   "cell_type": "markdown",
   "metadata": {},
   "source": [
    "### Logs dashboards"
   ]
  },
  {
   "cell_type": "code",
   "execution_count": 4,
   "metadata": {},
   "outputs": [
    {
     "name": "stdout",
     "output_type": "stream",
     "text": [
      "Setting up sqlite  sqlite:////home/work/ai_lotto/notebooks/db/ai_lotto.db\n",
      "Setting up sqlite  sqlite:////home/work/ai_lotto/notebooks/db/ai_lotto.db\n"
     ]
    },
    {
     "name": "stderr",
     "output_type": "stream",
     "text": [
      "/usr/local/lib/python3.6/dist-packages/sqlalchemy/ext/declarative/clsregistry.py:129: SAWarning: This declarative base already contains a class with the same class name and module name as __main__.TrainingSession, and will be replaced in the string-lookup table.\n",
      "  % (item.__module__, item.__name__)\n",
      "/usr/local/lib/python3.6/dist-packages/sqlalchemy/ext/declarative/clsregistry.py:129: SAWarning: This declarative base already contains a class with the same class name and module name as __main__.TrainingLog, and will be replaced in the string-lookup table.\n",
      "  % (item.__module__, item.__name__)\n"
     ]
    },
    {
     "data": {
      "text/plain": [
       "<Figure size 432x288 with 0 Axes>"
      ]
     },
     "metadata": {},
     "output_type": "display_data"
    }
   ],
   "source": [
    "%run 'db/models/training_session.py'\n",
    "%run 'db/models/training_log.py'\n",
    "\n",
    "from db.models import training_session, training_log\n",
    "import matplotlib.pyplot as plt "
   ]
  },
  {
   "cell_type": "code",
   "execution_count": 5,
   "metadata": {},
   "outputs": [
    {
     "name": "stdout",
     "output_type": "stream",
     "text": [
      "\n"
     ]
    },
    {
     "data": {
      "image/png": "[encoded data removed]",
      "text/plain": [
       "<Figure size 432x288 with 1 Axes>"
      ]
     },
     "metadata": {
      "needs_background": "light"
     },
     "output_type": "display_data"
    }
   ],
   "source": [
    "modset_id = \"hotspot.ker.6.2[x15_310k_dr]\";\n",
    "#modset_id = \"keno.ker.4.13[x15_2.528m_dr]\"\n",
    "\n",
    "trainingLog = training_log.TrainingLog(modset_id);\n",
    "df_logs = trainingLog.get_dataframe();\n",
    "df_logs.set_index('train_log_id', inplace=True)\n",
    "logs = df_logs.loc[df_logs.modset_id == modset_id ]\n",
    "\n",
    "logs.plot(kind='line',x='epoch',y='loss',ax=plt.gca())\n",
    "logs.plot(kind='line',x='epoch',y='metric_value', legend='precision_top10', color='red', ax=plt.gca())\n",
    "\n",
    "plt.title('{0} - Loss vs {1}'.format(modset_id, logs['metric_name'].unique()[0]))\n",
    "plt.legend(['loss',logs['metric_name'].unique()[0]])\n",
    "plt.show()"
   ]
  },
  {
   "cell_type": "code",
   "execution_count": 6,
   "metadata": {},
   "outputs": [
    {
     "name": "stdout",
     "output_type": "stream",
     "text": [
      "\n",
      "modset_id\n",
      "hotspot.ker.4.13[x15_25k_dr]    1215\n",
      "hotspot.ker.6.1[x15_310k_dr]      20\n",
      "hotspot.ker.6.2[x15_310k_dr]      10\n",
      "hotspot.ker.6.3[x15_310k_dr]      10\n",
      "keno.ker.4.13[x15_2.528m_dr]      10\n",
      "Name: epochs_total, dtype: int64\n"
     ]
    },
    {
     "data": {
      "text/plain": [
       "<matplotlib.axes._subplots.AxesSubplot at 0x7f1b90776b38>"
      ]
     },
     "execution_count": 6,
     "metadata": {},
     "output_type": "execute_result"
    },
    {
     "data": {
      "image/png": "[encoded data removed]",
      "text/plain": [
       "<Figure size 432x288 with 1 Axes>"
      ]
     },
     "metadata": {
      "needs_background": "light"
     },
     "output_type": "display_data"
    }
   ],
   "source": [
    "# List of sessions\n",
    "sessions = training_session.TrainingSession(modset_id)\n",
    "df_sessions = sessions.get_dataframe()\n",
    "print(df_sessions.groupby('modset_id')['epochs_total'].sum())\n",
    "df_sessions.groupby('modset_id')['epochs_total'].sum().plot(kind='bar')"
   ]
  },
  {
   "cell_type": "code",
   "execution_count": 9,
   "metadata": {},
   "outputs": [
    {
     "data": {
      "text/html": [
       "<div>\n",
       "<style scoped>\n",
       "    .dataframe tbody tr th:only-of-type {\n",
       "        vertical-align: middle;\n",
       "    }\n",
       "\n",
       "    .dataframe tbody tr th {\n",
       "        vertical-align: top;\n",
       "    }\n",
       "\n",
       "    .dataframe thead th {\n",
       "        text-align: right;\n",
       "    }\n",
       "</style>\n",
       "<table border=\"1\" class=\"dataframe\">\n",
       "  <thead>\n",
       "    <tr style=\"text-align: right;\">\n",
       "      <th></th>\n",
       "      <th>train_sess_id</th>\n",
       "      <th>modset_id</th>\n",
       "      <th>datetime</th>\n",
       "      <th>epoch</th>\n",
       "      <th>loss</th>\n",
       "      <th>metric_name</th>\n",
       "      <th>metric_value</th>\n",
       "    </tr>\n",
       "    <tr>\n",
       "      <th>train_log_id</th>\n",
       "      <th></th>\n",
       "      <th></th>\n",
       "      <th></th>\n",
       "      <th></th>\n",
       "      <th></th>\n",
       "      <th></th>\n",
       "      <th></th>\n",
       "    </tr>\n",
       "  </thead>\n",
       "  <tbody>\n",
       "    <tr>\n",
       "      <th>318</th>\n",
       "      <td>20200528142723</td>\n",
       "      <td>hotspot.ker.6.1[x15_310k_dr]</td>\n",
       "      <td>2020-05-28 14:32:24.567669</td>\n",
       "      <td>0</td>\n",
       "      <td>0.562942</td>\n",
       "      <td>precision_top10</td>\n",
       "      <td>0.250050</td>\n",
       "    </tr>\n",
       "    <tr>\n",
       "      <th>319</th>\n",
       "      <td>20200528142723</td>\n",
       "      <td>hotspot.ker.6.1[x15_310k_dr]</td>\n",
       "      <td>2020-05-28 14:37:02.729050</td>\n",
       "      <td>1</td>\n",
       "      <td>0.562503</td>\n",
       "      <td>precision_top10</td>\n",
       "      <td>0.250299</td>\n",
       "    </tr>\n",
       "    <tr>\n",
       "      <th>320</th>\n",
       "      <td>20200528142723</td>\n",
       "      <td>hotspot.ker.6.1[x15_310k_dr]</td>\n",
       "      <td>2020-05-28 14:41:42.156656</td>\n",
       "      <td>2</td>\n",
       "      <td>0.562462</td>\n",
       "      <td>precision_top10</td>\n",
       "      <td>0.250353</td>\n",
       "    </tr>\n",
       "    <tr>\n",
       "      <th>321</th>\n",
       "      <td>20200528142723</td>\n",
       "      <td>hotspot.ker.6.1[x15_310k_dr]</td>\n",
       "      <td>2020-05-28 14:46:26.019937</td>\n",
       "      <td>3</td>\n",
       "      <td>0.562441</td>\n",
       "      <td>precision_top10</td>\n",
       "      <td>0.250260</td>\n",
       "    </tr>\n",
       "    <tr>\n",
       "      <th>322</th>\n",
       "      <td>20200528142723</td>\n",
       "      <td>hotspot.ker.6.1[x15_310k_dr]</td>\n",
       "      <td>2020-05-28 14:51:07.611423</td>\n",
       "      <td>4</td>\n",
       "      <td>0.562425</td>\n",
       "      <td>precision_top10</td>\n",
       "      <td>0.250537</td>\n",
       "    </tr>\n",
       "    <tr>\n",
       "      <th>323</th>\n",
       "      <td>20200528142723</td>\n",
       "      <td>hotspot.ker.6.1[x15_310k_dr]</td>\n",
       "      <td>2020-05-28 14:55:44.231053</td>\n",
       "      <td>5</td>\n",
       "      <td>0.562402</td>\n",
       "      <td>precision_top10</td>\n",
       "      <td>0.251782</td>\n",
       "    </tr>\n",
       "    <tr>\n",
       "      <th>324</th>\n",
       "      <td>20200528142723</td>\n",
       "      <td>hotspot.ker.6.1[x15_310k_dr]</td>\n",
       "      <td>2020-05-28 15:00:29.080340</td>\n",
       "      <td>6</td>\n",
       "      <td>0.562370</td>\n",
       "      <td>precision_top10</td>\n",
       "      <td>0.253345</td>\n",
       "    </tr>\n",
       "    <tr>\n",
       "      <th>325</th>\n",
       "      <td>20200528142723</td>\n",
       "      <td>hotspot.ker.6.1[x15_310k_dr]</td>\n",
       "      <td>2020-05-28 15:05:11.552781</td>\n",
       "      <td>7</td>\n",
       "      <td>0.562325</td>\n",
       "      <td>precision_top10</td>\n",
       "      <td>0.255267</td>\n",
       "    </tr>\n",
       "    <tr>\n",
       "      <th>326</th>\n",
       "      <td>20200528142723</td>\n",
       "      <td>hotspot.ker.6.1[x15_310k_dr]</td>\n",
       "      <td>2020-05-28 15:09:47.066373</td>\n",
       "      <td>8</td>\n",
       "      <td>0.562272</td>\n",
       "      <td>precision_top10</td>\n",
       "      <td>0.257448</td>\n",
       "    </tr>\n",
       "    <tr>\n",
       "      <th>327</th>\n",
       "      <td>20200528142723</td>\n",
       "      <td>hotspot.ker.6.1[x15_310k_dr]</td>\n",
       "      <td>2020-05-28 15:14:31.700137</td>\n",
       "      <td>9</td>\n",
       "      <td>0.562205</td>\n",
       "      <td>precision_top10</td>\n",
       "      <td>0.259518</td>\n",
       "    </tr>\n",
       "    <tr>\n",
       "      <th>328</th>\n",
       "      <td>20200528142723</td>\n",
       "      <td>hotspot.ker.6.1[x15_310k_dr]</td>\n",
       "      <td>2020-05-28 16:52:11.217209</td>\n",
       "      <td>0</td>\n",
       "      <td>0.562871</td>\n",
       "      <td>precision_top10</td>\n",
       "      <td>0.250388</td>\n",
       "    </tr>\n",
       "    <tr>\n",
       "      <th>330</th>\n",
       "      <td>20200528142723</td>\n",
       "      <td>hotspot.ker.6.1[x15_310k_dr]</td>\n",
       "      <td>2020-05-28 16:56:57.868857</td>\n",
       "      <td>1</td>\n",
       "      <td>0.562513</td>\n",
       "      <td>precision_top10</td>\n",
       "      <td>0.250119</td>\n",
       "    </tr>\n",
       "    <tr>\n",
       "      <th>332</th>\n",
       "      <td>20200528142723</td>\n",
       "      <td>hotspot.ker.6.1[x15_310k_dr]</td>\n",
       "      <td>2020-05-28 17:01:49.098401</td>\n",
       "      <td>2</td>\n",
       "      <td>0.562470</td>\n",
       "      <td>precision_top10</td>\n",
       "      <td>0.250189</td>\n",
       "    </tr>\n",
       "    <tr>\n",
       "      <th>334</th>\n",
       "      <td>20200528142723</td>\n",
       "      <td>hotspot.ker.6.1[x15_310k_dr]</td>\n",
       "      <td>2020-05-28 17:06:36.052101</td>\n",
       "      <td>3</td>\n",
       "      <td>0.562448</td>\n",
       "      <td>precision_top10</td>\n",
       "      <td>0.250205</td>\n",
       "    </tr>\n",
       "    <tr>\n",
       "      <th>336</th>\n",
       "      <td>20200528142723</td>\n",
       "      <td>hotspot.ker.6.1[x15_310k_dr]</td>\n",
       "      <td>2020-05-28 17:11:20.903153</td>\n",
       "      <td>4</td>\n",
       "      <td>0.562435</td>\n",
       "      <td>precision_top10</td>\n",
       "      <td>0.250235</td>\n",
       "    </tr>\n",
       "    <tr>\n",
       "      <th>338</th>\n",
       "      <td>20200528142723</td>\n",
       "      <td>hotspot.ker.6.1[x15_310k_dr]</td>\n",
       "      <td>2020-05-28 17:16:12.638072</td>\n",
       "      <td>5</td>\n",
       "      <td>0.562425</td>\n",
       "      <td>precision_top10</td>\n",
       "      <td>0.250166</td>\n",
       "    </tr>\n",
       "    <tr>\n",
       "      <th>340</th>\n",
       "      <td>20200528142723</td>\n",
       "      <td>hotspot.ker.6.1[x15_310k_dr]</td>\n",
       "      <td>2020-05-28 17:20:58.199572</td>\n",
       "      <td>6</td>\n",
       "      <td>0.562418</td>\n",
       "      <td>precision_top10</td>\n",
       "      <td>0.250177</td>\n",
       "    </tr>\n",
       "    <tr>\n",
       "      <th>342</th>\n",
       "      <td>20200528142723</td>\n",
       "      <td>hotspot.ker.6.1[x15_310k_dr]</td>\n",
       "      <td>2020-05-28 17:25:39.374049</td>\n",
       "      <td>7</td>\n",
       "      <td>0.562412</td>\n",
       "      <td>precision_top10</td>\n",
       "      <td>0.250229</td>\n",
       "    </tr>\n",
       "    <tr>\n",
       "      <th>344</th>\n",
       "      <td>20200528142723</td>\n",
       "      <td>hotspot.ker.6.1[x15_310k_dr]</td>\n",
       "      <td>2020-05-28 17:30:23.130291</td>\n",
       "      <td>8</td>\n",
       "      <td>0.562408</td>\n",
       "      <td>precision_top10</td>\n",
       "      <td>0.250267</td>\n",
       "    </tr>\n",
       "    <tr>\n",
       "      <th>346</th>\n",
       "      <td>20200528142723</td>\n",
       "      <td>hotspot.ker.6.1[x15_310k_dr]</td>\n",
       "      <td>2020-05-28 17:35:06.851996</td>\n",
       "      <td>9</td>\n",
       "      <td>0.562403</td>\n",
       "      <td>precision_top10</td>\n",
       "      <td>0.250234</td>\n",
       "    </tr>\n",
       "  </tbody>\n",
       "</table>\n",
       "</div>"
      ],
      "text/plain": [
       "               train_sess_id                     modset_id  \\\n",
       "train_log_id                                                 \n",
       "318           20200528142723  hotspot.ker.6.1[x15_310k_dr]   \n",
       "319           20200528142723  hotspot.ker.6.1[x15_310k_dr]   \n",
       "320           20200528142723  hotspot.ker.6.1[x15_310k_dr]   \n",
       "321           20200528142723  hotspot.ker.6.1[x15_310k_dr]   \n",
       "322           20200528142723  hotspot.ker.6.1[x15_310k_dr]   \n",
       "323           20200528142723  hotspot.ker.6.1[x15_310k_dr]   \n",
       "324           20200528142723  hotspot.ker.6.1[x15_310k_dr]   \n",
       "325           20200528142723  hotspot.ker.6.1[x15_310k_dr]   \n",
       "326           20200528142723  hotspot.ker.6.1[x15_310k_dr]   \n",
       "327           20200528142723  hotspot.ker.6.1[x15_310k_dr]   \n",
       "328           20200528142723  hotspot.ker.6.1[x15_310k_dr]   \n",
       "330           20200528142723  hotspot.ker.6.1[x15_310k_dr]   \n",
       "332           20200528142723  hotspot.ker.6.1[x15_310k_dr]   \n",
       "334           20200528142723  hotspot.ker.6.1[x15_310k_dr]   \n",
       "336           20200528142723  hotspot.ker.6.1[x15_310k_dr]   \n",
       "338           20200528142723  hotspot.ker.6.1[x15_310k_dr]   \n",
       "340           20200528142723  hotspot.ker.6.1[x15_310k_dr]   \n",
       "342           20200528142723  hotspot.ker.6.1[x15_310k_dr]   \n",
       "344           20200528142723  hotspot.ker.6.1[x15_310k_dr]   \n",
       "346           20200528142723  hotspot.ker.6.1[x15_310k_dr]   \n",
       "\n",
       "                               datetime  epoch      loss      metric_name  \\\n",
       "train_log_id                                                                \n",
       "318          2020-05-28 14:32:24.567669      0  0.562942  precision_top10   \n",
       "319          2020-05-28 14:37:02.729050      1  0.562503  precision_top10   \n",
       "320          2020-05-28 14:41:42.156656      2  0.562462  precision_top10   \n",
       "321          2020-05-28 14:46:26.019937      3  0.562441  precision_top10   \n",
       "322          2020-05-28 14:51:07.611423      4  0.562425  precision_top10   \n",
       "323          2020-05-28 14:55:44.231053      5  0.562402  precision_top10   \n",
       "324          2020-05-28 15:00:29.080340      6  0.562370  precision_top10   \n",
       "325          2020-05-28 15:05:11.552781      7  0.562325  precision_top10   \n",
       "326          2020-05-28 15:09:47.066373      8  0.562272  precision_top10   \n",
       "327          2020-05-28 15:14:31.700137      9  0.562205  precision_top10   \n",
       "328          2020-05-28 16:52:11.217209      0  0.562871  precision_top10   \n",
       "330          2020-05-28 16:56:57.868857      1  0.562513  precision_top10   \n",
       "332          2020-05-28 17:01:49.098401      2  0.562470  precision_top10   \n",
       "334          2020-05-28 17:06:36.052101      3  0.562448  precision_top10   \n",
       "336          2020-05-28 17:11:20.903153      4  0.562435  precision_top10   \n",
       "338          2020-05-28 17:16:12.638072      5  0.562425  precision_top10   \n",
       "340          2020-05-28 17:20:58.199572      6  0.562418  precision_top10   \n",
       "342          2020-05-28 17:25:39.374049      7  0.562412  precision_top10   \n",
       "344          2020-05-28 17:30:23.130291      8  0.562408  precision_top10   \n",
       "346          2020-05-28 17:35:06.851996      9  0.562403  precision_top10   \n",
       "\n",
       "              metric_value  \n",
       "train_log_id                \n",
       "318               0.250050  \n",
       "319               0.250299  \n",
       "320               0.250353  \n",
       "321               0.250260  \n",
       "322               0.250537  \n",
       "323               0.251782  \n",
       "324               0.253345  \n",
       "325               0.255267  \n",
       "326               0.257448  \n",
       "327               0.259518  \n",
       "328               0.250388  \n",
       "330               0.250119  \n",
       "332               0.250189  \n",
       "334               0.250205  \n",
       "336               0.250235  \n",
       "338               0.250166  \n",
       "340               0.250177  \n",
       "342               0.250229  \n",
       "344               0.250267  \n",
       "346               0.250234  "
      ]
     },
     "execution_count": 9,
     "metadata": {},
     "output_type": "execute_result"
    }
   ],
   "source": [
    "modset_id = 'hotspot.ker.6.1[x15_310k_dr]'\n",
    "logs = df_logs.loc[df_logs.modset_id == modset_id ]\n",
    "logs"
   ]
  },
  {
   "cell_type": "markdown",
   "metadata": {},
   "source": [
    "### Reference\n",
    "\n",
    "https://queirozf.com/entries/pandas-dataframe-plot-examples-with-matplotlib-pyplot#plot-two-columns-as-scatter-plot\n",
    "http://jonathansoma.com/lede/algorithms-2017/classes/fuzziness-matplotlib/understand-df-plot-in-pandas/"
   ]
  },
  {
   "cell_type": "code",
   "execution_count": null,
   "metadata": {},
   "outputs": [],
   "source": []
  }
 ],
 "metadata": {
  "kernelspec": {
   "display_name": "Python 3",
   "language": "python",
   "name": "python3"
  },
  "language_info": {
   "codemirror_mode": {
    "name": "ipython",
    "version": 3
   },
   "file_extension": ".py",
   "mimetype": "text/x-python",
   "name": "python",
   "nbconvert_exporter": "python",
   "pygments_lexer": "ipython3",
   "version": "3.6.9"
  }
 },
 "nbformat": 4,
 "nbformat_minor": 4
}
