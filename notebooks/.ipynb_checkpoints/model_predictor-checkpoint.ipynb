{
 "cells": [
  {
   "cell_type": "code",
   "execution_count": 2,
   "metadata": {},
   "outputs": [
    {
     "ename": "SyntaxError",
     "evalue": "invalid syntax (<ipython-input-2-bc599e3bccc0>, line 1)",
     "output_type": "error",
     "traceback": [
      "\u001b[0;36m  File \u001b[0;32m\"<ipython-input-2-bc599e3bccc0>\"\u001b[0;36m, line \u001b[0;32m1\u001b[0m\n\u001b[0;31m    <a href=\"https://colab.research.google.com/github/medikid/ai_lotto/blob/master/notebooks/model_predictor.ipynb\" target=\"_parent\"><img src=\"https://colab.research.google.com/assets/colab-badge.svg\" alt=\"Open In Colab\"/></a>\u001b[0m\n\u001b[0m    ^\u001b[0m\n\u001b[0;31mSyntaxError\u001b[0m\u001b[0;31m:\u001b[0m invalid syntax\n"
     ]
    }
   ],
   "source": [
    "<a href=\"https://colab.research.google.com/github/medikid/ai_lotto/blob/master/notebooks/model_predictor.ipynb\" target=\"_parent\"><img src=\"https://colab.research.google.com/assets/colab-badge.svg\" alt=\"Open In Colab\"/></a>"
   ]
  },
  {
   "cell_type": "markdown",
   "metadata": {},
   "source": [
    "# Model Predictor"
   ]
  },
  {
   "cell_type": "code",
   "execution_count": null,
   "metadata": {
    "colab": {
     "base_uri": "https://localhost:8080/",
     "height": 124
    },
    "colab_type": "code",
    "id": "QUZLPAzg_vMn",
    "outputId": "66d38aab-5b3c-482a-e81f-9fa3a512ef8b"
   },
   "outputs": [],
   "source": [
    "#init colab notebooks\n",
    "\n",
    "from google.colab import drive\n",
    "drive.mount('/content/g_drive')"
   ]
  },
  {
   "cell_type": "code",
   "execution_count": 1,
   "metadata": {},
   "outputs": [
    {
     "name": "stdout",
     "output_type": "stream",
     "text": [
      "ln: failed to create symbolic link '/content': File exists\n",
      "[Errno 40] Too many levels of symbolic links: '/content/ai_lotto'\n",
      "/home/work/ai_lotto/notebooks\n",
      "[Errno 2] No such file or directory: 'notebooks/'\n",
      "/home/work/ai_lotto/notebooks\n",
      "Setting up sqlite  sqlite:////home/work/ai_lotto/notebooks/db/ai_lotto.db\n",
      "Setting up sqlite  sqlite:////home/work/ai_lotto/notebooks/db/ai_lotto.db\n"
     ]
    },
    {
     "name": "stderr",
     "output_type": "stream",
     "text": [
      "Using TensorFlow backend.\n"
     ]
    },
    {
     "name": "stdout",
     "output_type": "stream",
     "text": [
      "Setting up sqlite  sqlite:////home/work/ai_lotto/notebooks/db/ai_lotto.db\n",
      "Setting up sqlite  sqlite:////home/work/ai_lotto/notebooks/db/ai_lotto.db\n"
     ]
    }
   ],
   "source": [
    "#perform all actions at once\n",
    "#!mkdir my_drive\n",
    "!ln -s \"/content/g_drive/My Drive/Colab/Datascience/ai_lotto\" \"/content\"\n",
    "%cd \"/content/ai_lotto\"\n",
    "\n",
    "import sys\n",
    "sys.path.append('/content/ai_lotto')\n",
    "%cd notebooks/\n",
    "\n",
    "%run '../ifile.py'\n",
    "%run '../idata.py'\n",
    "%run '../idataset.py'\n",
    "%run '../imodel.py'\n",
    "%run '../ker_model.py'\n",
    "%run '../ker_model_loader.py'\n",
    "%run '../tfl_model.py'\n",
    "%run '../ai.py'\n",
    "%run '../itrainer.py'\n",
    "%run '../custom_functions.py'\n",
    "%run '../custom_callbacks.py'\n",
    "%run '../custom_metrics.py'\n",
    "\n",
    "%run 'db/__init__.py'\n",
    "%run 'db/base.py'\n",
    "%run 'db/db_base.py'\n",
    "%run 'db/utils.py'\n",
    "%run 'db/models/training_session.py'\n",
    "%run 'db/models/training_log.py'\n",
    "\n",
    "%run '../imodset.py'"
   ]
  },
  {
   "cell_type": "code",
   "execution_count": null,
   "metadata": {
    "colab": {},
    "colab_type": "code",
    "id": "1k0iQXOSha1f"
   },
   "outputs": [],
   "source": [
    "#!mkdir my_drive\n",
    "!ln -s \"/content/g_drive/My Drive/Colab/Datascience/ai_lotto\" \"/content\""
   ]
  },
  {
   "cell_type": "code",
   "execution_count": null,
   "metadata": {
    "colab": {
     "base_uri": "https://localhost:8080/",
     "height": 35
    },
    "colab_type": "code",
    "id": "_lhfdVWHURF6",
    "outputId": "f45139bf-ec7c-4cd4-f7f7-f175bb2decb0"
   },
   "outputs": [],
   "source": [
    "%cd \"/content/ai_lotto\"\n",
    "\n",
    "import sys\n",
    "sys.path.append('/content/ai_lotto')"
   ]
  },
  {
   "cell_type": "code",
   "execution_count": null,
   "metadata": {
    "colab": {
     "base_uri": "https://localhost:8080/",
     "height": 35
    },
    "colab_type": "code",
    "id": "r530UEutqIBB",
    "outputId": "7109934a-eec1-4642-8c96-e6f0d87f28e8"
   },
   "outputs": [],
   "source": [
    "%cd notebooks/"
   ]
  },
  {
   "cell_type": "markdown",
   "metadata": {
    "colab_type": "text",
    "id": "3oixeDY6pzzh"
   },
   "source": [
    "# GIthub Functions"
   ]
  },
  {
   "cell_type": "markdown",
   "metadata": {
    "colab_type": "text",
    "id": "lPoAgspipzzi"
   },
   "source": [
    "## Git ADD, COMMIT and PUSH to remote"
   ]
  },
  {
   "cell_type": "code",
   "execution_count": null,
   "metadata": {
    "colab": {},
    "colab_type": "code",
    "id": "MxORrMbxpzzj"
   },
   "outputs": [],
   "source": [
    "!git add -A .\n",
    "!git commit -m \"Added git functions\"\n",
    "!git push origin master"
   ]
  },
  {
   "cell_type": "markdown",
   "metadata": {
    "colab_type": "text",
    "id": "PTSDkZqTpzzp"
   },
   "source": [
    "## Git Pull from remote github repo"
   ]
  },
  {
   "cell_type": "code",
   "execution_count": null,
   "metadata": {
    "colab": {
     "base_uri": "https://localhost:8080/",
     "height": 35
    },
    "colab_type": "code",
    "id": "kads4KiNpzzq",
    "outputId": "806b2527-d8da-44d0-ed79-2151692f1962"
   },
   "outputs": [],
   "source": [
    "!git pull"
   ]
  },
  {
   "cell_type": "markdown",
   "metadata": {
    "colab_type": "text",
    "id": "_9LGmmy0pzzv"
   },
   "source": [
    "## Git conflict local - so reset local to match remote"
   ]
  },
  {
   "cell_type": "code",
   "execution_count": null,
   "metadata": {
    "colab": {},
    "colab_type": "code",
    "id": "w4ogIOktpzzw"
   },
   "outputs": [],
   "source": [
    "!git fetch --all\n",
    "!git reset --hard origin/master\n",
    "!git pull"
   ]
  },
  {
   "cell_type": "markdown",
   "metadata": {
    "colab_type": "text",
    "id": "kaRhCiXWpzz0"
   },
   "source": [
    "## Unpushed local changes - Stash local, Pull Remote and write local changes to pulled remote"
   ]
  },
  {
   "cell_type": "code",
   "execution_count": null,
   "metadata": {
    "colab": {},
    "colab_type": "code",
    "id": "JF_Mvzh2pzz1"
   },
   "outputs": [],
   "source": [
    "!git stash\n",
    "!git pull\n",
    "!git stash pop"
   ]
  },
  {
   "cell_type": "markdown",
   "metadata": {
    "colab_type": "text",
    "id": "nMLT0utQpzz6"
   },
   "source": [
    "## Setup git config repo"
   ]
  },
  {
   "cell_type": "code",
   "execution_count": null,
   "metadata": {
    "colab": {},
    "colab_type": "code",
    "id": "_YqFc8H7pzz7"
   },
   "outputs": [],
   "source": [
    "#!git config --global user.email \"soma.programmer@gmail.com\"\n",
    "#!git config --global user.name \"medikid\"\n",
    "\n",
    "#!git remote set-url origin https://github.com/medikid/ai_lotto.git\n"
   ]
  },
  {
   "cell_type": "code",
   "execution_count": null,
   "metadata": {
    "colab": {},
    "colab_type": "code",
    "id": "uQR0184Opzz_"
   },
   "outputs": [],
   "source": [
    "!git remote show origin"
   ]
  },
  {
   "cell_type": "markdown",
   "metadata": {
    "colab_type": "text",
    "id": "ZTGj4TiYA56S"
   },
   "source": [
    "# lists all classes in the order of loading"
   ]
  },
  {
   "cell_type": "code",
   "execution_count": null,
   "metadata": {
    "colab": {},
    "colab_type": "code",
    "id": "uPJSKlxjTq7h"
   },
   "outputs": [],
   "source": [
    "!pip install -r ../requirements.txt"
   ]
  },
  {
   "cell_type": "code",
   "execution_count": 1,
   "metadata": {
    "colab": {},
    "colab_type": "code",
    "id": "HQ96r5CZpz0J"
   },
   "outputs": [
    {
     "name": "stderr",
     "output_type": "stream",
     "text": [
      "Using TensorFlow backend.\n"
     ]
    },
    {
     "name": "stdout",
     "output_type": "stream",
     "text": [
      "Setting up sqlite  sqlite:////home/work/ai_lotto/notebooks/db/ai_lotto.db\n",
      "Setting up sqlite  sqlite:////home/work/ai_lotto/notebooks/db/ai_lotto.db\n",
      "Setting up sqlite  sqlite:////home/work/ai_lotto/notebooks/db/ai_lotto.db\n",
      "Setting up sqlite  sqlite:////home/work/ai_lotto/notebooks/db/ai_lotto.db\n",
      "Setting up sqlite  sqlite:////home/work/ai_lotto/notebooks/db/ai_lotto.db\n"
     ]
    }
   ],
   "source": [
    "# %load '../load_lib.py'\n",
    "\n",
    "%run '../ifile.py'\n",
    "%run '../idata.py'\n",
    "%run '../idataset.py'\n",
    "%run '../imodel.py'\n",
    "%run '../ker_model.py'\n",
    "%run '../ker_model_loader.py'\n",
    "%run '../tfl_model.py'\n",
    "%run '../ai.py'\n",
    "%run '../itrainer.py'\n",
    "%run '../custom_functions.py'\n",
    "%run '../custom_callbacks.py'\n",
    "%run '../custom_metrics.py'\n",
    "\n",
    "%run 'db/__init__.py'\n",
    "%run 'db/base.py'\n",
    "%run 'db/db_base.py'\n",
    "%run 'db/utils.py'\n",
    "%run 'db/models/training_session.py'\n",
    "%run 'db/models/training_log.py'\n",
    "%run 'db/models/ipred.py'\n",
    "\n",
    "%run '../imodset.py'\n"
   ]
  },
  {
   "cell_type": "markdown",
   "metadata": {
    "colab_type": "text",
    "id": "EDGSqErkA57E"
   },
   "source": [
    "## Modset Prep"
   ]
  },
  {
   "cell_type": "code",
   "execution_count": 2,
   "metadata": {
    "colab": {
     "base_uri": "https://localhost:8080/",
     "height": 52
    },
    "colab_type": "code",
    "id": "pX9l2CT3A57K",
    "outputId": "0533f252-5a44-4ce4-bf16-cd65ba1804bc"
   },
   "outputs": [
    {
     "name": "stdout",
     "output_type": "stream",
     "text": [
      "Modset ID: hotspot.ker.6.1.0[x15_310k_dr][e0001]\n"
     ]
    }
   ],
   "source": [
    "import keras as kr\n",
    "from keras.models import Sequential\n",
    "from keras.layers import LSTM, Dense\n",
    "\n",
    "#----------------------------------------------------\n",
    "_MODSET_ID = 'hotspot.ker.6.1.0[x15_310k_dr]'\n",
    "_CHECKPOINT = 'e0001'\n",
    "#------------------------------------------------------------\n",
    "\n",
    "print(\"Modset ID: {0}[{1}]\".format(_MODSET_ID,_CHECKPOINT))"
   ]
  },
  {
   "cell_type": "code",
   "execution_count": 3,
   "metadata": {},
   "outputs": [
    {
     "name": "stdout",
     "output_type": "stream",
     "text": [
      "xndraw310k, new_st310.0, multiple1000, notationk\n",
      "[iFile:__init__]\n",
      "xndraw310k, new_st310.0, multiple1000, notationk\n",
      "[iFile:derive_game_path]data/hotspot/\n",
      "[iFile:derive_folder_path] data/hotspot/x15/310k/\n",
      "[iDataset:derive_file_path] datasets/hotspot_x15_310k_dr.npz\n",
      "[ifile:derive_full_path] ../data/hotspot/x15/310k/datasets/hotspot_x15_310k_dr.npz\n",
      "Loading dataset ../data/hotspot/x15/310k/datasets/hotspot_x15_310k_dr.npz\n",
      "[iModset:load_dataset] Loaded Dataset hotspot_x15_310k_dr\n",
      "[iModset:load_model] Loading Model hotspot.ker.6.1.0.e0001\n",
      "[iModel:decipher_file_name] hotspot.ker.6.1.0.e0001\n",
      "[iModel:set_decipher_info] {'GAME': 'hotspot', 'xnINPUTS': 'x15', 'nINPUTS': 15, 'xnDRAWS': '310k', 'nDRAWS': 310000, 'DATA_TYPE': 'dr', 'API': 'ker', 'BUILD': '6', 'MAKE': '1', 'VERSION': '0', 'CHECKPOINT': 'e0001', 'IS_CHECKPOINT': True, 'CHECKPOINT_EPOCH': 1}\n",
      "[iFile:__init__]\n",
      "[iModel:decipher_file_name] hotspot.ker.6.1.0.e0001\n",
      "[iModel:set_decipher_info] {'GAME': 'hotspot', 'xnINPUTS': 'x15', 'nINPUTS': 15, 'xnDRAWS': '310k', 'nDRAWS': 310000, 'DATA_TYPE': 'dr', 'API': 'ker', 'BUILD': '6', 'MAKE': '1', 'VERSION': '0', 'CHECKPOINT': 'e0001', 'IS_CHECKPOINT': True, 'CHECKPOINT_EPOCH': 1}\n",
      "[iModel:derive_file_path] models/ker/6/1/hotspot.ker.6.1.0.e0001.h5\n",
      "[iFile:derive_game_path]data/hotspot/\n",
      "[ifile:derive_full_path] ../data/hotspot/x15/310k/models/ker/6/1/hotspot.ker.6.1.0.e0001.h5\n",
      "[iModel:derive_checkpoints_folder] Ensured ../data/hotspot/x15/310k/models/ker/6/1/checkpoints/\n",
      "Modset ID: hotspot.ker.6.1.0[x15_310k_dr]\n",
      "[iModel:__init__\n",
      "[Model:loader] converted Model to KER_Model\n",
      "[KER_Model:load]: Loading checkpoint ../data/hotspot/x15/310k/models/ker/6/1/hotspot.ker.6.1.0.e0001.h5\n",
      "Issue: Unable to load due to usage of unserializable custom model/layer/metrics\n",
      "[KER_Model_loader: loaded new build 6.1]\n",
      "Model: \"sequential_1\"\n",
      "_________________________________________________________________\n",
      "Layer (type)                 Output Shape              Param #   \n",
      "=================================================================\n",
      "lstm_80_relu_15x80 (LSTM)    (None, 15, 80)            51520     \n",
      "_________________________________________________________________\n",
      "lstm_80_relu_1 (LSTM)        (None, 15, 80)            51520     \n",
      "_________________________________________________________________\n",
      "lstm_80_relu_2 (LSTM)        (None, 80)                51520     \n",
      "_________________________________________________________________\n",
      "dense_80_sigmoid (Dense)     (None, 80)                6480      \n",
      "=================================================================\n",
      "Total params: 161,040\n",
      "Trainable params: 161,040\n",
      "Non-trainable params: 0\n",
      "_________________________________________________________________\n",
      "None\n",
      "Solution-Step#1: Built/compiled new model\n",
      "Solution-Step#2: Loaded weights into new model from ../data/hotspot/x15/310k/models/ker/6/1/checkpoints/hotspot.ker.6.1.0.e0001.h5 \n",
      "[KER_Model:load_checkpoint] Loaded ../data/hotspot/x15/310k/models/ker/6/1/checkpoints/hotspot.ker.6.1.0.e0001.h5\n",
      "[iModset:load_model] Loaded Model hotspot.ker.6.1.0.e0001\n"
     ]
    }
   ],
   "source": [
    "modset = Modset(_MODSET_ID, _CHECKPOINT)"
   ]
  },
  {
   "cell_type": "code",
   "execution_count": 4,
   "metadata": {},
   "outputs": [
    {
     "data": {
      "text/plain": [
       "(15, 80)"
      ]
     },
     "execution_count": 4,
     "metadata": {},
     "output_type": "execute_result"
    }
   ],
   "source": [
    "ids_tests = modset._DATASET._D['IDs_test']\n",
    "x_tests = modset._DATASET._D['X_test']\n",
    "y_tests = modset._DATASET._D['Y_test']\n",
    "\n",
    "y_hats = modset._MODEL.predict(x_tests)\n",
    "y_hats.shape"
   ]
  },
  {
   "cell_type": "code",
   "execution_count": 7,
   "metadata": {},
   "outputs": [
    {
     "name": "stderr",
     "output_type": "stream",
     "text": [
      "/usr/local/lib/python3.6/dist-packages/sqlalchemy/sql/sqltypes.py:666: SAWarning: Dialect sqlite+pysqlite does *not* support Decimal objects natively, and SQLAlchemy must convert from floating point - rounding errors and other issues may occur. Please consider storing Decimal numbers as strings or integers on this platform for lossless storage.\n",
      "  \"storage.\" % (dialect.name, dialect.driver)\n"
     ]
    }
   ],
   "source": [
    "for ids_test, x_test, y_hat, y_test in zip(ids_tests, x_tests, y_hats, y_tests):\n",
    "    pred = iPred(modset._MODSET_ID, modset._CHECKPOINT, ids_test[0])\n",
    "    pred.from_pred_array(y_hat);\n",
    "    pred.db_save()"
   ]
  },
  {
   "cell_type": "code",
   "execution_count": 15,
   "metadata": {},
   "outputs": [
    {
     "data": {
      "text/plain": [
       "['../data/hotspot/x15/310k/models/ker/6/1/checkpoints/hotspot.ker.6.1.0.e0055.h5',\n",
       " '../data/hotspot/x15/310k/models/ker/6/1/checkpoints/hotspot.ker.6.1.0.e0056.h5',\n",
       " '../data/hotspot/x15/310k/models/ker/6/1/checkpoints/hotspot.ker.6.1.0.e0009.h5',\n",
       " '../data/hotspot/x15/310k/models/ker/6/1/checkpoints/hotspot.ker.6.1.0.e0008.h5',\n",
       " '../data/hotspot/x15/310k/models/ker/6/1/checkpoints/hotspot.ker.6.1.0.e0057.h5',\n",
       " '../data/hotspot/x15/310k/models/ker/6/1/checkpoints/hotspot.ker.6.1.0.e0001.h5',\n",
       " '../data/hotspot/x15/310k/models/ker/6/1/checkpoints/hotspot.ker.6.1.0.e0002.h5',\n",
       " '../data/hotspot/x15/310k/models/ker/6/1/checkpoints/hotspot.ker.6.1.0.e0065.h5',\n",
       " '../data/hotspot/x15/310k/models/ker/6/1/checkpoints/hotspot.ker.6.1.0.e0064.h5',\n",
       " '../data/hotspot/x15/310k/models/ker/6/1/checkpoints/hotspot.ker.6.1.0.e0003.h5',\n",
       " '../data/hotspot/x15/310k/models/ker/6/1/checkpoints/hotspot.ker.6.1.0.e0060.h5',\n",
       " '../data/hotspot/x15/310k/models/ker/6/1/checkpoints/hotspot.ker.6.1.0.e0010.h5',\n",
       " '../data/hotspot/x15/310k/models/ker/6/1/checkpoints/hotspot.ker.6.1.0.e0058.h5',\n",
       " '../data/hotspot/x15/310k/models/ker/6/1/checkpoints/hotspot.ker.6.1.0.e0007.h5',\n",
       " '../data/hotspot/x15/310k/models/ker/6/1/checkpoints/hotspot.ker.6.1.0.e0006.h5',\n",
       " '../data/hotspot/x15/310k/models/ker/6/1/checkpoints/hotspot.ker.6.1.0.e0059.h5',\n",
       " '../data/hotspot/x15/310k/models/ker/6/1/checkpoints/hotspot.ker.6.1.0.e0061.h5',\n",
       " '../data/hotspot/x15/310k/models/ker/6/1/checkpoints/hotspot.ker.6.1.0.e0063.h5',\n",
       " '../data/hotspot/x15/310k/models/ker/6/1/checkpoints/hotspot.ker.6.1.0.e0004.h5',\n",
       " '../data/hotspot/x15/310k/models/ker/6/1/checkpoints/hotspot.ker.6.1.0.e0005.h5',\n",
       " '../data/hotspot/x15/310k/models/ker/6/1/checkpoints/hotspot.ker.6.1.0.e0062.h5']"
      ]
     },
     "execution_count": 15,
     "metadata": {},
     "output_type": "execute_result"
    }
   ],
   "source": [
    "src_loc = modset._MODEL._CHECKPOINTS_FOLDER\n",
    "filter_by = '.h5'\n",
    "srcFiles = [os.path.join(dp, f) for dp, dn, fn in os.walk(os.path.expanduser(src_loc)) for f in fn if filter_by in f];\n",
    "#srcFiles_h5 = [k for k in srcFiles if '.h5' in k]\n",
    "len(srcFiles)\n",
    "srcFiles"
   ]
  },
  {
   "cell_type": "code",
   "execution_count": 13,
   "metadata": {},
   "outputs": [],
   "source": [
    "p = iPred(modset._MODSET_ID, modset._CHECKPOINT, ids_test[0])\n",
    "p.__get_dict__()\n",
    "p.db_save()"
   ]
  },
  {
   "cell_type": "code",
   "execution_count": 16,
   "metadata": {},
   "outputs": [
    {
     "data": {
      "text/plain": [
       "{1: {'modset_id': 'hotspot.ker.6.1.0[x15_310k_dr]',\n",
       "  'checkpoint': 'e0001',\n",
       "  'draw_id': b\"\\xccz'\\x00\\x00\\x00\\x00\\x00\",\n",
       "  'p1': None,\n",
       "  'p2': None,\n",
       "  'p3': None,\n",
       "  'p4': None,\n",
       "  'p5': None,\n",
       "  'p6': None,\n",
       "  'p7': None,\n",
       "  'p8': None,\n",
       "  'p9': None,\n",
       "  'p10': None,\n",
       "  'p11': None,\n",
       "  'p12': None,\n",
       "  'p13': None,\n",
       "  'p14': None,\n",
       "  'p15': None,\n",
       "  'p16': None,\n",
       "  'p17': None,\n",
       "  'p18': None,\n",
       "  'p19': None,\n",
       "  'p20': None,\n",
       "  'p21': None,\n",
       "  'p22': None,\n",
       "  'p23': None,\n",
       "  'p24': None,\n",
       "  'p25': None,\n",
       "  'p26': None,\n",
       "  'p27': None,\n",
       "  'p28': None,\n",
       "  'p29': None,\n",
       "  'p30': None,\n",
       "  'p31': None,\n",
       "  'p32': None,\n",
       "  'p33': None,\n",
       "  'p34': None,\n",
       "  'p35': None,\n",
       "  'p36': None,\n",
       "  'p37': None,\n",
       "  'p38': None,\n",
       "  'p39': None,\n",
       "  'p40': None,\n",
       "  'p41': None,\n",
       "  'p42': None,\n",
       "  'p43': None,\n",
       "  'p44': None,\n",
       "  'p45': None,\n",
       "  'p46': None,\n",
       "  'p47': None,\n",
       "  'p48': None,\n",
       "  'p49': None,\n",
       "  'p50': None,\n",
       "  'p51': None,\n",
       "  'p52': None,\n",
       "  'p53': None,\n",
       "  'p54': None,\n",
       "  'p55': None,\n",
       "  'p56': None,\n",
       "  'p57': None,\n",
       "  'p58': None,\n",
       "  'p59': None,\n",
       "  'p60': None,\n",
       "  'p61': None,\n",
       "  'p62': None,\n",
       "  'p63': None,\n",
       "  'p64': None,\n",
       "  'p65': None,\n",
       "  'p66': None,\n",
       "  'p67': None,\n",
       "  'p68': None,\n",
       "  'p69': None,\n",
       "  'p70': None,\n",
       "  'p71': None,\n",
       "  'p72': None,\n",
       "  'p73': None,\n",
       "  'p74': None,\n",
       "  'p75': None,\n",
       "  'p76': None,\n",
       "  'p77': None,\n",
       "  'p78': None,\n",
       "  'p79': None,\n",
       "  'p80': None}}"
      ]
     },
     "execution_count": 16,
     "metadata": {},
     "output_type": "execute_result"
    }
   ],
   "source": [
    "p.__get_dict__()"
   ]
  },
  {
   "cell_type": "code",
   "execution_count": null,
   "metadata": {},
   "outputs": [],
   "source": []
  }
 ],
 "metadata": {
  "kernelspec": {
   "display_name": "Python 3",
   "language": "python",
   "name": "python3"
  },
  "language_info": {
   "codemirror_mode": {
    "name": "ipython",
    "version": 3
   },
   "file_extension": ".py",
   "mimetype": "text/x-python",
   "name": "python",
   "nbconvert_exporter": "python",
   "pygments_lexer": "ipython3",
   "version": "3.6.9"
  }
 },
 "nbformat": 4,
 "nbformat_minor": 4
}
