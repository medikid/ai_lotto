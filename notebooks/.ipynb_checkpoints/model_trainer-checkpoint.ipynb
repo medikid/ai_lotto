{
 "cells": [
  {
   "cell_type": "markdown",
   "metadata": {
    "colab_type": "text",
    "id": "Qzqpaam_pzzE"
   },
   "source": [
    "<a href=\"https://colab.research.google.com/github/medikid/ai_lotto/blob/master/notebooks/model_trainer.ipynb\" target=\"_parent\"><img src=\"https://colab.research.google.com/assets/colab-badge.svg\" alt=\"Open In Colab\"/></a>"
   ]
  },
  {
   "cell_type": "markdown",
   "metadata": {
    "colab_type": "text",
    "id": "_faJdu-MIYpM"
   },
   "source": [
    "## **Initiate Collab Notebook and setup Google Drive**"
   ]
  },
  {
   "cell_type": "markdown",
   "metadata": {
    "colab_type": "text",
    "id": "sBdFdcifYdxv"
   },
   "source": [
    "## Mount Google Drive"
   ]
  },
  {
   "cell_type": "code",
   "execution_count": null,
   "metadata": {
    "colab": {
     "base_uri": "https://localhost:8080/",
     "height": 124
    },
    "colab_type": "code",
    "id": "QUZLPAzg_vMn",
    "outputId": "66d38aab-5b3c-482a-e81f-9fa3a512ef8b"
   },
   "outputs": [],
   "source": [
    "#init colab notebooks\n",
    "\n",
    "from google.colab import drive\n",
    "drive.mount('/content/g_drive')"
   ]
  },
  {
   "cell_type": "code",
   "execution_count": null,
   "metadata": {},
   "outputs": [],
   "source": [
    "#perform all actions at once\n",
    "#!mkdir my_drive\n",
    "!ln -s \"/content/g_drive/My Drive/Colab/Datascience/ai_lotto\" \"/content\"\n",
    "%cd \"/content/ai_lotto\"\n",
    "\n",
    "import sys\n",
    "sys.path.append('/content/ai_lotto')\n",
    "%cd notebooks/\n",
    "\n",
    "%run 'db/__init__.py'\n",
    "%run 'db/base.py'\n",
    "%run 'db/db_base.py'\n",
    "%run 'db/utils.py'\n",
    "%run 'db/models/training_session.py'\n",
    "%run 'db/models/training_log.py'\n",
    "\n",
    "%run '../ifile.py'\n",
    "%run '../idata.py'\n",
    "%run '../idataset.py'\n",
    "%run '../imodel.py'\n",
    "%run '../ker_model.py'\n",
    "%run '../ker_model_loader.py'\n",
    "%run '../tfl_model.py'\n",
    "%run '../ai.py'\n",
    "%run '../itrainer.py'\n",
    "%run '../custom_functions.py'\n",
    "%run '../custom_callbacks.py'"
   ]
  },
  {
   "cell_type": "code",
   "execution_count": null,
   "metadata": {
    "colab": {},
    "colab_type": "code",
    "id": "HSiSJRZsgJ2s"
   },
   "outputs": [],
   "source": [
    "from pydrive.auth import GoogleAuth\n",
    "from pydrive.drive import GoogleDrive\n",
    "from google.colab import auth\n",
    "from oauth2client.client import GoogleCredentials\n",
    "\n",
    "auth.authenticate_user()\n",
    "gauth = GoogleAuth()\n",
    "gauth.credentials = GoogleCredentials.get_application_default()\n",
    "drive = GoogleDrive(gauth)"
   ]
  },
  {
   "cell_type": "code",
   "execution_count": null,
   "metadata": {
    "colab": {},
    "colab_type": "code",
    "id": "1k0iQXOSha1f"
   },
   "outputs": [],
   "source": [
    "#!mkdir my_drive\n",
    "!ln -s \"/content/g_drive/My Drive/Colab/Datascience/ai_lotto\" \"/content\""
   ]
  },
  {
   "cell_type": "code",
   "execution_count": null,
   "metadata": {
    "colab": {
     "base_uri": "https://localhost:8080/",
     "height": 35
    },
    "colab_type": "code",
    "id": "_lhfdVWHURF6",
    "outputId": "f45139bf-ec7c-4cd4-f7f7-f175bb2decb0"
   },
   "outputs": [],
   "source": [
    "%cd \"/content/ai_lotto\"\n",
    "\n",
    "import sys\n",
    "sys.path.append('/content/ai_lotto')"
   ]
  },
  {
   "cell_type": "code",
   "execution_count": null,
   "metadata": {
    "colab": {
     "base_uri": "https://localhost:8080/",
     "height": 35
    },
    "colab_type": "code",
    "id": "r530UEutqIBB",
    "outputId": "7109934a-eec1-4642-8c96-e6f0d87f28e8"
   },
   "outputs": [],
   "source": [
    "%cd notebooks/"
   ]
  },
  {
   "cell_type": "markdown",
   "metadata": {
    "colab_type": "text",
    "id": "3oixeDY6pzzh"
   },
   "source": [
    "# GIthub Functions"
   ]
  },
  {
   "cell_type": "markdown",
   "metadata": {
    "colab_type": "text",
    "id": "lPoAgspipzzi"
   },
   "source": [
    "## Git ADD, COMMIT and PUSH to remote"
   ]
  },
  {
   "cell_type": "code",
   "execution_count": null,
   "metadata": {
    "colab": {},
    "colab_type": "code",
    "id": "MxORrMbxpzzj"
   },
   "outputs": [],
   "source": [
    "!git add -A .\n",
    "!git commit -m \"Added git functions\"\n",
    "!git push origin master"
   ]
  },
  {
   "cell_type": "markdown",
   "metadata": {
    "colab_type": "text",
    "id": "PTSDkZqTpzzp"
   },
   "source": [
    "## Git Pull from remote github repo"
   ]
  },
  {
   "cell_type": "code",
   "execution_count": null,
   "metadata": {
    "colab": {
     "base_uri": "https://localhost:8080/",
     "height": 35
    },
    "colab_type": "code",
    "id": "kads4KiNpzzq",
    "outputId": "806b2527-d8da-44d0-ed79-2151692f1962"
   },
   "outputs": [],
   "source": [
    "!git pull"
   ]
  },
  {
   "cell_type": "markdown",
   "metadata": {
    "colab_type": "text",
    "id": "_9LGmmy0pzzv"
   },
   "source": [
    "## Git conflict local - so reset local to match remote"
   ]
  },
  {
   "cell_type": "code",
   "execution_count": null,
   "metadata": {
    "colab": {},
    "colab_type": "code",
    "id": "w4ogIOktpzzw"
   },
   "outputs": [],
   "source": [
    "!git fetch --all\n",
    "!git reset --hard origin/master\n",
    "!git pull"
   ]
  },
  {
   "cell_type": "markdown",
   "metadata": {
    "colab_type": "text",
    "id": "kaRhCiXWpzz0"
   },
   "source": [
    "## Unpushed local changes - Stash local, Pull Remote and write local changes to pulled remote"
   ]
  },
  {
   "cell_type": "code",
   "execution_count": null,
   "metadata": {
    "colab": {},
    "colab_type": "code",
    "id": "JF_Mvzh2pzz1"
   },
   "outputs": [],
   "source": [
    "!git stash\n",
    "!git pull\n",
    "!git stash pop"
   ]
  },
  {
   "cell_type": "markdown",
   "metadata": {
    "colab_type": "text",
    "id": "nMLT0utQpzz6"
   },
   "source": [
    "## Setup git config repo"
   ]
  },
  {
   "cell_type": "code",
   "execution_count": null,
   "metadata": {
    "colab": {},
    "colab_type": "code",
    "id": "_YqFc8H7pzz7"
   },
   "outputs": [],
   "source": [
    "#!git config --global user.email \"soma.programmer@gmail.com\"\n",
    "#!git config --global user.name \"medikid\"\n",
    "\n",
    "#!git remote set-url origin https://github.com/medikid/ai_lotto.git\n"
   ]
  },
  {
   "cell_type": "code",
   "execution_count": null,
   "metadata": {
    "colab": {},
    "colab_type": "code",
    "id": "uQR0184Opzz_"
   },
   "outputs": [],
   "source": [
    "!git remote show origin"
   ]
  },
  {
   "cell_type": "markdown",
   "metadata": {
    "colab_type": "text",
    "id": "ZTGj4TiYA56S"
   },
   "source": [
    "# lists all classes in the order of loading"
   ]
  },
  {
   "cell_type": "code",
   "execution_count": null,
   "metadata": {
    "colab": {},
    "colab_type": "code",
    "id": "uPJSKlxjTq7h"
   },
   "outputs": [],
   "source": [
    "!pip install -r ../requirements.txt"
   ]
  },
  {
   "cell_type": "code",
   "execution_count": 1,
   "metadata": {
    "colab": {},
    "colab_type": "code",
    "id": "HQ96r5CZpz0J"
   },
   "outputs": [
    {
     "name": "stderr",
     "output_type": "stream",
     "text": [
      "Using TensorFlow backend.\n"
     ]
    },
    {
     "name": "stdout",
     "output_type": "stream",
     "text": [
      "Setting up sqlite  sqlite:////home/work/ai_lotto/notebooks/db/ai_lotto.db\n",
      "Setting up sqlite  sqlite:////home/work/ai_lotto/notebooks/db/ai_lotto.db\n",
      "Setting up sqlite  sqlite:////home/work/ai_lotto/notebooks/db/ai_lotto.db\n",
      "Setting up sqlite  sqlite:////home/work/ai_lotto/notebooks/db/ai_lotto.db\n"
     ]
    }
   ],
   "source": [
    "# %load '../load_lib.py'\n",
    "\n",
    "%run '../ifile.py'\n",
    "%run '../idata.py'\n",
    "%run '../idataset.py'\n",
    "%run '../imodel.py'\n",
    "%run '../ker_model.py'\n",
    "%run '../ker_model_loader.py'\n",
    "%run '../tfl_model.py'\n",
    "%run '../ai.py'\n",
    "%run '../itrainer.py'\n",
    "%run '../custom_functions.py'\n",
    "%run '../custom_callbacks.py'\n",
    "\n",
    "%run 'db/__init__.py'\n",
    "%run 'db/base.py'\n",
    "%run 'db/db_base.py'\n",
    "%run 'db/utils.py'\n",
    "%run 'db/models/training_session.py'\n",
    "%run 'db/models/training_log.py'\n",
    "\n"
   ]
  },
  {
   "cell_type": "code",
   "execution_count": null,
   "metadata": {
    "colab": {},
    "colab_type": "code",
    "id": "7RX-fWSopz0P"
   },
   "outputs": [],
   "source": [
    "%cd '..'\n",
    "\n",
    "from ifile import iFile\n",
    "from idata import Data\n",
    "from idataset import Dataset\n",
    "from imodel import Model\n",
    "from ker_model import KER_Model\n",
    "from ker_model_loader import KER_Model_Loader\n",
    "from tfl_model import TFL_Model\n",
    "from ai import AI\n",
    "from itrainer import Trainer\n",
    "\n",
    "%cd 'notebooks'"
   ]
  },
  {
   "cell_type": "markdown",
   "metadata": {
    "colab_type": "text",
    "id": "EDGSqErkA57E"
   },
   "source": [
    "## Dataset Prep"
   ]
  },
  {
   "cell_type": "markdown",
   "metadata": {
    "colab_type": "text",
    "id": "DqhO4xyyLHsQ"
   },
   "source": [
    "## Initial Training"
   ]
  },
  {
   "cell_type": "code",
   "execution_count": null,
   "metadata": {
    "colab": {
     "base_uri": "https://localhost:8080/",
     "height": 52
    },
    "colab_type": "code",
    "id": "pX9l2CT3A57K",
    "outputId": "0533f252-5a44-4ce4-bf16-cd65ba1804bc"
   },
   "outputs": [],
   "source": [
    "import keras as kr\n",
    "from keras.models import Sequential\n",
    "from keras.layers import LSTM, Dense\n",
    "\n",
    "#----------------------------------------------------\n",
    "_GAME = 'hotspot';  _API = 'ker';\n",
    "_xnINPUTS='x15'; _xnDRAWS='25k'; _DATA_TYPE = 'dr'; \n",
    "_BUILD = '4'; _MAKE = '13' ; _VERSION='1'; #v0 is untrained, 1 is load new build\n",
    "\n",
    "datasetID = \"{0}_{1}_{2}_{3}\".format(_GAME,_xnINPUTS,_xnDRAWS,_DATA_TYPE)\n",
    "modelID = \"{0}.{1}.{2}.{3}.{4}\".format(_GAME,_API,_BUILD,_MAKE,_VERSION)\n",
    "#------------------------------------------------------------\n",
    "\n",
    "print(\"Dataset ID: {0}\".format(datasetID))\n",
    "print(\"Model ID: {0}\".format(modelID))"
   ]
  },
  {
   "cell_type": "markdown",
   "metadata": {
    "colab_type": "text",
    "id": "qDt9wmLRLHsS"
   },
   "source": [
    "## Incremental Checkpoint Training"
   ]
  },
  {
   "cell_type": "code",
   "execution_count": 2,
   "metadata": {
    "colab": {
     "base_uri": "https://localhost:8080/",
     "height": 51
    },
    "colab_type": "code",
    "id": "F9zdElq3LHsT",
    "outputId": "d731d42a-448a-405f-a9b0-17bba6dfbb25"
   },
   "outputs": [
    {
     "name": "stdout",
     "output_type": "stream",
     "text": [
      "Dataset ID: hotspot_x15_25k_dr\n",
      "Model ID: hotspot.ker.4.13.e0001\n"
     ]
    }
   ],
   "source": [
    "import keras as kr\n",
    "from keras.models import Sequential\n",
    "from keras.layers import LSTM, Dense\n",
    "\n",
    "#----------------------------------------------------\n",
    "_GAME = 'hotspot';  _LOAD_CHECKPOINT = 1;\n",
    "_xnINPUTS='x15'; _xnDRAWS='25k'; _DATA_TYPE = 'dr'; \n",
    "_API = 'ker'; _BUILD = '4'; _MAKE = '13' ; _VERSION='e' + str(_LOAD_CHECKPOINT).zfill(4);\n",
    "\n",
    "datasetID = \"{0}_{1}_{2}_{3}\".format(_GAME,_xnINPUTS,_xnDRAWS,_DATA_TYPE)\n",
    "modelID = \"{0}.{1}.{2}.{3}.{4}\".format(_GAME,_API,_BUILD,_MAKE,_VERSION)\n",
    "#------------------------------------------------------------\n",
    "\n",
    "print(\"Dataset ID: {0}\".format(datasetID))\n",
    "print(\"Model ID: {0}\".format(modelID))"
   ]
  },
  {
   "cell_type": "markdown",
   "metadata": {
    "colab_type": "text",
    "id": "_L08tPUnLHsV"
   },
   "source": [
    "# TRAINING"
   ]
  },
  {
   "cell_type": "code",
   "execution_count": null,
   "metadata": {
    "colab": {
     "base_uri": "https://localhost:8080/",
     "height": 486
    },
    "colab_type": "code",
    "id": "ipSXZSs1pz0Y",
    "outputId": "2227d18e-cd2c-47d9-de00-239278169984"
   },
   "outputs": [
    {
     "name": "stdout",
     "output_type": "stream",
     "text": [
      "xndraw25k, new_st25.0, multiple1000, notationk\n",
      "[iFile:__init__]\n",
      "xndraw25k, new_st25.0, multiple1000, notationk\n",
      "[iFile:derive_game_path]data/hotspot/\n",
      "[iFile:derive_folder_path] data/hotspot/x15/25k/\n",
      "[iDataset:derive_file_path] datasets/hotspot_x15_25k_dr.npz\n",
      "[ifile:derive_full_path] ../data/hotspot/x15/25k/datasets/hotspot_x15_25k_dr.npz\n",
      "Loading dataset ../data/hotspot/x15/25k/datasets/hotspot_x15_25k_dr.npz\n",
      "[iModel:decipher_file_name]\n",
      "[iModel:set_decipher_info] {'GAME': 'hotspot', 'xnINPUTS': 'x15', 'nINPUTS': 15, 'xnDRAWS': '25k', 'nDRAWS': 25000, 'DATA_TYPE': 'dr', 'API': 'ker', 'BUILD': '4', 'MAKE': '13', 'VERSION': 'e0001', 'IS_CHECKPOINT': True, 'CHECKPOINT_EPOCH': 1}\n",
      "[iFile:__init__]\n",
      "[iModel:decipher_file_name]\n",
      "[iModel:set_decipher_info] {'GAME': 'hotspot', 'xnINPUTS': 'x15', 'nINPUTS': 15, 'xnDRAWS': '25k', 'nDRAWS': 25000, 'DATA_TYPE': 'dr', 'API': 'ker', 'BUILD': '4', 'MAKE': '13', 'VERSION': 'e0001', 'IS_CHECKPOINT': True, 'CHECKPOINT_EPOCH': 1}\n",
      "[iModel:derive_file_path] models/ker/4/13/hotspot.ker.4.13.e0001.h5\n",
      "[iFile:derive_game_path]data/hotspot/\n",
      "[ifile:derive_full_path] ../data/hotspot/x15/25k/models/ker/4/13/hotspot.ker.4.13.e0001.h5\n",
      "[iModel:derive_checkpoints_folder] Ensured ../data/hotspot/x15/25k/models/ker/4/13/checkpoints/\n",
      "[iModel:__init__\n",
      "[Model:loader] converted Model to KER_Model\n",
      "[KER_Model:load]: Loading checkpoint ../data/hotspot/x15/25k/models/ker/4/13/hotspot.ker.4.13.e0001.h5\n",
      "Issue: Unable to load due to usage of unserializable custom model/layer/metrics\n",
      "[KER_Model_loader: loaded new build 4.13]\n",
      "Solution-Step#1: Built/compiled new model\n",
      "Solution-Step#2: Loaded weights into new model from ../data/hotspot/x15/25k/models/ker/4/13/checkpoints/hotspot.ker.4.13.e0001.h5 \n",
      "[KER_Model:load_checkpoint] Loaded ../data/hotspot/x15/25k/models/ker/4/13/checkpoints/hotspot.ker.4.13.e0001.h5\n",
      "Modset ID: hotspot.ker.4.13[x15_25k_dr]\n",
      "Latest checkpoint is 201\n",
      "Issue: Unable to load due to usage of unserializable custom model/layer/metrics\n",
      "[KER_Model_loader: loaded new build 4.13]\n",
      "Solution-Step#1: Built/compiled new model\n",
      "Solution-Step#2: Loaded weights into new model from ../data/hotspot/x15/25k/models/ker/4/13/checkpoints/hotspot.ker.4.13.e0201.h5 \n",
      "[KER_Model:load_checkpoint] Loaded ../data/hotspot/x15/25k/models/ker/4/13/checkpoints/hotspot.ker.4.13.e0201.h5\n",
      "[iModel:derive_checkpoints_folder] Ensured ../data/hotspot/x15/25k/models/ker/4/13/checkpoints/\n",
      "[itrainer:set_checkpoint_per_epoch] added model_checkpoint callback\n",
      "[itrainer:get_csv_histry] added csv_logger callback /home/work/ai_lotto/notebooks/db/csv_logs.csv\n",
      "[itrainer:uplload_histry_per_epoch] added db_upload_history callback\n",
      "[itrainer:set_custom_callbacks] added custom_callback on_epoch_end\n",
      "New Session ID:  20200527033312\n",
      "Epoch 202/500\n",
      "[cf_callbacks] Start epoch 201 of training; got log keys: []\n",
      "25000/25000 [==============================] - 30s 1ms/step - loss: 0.4717 - precision_top10: 0.6004\n",
      "[cf_callbacks] End epoch 201 of training; got log keys: ['loss', 'precision_top10']\n",
      "Epoch 203/500\n",
      "[cf_callbacks] Start epoch 202 of training; got log keys: []\n",
      "   96/25000 [..............................] - ETA: 29s - loss: 0.4419 - precision_top10: 0.6625"
     ]
    },
    {
     "name": "stderr",
     "output_type": "stream",
     "text": [
      "/usr/local/lib/python3.6/dist-packages/sqlalchemy/sql/sqltypes.py:666: SAWarning: Dialect sqlite+pysqlite does *not* support Decimal objects natively, and SQLAlchemy must convert from floating point - rounding errors and other issues may occur. Please consider storing Decimal numbers as strings or integers on this platform for lossless storage.\n",
      "  \"storage.\" % (dialect.name, dialect.driver)\n"
     ]
    },
    {
     "name": "stdout",
     "output_type": "stream",
     "text": [
      "25000/25000 [==============================] - 29s 1ms/step - loss: 0.4703 - precision_top10: 0.6039\n",
      "[cf_callbacks] End epoch 202 of training; got log keys: ['loss', 'precision_top10']\n",
      "Epoch 204/500\n",
      "[cf_callbacks] Start epoch 203 of training; got log keys: []\n",
      "25000/25000 [==============================] - 29s 1ms/step - loss: 0.4705 - precision_top10: 0.6041\n",
      "[cf_callbacks] End epoch 203 of training; got log keys: ['loss', 'precision_top10']\n",
      "Epoch 205/500\n",
      "[cf_callbacks] Start epoch 204 of training; got log keys: []\n",
      "25000/25000 [==============================] - 28s 1ms/step - loss: 0.4709 - precision_top10: 0.6026\n",
      "[cf_callbacks] End epoch 204 of training; got log keys: ['loss', 'precision_top10']\n",
      "Epoch 206/500\n",
      "[cf_callbacks] Start epoch 205 of training; got log keys: []\n",
      "25000/25000 [==============================] - 27s 1ms/step - loss: 0.4701 - precision_top10: 0.6056\n",
      "[cf_callbacks] End epoch 205 of training; got log keys: ['loss', 'precision_top10']\n",
      "Epoch 207/500\n",
      "[cf_callbacks] Start epoch 206 of training; got log keys: []\n",
      "25000/25000 [==============================] - 28s 1ms/step - loss: 0.4699 - precision_top10: 0.6062\n",
      "[cf_callbacks] End epoch 206 of training; got log keys: ['loss', 'precision_top10']\n",
      "Epoch 208/500\n",
      "[cf_callbacks] Start epoch 207 of training; got log keys: []\n",
      "25000/25000 [==============================] - 28s 1ms/step - loss: 0.4704 - precision_top10: 0.6041\n",
      "[cf_callbacks] End epoch 207 of training; got log keys: ['loss', 'precision_top10']\n",
      "Epoch 209/500\n",
      "[cf_callbacks] Start epoch 208 of training; got log keys: []\n",
      "25000/25000 [==============================] - 28s 1ms/step - loss: 0.4694 - precision_top10: 0.6066\n",
      "[cf_callbacks] End epoch 208 of training; got log keys: ['loss', 'precision_top10']\n",
      "Epoch 210/500\n",
      "[cf_callbacks] Start epoch 209 of training; got log keys: []\n",
      "25000/25000 [==============================] - 29s 1ms/step - loss: 0.4693 - precision_top10: 0.6068\n",
      "[cf_callbacks] End epoch 209 of training; got log keys: ['loss', 'precision_top10']\n",
      "Epoch 211/500\n",
      "[cf_callbacks] Start epoch 210 of training; got log keys: []\n",
      "25000/25000 [==============================] - 28s 1ms/step - loss: 0.4696 - precision_top10: 0.6055\n",
      "[cf_callbacks] End epoch 210 of training; got log keys: ['loss', 'precision_top10']\n",
      "Epoch 212/500\n",
      "[cf_callbacks] Start epoch 211 of training; got log keys: []\n",
      "25000/25000 [==============================] - 28s 1ms/step - loss: 0.4698 - precision_top10: 0.6059\n",
      "[cf_callbacks] End epoch 211 of training; got log keys: ['loss', 'precision_top10']\n",
      "Epoch 213/500\n",
      "[cf_callbacks] Start epoch 212 of training; got log keys: []\n",
      "25000/25000 [==============================] - 28s 1ms/step - loss: 0.4687 - precision_top10: 0.6080\n",
      "[cf_callbacks] End epoch 212 of training; got log keys: ['loss', 'precision_top10']\n",
      "Epoch 214/500\n",
      "[cf_callbacks] Start epoch 213 of training; got log keys: []\n",
      "25000/25000 [==============================] - 28s 1ms/step - loss: 0.4684 - precision_top10: 0.6081\n",
      "[cf_callbacks] End epoch 213 of training; got log keys: ['loss', 'precision_top10']\n",
      "Epoch 215/500\n",
      "[cf_callbacks] Start epoch 214 of training; got log keys: []\n",
      "25000/25000 [==============================] - 29s 1ms/step - loss: 0.4687 - precision_top10: 0.6088\n",
      "[cf_callbacks] End epoch 214 of training; got log keys: ['loss', 'precision_top10']\n",
      "Epoch 216/500\n",
      "[cf_callbacks] Start epoch 215 of training; got log keys: []\n",
      "25000/25000 [==============================] - 29s 1ms/step - loss: 0.4687 - precision_top10: 0.6083\n",
      "[cf_callbacks] End epoch 215 of training; got log keys: ['loss', 'precision_top10']\n",
      "Epoch 217/500\n",
      "[cf_callbacks] Start epoch 216 of training; got log keys: []\n",
      "25000/25000 [==============================] - 29s 1ms/step - loss: 0.4685 - precision_top10: 0.6086\n",
      "[cf_callbacks] End epoch 216 of training; got log keys: ['loss', 'precision_top10']\n",
      "Epoch 218/500\n",
      "[cf_callbacks] Start epoch 217 of training; got log keys: []\n",
      "25000/25000 [==============================] - 29s 1ms/step - loss: 0.4687 - precision_top10: 0.6084\n",
      "[cf_callbacks] End epoch 217 of training; got log keys: ['loss', 'precision_top10']\n",
      "Epoch 219/500\n",
      "[cf_callbacks] Start epoch 218 of training; got log keys: []\n",
      "25000/25000 [==============================] - 29s 1ms/step - loss: 0.4685 - precision_top10: 0.6088\n",
      "[cf_callbacks] End epoch 218 of training; got log keys: ['loss', 'precision_top10']\n",
      "Epoch 220/500\n",
      "[cf_callbacks] Start epoch 219 of training; got log keys: []\n",
      "25000/25000 [==============================] - 29s 1ms/step - loss: 0.4679 - precision_top10: 0.6099\n",
      "[cf_callbacks] End epoch 219 of training; got log keys: ['loss', 'precision_top10']\n",
      "Epoch 221/500\n",
      "[cf_callbacks] Start epoch 220 of training; got log keys: []\n",
      "25000/25000 [==============================] - 29s 1ms/step - loss: 0.4679 - precision_top10: 0.6097\n",
      "[cf_callbacks] End epoch 220 of training; got log keys: ['loss', 'precision_top10']\n",
      "Epoch 222/500\n",
      "[cf_callbacks] Start epoch 221 of training; got log keys: []\n",
      "25000/25000 [==============================] - 29s 1ms/step - loss: 0.4682 - precision_top10: 0.6094\n",
      "[cf_callbacks] End epoch 221 of training; got log keys: ['loss', 'precision_top10']\n",
      "Epoch 223/500\n",
      "[cf_callbacks] Start epoch 222 of training; got log keys: []\n",
      "25000/25000 [==============================] - 28s 1ms/step - loss: 0.4696 - precision_top10: 0.6065\n",
      "[cf_callbacks] End epoch 222 of training; got log keys: ['loss', 'precision_top10']\n",
      "Epoch 224/500\n",
      "[cf_callbacks] Start epoch 223 of training; got log keys: []\n",
      "25000/25000 [==============================] - 28s 1ms/step - loss: 0.4685 - precision_top10: 0.6093\n",
      "[cf_callbacks] End epoch 223 of training; got log keys: ['loss', 'precision_top10']\n",
      "Epoch 225/500\n",
      "[cf_callbacks] Start epoch 224 of training; got log keys: []\n",
      "25000/25000 [==============================] - 28s 1ms/step - loss: 0.4718 - precision_top10: 0.6018\n",
      "[cf_callbacks] End epoch 224 of training; got log keys: ['loss', 'precision_top10']\n",
      "Epoch 226/500\n",
      "[cf_callbacks] Start epoch 225 of training; got log keys: []\n",
      "25000/25000 [==============================] - 28s 1ms/step - loss: 0.4741 - precision_top10: 0.5973\n",
      "[cf_callbacks] End epoch 225 of training; got log keys: ['loss', 'precision_top10']\n",
      "Epoch 227/500\n",
      "[cf_callbacks] Start epoch 226 of training; got log keys: []\n",
      "25000/25000 [==============================] - 28s 1ms/step - loss: 0.4782 - precision_top10: 0.5877\n",
      "[cf_callbacks] End epoch 226 of training; got log keys: ['loss', 'precision_top10']\n",
      "Epoch 228/500\n",
      "[cf_callbacks] Start epoch 227 of training; got log keys: []\n",
      "25000/25000 [==============================] - 28s 1ms/step - loss: 0.4781 - precision_top10: 0.5867\n",
      "[cf_callbacks] End epoch 227 of training; got log keys: ['loss', 'precision_top10']\n",
      "Epoch 229/500\n",
      "[cf_callbacks] Start epoch 228 of training; got log keys: []\n",
      "25000/25000 [==============================] - 28s 1ms/step - loss: 0.4804 - precision_top10: 0.5828\n",
      "[cf_callbacks] End epoch 228 of training; got log keys: ['loss', 'precision_top10']\n",
      "Epoch 230/500\n",
      "[cf_callbacks] Start epoch 229 of training; got log keys: []\n",
      "25000/25000 [==============================] - 28s 1ms/step - loss: 0.4804 - precision_top10: 0.5817\n",
      "[cf_callbacks] End epoch 229 of training; got log keys: ['loss', 'precision_top10']\n",
      "Epoch 231/500\n",
      "[cf_callbacks] Start epoch 230 of training; got log keys: []\n",
      "25000/25000 [==============================] - 28s 1ms/step - loss: 0.4841 - precision_top10: 0.5737\n",
      "[cf_callbacks] End epoch 230 of training; got log keys: ['loss', 'precision_top10']\n",
      "Epoch 232/500\n",
      "[cf_callbacks] Start epoch 231 of training; got log keys: []\n",
      "25000/25000 [==============================] - 28s 1ms/step - loss: 0.4756 - precision_top10: 0.5909\n",
      "[cf_callbacks] End epoch 231 of training; got log keys: ['loss', 'precision_top10']\n",
      "Epoch 233/500\n",
      "[cf_callbacks] Start epoch 232 of training; got log keys: []\n",
      "25000/25000 [==============================] - 28s 1ms/step - loss: 0.4714 - precision_top10: 0.6001\n",
      "[cf_callbacks] End epoch 232 of training; got log keys: ['loss', 'precision_top10']\n",
      "Epoch 234/500\n",
      "[cf_callbacks] Start epoch 233 of training; got log keys: []\n",
      "25000/25000 [==============================] - 28s 1ms/step - loss: 0.4697 - precision_top10: 0.6054\n",
      "[cf_callbacks] End epoch 233 of training; got log keys: ['loss', 'precision_top10']\n",
      "Epoch 235/500\n",
      "[cf_callbacks] Start epoch 234 of training; got log keys: []\n",
      "25000/25000 [==============================] - 28s 1ms/step - loss: 0.4695 - precision_top10: 0.6054\n",
      "[cf_callbacks] End epoch 234 of training; got log keys: ['loss', 'precision_top10']\n",
      "Epoch 236/500\n",
      "[cf_callbacks] Start epoch 235 of training; got log keys: []\n",
      "25000/25000 [==============================] - 28s 1ms/step - loss: 0.4694 - precision_top10: 0.6062\n",
      "[cf_callbacks] End epoch 235 of training; got log keys: ['loss', 'precision_top10']\n",
      "Epoch 237/500\n",
      "[cf_callbacks] Start epoch 236 of training; got log keys: []\n",
      "25000/25000 [==============================] - 28s 1ms/step - loss: 0.4690 - precision_top10: 0.6061\n",
      "[cf_callbacks] End epoch 236 of training; got log keys: ['loss', 'precision_top10']\n",
      "Epoch 238/500\n",
      "[cf_callbacks] Start epoch 237 of training; got log keys: []\n",
      "25000/25000 [==============================] - 27s 1ms/step - loss: 0.4683 - precision_top10: 0.6081\n",
      "[cf_callbacks] End epoch 237 of training; got log keys: ['loss', 'precision_top10']\n",
      "Epoch 239/500\n",
      "[cf_callbacks] Start epoch 238 of training; got log keys: []\n",
      "25000/25000 [==============================] - 27s 1ms/step - loss: 0.4693 - precision_top10: 0.6064\n",
      "[cf_callbacks] End epoch 238 of training; got log keys: ['loss', 'precision_top10']\n",
      "Epoch 240/500\n",
      "[cf_callbacks] Start epoch 239 of training; got log keys: []\n",
      "25000/25000 [==============================] - 27s 1ms/step - loss: 0.4682 - precision_top10: 0.6090\n",
      "[cf_callbacks] End epoch 239 of training; got log keys: ['loss', 'precision_top10']\n",
      "Epoch 241/500\n",
      "[cf_callbacks] Start epoch 240 of training; got log keys: []\n",
      "25000/25000 [==============================] - 27s 1ms/step - loss: 0.4684 - precision_top10: 0.6097\n",
      "[cf_callbacks] End epoch 240 of training; got log keys: ['loss', 'precision_top10']\n",
      "Epoch 242/500\n",
      "[cf_callbacks] Start epoch 241 of training; got log keys: []\n",
      " 1824/25000 [=>............................] - ETA: 26s - loss: 0.4693 - precision_top10: 0.6118"
     ]
    },
    {
     "name": "stderr",
     "output_type": "stream",
     "text": [
      "IOPub message rate exceeded.\n",
      "The notebook server will temporarily stop sending output\n",
      "to the client in order to avoid crashing it.\n",
      "To change this limit, set the config variable\n",
      "`--NotebookApp.iopub_msg_rate_limit`.\n",
      "\n",
      "Current values:\n",
      "NotebookApp.iopub_msg_rate_limit=1000.0 (msgs/sec)\n",
      "NotebookApp.rate_limit_window=3.0 (secs)\n",
      "\n"
     ]
    },
    {
     "name": "stdout",
     "output_type": "stream",
     "text": [
      "25000/25000 [==============================] - 28s 1ms/step - loss: 0.4653 - precision_top10: 0.6153\n",
      "[cf_callbacks] End epoch 251 of training; got log keys: ['loss', 'precision_top10']\n",
      "Epoch 253/500\n",
      "[cf_callbacks] Start epoch 252 of training; got log keys: []\n",
      "25000/25000 [==============================] - 28s 1ms/step - loss: 0.4660 - precision_top10: 0.6152\n",
      "[cf_callbacks] End epoch 252 of training; got log keys: ['loss', 'precision_top10']\n",
      "Epoch 254/500\n",
      "[cf_callbacks] Start epoch 253 of training; got log keys: []\n",
      "25000/25000 [==============================] - 28s 1ms/step - loss: 0.4657 - precision_top10: 0.6152\n",
      "[cf_callbacks] End epoch 253 of training; got log keys: ['loss', 'precision_top10']\n",
      "Epoch 255/500\n",
      "[cf_callbacks] Start epoch 254 of training; got log keys: []\n",
      "23872/25000 [===========================>..] - ETA: 1s - loss: 0.4652 - precision_top10: 0.6170"
     ]
    },
    {
     "name": "stderr",
     "output_type": "stream",
     "text": [
      "IOPub message rate exceeded.\n",
      "The notebook server will temporarily stop sending output\n",
      "to the client in order to avoid crashing it.\n",
      "To change this limit, set the config variable\n",
      "`--NotebookApp.iopub_msg_rate_limit`.\n",
      "\n",
      "Current values:\n",
      "NotebookApp.iopub_msg_rate_limit=1000.0 (msgs/sec)\n",
      "NotebookApp.rate_limit_window=3.0 (secs)\n",
      "\n"
     ]
    },
    {
     "name": "stdout",
     "output_type": "stream",
     "text": [
      "25000/25000 [==============================] - 28s 1ms/step - loss: 0.4654 - precision_top10: 0.6149\n",
      "[cf_callbacks] End epoch 258 of training; got log keys: ['loss', 'precision_top10']\n",
      "Epoch 260/500\n",
      "[cf_callbacks] Start epoch 259 of training; got log keys: []\n",
      "25000/25000 [==============================] - 28s 1ms/step - loss: 0.4647 - precision_top10: 0.6165\n",
      "[cf_callbacks] End epoch 259 of training; got log keys: ['loss', 'precision_top10']\n",
      "Epoch 261/500\n",
      "[cf_callbacks] Start epoch 260 of training; got log keys: []\n",
      "25000/25000 [==============================] - 28s 1ms/step - loss: 0.4647 - precision_top10: 0.6168\n",
      "[cf_callbacks] End epoch 260 of training; got log keys: ['loss', 'precision_top10']\n",
      "Epoch 262/500\n",
      "[cf_callbacks] Start epoch 261 of training; got log keys: []\n",
      "25000/25000 [==============================] - 28s 1ms/step - loss: 0.4648 - precision_top10: 0.6158\n",
      "[cf_callbacks] End epoch 261 of training; got log keys: ['loss', 'precision_top10']\n",
      "Epoch 263/500\n",
      "[cf_callbacks] Start epoch 262 of training; got log keys: []\n",
      "14880/25000 [================>.............] - ETA: 11s - loss: 0.4643 - precision_top10: 0.6170"
     ]
    },
    {
     "name": "stderr",
     "output_type": "stream",
     "text": [
      "IOPub message rate exceeded.\n",
      "The notebook server will temporarily stop sending output\n",
      "to the client in order to avoid crashing it.\n",
      "To change this limit, set the config variable\n",
      "`--NotebookApp.iopub_msg_rate_limit`.\n",
      "\n",
      "Current values:\n",
      "NotebookApp.iopub_msg_rate_limit=1000.0 (msgs/sec)\n",
      "NotebookApp.rate_limit_window=3.0 (secs)\n",
      "\n"
     ]
    },
    {
     "name": "stdout",
     "output_type": "stream",
     "text": [
      "25000/25000 [==============================] - 27s 1ms/step - loss: 0.4629 - precision_top10: 0.6209\n",
      "[cf_callbacks] End epoch 274 of training; got log keys: ['loss', 'precision_top10']\n",
      "Epoch 276/500\n",
      "[cf_callbacks] Start epoch 275 of training; got log keys: []\n",
      "25000/25000 [==============================] - 28s 1ms/step - loss: 0.4627 - precision_top10: 0.6205\n",
      "[cf_callbacks] End epoch 275 of training; got log keys: ['loss', 'precision_top10']\n",
      "Epoch 277/500\n",
      "[cf_callbacks] Start epoch 276 of training; got log keys: []\n",
      "25000/25000 [==============================] - 28s 1ms/step - loss: 0.4625 - precision_top10: 0.6208\n",
      "[cf_callbacks] End epoch 276 of training; got log keys: ['loss', 'precision_top10']\n",
      "Epoch 278/500\n",
      "[cf_callbacks] Start epoch 277 of training; got log keys: []\n",
      "25000/25000 [==============================] - 27s 1ms/step - loss: 0.4633 - precision_top10: 0.6198\n",
      "[cf_callbacks] End epoch 277 of training; got log keys: ['loss', 'precision_top10']\n",
      "Epoch 279/500\n",
      "[cf_callbacks] Start epoch 278 of training; got log keys: []\n",
      " 5952/25000 [======>.......................] - ETA: 21s - loss: 0.4629 - precision_top10: 0.6225"
     ]
    },
    {
     "name": "stderr",
     "output_type": "stream",
     "text": [
      "IOPub message rate exceeded.\n",
      "The notebook server will temporarily stop sending output\n",
      "to the client in order to avoid crashing it.\n",
      "To change this limit, set the config variable\n",
      "`--NotebookApp.iopub_msg_rate_limit`.\n",
      "\n",
      "Current values:\n",
      "NotebookApp.iopub_msg_rate_limit=1000.0 (msgs/sec)\n",
      "NotebookApp.rate_limit_window=3.0 (secs)\n",
      "\n"
     ]
    },
    {
     "name": "stdout",
     "output_type": "stream",
     "text": [
      "25000/25000 [==============================] - 27s 1ms/step - loss: 0.4627 - precision_top10: 0.6214\n",
      "[cf_callbacks] End epoch 280 of training; got log keys: ['loss', 'precision_top10']\n",
      "Epoch 282/500\n",
      "[cf_callbacks] Start epoch 281 of training; got log keys: []\n",
      "25000/25000 [==============================] - 28s 1ms/step - loss: 0.4630 - precision_top10: 0.6202\n",
      "[cf_callbacks] End epoch 281 of training; got log keys: ['loss', 'precision_top10']\n",
      "Epoch 283/500\n",
      "[cf_callbacks] Start epoch 282 of training; got log keys: []\n",
      "25000/25000 [==============================] - 27s 1ms/step - loss: 0.4623 - precision_top10: 0.6234\n",
      "[cf_callbacks] End epoch 282 of training; got log keys: ['loss', 'precision_top10']\n",
      "Epoch 284/500\n",
      "[cf_callbacks] Start epoch 283 of training; got log keys: []\n",
      "25000/25000 [==============================] - 27s 1ms/step - loss: 0.4614 - precision_top10: 0.6241\n",
      "[cf_callbacks] End epoch 283 of training; got log keys: ['loss', 'precision_top10']\n",
      "Epoch 285/500\n",
      "[cf_callbacks] Start epoch 284 of training; got log keys: []\n",
      "25000/25000 [==============================] - 27s 1ms/step - loss: 0.4621 - precision_top10: 0.6233\n",
      "[cf_callbacks] End epoch 284 of training; got log keys: ['loss', 'precision_top10']\n",
      "Epoch 286/500\n",
      "[cf_callbacks] Start epoch 285 of training; got log keys: []\n",
      " 1504/25000 [>.............................] - ETA: 24s - loss: 0.4696 - precision_top10: 0.6122"
     ]
    },
    {
     "name": "stderr",
     "output_type": "stream",
     "text": [
      "IOPub message rate exceeded.\n",
      "The notebook server will temporarily stop sending output\n",
      "to the client in order to avoid crashing it.\n",
      "To change this limit, set the config variable\n",
      "`--NotebookApp.iopub_msg_rate_limit`.\n",
      "\n",
      "Current values:\n",
      "NotebookApp.iopub_msg_rate_limit=1000.0 (msgs/sec)\n",
      "NotebookApp.rate_limit_window=3.0 (secs)\n",
      "\n"
     ]
    },
    {
     "name": "stdout",
     "output_type": "stream",
     "text": [
      "25000/25000 [==============================] - 27s 1ms/step - loss: 0.4611 - precision_top10: 0.6251\n",
      "[cf_callbacks] End epoch 286 of training; got log keys: ['loss', 'precision_top10']\n",
      "Epoch 288/500\n",
      "[cf_callbacks] Start epoch 287 of training; got log keys: []\n",
      "25000/25000 [==============================] - 28s 1ms/step - loss: 0.4621 - precision_top10: 0.6222\n",
      "[cf_callbacks] End epoch 287 of training; got log keys: ['loss', 'precision_top10']\n",
      "Epoch 289/500\n",
      "[cf_callbacks] Start epoch 288 of training; got log keys: []\n",
      "25000/25000 [==============================] - 28s 1ms/step - loss: 0.4613 - precision_top10: 0.6247\n",
      "[cf_callbacks] End epoch 288 of training; got log keys: ['loss', 'precision_top10']\n",
      "Epoch 290/500\n",
      "[cf_callbacks] Start epoch 289 of training; got log keys: []\n",
      "25000/25000 [==============================] - 27s 1ms/step - loss: 0.4612 - precision_top10: 0.6247\n",
      "[cf_callbacks] End epoch 289 of training; got log keys: ['loss', 'precision_top10']\n",
      "Epoch 291/500\n",
      "[cf_callbacks] Start epoch 290 of training; got log keys: []\n",
      "25000/25000 [==============================] - 28s 1ms/step - loss: 0.4615 - precision_top10: 0.6247\n",
      "[cf_callbacks] End epoch 290 of training; got log keys: ['loss', 'precision_top10']\n",
      "Epoch 292/500\n",
      "[cf_callbacks] Start epoch 291 of training; got log keys: []\n",
      "25000/25000 [==============================] - 28s 1ms/step - loss: 0.4622 - precision_top10: 0.6214\n",
      "[cf_callbacks] End epoch 291 of training; got log keys: ['loss', 'precision_top10']\n",
      "Epoch 293/500\n",
      "[cf_callbacks] Start epoch 292 of training; got log keys: []\n",
      "25000/25000 [==============================] - 27s 1ms/step - loss: 0.4612 - precision_top10: 0.6253\n",
      "[cf_callbacks] End epoch 292 of training; got log keys: ['loss', 'precision_top10']\n",
      "Epoch 294/500\n",
      "[cf_callbacks] Start epoch 293 of training; got log keys: []\n",
      "25000/25000 [==============================] - 28s 1ms/step - loss: 0.4615 - precision_top10: 0.6234\n",
      "[cf_callbacks] End epoch 293 of training; got log keys: ['loss', 'precision_top10']\n",
      "Epoch 295/500\n",
      "[cf_callbacks] Start epoch 294 of training; got log keys: []\n",
      "25000/25000 [==============================] - 28s 1ms/step - loss: 0.4608 - precision_top10: 0.6251\n",
      "[cf_callbacks] End epoch 294 of training; got log keys: ['loss', 'precision_top10']\n",
      "Epoch 296/500\n",
      "[cf_callbacks] Start epoch 295 of training; got log keys: []\n",
      "25000/25000 [==============================] - 28s 1ms/step - loss: 0.4607 - precision_top10: 0.6263\n",
      "[cf_callbacks] End epoch 295 of training; got log keys: ['loss', 'precision_top10']\n",
      "Epoch 297/500\n",
      "[cf_callbacks] Start epoch 296 of training; got log keys: []\n",
      "25000/25000 [==============================] - 27s 1ms/step - loss: 0.4619 - precision_top10: 0.6236\n",
      "[cf_callbacks] End epoch 296 of training; got log keys: ['loss', 'precision_top10']\n",
      "Epoch 298/500\n",
      "[cf_callbacks] Start epoch 297 of training; got log keys: []\n",
      "25000/25000 [==============================] - 27s 1ms/step - loss: 0.4614 - precision_top10: 0.6244\n",
      "[cf_callbacks] End epoch 297 of training; got log keys: ['loss', 'precision_top10']\n",
      "Epoch 299/500\n",
      "[cf_callbacks] Start epoch 298 of training; got log keys: []\n",
      "25000/25000 [==============================] - 27s 1ms/step - loss: 0.4605 - precision_top10: 0.6254\n",
      "[cf_callbacks] End epoch 298 of training; got log keys: ['loss', 'precision_top10']\n",
      "Epoch 300/500\n",
      "[cf_callbacks] Start epoch 299 of training; got log keys: []\n",
      "25000/25000 [==============================] - 27s 1ms/step - loss: 0.4605 - precision_top10: 0.6263\n",
      "[cf_callbacks] End epoch 299 of training; got log keys: ['loss', 'precision_top10']\n",
      "Epoch 301/500\n",
      "[cf_callbacks] Start epoch 300 of training; got log keys: []\n",
      "25000/25000 [==============================] - 27s 1ms/step - loss: 0.4615 - precision_top10: 0.6239\n",
      "[cf_callbacks] End epoch 300 of training; got log keys: ['loss', 'precision_top10']\n",
      "Epoch 302/500\n",
      "[cf_callbacks] Start epoch 301 of training; got log keys: []\n",
      "25000/25000 [==============================] - 28s 1ms/step - loss: 0.4601 - precision_top10: 0.6270\n",
      "[cf_callbacks] End epoch 301 of training; got log keys: ['loss', 'precision_top10']\n",
      "Epoch 303/500\n",
      "[cf_callbacks] Start epoch 302 of training; got log keys: []\n",
      "25000/25000 [==============================] - 30s 1ms/step - loss: 0.4594 - precision_top10: 0.6293\n",
      "[cf_callbacks] End epoch 302 of training; got log keys: ['loss', 'precision_top10']\n",
      "Epoch 304/500\n",
      "[cf_callbacks] Start epoch 303 of training; got log keys: []\n",
      "25000/25000 [==============================] - 29s 1ms/step - loss: 0.4601 - precision_top10: 0.6268\n",
      "[cf_callbacks] End epoch 303 of training; got log keys: ['loss', 'precision_top10']\n",
      "Epoch 305/500\n",
      "[cf_callbacks] Start epoch 304 of training; got log keys: []\n",
      "25000/25000 [==============================] - 30s 1ms/step - loss: 0.4608 - precision_top10: 0.6251\n",
      "[cf_callbacks] End epoch 304 of training; got log keys: ['loss', 'precision_top10']\n",
      "Epoch 306/500\n",
      "[cf_callbacks] Start epoch 305 of training; got log keys: []\n",
      "25000/25000 [==============================] - 30s 1ms/step - loss: 0.4600 - precision_top10: 0.6274\n",
      "[cf_callbacks] End epoch 305 of training; got log keys: ['loss', 'precision_top10']\n",
      "Epoch 307/500\n",
      "[cf_callbacks] Start epoch 306 of training; got log keys: []\n",
      "25000/25000 [==============================] - 30s 1ms/step - loss: 0.4604 - precision_top10: 0.6269\n",
      "[cf_callbacks] End epoch 306 of training; got log keys: ['loss', 'precision_top10']\n",
      "Epoch 308/500\n",
      "[cf_callbacks] Start epoch 307 of training; got log keys: []\n",
      "25000/25000 [==============================] - 30s 1ms/step - loss: 0.4598 - precision_top10: 0.6261\n",
      "[cf_callbacks] End epoch 307 of training; got log keys: ['loss', 'precision_top10']\n",
      "Epoch 309/500\n",
      "[cf_callbacks] Start epoch 308 of training; got log keys: []\n",
      "25000/25000 [==============================] - 30s 1ms/step - loss: 0.4592 - precision_top10: 0.6286\n",
      "[cf_callbacks] End epoch 308 of training; got log keys: ['loss', 'precision_top10']\n",
      "Epoch 310/500\n",
      "[cf_callbacks] Start epoch 309 of training; got log keys: []\n",
      "25000/25000 [==============================] - 30s 1ms/step - loss: 0.4597 - precision_top10: 0.6270\n",
      "[cf_callbacks] End epoch 309 of training; got log keys: ['loss', 'precision_top10']\n",
      "Epoch 311/500\n",
      "[cf_callbacks] Start epoch 310 of training; got log keys: []\n",
      "25000/25000 [==============================] - 28s 1ms/step - loss: 0.4602 - precision_top10: 0.6278\n",
      "[cf_callbacks] End epoch 310 of training; got log keys: ['loss', 'precision_top10']\n",
      "Epoch 312/500\n",
      "[cf_callbacks] Start epoch 311 of training; got log keys: []\n",
      "25000/25000 [==============================] - 27s 1ms/step - loss: 0.4605 - precision_top10: 0.6258\n",
      "[cf_callbacks] End epoch 311 of training; got log keys: ['loss', 'precision_top10']\n",
      "Epoch 313/500\n",
      "[cf_callbacks] Start epoch 312 of training; got log keys: []\n",
      "25000/25000 [==============================] - 28s 1ms/step - loss: 0.4597 - precision_top10: 0.6275\n",
      "[cf_callbacks] End epoch 312 of training; got log keys: ['loss', 'precision_top10']\n",
      "Epoch 314/500\n",
      "[cf_callbacks] Start epoch 313 of training; got log keys: []\n",
      "25000/25000 [==============================] - 28s 1ms/step - loss: 0.4602 - precision_top10: 0.6266\n",
      "[cf_callbacks] End epoch 313 of training; got log keys: ['loss', 'precision_top10']\n",
      "Epoch 315/500\n",
      "[cf_callbacks] Start epoch 314 of training; got log keys: []\n",
      "25000/25000 [==============================] - 28s 1ms/step - loss: 0.4598 - precision_top10: 0.6276\n",
      "[cf_callbacks] End epoch 314 of training; got log keys: ['loss', 'precision_top10']\n",
      "Epoch 316/500\n",
      "[cf_callbacks] Start epoch 315 of training; got log keys: []\n",
      "25000/25000 [==============================] - 28s 1ms/step - loss: 0.4596 - precision_top10: 0.6279\n",
      "[cf_callbacks] End epoch 315 of training; got log keys: ['loss', 'precision_top10']\n",
      "Epoch 317/500\n",
      "[cf_callbacks] Start epoch 316 of training; got log keys: []\n",
      "25000/25000 [==============================] - 29s 1ms/step - loss: 0.4595 - precision_top10: 0.6276\n",
      "[cf_callbacks] End epoch 316 of training; got log keys: ['loss', 'precision_top10']\n",
      "Epoch 318/500\n",
      "[cf_callbacks] Start epoch 317 of training; got log keys: []\n",
      "25000/25000 [==============================] - 27s 1ms/step - loss: 0.4593 - precision_top10: 0.6297\n",
      "[cf_callbacks] End epoch 317 of training; got log keys: ['loss', 'precision_top10']\n",
      "Epoch 319/500\n",
      "[cf_callbacks] Start epoch 318 of training; got log keys: []\n",
      "25000/25000 [==============================] - 28s 1ms/step - loss: 0.4591 - precision_top10: 0.6284\n",
      "[cf_callbacks] End epoch 318 of training; got log keys: ['loss', 'precision_top10']\n",
      "Epoch 320/500\n",
      "[cf_callbacks] Start epoch 319 of training; got log keys: []\n",
      "25000/25000 [==============================] - 27s 1ms/step - loss: 0.4588 - precision_top10: 0.6293\n",
      "[cf_callbacks] End epoch 319 of training; got log keys: ['loss', 'precision_top10']\n",
      "Epoch 321/500\n",
      "[cf_callbacks] Start epoch 320 of training; got log keys: []\n",
      "25000/25000 [==============================] - 27s 1ms/step - loss: 0.4591 - precision_top10: 0.6290\n",
      "[cf_callbacks] End epoch 320 of training; got log keys: ['loss', 'precision_top10']\n",
      "Epoch 322/500\n",
      "[cf_callbacks] Start epoch 321 of training; got log keys: []\n",
      "25000/25000 [==============================] - 27s 1ms/step - loss: 0.4595 - precision_top10: 0.6271\n",
      "[cf_callbacks] End epoch 321 of training; got log keys: ['loss', 'precision_top10']\n",
      "Epoch 323/500\n",
      "[cf_callbacks] Start epoch 322 of training; got log keys: []\n",
      "25000/25000 [==============================] - 27s 1ms/step - loss: 0.4587 - precision_top10: 0.6304\n",
      "[cf_callbacks] End epoch 322 of training; got log keys: ['loss', 'precision_top10']\n",
      "Epoch 324/500\n",
      "[cf_callbacks] Start epoch 323 of training; got log keys: []\n",
      "25000/25000 [==============================] - 27s 1ms/step - loss: 0.4589 - precision_top10: 0.6299\n",
      "[cf_callbacks] End epoch 323 of training; got log keys: ['loss', 'precision_top10']\n",
      "Epoch 325/500\n",
      "[cf_callbacks] Start epoch 324 of training; got log keys: []\n",
      "25000/25000 [==============================] - 27s 1ms/step - loss: 0.4593 - precision_top10: 0.6276\n",
      "[cf_callbacks] End epoch 324 of training; got log keys: ['loss', 'precision_top10']\n",
      "Epoch 326/500\n",
      "[cf_callbacks] Start epoch 325 of training; got log keys: []\n",
      "25000/25000 [==============================] - 27s 1ms/step - loss: 0.4588 - precision_top10: 0.6290\n",
      "[cf_callbacks] End epoch 325 of training; got log keys: ['loss', 'precision_top10']\n",
      "Epoch 327/500\n",
      "[cf_callbacks] Start epoch 326 of training; got log keys: []\n",
      "25000/25000 [==============================] - 28s 1ms/step - loss: 0.4594 - precision_top10: 0.6275\n",
      "[cf_callbacks] End epoch 326 of training; got log keys: ['loss', 'precision_top10']\n",
      "Epoch 328/500\n",
      "[cf_callbacks] Start epoch 327 of training; got log keys: []\n",
      "25000/25000 [==============================] - 27s 1ms/step - loss: 0.4592 - precision_top10: 0.6278\n",
      "[cf_callbacks] End epoch 327 of training; got log keys: ['loss', 'precision_top10']\n",
      "Epoch 329/500\n",
      "[cf_callbacks] Start epoch 328 of training; got log keys: []\n",
      "25000/25000 [==============================] - 27s 1ms/step - loss: 0.4582 - precision_top10: 0.6310\n",
      "[cf_callbacks] End epoch 328 of training; got log keys: ['loss', 'precision_top10']\n",
      "Epoch 330/500\n",
      "[cf_callbacks] Start epoch 329 of training; got log keys: []\n",
      "25000/25000 [==============================] - 27s 1ms/step - loss: 0.4579 - precision_top10: 0.6303\n",
      "[cf_callbacks] End epoch 329 of training; got log keys: ['loss', 'precision_top10']\n",
      "Epoch 331/500\n",
      "[cf_callbacks] Start epoch 330 of training; got log keys: []\n",
      "25000/25000 [==============================] - 30s 1ms/step - loss: 0.4579 - precision_top10: 0.6318\n",
      "[cf_callbacks] End epoch 330 of training; got log keys: ['loss', 'precision_top10']\n",
      "Epoch 332/500\n",
      "[cf_callbacks] Start epoch 331 of training; got log keys: []\n",
      "25000/25000 [==============================] - 30s 1ms/step - loss: 0.4581 - precision_top10: 0.6302\n",
      "[cf_callbacks] End epoch 331 of training; got log keys: ['loss', 'precision_top10']\n",
      "Epoch 333/500\n",
      "[cf_callbacks] Start epoch 332 of training; got log keys: []\n",
      "25000/25000 [==============================] - 30s 1ms/step - loss: 0.4588 - precision_top10: 0.6294\n",
      "[cf_callbacks] End epoch 332 of training; got log keys: ['loss', 'precision_top10']\n",
      "Epoch 334/500\n",
      "[cf_callbacks] Start epoch 333 of training; got log keys: []\n",
      "25000/25000 [==============================] - 30s 1ms/step - loss: 0.4582 - precision_top10: 0.6308\n",
      "[cf_callbacks] End epoch 333 of training; got log keys: ['loss', 'precision_top10']\n",
      "Epoch 335/500\n",
      "[cf_callbacks] Start epoch 334 of training; got log keys: []\n",
      "25000/25000 [==============================] - 31s 1ms/step - loss: 0.4586 - precision_top10: 0.6292\n",
      "[cf_callbacks] End epoch 334 of training; got log keys: ['loss', 'precision_top10']\n",
      "Epoch 336/500\n",
      "[cf_callbacks] Start epoch 335 of training; got log keys: []\n",
      "25000/25000 [==============================] - 30s 1ms/step - loss: 0.4594 - precision_top10: 0.6281\n",
      "[cf_callbacks] End epoch 335 of training; got log keys: ['loss', 'precision_top10']\n",
      "Epoch 337/500\n",
      "[cf_callbacks] Start epoch 336 of training; got log keys: []\n",
      "25000/25000 [==============================] - 30s 1ms/step - loss: 0.4585 - precision_top10: 0.6292\n",
      "[cf_callbacks] End epoch 336 of training; got log keys: ['loss', 'precision_top10']\n",
      "Epoch 338/500\n",
      "[cf_callbacks] Start epoch 337 of training; got log keys: []\n",
      "25000/25000 [==============================] - 28s 1ms/step - loss: 0.4581 - precision_top10: 0.6309\n",
      "[cf_callbacks] End epoch 337 of training; got log keys: ['loss', 'precision_top10']\n",
      "Epoch 339/500\n",
      "[cf_callbacks] Start epoch 338 of training; got log keys: []\n",
      "25000/25000 [==============================] - 27s 1ms/step - loss: 0.4575 - precision_top10: 0.6328\n",
      "[cf_callbacks] End epoch 338 of training; got log keys: ['loss', 'precision_top10']\n",
      "Epoch 340/500\n",
      "[cf_callbacks] Start epoch 339 of training; got log keys: []\n",
      "25000/25000 [==============================] - 30s 1ms/step - loss: 0.4581 - precision_top10: 0.6304\n",
      "[cf_callbacks] End epoch 339 of training; got log keys: ['loss', 'precision_top10']\n",
      "Epoch 341/500\n",
      "[cf_callbacks] Start epoch 340 of training; got log keys: []\n",
      "25000/25000 [==============================] - 34s 1ms/step - loss: 0.4571 - precision_top10: 0.6331\n",
      "[cf_callbacks] End epoch 340 of training; got log keys: ['loss', 'precision_top10']\n",
      "Epoch 342/500\n",
      "[cf_callbacks] Start epoch 341 of training; got log keys: []\n",
      "25000/25000 [==============================] - 36s 1ms/step - loss: 0.4577 - precision_top10: 0.6312\n",
      "[cf_callbacks] End epoch 341 of training; got log keys: ['loss', 'precision_top10']\n",
      "Epoch 343/500\n",
      "[cf_callbacks] Start epoch 342 of training; got log keys: []\n",
      "25000/25000 [==============================] - 33s 1ms/step - loss: 0.4574 - precision_top10: 0.6317\n",
      "[cf_callbacks] End epoch 342 of training; got log keys: ['loss', 'precision_top10']\n",
      "Epoch 344/500\n",
      "[cf_callbacks] Start epoch 343 of training; got log keys: []\n",
      "25000/25000 [==============================] - 28s 1ms/step - loss: 0.4579 - precision_top10: 0.6307\n",
      "[cf_callbacks] End epoch 343 of training; got log keys: ['loss', 'precision_top10']\n",
      "Epoch 345/500\n",
      "[cf_callbacks] Start epoch 344 of training; got log keys: []\n",
      "25000/25000 [==============================] - 28s 1ms/step - loss: 0.4579 - precision_top10: 0.6313\n",
      "[cf_callbacks] End epoch 344 of training; got log keys: ['loss', 'precision_top10']\n",
      "Epoch 346/500\n",
      "[cf_callbacks] Start epoch 345 of training; got log keys: []\n",
      "25000/25000 [==============================] - 28s 1ms/step - loss: 0.4577 - precision_top10: 0.6327\n",
      "[cf_callbacks] End epoch 345 of training; got log keys: ['loss', 'precision_top10']\n",
      "Epoch 347/500\n",
      "[cf_callbacks] Start epoch 346 of training; got log keys: []\n",
      "25000/25000 [==============================] - 28s 1ms/step - loss: 0.4578 - precision_top10: 0.6315\n",
      "[cf_callbacks] End epoch 346 of training; got log keys: ['loss', 'precision_top10']\n",
      "Epoch 348/500\n",
      "[cf_callbacks] Start epoch 347 of training; got log keys: []\n",
      "25000/25000 [==============================] - 28s 1ms/step - loss: 0.4567 - precision_top10: 0.6340\n",
      "[cf_callbacks] End epoch 347 of training; got log keys: ['loss', 'precision_top10']\n",
      "Epoch 349/500\n",
      "[cf_callbacks] Start epoch 348 of training; got log keys: []\n",
      "25000/25000 [==============================] - 28s 1ms/step - loss: 0.4572 - precision_top10: 0.6327\n",
      "[cf_callbacks] End epoch 348 of training; got log keys: ['loss', 'precision_top10']\n",
      "Epoch 350/500\n",
      "[cf_callbacks] Start epoch 349 of training; got log keys: []\n",
      "25000/25000 [==============================] - 28s 1ms/step - loss: 0.4579 - precision_top10: 0.6307\n",
      "[cf_callbacks] End epoch 349 of training; got log keys: ['loss', 'precision_top10']\n",
      "Epoch 351/500\n",
      "[cf_callbacks] Start epoch 350 of training; got log keys: []\n",
      "25000/25000 [==============================] - 28s 1ms/step - loss: 0.4572 - precision_top10: 0.6323\n",
      "[cf_callbacks] End epoch 350 of training; got log keys: ['loss', 'precision_top10']\n",
      "Epoch 352/500\n",
      "[cf_callbacks] Start epoch 351 of training; got log keys: []\n",
      "25000/25000 [==============================] - 28s 1ms/step - loss: 0.4564 - precision_top10: 0.6339\n",
      "[cf_callbacks] End epoch 351 of training; got log keys: ['loss', 'precision_top10']\n",
      "Epoch 353/500\n",
      "[cf_callbacks] Start epoch 352 of training; got log keys: []\n",
      "25000/25000 [==============================] - 28s 1ms/step - loss: 0.4566 - precision_top10: 0.6345\n",
      "[cf_callbacks] End epoch 352 of training; got log keys: ['loss', 'precision_top10']\n",
      "Epoch 354/500\n",
      "[cf_callbacks] Start epoch 353 of training; got log keys: []\n",
      "25000/25000 [==============================] - 28s 1ms/step - loss: 0.4567 - precision_top10: 0.6340\n",
      "[cf_callbacks] End epoch 353 of training; got log keys: ['loss', 'precision_top10']\n",
      "Epoch 355/500\n",
      "[cf_callbacks] Start epoch 354 of training; got log keys: []\n",
      "25000/25000 [==============================] - 28s 1ms/step - loss: 0.4567 - precision_top10: 0.6341\n",
      "[cf_callbacks] End epoch 354 of training; got log keys: ['loss', 'precision_top10']\n",
      "Epoch 356/500\n",
      "[cf_callbacks] Start epoch 355 of training; got log keys: []\n",
      "25000/25000 [==============================] - 28s 1ms/step - loss: 0.4569 - precision_top10: 0.6346\n",
      "[cf_callbacks] End epoch 355 of training; got log keys: ['loss', 'precision_top10']\n",
      "Epoch 357/500\n",
      "[cf_callbacks] Start epoch 356 of training; got log keys: []\n",
      "25000/25000 [==============================] - 28s 1ms/step - loss: 0.4572 - precision_top10: 0.6318\n",
      "[cf_callbacks] End epoch 356 of training; got log keys: ['loss', 'precision_top10']\n",
      "Epoch 358/500\n",
      "[cf_callbacks] Start epoch 357 of training; got log keys: []\n",
      " 5600/25000 [=====>........................] - ETA: 21s - loss: 0.4567 - precision_top10: 0.6355"
     ]
    }
   ],
   "source": [
    "trainer = Trainer(modelID, datasetID, True); #true will load latest checkpoints\n",
    "\n",
    "# trainer.train(Epochs= 500, BatchSize=32, Callbacks={'per_epoch':5}, Verbose= 1)\n",
    "\n",
    "#save first epoch\n",
    "trainer.train(Epochs= 500, BatchSize=32, Callbacks={'per_epoch': 1, 'csv_logger': 1, 'upload_history': 1, 'custom_callbacks': 'on_epoch_end'}, Verbose= 1)\n",
    "trainer.plt_history()"
   ]
  },
  {
   "cell_type": "code",
   "execution_count": null,
   "metadata": {
    "colab": {},
    "colab_type": "code",
    "id": "y3LKfokmpz0c"
   },
   "outputs": [],
   "source": [
    "trainer._MODEL.load_latest_checkpoihnbnt()\n",
    "#trainer._MODEL._M.summary()"
   ]
  },
  {
   "cell_type": "code",
   "execution_count": null,
   "metadata": {},
   "outputs": [],
   "source": [
    "for key in trainer._INFO['history'].history:\n",
    "    print(\"{0}=>{1}\".format(key, trainer._INFO['history'].history[key]))"
   ]
  },
  {
   "cell_type": "code",
   "execution_count": null,
   "metadata": {},
   "outputs": [],
   "source": [
    "list = {};\n",
    "list['a'] = 'A'\n",
    "list['b'] = {'B': 'BB'}\n",
    "list['b']['B']"
   ]
  },
  {
   "cell_type": "markdown",
   "metadata": {
    "colab": {},
    "colab_type": "code",
    "id": "1fdtwrWapz0g"
   },
   "source": [
    "##### k = Sequential()\n",
    "k.add(LSTM(units=80, activation='relu', return_sequences=True, input_shape=(15,80)) ); #input_shape=(15,80) ));\n",
    "k.add(LSTM(units=160, activation='relu'))\n",
    "k.add(Dense(units=160, activation='relu'));\n",
    "k.add(Dense(80, activation='sigmoid'));\n",
    "k.compile(optimizer='adam', loss='mse', metrics=['accuracy'])\n",
    "k.summary()"
   ]
  },
  {
   "cell_type": "code",
   "execution_count": null,
   "metadata": {
    "colab": {},
    "colab_type": "code",
    "id": "q3G9_KeYpz0j"
   },
   "outputs": [],
   "source": [
    "trainer._MODEL._M = k;\n",
    "trainer.train(Epochs=10, BatchSize=100, Callbacks={'per_epoch':5})\n",
    "\n",
    "#trainer._MODEL._D_X_SHAPE"
   ]
  },
  {
   "cell_type": "code",
   "execution_count": null,
   "metadata": {
    "colab": {},
    "colab_type": "code",
    "id": "asAoOptxW1l_"
   },
   "outputs": [],
   "source": [
    "## Print tree structure of Data folder\n",
    "#!apt-get install tree\n",
    "!tree '../data/keno'"
   ]
  },
  {
   "cell_type": "code",
   "execution_count": null,
   "metadata": {
    "colab": {},
    "colab_type": "code",
    "id": "diG-yLNjpz0q",
    "outputId": "58c88518-37da-476c-bcd1-bdffd21e69a4"
   },
   "outputs": [],
   "source": [
    "dat = Dataset('keno_x15_25k_dr')\n",
    "dat.load()\n",
    "mod = Model('keno.ker.4.1.e0010',dat)\n",
    "mod.load()\n",
    "mod.print_summary()"
   ]
  },
  {
   "cell_type": "markdown",
   "metadata": {
    "colab_type": "text",
    "id": "0DHWdaI7Y3EO"
   },
   "source": [
    "## Training ground"
   ]
  },
  {
   "cell_type": "code",
   "execution_count": null,
   "metadata": {
    "colab": {},
    "colab_type": "code",
    "id": "08Qrou6cY3EP"
   },
   "outputs": [],
   "source": [
    "!python3 '../idataset.py'\n",
    "\n",
    "datasetID = 'keno_x15_100k_dr'\n",
    "\n",
    "d = Dataset(datasetID)\n",
    "d.load();\n",
    "dataset = d._D;"
   ]
  },
  {
   "cell_type": "code",
   "execution_count": null,
   "metadata": {
    "colab": {},
    "colab_type": "code",
    "id": "xaLqYQubY3ET"
   },
   "outputs": [],
   "source": [
    "import keras as kr\n",
    "from keras.models import Sequential\n",
    "from keras.layers import LSTM, Dense\n",
    "\n",
    "!python3 '../imodel.py'\n",
    "!python3 '../ker_model.py'\n",
    "!python3 '../ker_model_loader.py'\n",
    "\n",
    "modelID = 'keno.ker.4.11.0'\n",
    "\n",
    "#Keno.ker.1.1\n",
    "Model = KER_Model(modelID, d);\n",
    "KER_Model_Loader(Model);\n",
    "\n",
    "Model.save_untrained()\n",
    "Model.print_summary();"
   ]
  },
  {
   "cell_type": "code",
   "execution_count": null,
   "metadata": {
    "colab": {},
    "colab_type": "code",
    "id": "NOVlO5n5Y3EW"
   },
   "outputs": [],
   "source": [
    "Model._M.fit(d._D['X'], d._D['Y'], epochs=10, verbose=1)"
   ]
  },
  {
   "cell_type": "code",
   "execution_count": null,
   "metadata": {
    "colab": {},
    "colab_type": "code",
    "id": "Mfj7Bb7EY3EY"
   },
   "outputs": [],
   "source": [
    "kr.get_untrained_folder_path()"
   ]
  },
  {
   "cell_type": "code",
   "execution_count": null,
   "metadata": {
    "colab": {},
    "colab_type": "code",
    "id": "LUoEwr7pY3Ec"
   },
   "outputs": [],
   "source": [
    "%run 'idataset.py'"
   ]
  },
  {
   "cell_type": "code",
   "execution_count": null,
   "metadata": {
    "colab": {},
    "colab_type": "code",
    "id": "RQLASkWFp9FG"
   },
   "outputs": [],
   "source": [
    "cd ../"
   ]
  },
  {
   "cell_type": "code",
   "execution_count": null,
   "metadata": {
    "colab": {},
    "colab_type": "code",
    "id": "tjd-IpKHu0M_"
   },
   "outputs": [],
   "source": [
    "import sys\n",
    "sys.path.append('/content/g_drive/My Drive/Colab/Datascience/ai_lotto')"
   ]
  },
  {
   "cell_type": "code",
   "execution_count": null,
   "metadata": {
    "colab": {},
    "colab_type": "code",
    "id": "3VcDbFOErusT"
   },
   "outputs": [],
   "source": [
    "from idataset import Dataset\n",
    "d = Dataset('keno_x15_2.528m_dr')\n",
    "d._FULL_PATH"
   ]
  },
  {
   "cell_type": "code",
   "execution_count": null,
   "metadata": {
    "colab": {},
    "colab_type": "code",
    "id": "HuW0pgE-pz1M"
   },
   "outputs": [],
   "source": []
  },
  {
   "cell_type": "code",
   "execution_count": null,
   "metadata": {
    "colab": {},
    "colab_type": "code",
    "id": "SDgu4-lEpz1Q"
   },
   "outputs": [],
   "source": []
  }
 ],
 "metadata": {
  "accelerator": "TPU",
  "colab": {
   "machine_shape": "hm",
   "name": "model_trainer.ipynb",
   "provenance": []
  },
  "kernelspec": {
   "display_name": "Python 3",
   "language": "python",
   "name": "python3"
  },
  "language_info": {
   "codemirror_mode": {
    "name": "ipython",
    "version": 3
   },
   "file_extension": ".py",
   "mimetype": "text/x-python",
   "name": "python",
   "nbconvert_exporter": "python",
   "pygments_lexer": "ipython3",
   "version": "3.6.9"
  }
 },
 "nbformat": 4,
 "nbformat_minor": 4
}
