{
 "cells": [
  {
   "cell_type": "markdown",
   "metadata": {
    "colab_type": "text",
    "id": "Qzqpaam_pzzE"
   },
   "source": [
    "<a href=\"https://colab.research.google.com/github/medikid/ai_lotto/blob/master/notebooks/model_trainer.ipynb\" target=\"_parent\"><img src=\"https://colab.research.google.com/assets/colab-badge.svg\" alt=\"Open In Colab\"/></a>"
   ]
  },
  {
   "cell_type": "markdown",
   "metadata": {
    "colab_type": "text",
    "id": "_faJdu-MIYpM"
   },
   "source": [
    "## **Initiate Collab Notebook and setup Google Drive**"
   ]
  },
  {
   "cell_type": "markdown",
   "metadata": {
    "colab_type": "text",
    "id": "sBdFdcifYdxv"
   },
   "source": [
    "## Mount Google Drive"
   ]
  },
  {
   "cell_type": "code",
   "execution_count": null,
   "metadata": {
    "colab": {
     "base_uri": "https://localhost:8080/",
     "height": 124
    },
    "colab_type": "code",
    "id": "QUZLPAzg_vMn",
    "outputId": "66d38aab-5b3c-482a-e81f-9fa3a512ef8b"
   },
   "outputs": [],
   "source": [
    "#init colab notebooks\n",
    "\n",
    "from google.colab import drive\n",
    "drive.mount('/content/g_drive')"
   ]
  },
  {
   "cell_type": "code",
   "execution_count": null,
   "metadata": {},
   "outputs": [],
   "source": [
    "#perform all actions at once\n",
    "#!mkdir my_drive\n",
    "!ln -s \"/content/g_drive/My Drive/Colab/Datascience/ai_lotto\" \"/content\"\n",
    "%cd \"/content/ai_lotto\"\n",
    "\n",
    "import sys\n",
    "sys.path.append('/content/ai_lotto')\n",
    "%cd notebooks/\n",
    "\n",
    "%run '../ifile.py'\n",
    "%run '../idata.py'\n",
    "%run '../idataset.py'\n",
    "%run '../imodel.py'\n",
    "%run '../ker_model.py'\n",
    "%run '../ker_model_loader.py'\n",
    "%run '../tfl_model.py'\n",
    "%run '../ai.py'\n",
    "%run '../itrainer.py'\n",
    "%run '../custom_functions.py'\n",
    "%run '../custom_callbacks.py'\n"
   ]
  },
  {
   "cell_type": "code",
   "execution_count": null,
   "metadata": {
    "colab": {},
    "colab_type": "code",
    "id": "HSiSJRZsgJ2s"
   },
   "outputs": [],
   "source": [
    "from pydrive.auth import GoogleAuth\n",
    "from pydrive.drive import GoogleDrive\n",
    "from google.colab import auth\n",
    "from oauth2client.client import GoogleCredentials\n",
    "\n",
    "auth.authenticate_user()\n",
    "gauth = GoogleAuth()\n",
    "gauth.credentials = GoogleCredentials.get_application_default()\n",
    "drive = GoogleDrive(gauth)"
   ]
  },
  {
   "cell_type": "code",
   "execution_count": null,
   "metadata": {
    "colab": {},
    "colab_type": "code",
    "id": "1k0iQXOSha1f"
   },
   "outputs": [],
   "source": [
    "#!mkdir my_drive\n",
    "!ln -s \"/content/g_drive/My Drive/Colab/Datascience/ai_lotto\" \"/content\""
   ]
  },
  {
   "cell_type": "code",
   "execution_count": null,
   "metadata": {
    "colab": {
     "base_uri": "https://localhost:8080/",
     "height": 35
    },
    "colab_type": "code",
    "id": "_lhfdVWHURF6",
    "outputId": "f45139bf-ec7c-4cd4-f7f7-f175bb2decb0"
   },
   "outputs": [],
   "source": [
    "%cd \"/content/ai_lotto\"\n",
    "\n",
    "import sys\n",
    "sys.path.append('/content/ai_lotto')"
   ]
  },
  {
   "cell_type": "code",
   "execution_count": null,
   "metadata": {
    "colab": {
     "base_uri": "https://localhost:8080/",
     "height": 35
    },
    "colab_type": "code",
    "id": "r530UEutqIBB",
    "outputId": "7109934a-eec1-4642-8c96-e6f0d87f28e8"
   },
   "outputs": [],
   "source": [
    "%cd notebooks/"
   ]
  },
  {
   "cell_type": "markdown",
   "metadata": {
    "colab_type": "text",
    "id": "3oixeDY6pzzh"
   },
   "source": [
    "# GIthub Functions"
   ]
  },
  {
   "cell_type": "markdown",
   "metadata": {
    "colab_type": "text",
    "id": "lPoAgspipzzi"
   },
   "source": [
    "## Git ADD, COMMIT and PUSH to remote"
   ]
  },
  {
   "cell_type": "code",
   "execution_count": null,
   "metadata": {
    "colab": {},
    "colab_type": "code",
    "id": "MxORrMbxpzzj"
   },
   "outputs": [],
   "source": [
    "!git add -A .\n",
    "!git commit -m \"Added git functions\"\n",
    "!git push origin master"
   ]
  },
  {
   "cell_type": "markdown",
   "metadata": {
    "colab_type": "text",
    "id": "PTSDkZqTpzzp"
   },
   "source": [
    "## Git Pull from remote github repo"
   ]
  },
  {
   "cell_type": "code",
   "execution_count": null,
   "metadata": {
    "colab": {
     "base_uri": "https://localhost:8080/",
     "height": 35
    },
    "colab_type": "code",
    "id": "kads4KiNpzzq",
    "outputId": "806b2527-d8da-44d0-ed79-2151692f1962"
   },
   "outputs": [],
   "source": [
    "!git pull"
   ]
  },
  {
   "cell_type": "markdown",
   "metadata": {
    "colab_type": "text",
    "id": "_9LGmmy0pzzv"
   },
   "source": [
    "## Git conflict local - so reset local to match remote"
   ]
  },
  {
   "cell_type": "code",
   "execution_count": null,
   "metadata": {
    "colab": {},
    "colab_type": "code",
    "id": "w4ogIOktpzzw"
   },
   "outputs": [],
   "source": [
    "!git fetch --all\n",
    "!git reset --hard origin/master\n",
    "!git pull"
   ]
  },
  {
   "cell_type": "markdown",
   "metadata": {
    "colab_type": "text",
    "id": "kaRhCiXWpzz0"
   },
   "source": [
    "## Unpushed local changes - Stash local, Pull Remote and write local changes to pulled remote"
   ]
  },
  {
   "cell_type": "code",
   "execution_count": null,
   "metadata": {
    "colab": {},
    "colab_type": "code",
    "id": "JF_Mvzh2pzz1"
   },
   "outputs": [],
   "source": [
    "!git stash\n",
    "!git pull\n",
    "!git stash pop"
   ]
  },
  {
   "cell_type": "markdown",
   "metadata": {
    "colab_type": "text",
    "id": "nMLT0utQpzz6"
   },
   "source": [
    "## Setup git config repo"
   ]
  },
  {
   "cell_type": "code",
   "execution_count": null,
   "metadata": {
    "colab": {},
    "colab_type": "code",
    "id": "_YqFc8H7pzz7"
   },
   "outputs": [],
   "source": [
    "#!git config --global user.email \"soma.programmer@gmail.com\"\n",
    "#!git config --global user.name \"medikid\"\n",
    "\n",
    "#!git remote set-url origin https://github.com/medikid/ai_lotto.git\n"
   ]
  },
  {
   "cell_type": "code",
   "execution_count": null,
   "metadata": {
    "colab": {},
    "colab_type": "code",
    "id": "uQR0184Opzz_"
   },
   "outputs": [],
   "source": [
    "!git remote show origin"
   ]
  },
  {
   "cell_type": "markdown",
   "metadata": {
    "colab_type": "text",
    "id": "ZTGj4TiYA56S"
   },
   "source": [
    "# lists all classes in the order of loading"
   ]
  },
  {
   "cell_type": "code",
   "execution_count": null,
   "metadata": {
    "colab": {},
    "colab_type": "code",
    "id": "uPJSKlxjTq7h"
   },
   "outputs": [],
   "source": [
    "!pip install -r ../requirements.txt"
   ]
  },
  {
   "cell_type": "code",
   "execution_count": 1,
   "metadata": {
    "colab": {},
    "colab_type": "code",
    "id": "HQ96r5CZpz0J"
   },
   "outputs": [
    {
     "name": "stderr",
     "output_type": "stream",
     "text": [
      "Using TensorFlow backend.\n"
     ]
    }
   ],
   "source": [
    "# %load '../load_lib.py'\n",
    "\n",
    "%run '../ifile.py'\n",
    "%run '../idata.py'\n",
    "%run '../idataset.py'\n",
    "%run '../imodel.py'\n",
    "%run '../ker_model.py'\n",
    "%run '../ker_model_loader.py'\n",
    "%run '../tfl_model.py'\n",
    "%run '../ai.py'\n",
    "%run '../itrainer.py'\n",
    "%run '../custom_functions.py'\n",
    "%run '../custom_callbacks.py'\n"
   ]
  },
  {
   "cell_type": "code",
   "execution_count": null,
   "metadata": {
    "colab": {},
    "colab_type": "code",
    "id": "7RX-fWSopz0P"
   },
   "outputs": [],
   "source": [
    "%cd '..'\n",
    "\n",
    "from ifile import iFile\n",
    "from idata import Data\n",
    "from idataset import Dataset\n",
    "from imodel import Model\n",
    "from ker_model import KER_Model\n",
    "from ker_model_loader import KER_Model_Loader\n",
    "from tfl_model import TFL_Model\n",
    "from ai import AI\n",
    "from itrainer import Trainer\n",
    "\n",
    "%cd 'notebooks'"
   ]
  },
  {
   "cell_type": "markdown",
   "metadata": {
    "colab_type": "text",
    "id": "EDGSqErkA57E"
   },
   "source": [
    "## Dataset Prep"
   ]
  },
  {
   "cell_type": "markdown",
   "metadata": {
    "colab_type": "text",
    "id": "DqhO4xyyLHsQ"
   },
   "source": [
    "## Initial Training"
   ]
  },
  {
   "cell_type": "code",
   "execution_count": 4,
   "metadata": {
    "colab": {
     "base_uri": "https://localhost:8080/",
     "height": 52
    },
    "colab_type": "code",
    "id": "pX9l2CT3A57K",
    "outputId": "0533f252-5a44-4ce4-bf16-cd65ba1804bc"
   },
   "outputs": [
    {
     "name": "stdout",
     "output_type": "stream",
     "text": [
      "Dataset ID: hotspot_x15_25k_dr\n",
      "Model ID: hotspot.ker.4.13.1\n"
     ]
    }
   ],
   "source": [
    "import keras as kr\n",
    "from keras.models import Sequential\n",
    "from keras.layers import LSTM, Dense\n",
    "\n",
    "#----------------------------------------------------\n",
    "_GAME = 'hotspot';  _API = 'ker';\n",
    "_xnINPUTS='x15'; _xnDRAWS='25k'; _DATA_TYPE = 'dr'; \n",
    "_BUILD = '4'; _MAKE = '13' ; _VERSION='1'; #v0 is untrained, 1 is load new build\n",
    "\n",
    "datasetID = \"{0}_{1}_{2}_{3}\".format(_GAME,_xnINPUTS,_xnDRAWS,_DATA_TYPE)\n",
    "modelID = \"{0}.{1}.{2}.{3}.{4}\".format(_GAME,_API,_BUILD,_MAKE,_VERSION)\n",
    "#------------------------------------------------------------\n",
    "\n",
    "print(\"Dataset ID: {0}\".format(datasetID))\n",
    "print(\"Model ID: {0}\".format(modelID))"
   ]
  },
  {
   "cell_type": "markdown",
   "metadata": {
    "colab_type": "text",
    "id": "qDt9wmLRLHsS"
   },
   "source": [
    "## Incremental Checkpoint Training"
   ]
  },
  {
   "cell_type": "code",
   "execution_count": 3,
   "metadata": {
    "colab": {
     "base_uri": "https://localhost:8080/",
     "height": 51
    },
    "colab_type": "code",
    "id": "F9zdElq3LHsT",
    "outputId": "d731d42a-448a-405f-a9b0-17bba6dfbb25"
   },
   "outputs": [
    {
     "name": "stdout",
     "output_type": "stream",
     "text": [
      "Dataset ID: hotspot_x15_25k_dr\n",
      "Model ID: hotspot.ker.4.13.e0001\n"
     ]
    }
   ],
   "source": [
    "import keras as kr\n",
    "from keras.models import Sequential\n",
    "from keras.layers import LSTM, Dense\n",
    "\n",
    "#----------------------------------------------------\n",
    "_GAME = 'hotspot';  _LOAD_CHECKPOINT = 1;\n",
    "_xnINPUTS='x15'; _xnDRAWS='25k'; _DATA_TYPE = 'dr'; \n",
    "_API = 'ker'; _BUILD = '4'; _MAKE = '13' ; _VERSION='e' + str(_LOAD_CHECKPOINT).zfill(4);\n",
    "\n",
    "datasetID = \"{0}_{1}_{2}_{3}\".format(_GAME,_xnINPUTS,_xnDRAWS,_DATA_TYPE)\n",
    "modelID = \"{0}.{1}.{2}.{3}.{4}\".format(_GAME,_API,_BUILD,_MAKE,_VERSION)\n",
    "#------------------------------------------------------------\n",
    "\n",
    "print(\"Dataset ID: {0}\".format(datasetID))\n",
    "print(\"Model ID: {0}\".format(modelID))"
   ]
  },
  {
   "cell_type": "markdown",
   "metadata": {
    "colab_type": "text",
    "id": "_L08tPUnLHsV"
   },
   "source": [
    "# TRAINING"
   ]
  },
  {
   "cell_type": "code",
   "execution_count": 5,
   "metadata": {
    "colab": {
     "base_uri": "https://localhost:8080/",
     "height": 486
    },
    "colab_type": "code",
    "id": "ipSXZSs1pz0Y",
    "outputId": "2227d18e-cd2c-47d9-de00-239278169984"
   },
   "outputs": [
    {
     "name": "stdout",
     "output_type": "stream",
     "text": [
      "xndraw25k, new_st25.0, multiple1000, notationk\n",
      "[iFile:__init__]\n",
      "xndraw25k, new_st25.0, multiple1000, notationk\n",
      "[iFile:derive_game_path]data/hotspot/\n",
      "[iFile:derive_folder_path] data/hotspot/x15/25k/\n",
      "[iDataset:derive_file_path] datasets/hotspot_x15_25k_dr.npz\n",
      "[ifile:derive_full_path] ../data/hotspot/x15/25k/datasets/hotspot_x15_25k_dr.npz\n",
      "Loading dataset ../data/hotspot/x15/25k/datasets/hotspot_x15_25k_dr.npz\n",
      "[iModel:decipher_file_name]\n",
      "[iModel:set_decipher_info] {'GAME': 'hotspot', 'xnINPUTS': 'x15', 'nINPUTS': 15, 'xnDRAWS': '25k', 'nDRAWS': 25000, 'DATA_TYPE': 'dr', 'API': 'ker', 'BUILD': '4', 'MAKE': '13', 'VERSION': '1', 'IS_CHECKPOINT': False, 'CHECKPOINT_EPOCH': 0}\n",
      "[iFile:__init__]\n",
      "[iModel:decipher_file_name]\n",
      "[iModel:set_decipher_info] {'GAME': 'hotspot', 'xnINPUTS': 'x15', 'nINPUTS': 15, 'xnDRAWS': '25k', 'nDRAWS': 25000, 'DATA_TYPE': 'dr', 'API': 'ker', 'BUILD': '4', 'MAKE': '13', 'VERSION': '1', 'IS_CHECKPOINT': False, 'CHECKPOINT_EPOCH': 0}\n",
      "[iModel:derive_file_path] models/ker/4/13/hotspot.ker.4.13.1.h5\n",
      "[iFile:derive_game_path]data/hotspot/\n",
      "[ifile:derive_full_path] ../data/hotspot/x15/25k/models/ker/4/13/hotspot.ker.4.13.1.h5\n",
      "[iModel:derive_checkpoints_folder] Ensured ../data/hotspot/x15/25k/models/ker/4/13/checkpoints/\n",
      "[iModel:__init__\n",
      "[Model:loader] converted Model to KER_Model\n",
      "[KER_Model:load]: Loading new build ../data/hotspot/x15/25k/models/ker/4/13/hotspot.ker.4.13.1.h5\n",
      "[KER_Model_loader: loaded new build 4.13]\n",
      "Latest checkpoint is 51\n",
      "Unable to load due to usage of unserializable custom model/layer/metrics\n",
      "Solution: Build/compile new model and load weights from checkpoint file\n",
      "[KER_Model_loader: loaded new build 4.13]\n",
      "[KER_Model:load_checkpoint] Loaded ../data/hotspot/x15/25k/models/ker/4/13/checkpoints/hotspot.ker.4.13.e0051.h5\n",
      "[iModel:derive_checkpoints_folder] Ensured ../data/hotspot/x15/25k/models/ker/4/13/checkpoints/\n",
      "[itrainer:set_checkpoint_per_epoch] added model_checkpoint callback\n",
      "[itrainer:get_csv_histry] added csv_logger callback\n",
      "[itrainer:uplload_histry_per_epoch] added db_upload_history callback\n",
      "[itrainer:set_custom_callbacks] added custom_callback on_epoch_end\n",
      "Epoch 52/75\n",
      "[cf_callbacks] Start epoch 51 of training; got log keys: []\n",
      "25000/25000 [==============================] - 29s 1ms/step - loss: 0.5217 - precision_top10: 0.4714\n",
      "[cf_callbacks] End epoch 51 of training; got log keys: ['loss', 'precision_top10']\n",
      "Epoch 53/75\n",
      "[cf_callbacks] Start epoch 52 of training; got log keys: []\n",
      "25000/25000 [==============================] - 28s 1ms/step - loss: 0.5202 - precision_top10: 0.4768\n",
      "[cf_callbacks] End epoch 52 of training; got log keys: ['loss', 'precision_top10']\n",
      "Epoch 54/75\n",
      "[cf_callbacks] Start epoch 53 of training; got log keys: []\n",
      "25000/25000 [==============================] - 28s 1ms/step - loss: 0.5202 - precision_top10: 0.4759\n",
      "[cf_callbacks] End epoch 53 of training; got log keys: ['loss', 'precision_top10']\n",
      "Epoch 55/75\n",
      "[cf_callbacks] Start epoch 54 of training; got log keys: []\n",
      "25000/25000 [==============================] - 28s 1ms/step - loss: 0.5194 - precision_top10: 0.4783\n",
      "[cf_callbacks] End epoch 54 of training; got log keys: ['loss', 'precision_top10']\n",
      "Epoch 56/75\n",
      "[cf_callbacks] Start epoch 55 of training; got log keys: []\n",
      "25000/25000 [==============================] - 28s 1ms/step - loss: 0.5189 - precision_top10: 0.4797\n",
      "[cf_callbacks] End epoch 55 of training; got log keys: ['loss', 'precision_top10']\n",
      "Epoch 57/75\n",
      "[cf_callbacks] Start epoch 56 of training; got log keys: []\n",
      "25000/25000 [==============================] - 28s 1ms/step - loss: 0.5179 - precision_top10: 0.4834\n",
      "[cf_callbacks] End epoch 56 of training; got log keys: ['loss', 'precision_top10']\n",
      "Epoch 58/75\n",
      "[cf_callbacks] Start epoch 57 of training; got log keys: []\n",
      "25000/25000 [==============================] - 28s 1ms/step - loss: 0.5173 - precision_top10: 0.4855\n",
      "[cf_callbacks] End epoch 57 of training; got log keys: ['loss', 'precision_top10']\n",
      "Epoch 59/75\n",
      "[cf_callbacks] Start epoch 58 of training; got log keys: []\n",
      "25000/25000 [==============================] - 28s 1ms/step - loss: 0.5169 - precision_top10: 0.4860\n",
      "[cf_callbacks] End epoch 58 of training; got log keys: ['loss', 'precision_top10']\n",
      "Epoch 60/75\n",
      "[cf_callbacks] Start epoch 59 of training; got log keys: []\n",
      "25000/25000 [==============================] - 28s 1ms/step - loss: 0.5160 - precision_top10: 0.4886\n",
      "[cf_callbacks] End epoch 59 of training; got log keys: ['loss', 'precision_top10']\n",
      "Epoch 61/75\n",
      "[cf_callbacks] Start epoch 60 of training; got log keys: []\n",
      "25000/25000 [==============================] - 28s 1ms/step - loss: 0.5153 - precision_top10: 0.4911\n",
      "[cf_callbacks] End epoch 60 of training; got log keys: ['loss', 'precision_top10']\n",
      "Epoch 62/75\n",
      "[cf_callbacks] Start epoch 61 of training; got log keys: []\n",
      "25000/25000 [==============================] - 26s 1ms/step - loss: 0.5152 - precision_top10: 0.4918\n",
      "[cf_callbacks] End epoch 61 of training; got log keys: ['loss', 'precision_top10']\n",
      "Epoch 63/75\n",
      "[cf_callbacks] Start epoch 62 of training; got log keys: []\n",
      "25000/25000 [==============================] - 27s 1ms/step - loss: 0.5143 - precision_top10: 0.4928\n",
      "[cf_callbacks] End epoch 62 of training; got log keys: ['loss', 'precision_top10']\n",
      "Epoch 64/75\n",
      "[cf_callbacks] Start epoch 63 of training; got log keys: []\n",
      "25000/25000 [==============================] - 29s 1ms/step - loss: 0.5135 - precision_top10: 0.4960\n",
      "[cf_callbacks] End epoch 63 of training; got log keys: ['loss', 'precision_top10']\n",
      "Epoch 65/75\n",
      "[cf_callbacks] Start epoch 64 of training; got log keys: []\n",
      "25000/25000 [==============================] - 26s 1ms/step - loss: 0.5126 - precision_top10: 0.4986\n",
      "[cf_callbacks] End epoch 64 of training; got log keys: ['loss', 'precision_top10']\n",
      "Epoch 66/75\n",
      "[cf_callbacks] Start epoch 65 of training; got log keys: []\n",
      "25000/25000 [==============================] - 28s 1ms/step - loss: 0.5125 - precision_top10: 0.4982\n",
      "[cf_callbacks] End epoch 65 of training; got log keys: ['loss', 'precision_top10']\n",
      "Epoch 67/75\n",
      "[cf_callbacks] Start epoch 66 of training; got log keys: []\n",
      "25000/25000 [==============================] - 27s 1ms/step - loss: 0.5119 - precision_top10: 0.5018\n",
      "[cf_callbacks] End epoch 66 of training; got log keys: ['loss', 'precision_top10']\n",
      "Epoch 68/75\n",
      "[cf_callbacks] Start epoch 67 of training; got log keys: []\n",
      "25000/25000 [==============================] - 26s 1ms/step - loss: 0.5120 - precision_top10: 0.5009\n",
      "[cf_callbacks] End epoch 67 of training; got log keys: ['loss', 'precision_top10']\n",
      "Epoch 69/75\n",
      "[cf_callbacks] Start epoch 68 of training; got log keys: []\n",
      "25000/25000 [==============================] - 26s 1ms/step - loss: 0.5112 - precision_top10: 0.5041\n",
      "[cf_callbacks] End epoch 68 of training; got log keys: ['loss', 'precision_top10']\n",
      "Epoch 70/75\n",
      "[cf_callbacks] Start epoch 69 of training; got log keys: []\n",
      "25000/25000 [==============================] - 26s 1ms/step - loss: 0.5099 - precision_top10: 0.5070\n",
      "[cf_callbacks] End epoch 69 of training; got log keys: ['loss', 'precision_top10']\n",
      "Epoch 71/75\n",
      "[cf_callbacks] Start epoch 70 of training; got log keys: []\n",
      "25000/25000 [==============================] - 26s 1ms/step - loss: 0.5095 - precision_top10: 0.5083\n",
      "[cf_callbacks] End epoch 70 of training; got log keys: ['loss', 'precision_top10']\n",
      "Epoch 72/75\n",
      "[cf_callbacks] Start epoch 71 of training; got log keys: []\n",
      "25000/25000 [==============================] - 26s 1ms/step - loss: 0.5087 - precision_top10: 0.5092\n",
      "[cf_callbacks] End epoch 71 of training; got log keys: ['loss', 'precision_top10']\n",
      "Epoch 73/75\n",
      "[cf_callbacks] Start epoch 72 of training; got log keys: []\n",
      "25000/25000 [==============================] - 28s 1ms/step - loss: 0.5083 - precision_top10: 0.5104\n",
      "[cf_callbacks] End epoch 72 of training; got log keys: ['loss', 'precision_top10']\n",
      "Epoch 74/75\n",
      "[cf_callbacks] Start epoch 73 of training; got log keys: []\n",
      "25000/25000 [==============================] - 28s 1ms/step - loss: 0.5076 - precision_top10: 0.5127\n",
      "[cf_callbacks] End epoch 73 of training; got log keys: ['loss', 'precision_top10']\n",
      "Epoch 75/75\n",
      "[cf_callbacks] Start epoch 74 of training; got log keys: []\n",
      "25000/25000 [==============================] - 30s 1ms/step - loss: 0.5070 - precision_top10: 0.5138\n",
      "[cf_callbacks] End epoch 74 of training; got log keys: ['loss', 'precision_top10']\n",
      "{'loss': [0.5217168585777283, 0.520227949886322, 0.5202357996082306, 0.5193800516653061, 0.5189456291151047, 0.5179028790807724, 0.517275799176693, 0.5168595972442627, 0.5159943118596076, 0.5153202714443207, 0.5151602082681656, 0.5142516797566414, 0.5134695986366272, 0.5126402290773392, 0.5125201353621482, 0.511936945810318, 0.512010500509739, 0.5111552164280414, 0.5098752371633053, 0.5095105191302299, 0.5087238206291199, 0.5082601911830902, 0.5076252551782131, 0.5069774179053307], 'precision_top10': [0.471428, 0.476804, 0.475864, 0.478324, 0.47966, 0.483396, 0.485512, 0.486004, 0.488576, 0.491136, 0.491816, 0.492756, 0.495984, 0.498576, 0.49816, 0.5018, 0.500908, 0.504112, 0.50704, 0.508276, 0.509184, 0.510376, 0.512744, 0.513772]}\n"
     ]
    },
    {
     "data": {
      "image/png": "[encoded data removed]",
      "text/plain": [
       "<Figure size 432x288 with 1 Axes>"
      ]
     },
     "metadata": {
      "needs_background": "light"
     },
     "output_type": "display_data"
    }
   ],
   "source": [
    "trainer = Trainer(modelID, datasetID, True); #true will load latest checkpoints\n",
    "\n",
    "# trainer.train(Epochs= 500, BatchSize=32, Callbacks={'per_epoch':5}, Verbose= 1)\n",
    "\n",
    "#save first epoch\n",
    "trainer.train(Epochs= 75, BatchSize=32, Callbacks={'per_epoch': 1, 'csv_logger': 1, 'upload_history': 1, 'custom_callbacks': 'on_epoch_end'}, Verbose= 1)\n",
    "trainer.plt_history()"
   ]
  },
  {
   "cell_type": "code",
   "execution_count": null,
   "metadata": {
    "colab": {},
    "colab_type": "code",
    "id": "y3LKfokmpz0c"
   },
   "outputs": [],
   "source": [
    "trainer._MODEL.load_latest_checkpoihnbnt()\n",
    "#trainer._MODEL._M.summary()"
   ]
  },
  {
   "cell_type": "code",
   "execution_count": null,
   "metadata": {},
   "outputs": [],
   "source": [
    "for key in trainer._INFO['history'].history:\n",
    "    print(\"{0}=>{1}\".format(key, trainer._INFO['history'].history[key]))"
   ]
  },
  {
   "cell_type": "code",
   "execution_count": null,
   "metadata": {},
   "outputs": [],
   "source": [
    "list = {};\n",
    "list['a'] = 'A'\n",
    "list['b'] = {'B': 'BB'}\n",
    "list['b']['B']"
   ]
  },
  {
   "cell_type": "markdown",
   "metadata": {
    "colab": {},
    "colab_type": "code",
    "id": "1fdtwrWapz0g"
   },
   "source": [
    "##### k = Sequential()\n",
    "k.add(LSTM(units=80, activation='relu', return_sequences=True, input_shape=(15,80)) ); #input_shape=(15,80) ));\n",
    "k.add(LSTM(units=160, activation='relu'))\n",
    "k.add(Dense(units=160, activation='relu'));\n",
    "k.add(Dense(80, activation='sigmoid'));\n",
    "k.compile(optimizer='adam', loss='mse', metrics=['accuracy'])\n",
    "k.summary()"
   ]
  },
  {
   "cell_type": "code",
   "execution_count": null,
   "metadata": {
    "colab": {},
    "colab_type": "code",
    "id": "q3G9_KeYpz0j"
   },
   "outputs": [],
   "source": [
    "trainer._MODEL._M = k;\n",
    "trainer.train(Epochs=10, BatchSize=100, Callbacks={'per_epoch':5})\n",
    "\n",
    "#trainer._MODEL._D_X_SHAPE"
   ]
  },
  {
   "cell_type": "code",
   "execution_count": null,
   "metadata": {
    "colab": {},
    "colab_type": "code",
    "id": "asAoOptxW1l_"
   },
   "outputs": [],
   "source": [
    "## Print tree structure of Data folder\n",
    "#!apt-get install tree\n",
    "!tree '../data/keno'"
   ]
  },
  {
   "cell_type": "code",
   "execution_count": null,
   "metadata": {
    "colab": {},
    "colab_type": "code",
    "id": "diG-yLNjpz0q",
    "outputId": "58c88518-37da-476c-bcd1-bdffd21e69a4"
   },
   "outputs": [],
   "source": [
    "dat = Dataset('keno_x15_25k_dr')\n",
    "dat.load()\n",
    "mod = Model('keno.ker.4.1.e0010',dat)\n",
    "mod.load()\n",
    "mod.print_summary()"
   ]
  },
  {
   "cell_type": "markdown",
   "metadata": {
    "colab_type": "text",
    "id": "0DHWdaI7Y3EO"
   },
   "source": [
    "## Training ground"
   ]
  },
  {
   "cell_type": "code",
   "execution_count": null,
   "metadata": {
    "colab": {},
    "colab_type": "code",
    "id": "08Qrou6cY3EP"
   },
   "outputs": [],
   "source": [
    "!python3 '../idataset.py'\n",
    "\n",
    "datasetID = 'keno_x15_100k_dr'\n",
    "\n",
    "d = Dataset(datasetID)\n",
    "d.load();\n",
    "dataset = d._D;"
   ]
  },
  {
   "cell_type": "code",
   "execution_count": null,
   "metadata": {
    "colab": {},
    "colab_type": "code",
    "id": "xaLqYQubY3ET"
   },
   "outputs": [],
   "source": [
    "import keras as kr\n",
    "from keras.models import Sequential\n",
    "from keras.layers import LSTM, Dense\n",
    "\n",
    "!python3 '../imodel.py'\n",
    "!python3 '../ker_model.py'\n",
    "!python3 '../ker_model_loader.py'\n",
    "\n",
    "modelID = 'keno.ker.4.11.0'\n",
    "\n",
    "#Keno.ker.1.1\n",
    "Model = KER_Model(modelID, d);\n",
    "KER_Model_Loader(Model);\n",
    "\n",
    "Model.save_untrained()\n",
    "Model.print_summary();"
   ]
  },
  {
   "cell_type": "code",
   "execution_count": null,
   "metadata": {
    "colab": {},
    "colab_type": "code",
    "id": "NOVlO5n5Y3EW"
   },
   "outputs": [],
   "source": [
    "Model._M.fit(d._D['X'], d._D['Y'], epochs=10, verbose=1)"
   ]
  },
  {
   "cell_type": "code",
   "execution_count": null,
   "metadata": {
    "colab": {},
    "colab_type": "code",
    "id": "Mfj7Bb7EY3EY"
   },
   "outputs": [],
   "source": [
    "kr.get_untrained_folder_path()"
   ]
  },
  {
   "cell_type": "code",
   "execution_count": null,
   "metadata": {
    "colab": {},
    "colab_type": "code",
    "id": "LUoEwr7pY3Ec"
   },
   "outputs": [],
   "source": [
    "%run 'idataset.py'"
   ]
  },
  {
   "cell_type": "code",
   "execution_count": null,
   "metadata": {
    "colab": {},
    "colab_type": "code",
    "id": "RQLASkWFp9FG"
   },
   "outputs": [],
   "source": [
    "cd ../"
   ]
  },
  {
   "cell_type": "code",
   "execution_count": null,
   "metadata": {
    "colab": {},
    "colab_type": "code",
    "id": "tjd-IpKHu0M_"
   },
   "outputs": [],
   "source": [
    "import sys\n",
    "sys.path.append('/content/g_drive/My Drive/Colab/Datascience/ai_lotto')"
   ]
  },
  {
   "cell_type": "code",
   "execution_count": null,
   "metadata": {
    "colab": {},
    "colab_type": "code",
    "id": "3VcDbFOErusT"
   },
   "outputs": [],
   "source": [
    "from idataset import Dataset\n",
    "d = Dataset('keno_x15_2.528m_dr')\n",
    "d._FULL_PATH"
   ]
  },
  {
   "cell_type": "code",
   "execution_count": null,
   "metadata": {
    "colab": {},
    "colab_type": "code",
    "id": "HuW0pgE-pz1M"
   },
   "outputs": [],
   "source": []
  },
  {
   "cell_type": "code",
   "execution_count": null,
   "metadata": {
    "colab": {},
    "colab_type": "code",
    "id": "SDgu4-lEpz1Q"
   },
   "outputs": [],
   "source": []
  }
 ],
 "metadata": {
  "accelerator": "TPU",
  "colab": {
   "machine_shape": "hm",
   "name": "model_trainer.ipynb",
   "provenance": []
  },
  "kernelspec": {
   "display_name": "Python 3",
   "language": "python",
   "name": "python3"
  },
  "language_info": {
   "codemirror_mode": {
    "name": "ipython",
    "version": 3
   },
   "file_extension": ".py",
   "mimetype": "text/x-python",
   "name": "python",
   "nbconvert_exporter": "python",
   "pygments_lexer": "ipython3",
   "version": "3.6.9"
  }
 },
 "nbformat": 4,
 "nbformat_minor": 4
}
