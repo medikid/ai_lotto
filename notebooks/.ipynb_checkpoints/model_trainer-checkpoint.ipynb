{
 "cells": [
  {
   "cell_type": "markdown",
   "metadata": {},
   "source": [
    "<a href=\"https://colab.research.google.com/github/medikid/ai_lotto/blob/master/notebooks/model_trainer.ipynb\" target=\"_parent\"><img src=\"https://colab.research.google.com/assets/colab-badge.svg\" alt=\"Open In Colab\"/></a>"
   ]
  },
  {
   "cell_type": "markdown",
   "metadata": {
    "colab_type": "text",
    "id": "_faJdu-MIYpM"
   },
   "source": [
    "## **Initiate Collab Notebook and setup Google Drive**"
   ]
  },
  {
   "cell_type": "markdown",
   "metadata": {
    "colab_type": "text",
    "id": "sBdFdcifYdxv"
   },
   "source": [
    "## Mount Google Drive"
   ]
  },
  {
   "cell_type": "code",
   "execution_count": null,
   "metadata": {
    "colab": {
     "base_uri": "https://localhost:8080/",
     "height": 54
    },
    "colab_type": "code",
    "id": "QUZLPAzg_vMn",
    "outputId": "0d29fac3-c2a6-44b7-aa41-466e9d2379a8"
   },
   "outputs": [],
   "source": [
    "#init colab notebooks\n",
    "\n",
    "from google.colab import drive\n",
    "drive.mount('/content/g_drive')"
   ]
  },
  {
   "cell_type": "code",
   "execution_count": null,
   "metadata": {
    "colab": {},
    "colab_type": "code",
    "id": "HSiSJRZsgJ2s"
   },
   "outputs": [],
   "source": [
    "from pydrive.auth import GoogleAuth\n",
    "from pydrive.drive import GoogleDrive\n",
    "from google.colab import auth\n",
    "from oauth2client.client import GoogleCredentials\n",
    "\n",
    "auth.authenticate_user()\n",
    "gauth = GoogleAuth()\n",
    "gauth.credentials = GoogleCredentials.get_application_default()\n",
    "drive = GoogleDrive(gauth)"
   ]
  },
  {
   "cell_type": "code",
   "execution_count": null,
   "metadata": {
    "colab": {},
    "colab_type": "code",
    "id": "1k0iQXOSha1f"
   },
   "outputs": [],
   "source": [
    "!mkdir my_drive\n",
    "!ln -s \"/content/g_drive/My Drive/Colab\" \"/content/my_drive\""
   ]
  },
  {
   "cell_type": "code",
   "execution_count": null,
   "metadata": {
    "colab": {
     "base_uri": "https://localhost:8080/",
     "height": 34
    },
    "colab_type": "code",
    "id": "_lhfdVWHURF6",
    "outputId": "28e3d4f2-6512-4406-89d3-72a9e657b0b2"
   },
   "outputs": [],
   "source": [
    "cd \"/content/my_drive/Colab/Datascience/ai_lotto\"\n",
    "\n",
    "import sys\n",
    "sys.path.append('/content/g_drive/My Drive/Colab/Datascience/ai_lotto')"
   ]
  },
  {
   "cell_type": "code",
   "execution_count": null,
   "metadata": {
    "colab": {
     "base_uri": "https://localhost:8080/",
     "height": 34
    },
    "colab_type": "code",
    "id": "enjywhQgZinP",
    "outputId": "b8693b28-b77b-4d92-80e3-df629015504c"
   },
   "outputs": [],
   "source": [
    "pwd"
   ]
  },
  {
   "cell_type": "markdown",
   "metadata": {},
   "source": [
    "# GIthub Functions"
   ]
  },
  {
   "cell_type": "markdown",
   "metadata": {},
   "source": [
    "## Git ADD, COMMIT and PUSH to remote"
   ]
  },
  {
   "cell_type": "code",
   "execution_count": null,
   "metadata": {},
   "outputs": [],
   "source": [
    "!git add -A .\n",
    "!git commit -m \"Added git functions\"\n",
    "!git push origin master"
   ]
  },
  {
   "cell_type": "markdown",
   "metadata": {},
   "source": [
    "## Git Pull from remote github repo"
   ]
  },
  {
   "cell_type": "code",
   "execution_count": null,
   "metadata": {},
   "outputs": [],
   "source": [
    "!git pull"
   ]
  },
  {
   "cell_type": "markdown",
   "metadata": {},
   "source": [
    "## Git conflict local - so reset local to match remote"
   ]
  },
  {
   "cell_type": "code",
   "execution_count": null,
   "metadata": {},
   "outputs": [],
   "source": [
    "!git fetch --all\n",
    "!git reset --hard origin/master\n",
    "!git pull"
   ]
  },
  {
   "cell_type": "markdown",
   "metadata": {},
   "source": [
    "## Unpushed local changes - Stash local, Pull Remote and write local changes to pulled remote"
   ]
  },
  {
   "cell_type": "code",
   "execution_count": null,
   "metadata": {},
   "outputs": [],
   "source": [
    "!git stash\n",
    "!git pull\n",
    "!git stash pop"
   ]
  },
  {
   "cell_type": "markdown",
   "metadata": {},
   "source": [
    "## Setup git config repo"
   ]
  },
  {
   "cell_type": "code",
   "execution_count": null,
   "metadata": {},
   "outputs": [],
   "source": [
    "#!git config --global user.email \"soma.programmer@gmail.com\"\n",
    "#!git config --global user.name \"medikid\"\n",
    "\n",
    "#!git remote set-url origin https://github.com/medikid/ai_lotto.git\n"
   ]
  },
  {
   "cell_type": "code",
   "execution_count": null,
   "metadata": {},
   "outputs": [],
   "source": [
    "!git remote show origin"
   ]
  },
  {
   "cell_type": "markdown",
   "metadata": {
    "colab_type": "text",
    "id": "ZTGj4TiYA56S"
   },
   "source": [
    "# lists all classes in the order of loading"
   ]
  },
  {
   "cell_type": "code",
   "execution_count": null,
   "metadata": {
    "colab": {
     "base_uri": "https://localhost:8080/",
     "height": 107
    },
    "colab_type": "code",
    "id": "uPJSKlxjTq7h",
    "outputId": "5c20f0bf-97b7-4ace-ebef-70728db1c8df"
   },
   "outputs": [],
   "source": [
    "!pip install -r ../requirements.txt"
   ]
  },
  {
   "cell_type": "code",
   "execution_count": 1,
   "metadata": {},
   "outputs": [
    {
     "name": "stderr",
     "output_type": "stream",
     "text": [
      "Using TensorFlow backend.\n"
     ]
    }
   ],
   "source": [
    "# %load '../load_lib.py'\n",
    "\n",
    "%run '../ifile.py'\n",
    "%run '../idata.py'\n",
    "%run '../idataset.py'\n",
    "%run '../imodel.py'\n",
    "%run '../ker_model.py'\n",
    "%run '../ker_model_loader.py'\n",
    "%run '../tfl_model.py'\n",
    "%run '../ai.py'\n",
    "%run '../itrainer.py'\n"
   ]
  },
  {
   "cell_type": "code",
   "execution_count": null,
   "metadata": {},
   "outputs": [],
   "source": [
    "%cd '..'\n",
    "\n",
    "from ifile import iFile\n",
    "from idata import Data\n",
    "from idataset import Dataset\n",
    "from imodel import Model\n",
    "from ker_model import KER_Model\n",
    "from ker_model_loader import KER_Model_Loader\n",
    "from tfl_model import TFL_Model\n",
    "from ai import AI\n",
    "from itrainer import Trainer\n",
    "\n",
    "%cd 'notebooks'"
   ]
  },
  {
   "cell_type": "markdown",
   "metadata": {
    "colab_type": "text",
    "id": "EDGSqErkA57E"
   },
   "source": [
    "## Dataset Prep"
   ]
  },
  {
   "cell_type": "code",
   "execution_count": 3,
   "metadata": {
    "colab": {},
    "colab_type": "code",
    "id": "pX9l2CT3A57K"
   },
   "outputs": [
    {
     "name": "stdout",
     "output_type": "stream",
     "text": [
      "Dataset ID: keno_x15_25k_dr\n",
      "Model ID: keno.ker.4.1.1\n"
     ]
    }
   ],
   "source": [
    "import keras as kr\n",
    "from keras.models import Sequential\n",
    "from keras.layers import LSTM, Dense\n",
    "\n",
    "#----------------------------------------------------\n",
    "_GAME = 'keno';  \n",
    "_xnINPUTS='x15'; _xnDRAWS='25k'; _DATA_TYPE = 'dr'; \n",
    "_API = 'ker'; _BUILD = '4'; _MAKE = '1' ; _VERSION='1';\n",
    "\n",
    "datasetID = \"{0}_{1}_{2}_{3}\".format(_GAME,_xnINPUTS,_xnDRAWS,_DATA_TYPE)\n",
    "modelID = \"{0}.{1}.{2}.{3}.{4}\".format(_GAME,_API,_BUILD,_MAKE,_VERSION)\n",
    "#------------------------------------------------------------\n",
    "\n",
    "print(\"Dataset ID: {0}\".format(datasetID))\n",
    "print(\"Model ID: {0}\".format(modelID))"
   ]
  },
  {
   "cell_type": "code",
   "execution_count": 6,
   "metadata": {},
   "outputs": [
    {
     "name": "stdout",
     "output_type": "stream",
     "text": [
      "xndraw25k, new_st25.0, multiple1000, notationk\n",
      "[iFile:__init__]\n",
      "xndraw25k, new_st25.0, multiple1000, notationk\n",
      "[iFile:derive_game_path]data/keno/\n",
      "[iFile:derive_folder_path] data/keno/x15/25k/\n",
      "[iDataset:derive_file_path] datasets/keno_x15_25k_dr.npz\n",
      "[ifile:derive_full_path] ../data/keno/x15/25k/datasets/keno_x15_25k_dr.npz\n",
      "Loading dataset ../data/keno/x15/25k/datasets/keno_x15_25k_dr.npz\n",
      "[iModel:decipher_file_name]\n",
      "[iModel:set_decipher_info] {'GAME': 'keno', 'xnINPUTS': 'x15', 'nINPUTS': 15, 'xnDRAWS': '25k', 'nDRAWS': 25000, 'DATA_TYPE': 'dr', 'API': 'ker', 'BUILD': '4', 'MAKE': '1', 'VERSION': '1', 'IS_CHECKPOINT': False, 'CHECKPOINT_EPOCH': 0}\n",
      "[iFile:__init__]\n",
      "[iModel:decipher_file_name]\n",
      "[iModel:set_decipher_info] {'GAME': 'keno', 'xnINPUTS': 'x15', 'nINPUTS': 15, 'xnDRAWS': '25k', 'nDRAWS': 25000, 'DATA_TYPE': 'dr', 'API': 'ker', 'BUILD': '4', 'MAKE': '1', 'VERSION': '1', 'IS_CHECKPOINT': False, 'CHECKPOINT_EPOCH': 0}\n",
      "[iModel:derive_file_path] models/ker/4/1/keno.ker.4.1.1.h5\n",
      "[iFile:derive_game_path]data/keno/\n",
      "[ifile:derive_full_path] ../data/keno/x15/25k/models/ker/4/1/keno.ker.4.1.1.h5\n",
      "[iModel:derive_checkpoints_folder] Ensured ../data/keno/x15/25k/models/ker/4/1/checkpoints/\n",
      "[iModel:__init__\n",
      "[Model:loader] converted Model to KER_Model\n",
      "[KER_Model:load]: Loading ../data/keno/x15/25k/models/ker/4/1/keno.ker.4.1.1.h5\n",
      "[KER_Model_loader: loaded build 4]\n",
      "[iModel:derive_checkpoints_folder] Ensured ../data/keno/x15/25k/models/ker/4/1/checkpoints/\n",
      "Epoch 1/10\n",
      "25000/25000 [==============================] - 17s 680us/step - loss: 0.1902 - accuracy: 0.0147\n",
      "Epoch 2/10\n",
      "25000/25000 [==============================] - 17s 675us/step - loss: 0.1877 - accuracy: 0.0116\n",
      "Epoch 3/10\n",
      "25000/25000 [==============================] - 17s 660us/step - loss: 0.1876 - accuracy: 0.0123\n",
      "Epoch 4/10\n",
      "25000/25000 [==============================] - 16s 649us/step - loss: 0.1876 - accuracy: 0.0126\n",
      "Epoch 5/10\n",
      "25000/25000 [==============================] - 17s 676us/step - loss: 0.1876 - accuracy: 0.0126\n",
      "Epoch 6/10\n",
      "25000/25000 [==============================] - 17s 661us/step - loss: 0.1876 - accuracy: 0.0116\n",
      "Epoch 7/10\n",
      "25000/25000 [==============================] - 17s 695us/step - loss: 0.1876 - accuracy: 0.0102\n",
      "Epoch 8/10\n",
      "25000/25000 [==============================] - 17s 694us/step - loss: 0.1875 - accuracy: 0.0082\n",
      "Epoch 9/10\n",
      "25000/25000 [==============================] - 17s 694us/step - loss: 0.1875 - accuracy: 0.0084\n",
      "Epoch 10/10\n",
      "25000/25000 [==============================] - 17s 694us/step - loss: 0.1874 - accuracy: 0.0102\n"
     ]
    }
   ],
   "source": [
    "trainer = Trainer(modelID, datasetID);\n",
    "# trainer._DATASET.load()\n",
    "# trainer._MODEL.load()\n",
    "# trainer._MODEL._M.compile(optimizer='adam', loss='mse', metrics=['accuracy'])\n",
    "#trainer.set_callbacks(callbacks_list)\n",
    "# trainer._MODEL.print_summary()\n",
    "\n",
    "# trainer._MODEL._M.build()\n",
    "trainer.train(Epochs=10, BatchSize=100, Callbacks={'per_epoch':5}, Verbose=1)\n"
   ]
  },
  {
   "cell_type": "code",
   "execution_count": null,
   "metadata": {},
   "outputs": [],
   "source": [
    "trainer._MODEL.load()\n",
    "#trainer._MODEL._M.summary()"
   ]
  },
  {
   "cell_type": "code",
   "execution_count": null,
   "metadata": {},
   "outputs": [],
   "source": [
    "k = Sequential()\n",
    "k.add(LSTM(units=80, activation='relu', return_sequences=True, input_shape=(15,80)) ); #input_shape=(15,80) ));\n",
    "k.add(LSTM(units=160, activation='relu'))\n",
    "k.add(Dense(units=160, activation='relu'));\n",
    "k.add(Dense(80, activation='sigmoid'));\n",
    "k.compile(optimizer='adam', loss='mse', metrics=['accuracy'])\n",
    "k.summary()"
   ]
  },
  {
   "cell_type": "code",
   "execution_count": null,
   "metadata": {},
   "outputs": [],
   "source": [
    "trainer._MODEL._M = k;\n",
    "trainer.train(Epochs=10, BatchSize=100, Callbacks={'per_epoch':5})\n",
    "\n",
    "#trainer._MODEL._D_X_SHAPE"
   ]
  },
  {
   "cell_type": "code",
   "execution_count": null,
   "metadata": {
    "colab": {},
    "colab_type": "code",
    "id": "asAoOptxW1l_"
   },
   "outputs": [],
   "source": [
    "## Print tree structure of Data folder\n",
    "#!apt-get install tree\n",
    "!tree '../data/keno'"
   ]
  },
  {
   "cell_type": "code",
   "execution_count": 9,
   "metadata": {},
   "outputs": [
    {
     "name": "stdout",
     "output_type": "stream",
     "text": [
      "xndraw25k, new_st25.0, multiple1000, notationk\n",
      "[iFile:__init__]\n",
      "xndraw25k, new_st25.0, multiple1000, notationk\n",
      "[iFile:derive_game_path]data/keno/\n",
      "[iFile:derive_folder_path] data/keno/x15/25k/\n",
      "[iDataset:derive_file_path] datasets/keno_x15_25k_dr.npz\n",
      "[ifile:derive_full_path] ../data/keno/x15/25k/datasets/keno_x15_25k_dr.npz\n",
      "Loading dataset ../data/keno/x15/25k/datasets/keno_x15_25k_dr.npz\n",
      "[iModel:decipher_file_name]\n",
      "[iModel:set_decipher_info] {'GAME': 'keno', 'xnINPUTS': 'x15', 'nINPUTS': 15, 'xnDRAWS': '25k', 'nDRAWS': 25000, 'DATA_TYPE': 'dr', 'API': 'ker', 'BUILD': '4', 'MAKE': '1', 'VERSION': 'e0010', 'IS_CHECKPOINT': True, 'CHECKPOINT_EPOCH': 10}\n",
      "[iFile:__init__]\n",
      "[iModel:decipher_file_name]\n",
      "[iModel:set_decipher_info] {'GAME': 'keno', 'xnINPUTS': 'x15', 'nINPUTS': 15, 'xnDRAWS': '25k', 'nDRAWS': 25000, 'DATA_TYPE': 'dr', 'API': 'ker', 'BUILD': '4', 'MAKE': '1', 'VERSION': 'e0010', 'IS_CHECKPOINT': True, 'CHECKPOINT_EPOCH': 10}\n",
      "[iModel:derive_file_path] models/ker/4/1/keno.ker.4.1.e0010.h5\n",
      "[iFile:derive_game_path]data/keno/\n",
      "[ifile:derive_full_path] ../data/keno/x15/25k/models/ker/4/1/keno.ker.4.1.e0010.h5\n",
      "[iModel:derive_checkpoints_folder] Ensured ../data/keno/x15/25k/models/ker/4/1/checkpoints/\n",
      "[iModel:__init__\n",
      "[Model:loader] converted Model to KER_Model\n",
      "[KER_Model:load]: Loading ../data/keno/x15/25k/models/ker/4/1/keno.ker.4.1.e0010.h5\n",
      "[KER_Model:load_checkpoint] Loaded ../data/keno/x15/25k/models/ker/4/1/checkpoints/keno.ker.4.1.e0010.h5\n",
      "Model: \"sequential_2\"\n",
      "_________________________________________________________________\n",
      "Layer (type)                 Output Shape              Param #   \n",
      "=================================================================\n",
      "lstm_3 (LSTM)                (None, 15, 80)            51520     \n",
      "_________________________________________________________________\n",
      "lstm_4 (LSTM)                (None, 160)               154240    \n",
      "_________________________________________________________________\n",
      "dense_3 (Dense)              (None, 160)               25760     \n",
      "_________________________________________________________________\n",
      "dense_4 (Dense)              (None, 80)                12880     \n",
      "=================================================================\n",
      "Total params: 244,400\n",
      "Trainable params: 244,400\n",
      "Non-trainable params: 0\n",
      "_________________________________________________________________\n",
      "None\n"
     ]
    }
   ],
   "source": [
    "dat = Dataset('keno_x15_25k_dr')\n",
    "dat.load()\n",
    "mod = Model('keno.ker.4.1.e0010',dat)\n",
    "mod.load()\n",
    "mod.print_summary()"
   ]
  },
  {
   "cell_type": "markdown",
   "metadata": {
    "colab_type": "text",
    "id": "0DHWdaI7Y3EO"
   },
   "source": [
    "## Training ground"
   ]
  },
  {
   "cell_type": "code",
   "execution_count": null,
   "metadata": {
    "colab": {
     "base_uri": "https://localhost:8080/",
     "height": 352
    },
    "colab_type": "code",
    "id": "08Qrou6cY3EP",
    "outputId": "dfa4feb8-1419-4479-c500-f423a2940f2b"
   },
   "outputs": [],
   "source": [
    "!python3 '../idataset.py'\n",
    "\n",
    "datasetID = 'keno_x15_100k_dr'\n",
    "\n",
    "d = Dataset(datasetID)\n",
    "d.load();\n",
    "dataset = d._D;"
   ]
  },
  {
   "cell_type": "code",
   "execution_count": null,
   "metadata": {
    "colab": {
     "base_uri": "https://localhost:8080/",
     "height": 487
    },
    "colab_type": "code",
    "id": "xaLqYQubY3ET",
    "outputId": "897b2ebb-afc5-4a1d-e410-5e764c34e781"
   },
   "outputs": [],
   "source": [
    "!python3 '../imodel.py'\n",
    "!python3 '../ker_model.py'\n",
    "\n",
    "modelID = 'keno.ker.2.1'\n",
    "\n",
    "\n",
    "#Keno.ker.1.1\n",
    "k = KER_Model(modelID, d);\n",
    "k._M = Sequential()\n",
    "k._M.add(LSTM(units=100, activation='relu', input_shape=(dataset['X'].shape[1], dataset['X'].shape[2]) , return_sequences=True ));\n",
    "k._M.add(LSTM(units=100, activation='relu'))\n",
    "k._M.add(Dense(dataset['Y'].shape[1]));\n",
    "k._M.compile(optimizer='adam', loss='mse', metrics=['accuracy'])\n",
    "\n",
    "k.save_untrained();\n",
    "k.print_summary();"
   ]
  },
  {
   "cell_type": "code",
   "execution_count": null,
   "metadata": {
    "colab": {},
    "colab_type": "code",
    "id": "NOVlO5n5Y3EW",
    "outputId": "b221efab-74d2-41e6-8dc5-fa92cd01cdef"
   },
   "outputs": [],
   "source": [
    "!python3 '../imodel.py'\n",
    "!python3 '../ker_model.py'\n",
    "\n",
    "modelID = 'keno.ker.2.1'\n",
    "kr = KER_Model(modelID, d);\n",
    "kr.load_untrained();\n",
    "kr.print_summary()"
   ]
  },
  {
   "cell_type": "code",
   "execution_count": null,
   "metadata": {
    "colab": {},
    "colab_type": "code",
    "id": "Mfj7Bb7EY3EY",
    "outputId": "3d5f3f4b-2550-4fa4-b435-c2dc3c4d990c"
   },
   "outputs": [],
   "source": [
    "kr.get_untrained_folder_path()"
   ]
  },
  {
   "cell_type": "code",
   "execution_count": null,
   "metadata": {
    "colab": {
     "base_uri": "https://localhost:8080/",
     "height": 132
    },
    "colab_type": "code",
    "id": "LUoEwr7pY3Ec",
    "outputId": "e84141ef-935d-4af5-a408-cd2e75cf1782"
   },
   "outputs": [],
   "source": [
    "%run 'idataset.py'"
   ]
  },
  {
   "cell_type": "code",
   "execution_count": null,
   "metadata": {
    "colab": {},
    "colab_type": "code",
    "id": "RQLASkWFp9FG",
    "outputId": "a4762edf-84cd-4bf6-fbc9-b3f93886b484"
   },
   "outputs": [],
   "source": [
    "cd ../"
   ]
  },
  {
   "cell_type": "code",
   "execution_count": null,
   "metadata": {
    "colab": {},
    "colab_type": "code",
    "id": "tjd-IpKHu0M_"
   },
   "outputs": [],
   "source": [
    "import sys\n",
    "sys.path.append('/content/g_drive/My Drive/Colab/Datascience/ai_lotto')"
   ]
  },
  {
   "cell_type": "code",
   "execution_count": null,
   "metadata": {
    "colab": {
     "base_uri": "https://localhost:8080/",
     "height": 157
    },
    "colab_type": "code",
    "id": "3VcDbFOErusT",
    "outputId": "db4250fa-72ef-4cf7-81a8-2219ddbb0fbd"
   },
   "outputs": [],
   "source": [
    "from idataset import Dataset\n",
    "d = Dataset('keno_x15_2.528m_dr')\n",
    "d._FULL_PATH"
   ]
  },
  {
   "cell_type": "code",
   "execution_count": null,
   "metadata": {},
   "outputs": [],
   "source": []
  },
  {
   "cell_type": "code",
   "execution_count": null,
   "metadata": {},
   "outputs": [],
   "source": []
  }
 ],
 "metadata": {
  "kernelspec": {
   "display_name": "Python 3",
   "language": "python",
   "name": "python3"
  },
  "language_info": {
   "codemirror_mode": {
    "name": "ipython",
    "version": 3
   },
   "file_extension": ".py",
   "mimetype": "text/x-python",
   "name": "python",
   "nbconvert_exporter": "python",
   "pygments_lexer": "ipython3",
   "version": "3.6.9"
  }
 },
 "nbformat": 4,
 "nbformat_minor": 4
}
