{
 "cells": [
  {
   "cell_type": "code",
   "execution_count": 38,
   "metadata": {},
   "outputs": [
    {
     "name": "stdout",
     "output_type": "stream",
     "text": [
      "Overwriting ../imodset.py\n"
     ]
    }
   ],
   "source": [
    "%%writefile '../imodset.py'\n",
    "\n",
    "import os\n",
    "\n",
    "from ifile import iFile\n",
    "from idata import Data\n",
    "from idataset import Dataset\n",
    "from imodel import Model\n",
    "\n",
    "class Modset:\n",
    "    _MODSET_ID = None;\n",
    "    _CHECKPOINT = None;\n",
    "    _MODEL_ID = None;\n",
    "    _DATASET_ID = None;\n",
    "    _MODEL = None;\n",
    "    _DATASET = None;\n",
    "    _IS_ARCHIVED=False\n",
    "    _OTHER_CHECKPOINTS={}\n",
    "    \n",
    "    \n",
    "    def __init__(self, ModsetID, CheckPoint=0, isArchivedModel=False):\n",
    "        self._MODSET_ID = ModsetID;\n",
    "        self._CHECKPOINT = CheckPoint;\n",
    "        self._IS_ARCHIVED = isArchivedModel;\n",
    "        self._MODEL_ID, self._DATASET_ID = self.parse_modset_id(self._MODSET_ID);\n",
    "        self.setup_checkpoint(CheckPoint)\n",
    "        \n",
    "        self.load_dataset();\n",
    "        self.load_model();\n",
    "    \n",
    "    def parse_modset_id(self, ModsetID):\n",
    "        ids = ModsetID.split('[')\n",
    "        mods = ids[0].split('.')\n",
    "        dats = ids[1][:-1].split('_')\n",
    "        model_id = '{0}.{1}.{2}.{3}.{4}'.format(mods[0],mods[1], mods[2], mods[3],mods[4])\n",
    "        dataset_id = '{0}_{1}_{2}_{3}'.format(mods[0],dats[0], dats[1], dats[2])\n",
    "        return model_id, dataset_id;\n",
    "    \n",
    "    def setup_checkpoint(self, Checkpoint):\n",
    "        if (Checkpoint != 0):\n",
    "            if (str(Checkpoint)[0] == 'e'):\n",
    "                self._CHECKPOINT = str(Checkpoint)\n",
    "            else:\n",
    "                self._CHECKPOINT = 'e' + str(Checkpoint).zfill(4);\n",
    "            \n",
    "            self._MODEL_ID += '.' + self._CHECKPOINT\n",
    "        else:\n",
    "            self._CHECKPOINT = 0;\n",
    "\n",
    "    def load_model(self):\n",
    "        print(\"[iModset:load_model] Loading Model {0}\".format(self._MODEL_ID))\n",
    "        self._MODEL = Model(self._MODEL_ID, self._DATASET);\n",
    "        if (self._IS_ARCHIVED == True):\n",
    "            self._MODEL._IS_ARCHIVED = True;\n",
    "        \n",
    "        self._MODEL.load();\n",
    "        print(\"[iModset:load_model] Loaded Model {0}\".format(self._MODEL_ID))\n",
    "        \n",
    "    def load_dataset(self):\n",
    "        self._DATASET = Dataset(self._DATASET_ID);\n",
    "        self._DATASET.load();\n",
    "        print(\"[iModset:load_dataset] Loaded Dataset {0}\".format(self._DATASET_ID))\n",
    "        \n",
    "    def scan_other_checkpoints(self, filter_by='.h5'):\n",
    "        files = self._MODEL.scan_files(self._MODEL._CHECKPOINTS_FOLDER, filter_by)\n",
    "        for file_loc in files:\n",
    "            file_name = file_loc.split('/')[-1]\n",
    "            checkpoint = str(file_name.split('.')[-2])\n",
    "            self._OTHER_CHECKPOINTS[checkpoint] = {'file_name': file_name, 'location': file_loc}\n",
    "        \n",
    "        "
   ]
  },
  {
   "cell_type": "code",
   "execution_count": null,
   "metadata": {},
   "outputs": [],
   "source": []
  }
 ],
 "metadata": {
  "kernelspec": {
   "display_name": "Python 3",
   "language": "python",
   "name": "python3"
  },
  "language_info": {
   "codemirror_mode": {
    "name": "ipython",
    "version": 3
   },
   "file_extension": ".py",
   "mimetype": "text/x-python",
   "name": "python",
   "nbconvert_exporter": "python",
   "pygments_lexer": "ipython3",
   "version": "3.6.9"
  }
 },
 "nbformat": 4,
 "nbformat_minor": 4
}
