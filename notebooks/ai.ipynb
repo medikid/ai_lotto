{
 "cells": [
  {
   "cell_type": "code",
   "execution_count": 5,
   "metadata": {},
   "outputs": [],
   "source": [
    "from ipynb.fs.full.ker_model import KER_Model;\n",
    "from ipynb.fs.full.tfl_model import TFL_Model;\n",
    "from ipynb.fs.full.idataset import Dataset\n",
    "\n",
    "class AI:\n",
    "    _M =None;\n",
    "    _D =None;\n",
    "    _MASTER=None;\n",
    "    _GAME = None;\n",
    "    _API = None;\n",
    "    \n",
    "    def __init__(self, ModelID, DatasetID):\n",
    "        self.load_dataset(DatasetID)\n",
    "        self._D.ensure_dirs();\n",
    "        \n",
    "        self.load_model(ModelID, self._D); #you need x5/25k from datasetfolder\n",
    "        self._M.ensure_dirs();\n",
    "        \n",
    "        print(\"[AI:__init__]\")\n",
    "        pass;\n",
    "\n",
    "    \n",
    "    def setup_model(self, ModelName):\n",
    "        pass;\n",
    "    \n",
    "    def load_model(self, ModelID, Dataset):\n",
    "        info = ModelID.split(\".\");\n",
    "        self._GAME = info[0];\n",
    "        self._API = info[1]\n",
    "        \n",
    "        print(\"Game: {0} API {1}\".format(self._GAME, self._API))\n",
    "        \n",
    "        if (self._API == 'ker'):\n",
    "            self._M = KER_Model(ModelID, Dataset);\n",
    "        elif(self._API == 'tfl'):\n",
    "            self._M = TFL_Model(ModelID, Dataset);\n",
    "            \n",
    "        self._M.load();\n",
    "        print(\"Loaded Model {0}\".format(self._M._FULL_PATH))\n",
    "    \n",
    "    def load_dataset(self, DatasetName):\n",
    "        self._D = Dataset(DatasetName);\n",
    "        self._D.load();\n",
    "        #Dataset is stored in self._D._DATASET[IDs,X,Y,IDs_test,X_test,Y_test]\n",
    "        print(\"Loaded Dataset {0}\".format(self._D._FULL_PATH))\n",
    "    \n",
    "    def save_model(self, Model):\n",
    "        pass;\n",
    "    \n",
    "    def get_model_summary(self, Model):\n",
    "        pass;\n",
    "    \n",
    "    def train_model(self, Model, TrainingDataset):\n",
    "        pass;\n",
    "    \n",
    "    def predict_model(self, Model, TestDataset):\n",
    "        pass;\n",
    "    \n",
    "    "
   ]
  },
  {
   "cell_type": "code",
   "execution_count": 6,
   "metadata": {
    "slideshow": {
     "slide_type": "slide"
    }
   },
   "outputs": [
    {
     "name": "stdout",
     "output_type": "stream",
     "text": [
      "File format not included in FIle Name\n",
      "[iFile:__init__]\n",
      "File format not included in FIle Name\n",
      "[iFile:derive_folder_path] data/hotspot/x15/300k/\n",
      "[iDataset:derive_file_path] datasets/hotspot_x15_300k_dr.npz\n",
      "[ifile:derive_full_path] ../data/hotspot/x15/300k/datasets/hotspot_x15_300k_dr.npz\n",
      "Loading dataset ../data/hotspot/x15/300k/datasets/hotspot_x15_300k_dr.npz\n",
      "Loaded Dataset ../data/hotspot/x15/300k/datasets/hotspot_x15_300k_dr.npz\n",
      "Game: hotspot API ker\n",
      "[iModel:decipher_file_name]\n",
      "[iModel:set_decipher_info] {'GAME': 'hotspot', 'FOLDER_TYPE': 'master', 'xnINPUTS': 'x15', 'nINPUTS': 1, 'xnDRAWS': '300k', 'nDRAWS': 300000, 'DATA_TYPE': 'dr', 'API': 'ker', 'BUILD': '3', 'VERSION': '123'}\n",
      "[iFile:__init__]\n",
      "[iModel:decipher_file_name]\n",
      "[iModel:set_decipher_info] {'GAME': 'hotspot', 'FOLDER_TYPE': 'master', 'xnINPUTS': 'x15', 'nINPUTS': 1, 'xnDRAWS': '300k', 'nDRAWS': 300000, 'DATA_TYPE': 'dr', 'API': 'ker', 'BUILD': '3', 'VERSION': '123'}\n",
      "[iModel:derive_file_path] models/ker/3/hotspot.ker.3.123.h5\n",
      "[ifile:derive_full_path] ../data/hotspot/x15/300k/models/ker/3/hotspot.ker.3.123.h5\n",
      "[iModel:__init__\n",
      "[KER_Model:__init__]\n",
      "[KER_Model:load]: Loading ../data/hotspot/x15/300k/models/ker/3/hotspot.ker.3.123.h5\n",
      "Loaded Model ../data/hotspot/x15/300k/models/ker/3/hotspot.ker.3.123.h5\n",
      "[AI:__init__]\n"
     ]
    }
   ],
   "source": [
    "ai = AI('hotspot.ker.3.123','hotspot_x15_300k_dr');"
   ]
  },
  {
   "cell_type": "code",
   "execution_count": 7,
   "metadata": {},
   "outputs": [
    {
     "data": {
      "text/plain": [
       "'../data/hotspot/x15/300k/models/ker/3/hotspot.ker.3.123.h5'"
      ]
     },
     "execution_count": 7,
     "metadata": {},
     "output_type": "execute_result"
    }
   ],
   "source": [
    "ai._M._FULL_PATH"
   ]
  },
  {
   "cell_type": "code",
   "execution_count": 9,
   "metadata": {},
   "outputs": [
    {
     "data": {
      "text/plain": [
       "['IDs', 'X', 'Y', 'IDs_test', 'X_test', 'Y_test']"
      ]
     },
     "execution_count": 9,
     "metadata": {},
     "output_type": "execute_result"
    }
   ],
   "source": [
    "ai._D._DATASET.files"
   ]
  },
  {
   "cell_type": "code",
   "execution_count": null,
   "metadata": {},
   "outputs": [],
   "source": []
  }
 ],
 "metadata": {
  "kernelspec": {
   "display_name": "Python 3",
   "language": "python",
   "name": "python3"
  },
  "language_info": {
   "codemirror_mode": {
    "name": "ipython",
    "version": 3
   },
   "file_extension": ".py",
   "mimetype": "text/x-python",
   "name": "python",
   "nbconvert_exporter": "python",
   "pygments_lexer": "ipython3",
   "version": "3.6.9"
  },
  "toc-autonumbering": true,
  "toc-showtags": true
 },
 "nbformat": 4,
 "nbformat_minor": 4
}
