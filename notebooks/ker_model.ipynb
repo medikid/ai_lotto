{
 "cells": [
  {
   "cell_type": "code",
   "execution_count": 15,
   "metadata": {},
   "outputs": [
    {
     "name": "stdout",
     "output_type": "stream",
     "text": [
      "Overwriting ../ker_model.py\n"
     ]
    }
   ],
   "source": [
    "%%writefile \"../ker_model.py\"\n",
    "\n",
    "%run '../imodel.py' #from ipynb.fs.full.imodel import Model\n",
    "import keras as kr\n",
    "from keras.models import Sequential, load_model\n",
    "from keras.layers import LSTM, Dense\n",
    "\n",
    "import numpy as np\n",
    "import pandas as pd\n",
    "\n",
    "class KER_Model(Model):\n",
    "    _MODEL_PATH = None;\n",
    "    \n",
    "    def __init__(self, ModelID, Dataset):\n",
    "        super().__init__(ModelID, Dataset)\n",
    "        self._MODEL_PATH = self._FULL_PATH;\n",
    "        print(\"[KER_Model:__init__]\")\n",
    " \n",
    "    def load(self):\n",
    "        self._M = load_model(self._FULL_PATH)\n",
    "        print(\"[KER_Model:load]: Loading {0}\".format(self._FULL_PATH))\n",
    "        pass;\n",
    "    \n",
    "    def load_untrained(self):\n",
    "        untrained_file_path = self.get_untrained_folder_path() + self._GAME + \".\" + self._API + \".\" + self._BUILD + \".h5\";\n",
    "        self._M = load_model(untrained_file_path);\n",
    "        print(\"[KER_Model:load_untrained] {0}\".format(untrained_file_path));\n",
    "        \n",
    "    def save(self):\n",
    "        self._M.save(self._FULL_PATH)\n",
    "        print(\"[KER_Model:save]: Saving {0}\".format(self._FULL_PATH))\n",
    "    \n",
    "    def load_best_version(self):\n",
    "        pass;\n",
    "    \n",
    "    def load_latest_version(self):\n",
    "        pass;\n",
    "    \n",
    "    def predict(self, X_test, isBatch=True):\n",
    "        Y_hat = np.array()\n",
    "        if(isBatch == True):\n",
    "            Y_hat = self._M.predict_on_batch(X_test);\n",
    "        else:\n",
    "            Y_hat = self._M.predict(X_test);\n",
    "            \n",
    "        return Y_hat;     \n",
    "    \n",
    "    "
   ]
  },
  {
   "cell_type": "code",
   "execution_count": null,
   "metadata": {},
   "outputs": [],
   "source": []
  }
 ],
 "metadata": {
  "kernelspec": {
   "display_name": "Python 3",
   "language": "python",
   "name": "python3"
  },
  "language_info": {
   "codemirror_mode": {
    "name": "ipython",
    "version": 3
   },
   "file_extension": ".py",
   "mimetype": "text/x-python",
   "name": "python",
   "nbconvert_exporter": "python",
   "pygments_lexer": "ipython3",
   "version": "3.6.9"
  }
 },
 "nbformat": 4,
 "nbformat_minor": 4
}
