{
 "cells": [
  {
   "cell_type": "code",
   "execution_count": 1,
   "metadata": {},
   "outputs": [
    {
     "name": "stderr",
     "output_type": "stream",
     "text": [
      "Using TensorFlow backend.\n"
     ]
    }
   ],
   "source": [
    "%run '../idataset.py'\n",
    "%run '../ker_model.py'"
   ]
  },
  {
   "cell_type": "code",
   "execution_count": 6,
   "metadata": {},
   "outputs": [
    {
     "name": "stdout",
     "output_type": "stream",
     "text": [
      "xndraw310k, new_st310.0, multiple1000, notationk\n",
      "[iFile:__init__]\n",
      "xndraw310k, new_st310.0, multiple1000, notationk\n",
      "[iFile:derive_game_path]data/hotspot/\n",
      "[iFile:derive_folder_path] data/hotspot/x15/310k/\n",
      "[iDataset:derive_file_path] datasets/hotspot_x15_310k_dr.npz\n",
      "[ifile:derive_full_path] ../data/hotspot/x15/310k/datasets/hotspot_x15_310k_dr.npz\n",
      "Loading dataset ../data/hotspot/x15/310k/datasets/hotspot_x15_310k_dr.npz\n",
      "[iModel:decipher_file_name]\n",
      "[iModel:set_decipher_info] {'GAME': 'hotspot', 'xnINPUTS': 'x15', 'nINPUTS': 15, 'xnDRAWS': '310k', 'nDRAWS': 310000, 'DATA_TYPE': 'dr', 'API': 'ker', 'BUILD': '4', 'MAKE': '2', 'VERSION': 'e0005', 'IS_CHECKPOINT': True, 'CHECKPOINT_EPOCH': 5}\n",
      "[iFile:__init__]\n",
      "[iModel:decipher_file_name]\n",
      "[iModel:set_decipher_info] {'GAME': 'hotspot', 'xnINPUTS': 'x15', 'nINPUTS': 15, 'xnDRAWS': '310k', 'nDRAWS': 310000, 'DATA_TYPE': 'dr', 'API': 'ker', 'BUILD': '4', 'MAKE': '2', 'VERSION': 'e0005', 'IS_CHECKPOINT': True, 'CHECKPOINT_EPOCH': 5}\n",
      "[iModel:derive_file_path] models/ker/4/2/hotspot.ker.4.2.e0005.h5\n",
      "[iFile:derive_game_path]data/hotspot/\n",
      "[ifile:derive_full_path] ../data/hotspot/x15/310k/models/ker/4/2/hotspot.ker.4.2.e0005.h5\n",
      "[iModel:derive_checkpoints_folder] Ensured ../data/hotspot/x15/310k/models/ker/4/2/checkpoints/\n",
      "[iModel:__init__\n",
      "[KER_Model:__init__]\n",
      "[KER_Model:load]: Loading ../data/hotspot/x15/310k/models/ker/4/2/hotspot.ker.4.2.e0005.h5\n",
      "[KER_Model:load_checkpoint] Loaded ../data/hotspot/x15/310k/models/ker/4/2/checkpoints/hotspot.ker.4.2.e0005.h5\n"
     ]
    }
   ],
   "source": [
    "d = Dataset('hotspot_x15_310k_dr');\n",
    "d.load()\n",
    "\n",
    "m=KER_Model('hotspot.ker.4.2.e0005', d);\n",
    "m.load()"
   ]
  },
  {
   "cell_type": "code",
   "execution_count": 16,
   "metadata": {},
   "outputs": [
    {
     "name": "stdout",
     "output_type": "stream",
     "text": [
      "Latest checkpoint is 365\n"
     ]
    }
   ],
   "source": [
    "import os\n",
    "max_chkpnt = 0;\n",
    "for f in os.listdir(m._CHECKPOINTS_FOLDER):\n",
    "    chkpnt = int(f.split('.')[-2][1:])\n",
    "    if (chkpnt > max_chkpnt):\n",
    "        max_chkpnt = chkpnt;\n",
    "print(\"Latest checkpoint is {0}\".format(max_chkpnt))"
   ]
  },
  {
   "cell_type": "code",
   "execution_count": 14,
   "metadata": {},
   "outputs": [
    {
     "data": {
      "text/plain": [
       "310"
      ]
     },
     "execution_count": 14,
     "metadata": {},
     "output_type": "execute_result"
    }
   ],
   "source": [
    "chk = 'hotspot.ker.4.2.e0310.h5'\n",
    "int(chk.split('.')[-2][1:])"
   ]
  },
  {
   "cell_type": "code",
   "execution_count": null,
   "metadata": {},
   "outputs": [],
   "source": []
  }
 ],
 "metadata": {
  "kernelspec": {
   "display_name": "Python 3",
   "language": "python",
   "name": "python3"
  },
  "language_info": {
   "codemirror_mode": {
    "name": "ipython",
    "version": 3
   },
   "file_extension": ".py",
   "mimetype": "text/x-python",
   "name": "python",
   "nbconvert_exporter": "python",
   "pygments_lexer": "ipython3",
   "version": "3.6.9"
  }
 },
 "nbformat": 4,
 "nbformat_minor": 4
}
