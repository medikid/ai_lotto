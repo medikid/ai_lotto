{
 "cells": [
  {
   "cell_type": "markdown",
   "metadata": {},
   "source": [
    "<a href=\"https://colab.research.google.com/github/medikid/ai_lotto/blob/master/notebooks/git_functions.ipynb\" target=\"_parent\"><img src=\"https://colab.research.google.com/assets/colab-badge.svg\" alt=\"Open In Colab\"/></a>"
   ]
  },
  {
   "cell_type": "code",
   "execution_count": 2,
   "metadata": {},
   "outputs": [
    {
     "name": "stdout",
     "output_type": "stream",
     "text": [
      "Writing ../ifile.py\n",
      "Writing ../idata.py\n",
      "Writing ../idataset.py\n",
      "Writing ../imodel.py\n",
      "Writing ../ker_model.py\n",
      "Writing ../tfl_model.py\n",
      "Writing ../ai.py\n",
      "Writing ../ipredictor.py\n",
      "Writing ../itrainer.py\n"
     ]
    }
   ],
   "source": [
    "#Save all ipynb files to py and make sure first line has %%WRITEFILE to py files\n",
    "\n",
    "%run 'ifile.ipynb'\n",
    "\n",
    "%run 'idata.ipynb'\n",
    "%run 'idataset.ipynb'\n",
    "\n",
    "%run 'imodel.ipynb'\n",
    "%run 'ker_model.ipynb'\n",
    "%run 'ker_model_loader.ipynb'\n",
    "%run 'tfl_model.ipynb'\n",
    "\n",
    "\n",
    "%run 'ai.ipynb'\n",
    "%run 'ipredictor.ipynb'\n",
    "%run 'itrainer.ipynb'"
   ]
  },
  {
   "cell_type": "markdown",
   "metadata": {},
   "source": [
    "# GIthub Functions"
   ]
  },
  {
   "cell_type": "markdown",
   "metadata": {},
   "source": [
    "## Git ADD, COMMIT and PUSH to remote"
   ]
  },
  {
   "cell_type": "code",
   "execution_count": null,
   "metadata": {},
   "outputs": [
    {
     "name": "stdout",
     "output_type": "stream",
     "text": [
      "[master ce0f5ab] Added git functions\n",
      " 15 files changed, 376 insertions(+), 142 deletions(-)\n",
      " create mode 100755 notebooks/.ipynb_checkpoints/itrainer-checkpoint.ipynb\n",
      " create mode 100755 notebooks/itrainer.ipynb\n",
      "Username for 'https://github.com': "
     ]
    }
   ],
   "source": [
    "!git add -A .\n",
    "!git commit -m \"Added git functions\"\n",
    "!git push origin master"
   ]
  },
  {
   "cell_type": "markdown",
   "metadata": {},
   "source": [
    "## Git Pull from remote github repo"
   ]
  },
  {
   "cell_type": "code",
   "execution_count": 2,
   "metadata": {},
   "outputs": [
    {
     "name": "stdout",
     "output_type": "stream",
     "text": [
      "Already up to date.\n"
     ]
    }
   ],
   "source": [
    "!git pull"
   ]
  },
  {
   "cell_type": "markdown",
   "metadata": {},
   "source": [
    "## Git conflict local - so reset local to match remote"
   ]
  },
  {
   "cell_type": "code",
   "execution_count": null,
   "metadata": {},
   "outputs": [],
   "source": [
    "!git fetch --all\n",
    "!git reset --hard origin/master\n",
    "!git pull"
   ]
  },
  {
   "cell_type": "markdown",
   "metadata": {},
   "source": [
    "## Unpushed local changes - Stash local, Pull Remote and write local changes to pulled remote"
   ]
  },
  {
   "cell_type": "code",
   "execution_count": null,
   "metadata": {},
   "outputs": [],
   "source": [
    "!git stash\n",
    "!git pull\n",
    "!git stash pop"
   ]
  },
  {
   "cell_type": "markdown",
   "metadata": {},
   "source": [
    "## Setup git config repo"
   ]
  },
  {
   "cell_type": "code",
   "execution_count": null,
   "metadata": {},
   "outputs": [],
   "source": [
    "#!git config --global user.email \"soma.programmer@gmail.com\"\n",
    "#!git config --global user.name \"medikid\"\n",
    "\n",
    "#!git remote set-url origin https://github.com/medikid/ai_lotto.git\n"
   ]
  },
  {
   "cell_type": "code",
   "execution_count": null,
   "metadata": {},
   "outputs": [],
   "source": [
    "!git remote show origin"
   ]
  },
  {
   "cell_type": "code",
   "execution_count": null,
   "metadata": {},
   "outputs": [],
   "source": []
  }
 ],
 "metadata": {
  "kernelspec": {
   "display_name": "Python 3",
   "language": "python",
   "name": "python3"
  },
  "language_info": {
   "codemirror_mode": {
    "name": "ipython",
    "version": 3
   },
   "file_extension": ".py",
   "mimetype": "text/x-python",
   "name": "python",
   "nbconvert_exporter": "python",
   "pygments_lexer": "ipython3",
   "version": "3.6.9"
  }
 },
 "nbformat": 4,
 "nbformat_minor": 4
}
