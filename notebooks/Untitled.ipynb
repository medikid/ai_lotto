{
 "cells": [
  {
   "cell_type": "code",
   "execution_count": 10,
   "metadata": {},
   "outputs": [],
   "source": [
    "#%run '../ifile.py'\n",
    "%run '../idata.py'\n",
    "%run '../idataset.py'\n",
    "\n",
    "#%run '../model.py'\n",
    "#%run '../ker_model.py'\n",
    "# %run '../tfl_model.py'\n",
    "%run '../ai.py'"
   ]
  },
  {
   "cell_type": "code",
   "execution_count": 7,
   "metadata": {},
   "outputs": [
    {
     "name": "stdout",
     "output_type": "stream",
     "text": [
      "xndraw2.528m, new_st2.528, multiple1000000, notationm\n",
      "[iFile:__init__]\n",
      "xndraw2.528m, new_st2.528, multiple1000000, notationm\n",
      "[iFile:derive_folder_path] data/keno/x15/2.528m/\n",
      "[iDataset:derive_file_path] datasets/keno_x15_2.528m_dr.npz\n",
      "[ifile:derive_full_path] ../data/keno/x15/2.528m/datasets/keno_x15_2.528m_dr.npz\n",
      "Loading dataset ../data/keno/x15/2.528m/datasets/keno_x15_2.528m_dr.npz\n"
     ]
    },
    {
     "data": {
      "text/plain": [
       "(2528000, 15, 80)"
      ]
     },
     "execution_count": 7,
     "metadata": {},
     "output_type": "execute_result"
    }
   ],
   "source": [
    "d = Dataset('keno_x15_2.528m_dr')\n",
    "d.load();\n",
    "d._D['X'].shape"
   ]
  },
  {
   "cell_type": "code",
   "execution_count": 11,
   "metadata": {},
   "outputs": [
    {
     "name": "stdout",
     "output_type": "stream",
     "text": [
      "xndraw2.528m, new_st2.528, multiple1000000, notationm\n",
      "[iFile:__init__]\n",
      "xndraw2.528m, new_st2.528, multiple1000000, notationm\n",
      "[iFile:derive_folder_path] data/keno/x15/2.528m/\n",
      "[iDataset:derive_file_path] datasets/keno_x15_2.528m_dr.npz\n",
      "[ifile:derive_full_path] ../data/keno/x15/2.528m/datasets/keno_x15_2.528m_dr.npz\n",
      "Loading dataset ../data/keno/x15/2.528m/datasets/keno_x15_2.528m_dr.npz\n",
      "Loaded Dataset ../data/keno/x15/2.528m/datasets/keno_x15_2.528m_dr.npz\n",
      "Game: keno API ker\n",
      "[iModel:decipher_file_name]\n",
      "[iModel:set_decipher_info] {'GAME': 'keno', 'xnINPUTS': 'x15', 'nINPUTS': 15, 'xnDRAWS': '2.528m', 'nDRAWS': 2528000, 'DATA_TYPE': 'dr', 'API': 'ker', 'BUILD': '2', 'VERSION': '1'}\n",
      "[iFile:__init__]\n",
      "[iModel:decipher_file_name]\n",
      "[iModel:set_decipher_info] {'GAME': 'keno', 'xnINPUTS': 'x15', 'nINPUTS': 15, 'xnDRAWS': '2.528m', 'nDRAWS': 2528000, 'DATA_TYPE': 'dr', 'API': 'ker', 'BUILD': '2', 'VERSION': '1'}\n",
      "[iModel:derive_file_path] models/ker/2/keno.ker.2.1.h5\n",
      "[ifile:derive_full_path] ../data/keno/x15/2.528m/models/ker/2/keno.ker.2.1.h5\n",
      "[iModel:__init__\n",
      "[KER_Model:__init__]\n",
      "[KER_Model:load]: Loading ../data/keno/x15/2.528m/models/ker/2/keno.ker.2.1.h5\n",
      "Loaded Model ../data/keno/x15/2.528m/models/ker/2/keno.ker.2.1.h5\n",
      "[AI:__init__]\n",
      "Model: \"sequential_2\"\n",
      "_________________________________________________________________\n",
      "Layer (type)                 Output Shape              Param #   \n",
      "=================================================================\n",
      "lstm_3 (LSTM)                (None, 15, 100)           72400     \n",
      "_________________________________________________________________\n",
      "lstm_4 (LSTM)                (None, 100)               80400     \n",
      "_________________________________________________________________\n",
      "dense_2 (Dense)              (None, 80)                8080      \n",
      "=================================================================\n",
      "Total params: 160,880\n",
      "Trainable params: 160,880\n",
      "Non-trainable params: 0\n",
      "_________________________________________________________________\n",
      "None\n"
     ]
    }
   ],
   "source": [
    "ai =  AI('keno.ker.2.1','keno_x15_2.528m_dr')\n",
    "ai.print_model_summary()"
   ]
  }
 ],
 "metadata": {
  "kernelspec": {
   "display_name": "Python 3",
   "language": "python",
   "name": "python3"
  },
  "language_info": {
   "codemirror_mode": {
    "name": "ipython",
    "version": 3
   },
   "file_extension": ".py",
   "mimetype": "text/x-python",
   "name": "python",
   "nbconvert_exporter": "python",
   "pygments_lexer": "ipython3",
   "version": "3.6.9"
  }
 },
 "nbformat": 4,
 "nbformat_minor": 4
}
