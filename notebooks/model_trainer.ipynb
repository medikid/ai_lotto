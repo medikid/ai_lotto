{
 "cells": [
  {
   "cell_type": "code",
   "execution_count": 5,
   "metadata": {
    "colab_type": "text",
    "id": "Qzqpaam_pzzE"
   },
   "outputs": [
    {
     "ename": "SyntaxError",
     "evalue": "invalid syntax (<ipython-input-5-e3fe19e7096a>, line 1)",
     "output_type": "error",
     "traceback": [
      "\u001b[0;36m  File \u001b[0;32m\"<ipython-input-5-e3fe19e7096a>\"\u001b[0;36m, line \u001b[0;32m1\u001b[0m\n\u001b[0;31m    <a href=\"https://colab.research.google.com/github/medikid/ai_lotto/blob/master/notebooks/model_trainer.ipynb\" target=\"_parent\"><img src=\"https://colab.research.google.com/assets/colab-badge.svg\" alt=\"Open In Colab\"/></a>\u001b[0m\n\u001b[0m    ^\u001b[0m\n\u001b[0;31mSyntaxError\u001b[0m\u001b[0;31m:\u001b[0m invalid syntax\n"
     ]
    }
   ],
   "source": [
    "<a href=\"https://colab.research.google.com/github/medikid/ai_lotto/blob/master/notebooks/model_trainer.ipynb\" target=\"_parent\"><img src=\"https://colab.research.google.com/assets/colab-badge.svg\" alt=\"Open In Colab\"/></a>"
   ]
  },
  {
   "cell_type": "markdown",
   "metadata": {
    "colab_type": "text",
    "id": "_faJdu-MIYpM"
   },
   "source": [
    "## **Initiate Collab Notebook and setup Google Drive**"
   ]
  },
  {
   "cell_type": "markdown",
   "metadata": {
    "colab_type": "text",
    "id": "sBdFdcifYdxv"
   },
   "source": [
    "## Mount Google Drive"
   ]
  },
  {
   "cell_type": "code",
   "execution_count": null,
   "metadata": {
    "colab": {
     "base_uri": "https://localhost:8080/",
     "height": 124
    },
    "colab_type": "code",
    "id": "QUZLPAzg_vMn",
    "outputId": "66d38aab-5b3c-482a-e81f-9fa3a512ef8b"
   },
   "outputs": [],
   "source": [
    "#init colab notebooks\n",
    "\n",
    "from google.colab import drive\n",
    "drive.mount('/content/g_drive')"
   ]
  },
  {
   "cell_type": "code",
   "execution_count": 1,
   "metadata": {},
   "outputs": [
    {
     "name": "stdout",
     "output_type": "stream",
     "text": [
      "ln: failed to create symbolic link '/content': File exists\n",
      "[Errno 40] Too many levels of symbolic links: '/content/ai_lotto'\n",
      "/home/work/ai_lotto/notebooks\n",
      "[Errno 2] No such file or directory: 'notebooks/'\n",
      "/home/work/ai_lotto/notebooks\n",
      "Setting up sqlite  sqlite:////home/work/ai_lotto/notebooks/db/ai_lotto.db\n",
      "Setting up sqlite  sqlite:////home/work/ai_lotto/notebooks/db/ai_lotto.db\n"
     ]
    },
    {
     "name": "stderr",
     "output_type": "stream",
     "text": [
      "Using TensorFlow backend.\n"
     ]
    },
    {
     "name": "stdout",
     "output_type": "stream",
     "text": [
      "Setting up sqlite  sqlite:////home/work/ai_lotto/notebooks/db/ai_lotto.db\n",
      "Setting up sqlite  sqlite:////home/work/ai_lotto/notebooks/db/ai_lotto.db\n"
     ]
    }
   ],
   "source": [
    "#perform all actions at once\n",
    "#!mkdir my_drive\n",
    "!ln -s \"/content/g_drive/My Drive/Colab/Datascience/ai_lotto\" \"/content\"\n",
    "%cd \"/content/ai_lotto\"\n",
    "\n",
    "import sys\n",
    "sys.path.append('/content/ai_lotto')\n",
    "%cd notebooks/\n",
    "\n",
    "%run 'db/__init__.py'\n",
    "%run 'db/base.py'\n",
    "%run 'db/db_base.py'\n",
    "%run 'db/utils.py'\n",
    "%run 'db/models/training_session.py'\n",
    "%run 'db/models/training_log.py'\n",
    "\n",
    "%run '../ifile.py'\n",
    "%run '../idata.py'\n",
    "%run '../idataset.py'\n",
    "%run '../imodel.py'\n",
    "%run '../ker_model.py'\n",
    "%run '../ker_model_loader.py'\n",
    "%run '../tfl_model.py'\n",
    "%run '../ai.py'\n",
    "%run '../itrainer.py'\n",
    "%run '../custom_functions.py'\n",
    "%run '../custom_callbacks.py'"
   ]
  },
  {
   "cell_type": "code",
   "execution_count": null,
   "metadata": {
    "colab": {},
    "colab_type": "code",
    "id": "HSiSJRZsgJ2s"
   },
   "outputs": [],
   "source": [
    "from pydrive.auth import GoogleAuth\n",
    "from pydrive.drive import GoogleDrive\n",
    "from google.colab import auth\n",
    "from oauth2client.client import GoogleCredentials\n",
    "\n",
    "auth.authenticate_user()\n",
    "gauth = GoogleAuth()\n",
    "gauth.credentials = GoogleCredentials.get_application_default()\n",
    "drive = GoogleDrive(gauth)"
   ]
  },
  {
   "cell_type": "code",
   "execution_count": null,
   "metadata": {
    "colab": {},
    "colab_type": "code",
    "id": "1k0iQXOSha1f"
   },
   "outputs": [],
   "source": [
    "#!mkdir my_drive\n",
    "!ln -s \"/content/g_drive/My Drive/Colab/Datascience/ai_lotto\" \"/content\""
   ]
  },
  {
   "cell_type": "code",
   "execution_count": null,
   "metadata": {
    "colab": {
     "base_uri": "https://localhost:8080/",
     "height": 35
    },
    "colab_type": "code",
    "id": "_lhfdVWHURF6",
    "outputId": "f45139bf-ec7c-4cd4-f7f7-f175bb2decb0"
   },
   "outputs": [],
   "source": [
    "%cd \"/content/ai_lotto\"\n",
    "\n",
    "import sys\n",
    "sys.path.append('/content/ai_lotto')"
   ]
  },
  {
   "cell_type": "code",
   "execution_count": null,
   "metadata": {
    "colab": {
     "base_uri": "https://localhost:8080/",
     "height": 35
    },
    "colab_type": "code",
    "id": "r530UEutqIBB",
    "outputId": "7109934a-eec1-4642-8c96-e6f0d87f28e8"
   },
   "outputs": [],
   "source": [
    "%cd notebooks/"
   ]
  },
  {
   "cell_type": "markdown",
   "metadata": {
    "colab_type": "text",
    "id": "3oixeDY6pzzh"
   },
   "source": [
    "# GIthub Functions"
   ]
  },
  {
   "cell_type": "markdown",
   "metadata": {
    "colab_type": "text",
    "id": "lPoAgspipzzi"
   },
   "source": [
    "## Git ADD, COMMIT and PUSH to remote"
   ]
  },
  {
   "cell_type": "code",
   "execution_count": null,
   "metadata": {
    "colab": {},
    "colab_type": "code",
    "id": "MxORrMbxpzzj"
   },
   "outputs": [],
   "source": [
    "!git add -A .\n",
    "!git commit -m \"Added git functions\"\n",
    "!git push origin master"
   ]
  },
  {
   "cell_type": "markdown",
   "metadata": {
    "colab_type": "text",
    "id": "PTSDkZqTpzzp"
   },
   "source": [
    "## Git Pull from remote github repo"
   ]
  },
  {
   "cell_type": "code",
   "execution_count": null,
   "metadata": {
    "colab": {
     "base_uri": "https://localhost:8080/",
     "height": 35
    },
    "colab_type": "code",
    "id": "kads4KiNpzzq",
    "outputId": "806b2527-d8da-44d0-ed79-2151692f1962"
   },
   "outputs": [],
   "source": [
    "!git pull"
   ]
  },
  {
   "cell_type": "markdown",
   "metadata": {
    "colab_type": "text",
    "id": "_9LGmmy0pzzv"
   },
   "source": [
    "## Git conflict local - so reset local to match remote"
   ]
  },
  {
   "cell_type": "code",
   "execution_count": null,
   "metadata": {
    "colab": {},
    "colab_type": "code",
    "id": "w4ogIOktpzzw"
   },
   "outputs": [],
   "source": [
    "!git fetch --all\n",
    "!git reset --hard origin/master\n",
    "!git pull"
   ]
  },
  {
   "cell_type": "markdown",
   "metadata": {
    "colab_type": "text",
    "id": "kaRhCiXWpzz0"
   },
   "source": [
    "## Unpushed local changes - Stash local, Pull Remote and write local changes to pulled remote"
   ]
  },
  {
   "cell_type": "code",
   "execution_count": null,
   "metadata": {
    "colab": {},
    "colab_type": "code",
    "id": "JF_Mvzh2pzz1"
   },
   "outputs": [],
   "source": [
    "!git stash\n",
    "!git pull\n",
    "!git stash pop"
   ]
  },
  {
   "cell_type": "markdown",
   "metadata": {
    "colab_type": "text",
    "id": "nMLT0utQpzz6"
   },
   "source": [
    "## Setup git config repo"
   ]
  },
  {
   "cell_type": "code",
   "execution_count": null,
   "metadata": {
    "colab": {},
    "colab_type": "code",
    "id": "_YqFc8H7pzz7"
   },
   "outputs": [],
   "source": [
    "#!git config --global user.email \"soma.programmer@gmail.com\"\n",
    "#!git config --global user.name \"medikid\"\n",
    "\n",
    "#!git remote set-url origin https://github.com/medikid/ai_lotto.git\n"
   ]
  },
  {
   "cell_type": "code",
   "execution_count": null,
   "metadata": {
    "colab": {},
    "colab_type": "code",
    "id": "uQR0184Opzz_"
   },
   "outputs": [],
   "source": [
    "!git remote show origin"
   ]
  },
  {
   "cell_type": "markdown",
   "metadata": {
    "colab_type": "text",
    "id": "ZTGj4TiYA56S"
   },
   "source": [
    "# lists all classes in the order of loading"
   ]
  },
  {
   "cell_type": "code",
   "execution_count": null,
   "metadata": {
    "colab": {},
    "colab_type": "code",
    "id": "uPJSKlxjTq7h"
   },
   "outputs": [],
   "source": [
    "!pip install -r ../requirements.txt"
   ]
  },
  {
   "cell_type": "code",
   "execution_count": 2,
   "metadata": {
    "colab": {},
    "colab_type": "code",
    "id": "HQ96r5CZpz0J"
   },
   "outputs": [
    {
     "name": "stdout",
     "output_type": "stream",
     "text": [
      "Setting up sqlite  sqlite:////home/work/ai_lotto/notebooks/db/ai_lotto.db\n",
      "Setting up sqlite  sqlite:////home/work/ai_lotto/notebooks/db/ai_lotto.db\n"
     ]
    },
    {
     "name": "stderr",
     "output_type": "stream",
     "text": [
      "/usr/local/lib/python3.6/dist-packages/sqlalchemy/ext/declarative/clsregistry.py:129: SAWarning: This declarative base already contains a class with the same class name and module name as __main__.TrainingSession, and will be replaced in the string-lookup table.\n",
      "  % (item.__module__, item.__name__)\n",
      "/usr/local/lib/python3.6/dist-packages/sqlalchemy/ext/declarative/clsregistry.py:129: SAWarning: This declarative base already contains a class with the same class name and module name as __main__.TrainingLog, and will be replaced in the string-lookup table.\n",
      "  % (item.__module__, item.__name__)\n"
     ]
    }
   ],
   "source": [
    "# %load '../load_lib.py'\n",
    "\n",
    "%run '../ifile.py'\n",
    "%run '../idata.py'\n",
    "%run '../idataset.py'\n",
    "%run '../imodel.py'\n",
    "%run '../ker_model.py'\n",
    "%run '../ker_model_loader.py'\n",
    "%run '../tfl_model.py'\n",
    "%run '../ai.py'\n",
    "%run '../itrainer.py'\n",
    "%run '../custom_functions.py'\n",
    "%run '../custom_callbacks.py'\n",
    "%run '../custom_metrics.py'\n",
    "\n",
    "%run 'db/__init__.py'\n",
    "%run 'db/base.py'\n",
    "%run 'db/db_base.py'\n",
    "%run 'db/utils.py'\n",
    "%run 'db/models/training_session.py'\n",
    "%run 'db/models/training_log.py'\n",
    "\n",
    "%run '../imodset.py'\n"
   ]
  },
  {
   "cell_type": "code",
   "execution_count": null,
   "metadata": {
    "colab": {},
    "colab_type": "code",
    "id": "7RX-fWSopz0P"
   },
   "outputs": [],
   "source": [
    "%cd '..'\n",
    "\n",
    "from ifile import iFile\n",
    "from idata import Data\n",
    "from idataset import Dataset\n",
    "from imodel import Model\n",
    "from ker_model import KER_Model\n",
    "from ker_model_loader import KER_Model_Loader\n",
    "from tfl_model import TFL_Model\n",
    "from ai import AI\n",
    "from itrainer import Trainer\n",
    "\n",
    "%cd 'notebooks'"
   ]
  },
  {
   "cell_type": "markdown",
   "metadata": {
    "colab_type": "text",
    "id": "EDGSqErkA57E"
   },
   "source": [
    "## Dataset Prep"
   ]
  },
  {
   "cell_type": "markdown",
   "metadata": {
    "colab_type": "text",
    "id": "DqhO4xyyLHsQ"
   },
   "source": [
    "## Initial Training"
   ]
  },
  {
   "cell_type": "code",
   "execution_count": 2,
   "metadata": {
    "colab": {
     "base_uri": "https://localhost:8080/",
     "height": 52
    },
    "colab_type": "code",
    "id": "pX9l2CT3A57K",
    "outputId": "0533f252-5a44-4ce4-bf16-cd65ba1804bc"
   },
   "outputs": [
    {
     "name": "stdout",
     "output_type": "stream",
     "text": [
      "Dataset ID: hotspot_x15_310k_dr\n",
      "Model ID: hotspot.ker.6.1.1.1\n"
     ]
    }
   ],
   "source": [
    "import keras as kr\n",
    "from keras.models import Sequential\n",
    "from keras.layers import LSTM, Dense\n",
    "\n",
    "#----------------------------------------------------\n",
    "_GAME = 'hotspot';  _API = 'ker';\n",
    "_xnINPUTS='x15'; _xnDRAWS='310k'; _DATA_TYPE = 'dr'; \n",
    "_BUILD = '6'; _MAKE = '1' ; _VERSION='1'; _CHECKPOINT ='1';#checkpoint 0 is untrained, 1 is load new build\n",
    "\n",
    "datasetID = \"{0}_{1}_{2}_{3}\".format(_GAME,_xnINPUTS,_xnDRAWS,_DATA_TYPE)\n",
    "modelID = \"{0}.{1}.{2}.{3}.{4}.{5}\".format(_GAME,_API,_BUILD,_MAKE,_VERSION,_CHECKPOINT)\n",
    "#------------------------------------------------------------\n",
    "\n",
    "print(\"Dataset ID: {0}\".format(datasetID))\n",
    "print(\"Model ID: {0}\".format(modelID))"
   ]
  },
  {
   "cell_type": "markdown",
   "metadata": {
    "colab_type": "text",
    "id": "qDt9wmLRLHsS"
   },
   "source": [
    "## Incremental Checkpoint Training"
   ]
  },
  {
   "cell_type": "code",
   "execution_count": 2,
   "metadata": {
    "colab": {
     "base_uri": "https://localhost:8080/",
     "height": 51
    },
    "colab_type": "code",
    "id": "F9zdElq3LHsT",
    "outputId": "d731d42a-448a-405f-a9b0-17bba6dfbb25"
   },
   "outputs": [
    {
     "name": "stdout",
     "output_type": "stream",
     "text": [
      "Dataset ID: hotspot_x15_310k_dr\n",
      "Model ID: hotspot.ker.6.1.0.e0001\n"
     ]
    }
   ],
   "source": [
    "import keras as kr\n",
    "from keras.models import Sequential\n",
    "from keras.layers import LSTM, Dense\n",
    "\n",
    "#----------------------------------------------------\n",
    "_GAME = 'hotspot';  _LOAD_CHECKPOINT = 1;\n",
    "_xnINPUTS='x15'; _xnDRAWS='310k'; _DATA_TYPE = 'dr'; \n",
    "_API = 'ker'; _BUILD = '6'; _MAKE = '1' ; _VERSION='0'; _CHECKPOINT = 'e' + str(_LOAD_CHECKPOINT).zfill(4);\n",
    "\n",
    "datasetID = \"{0}_{1}_{2}_{3}\".format(_GAME,_xnINPUTS,_xnDRAWS,_DATA_TYPE)\n",
    "modelID = \"{0}.{1}.{2}.{3}.{4}.{5}\".format(_GAME,_API,_BUILD,_MAKE,_VERSION,_CHECKPOINT)\n",
    "#------------------------------------------------------------\n",
    "\n",
    "print(\"Dataset ID: {0}\".format(datasetID))\n",
    "print(\"Model ID: {0}\".format(modelID))"
   ]
  },
  {
   "cell_type": "markdown",
   "metadata": {
    "colab_type": "text",
    "id": "_L08tPUnLHsV"
   },
   "source": [
    "# TRAINING"
   ]
  },
  {
   "cell_type": "code",
   "execution_count": 3,
   "metadata": {
    "colab": {
     "base_uri": "https://localhost:8080/",
     "height": 486
    },
    "colab_type": "code",
    "collapsed": true,
    "id": "ipSXZSs1pz0Y",
    "jupyter": {
     "outputs_hidden": true
    },
    "outputId": "2227d18e-cd2c-47d9-de00-239278169984"
   },
   "outputs": [
    {
     "name": "stdout",
     "output_type": "stream",
     "text": [
      "xndraw310k, new_st310.0, multiple1000, notationk\n",
      "[iFile:__init__]\n",
      "xndraw310k, new_st310.0, multiple1000, notationk\n",
      "[iFile:derive_game_path]data/hotspot/\n",
      "[iFile:derive_folder_path] data/hotspot/x15/310k/\n",
      "[iDataset:derive_file_path] datasets/hotspot_x15_310k_dr.npz\n",
      "[ifile:derive_full_path] ../data/hotspot/x15/310k/datasets/hotspot_x15_310k_dr.npz\n",
      "Loading dataset ../data/hotspot/x15/310k/datasets/hotspot_x15_310k_dr.npz\n",
      "[iModel:decipher_file_name]\n",
      "[iModel:set_decipher_info] {'GAME': 'hotspot', 'xnINPUTS': 'x15', 'nINPUTS': 15, 'xnDRAWS': '310k', 'nDRAWS': 310000, 'DATA_TYPE': 'dr', 'API': 'ker', 'BUILD': '6', 'MAKE': '1', 'VERSION': '0', 'CHECKPOINT': 'e0001', 'IS_CHECKPOINT': True, 'CHECKPOINT_EPOCH': 1}\n",
      "[iFile:__init__]\n",
      "[iModel:decipher_file_name]\n",
      "[iModel:set_decipher_info] {'GAME': 'hotspot', 'xnINPUTS': 'x15', 'nINPUTS': 15, 'xnDRAWS': '310k', 'nDRAWS': 310000, 'DATA_TYPE': 'dr', 'API': 'ker', 'BUILD': '6', 'MAKE': '1', 'VERSION': '0', 'CHECKPOINT': 'e0001', 'IS_CHECKPOINT': True, 'CHECKPOINT_EPOCH': 1}\n",
      "[iModel:derive_file_path] models/ker/6/1/hotspot.ker.6.1.0.e0001.h5\n",
      "[iFile:derive_game_path]data/hotspot/\n",
      "[ifile:derive_full_path] ../data/hotspot/x15/310k/models/ker/6/1/hotspot.ker.6.1.0.e0001.h5\n",
      "[iModel:derive_checkpoints_folder] Ensured ../data/hotspot/x15/310k/models/ker/6/1/checkpoints/\n",
      "[iModel:__init__\n",
      "[Model:loader] converted Model to KER_Model\n",
      "[KER_Model:load]: Loading checkpoint ../data/hotspot/x15/310k/models/ker/6/1/hotspot.ker.6.1.0.e0001.h5\n",
      "Issue: Unable to load due to usage of unserializable custom model/layer/metrics\n",
      "[KER_Model_loader: loaded new build 6.1]\n",
      "Model: \"sequential_1\"\n",
      "_________________________________________________________________\n",
      "Layer (type)                 Output Shape              Param #   \n",
      "=================================================================\n",
      "lstm_80_relu_15x80 (LSTM)    (None, 15, 80)            51520     \n",
      "_________________________________________________________________\n",
      "lstm_80_relu_1 (LSTM)        (None, 15, 80)            51520     \n",
      "_________________________________________________________________\n",
      "lstm_80_relu_2 (LSTM)        (None, 80)                51520     \n",
      "_________________________________________________________________\n",
      "dense_80_sigmoid (Dense)     (None, 80)                6480      \n",
      "=================================================================\n",
      "Total params: 161,040\n",
      "Trainable params: 161,040\n",
      "Non-trainable params: 0\n",
      "_________________________________________________________________\n",
      "None\n",
      "Solution-Step#1: Built/compiled new model\n",
      "Solution-Step#2: Loaded weights into new model from ../data/hotspot/x15/310k/models/ker/6/1/checkpoints/hotspot.ker.6.1.0.e0001.h5 \n",
      "[KER_Model:load_checkpoint] Loaded ../data/hotspot/x15/310k/models/ker/6/1/checkpoints/hotspot.ker.6.1.0.e0001.h5\n",
      "Modset ID: hotspot.ker.6.1.0[x15_310k_dr]\n",
      "['hotspot', 'ker', '6', '1', '0', 'e0056'] -5- e0056\n",
      "['hotspot', 'ker', '6', '1', '0', 'e0064'] -5- e0064\n",
      "['hotspot', 'ker', '6', '1', '0', 'e0010', 'ckpt'] -6- e0010\n",
      "['hotspot', 'ker', '6', '1', '0', 'e0008', 'ckpt'] -6- e0008\n",
      "['hotspot', 'ker', '6', '1', '0', 'e0007'] -5- e0007\n",
      "['hotspot', 'ker', '6', '1', '0', 'e0004', 'ckpt'] -6- e0004\n",
      "['hotspot', 'ker', '6', '1', '0', 'e0057', 'ckpt'] -6- e0057\n",
      "['hotspot', 'ker', '6', '1', '0', 'e0063'] -5- e0063\n",
      "['hotspot', 'ker', '6', '1', '0', 'e0062', 'ckpt'] -6- e0062\n",
      "['hotspot', 'ker', '6', '1', '0', 'e0055'] -5- e0055\n",
      "['hotspot', 'ker', '6', '1', '0', 'e0005', 'ckpt'] -6- e0005\n",
      "['hotspot', 'ker', '6', '1', '0', 'e0010'] -5- e0010\n",
      "['hotspot', 'ker', '6', '1', '0', 'e0055', 'h5'] -6- e0055\n",
      "['hotspot', 'ker', '6', '1', '0', 'e0056', 'ckpt'] -6- e0056\n",
      "['hotspot', 'ker', '6', '1', '0', 'e0001', 'ckpt'] -6- e0001\n",
      "['hotspot', 'ker', '6', '1', '0', 'e0003'] -5- e0003\n",
      "['hotspot', 'ker', '6', '1', '0', 'e0009'] -5- e0009\n",
      "['hotspot', 'ker', '6', '1', '0', 'e0063', 'ckpt'] -6- e0063\n",
      "['hotspot', 'ker', '6', '1', '0', 'e0004'] -5- e0004\n",
      "['hotspot', 'ker', '6', '1', '0', 'e0056', 'h5'] -6- e0056\n",
      "['hotspot', 'ker', '6', '1', '0', 'e0009', 'h5'] -6- e0009\n",
      "['hotspot', 'ker', '6', '1', '0', 'e0008', 'h5'] -6- e0008\n",
      "['hotspot', 'ker', '6', '1', '0', 'e0057', 'h5'] -6- e0057\n",
      "['hotspot', 'ker', '6', '1', '0', 'e0060'] -5- e0060\n",
      "['hotspot', 'ker', '6', '1', '0', 'e0009', 'ckpt'] -6- e0009\n",
      "['hotspot', 'ker', '6', '1', '0', 'e0058'] -5- e0058\n",
      "['hotspot', 'ker', '6', '1', '0', 'e0062'] -5- e0062\n",
      "['hotspot', 'ker', '6', '1', '0', 'e0001', 'h5'] -6- e0001\n",
      "['hotspot', 'ker', '6', '1', '0', 'e0007', 'ckpt'] -6- e0007\n",
      "['hotspot', 'ker', '6', '1', '0', 'e0065', 'ckpt'] -6- e0065\n",
      "['hotspot', 'ker', '6', '1', '0', 'e0006'] -5- e0006\n",
      "['hotspot', 'ker', '6', '1', '0', 'e0003', 'ckpt'] -6- e0003\n",
      "['hotspot', 'ker', '6', '1', '0', 'e0061', 'ckpt'] -6- e0061\n",
      "['hotspot', 'ker', '6', '1', '0', 'e0002', 'h5'] -6- e0002\n",
      "['hotspot', 'ker', '6', '1', '0', 'e0065', 'h5'] -6- e0065\n",
      "['hotspot', 'ker', '6', '1', '0', 'e0001'] -5- e0001\n",
      "['hotspot', 'ker', '6', '1', '0', 'e0058', 'ckpt'] -6- e0058\n",
      "['hotspot', 'ker', '6', '1', '0', 'e0057'] -5- e0057\n",
      "['hotspot', 'ker', '6', '1', '0', 'e0064', 'h5'] -6- e0064\n",
      "['hotspot', 'ker', '6', '1', '0', 'e0003', 'h5'] -6- e0003\n",
      "['hotspot', 'ker', '6', '1', '0', 'e0065'] -5- e0065\n",
      "['hotspot', 'ker', '6', '1', '0', 'e0060', 'h5'] -6- e0060\n",
      "['hotspot', 'ker', '6', '1', '0', 'e0061'] -5- e0061\n",
      "['hotspot', 'ker', '6', '1', '0', 'e0010', 'h5'] -6- e0010\n",
      "['hotspot', 'ker', '6', '1', '0', 'e0058', 'h5'] -6- e0058\n",
      "['hotspot', 'ker', '6', '1', '0', 'e0007', 'h5'] -6- e0007\n",
      "['hotspot', 'ker', '6', '1', '0', 'e0059'] -5- e0059\n",
      "['hotspot', 'ker', '6', '1', '0', 'e0059', 'ckpt'] -6- e0059\n",
      "['hotspot', 'ker', '6', '1', '0', 'e0006', 'h5'] -6- e0006\n",
      "['hotspot', 'ker', '6', '1', '0', 'e0005'] -5- e0005\n",
      "['hotspot', 'ker', '6', '1', '0', 'e0059', 'h5'] -6- e0059\n",
      "['hotspot', 'ker', '6', '1', '0', 'e0061', 'h5'] -6- e0061\n",
      "['hotspot', 'ker', '6', '1', '0', 'e0063', 'h5'] -6- e0063\n",
      "['hotspot', 'ker', '6', '1', '0', 'e0006', 'ckpt'] -6- e0006\n",
      "['hotspot', 'ker', '6', '1', '0', 'e0008'] -5- e0008\n",
      "['hotspot', 'ker', '6', '1', '0', 'e0002'] -5- e0002\n",
      "['hotspot', 'ker', '6', '1', '0', 'e0064', 'ckpt'] -6- e0064\n",
      "['hotspot', 'ker', '6', '1', '0', 'e0055', 'ckpt'] -6- e0055\n",
      "['hotspot', 'ker', '6', '1', '0', 'e0004', 'h5'] -6- e0004\n",
      "['hotspot', 'ker', '6', '1', '0', 'e0005', 'h5'] -6- e0005\n",
      "['hotspot', 'ker', '6', '1', '0', 'e0002', 'ckpt'] -6- e0002\n",
      "['hotspot', 'ker', '6', '1', '0', 'e0062', 'h5'] -6- e0062\n",
      "['hotspot', 'ker', '6', '1', '0', 'e0060', 'ckpt'] -6- e0060\n",
      "Latest checkpoint is 65\n",
      "Issue: Unable to load due to usage of unserializable custom model/layer/metrics\n",
      "[KER_Model_loader: loaded new build 6.1]\n",
      "Model: \"sequential_2\"\n",
      "_________________________________________________________________\n",
      "Layer (type)                 Output Shape              Param #   \n",
      "=================================================================\n",
      "lstm_80_relu_15x80 (LSTM)    (None, 15, 80)            51520     \n",
      "_________________________________________________________________\n",
      "lstm_80_relu_1 (LSTM)        (None, 15, 80)            51520     \n",
      "_________________________________________________________________\n",
      "lstm_80_relu_2 (LSTM)        (None, 80)                51520     \n",
      "_________________________________________________________________\n",
      "dense_80_sigmoid (Dense)     (None, 80)                6480      \n",
      "=================================================================\n",
      "Total params: 161,040\n",
      "Trainable params: 161,040\n",
      "Non-trainable params: 0\n",
      "_________________________________________________________________\n",
      "None\n",
      "Solution-Step#1: Built/compiled new model\n",
      "Solution-Step#2: Loaded weights into new model from ../data/hotspot/x15/310k/models/ker/6/1/checkpoints/hotspot.ker.6.1.0.e0065.h5 \n",
      "[KER_Model:load_checkpoint] Loaded ../data/hotspot/x15/310k/models/ker/6/1/checkpoints/hotspot.ker.6.1.0.e0065.h5\n",
      "[iModel:derive_checkpoints_folder] Ensured ../data/hotspot/x15/310k/models/ker/6/1/checkpoints/\n",
      "[itrainer:set_checkpoint_per_epoch] added model_checkpoint callback\n",
      "[itrainer:get_csv_histry] added csv_logger callback /home/work/ai_lotto/notebooks/db/csv_logs.csv\n",
      "[itrainer:uplload_histry_per_epoch] added db_upload_history callback\n",
      "[itrainer:set_custom_callbacks] added custom_callback on_epoch_end\n",
      "New Session ID:  20200601095327\n",
      "Epoch 66/600\n",
      "[cf_callbacks] Start epoch 65 of training; got log keys: []\n",
      " 11936/310000 [>.............................] - ETA: 5:38 - loss: 0.5618 - precision_top10: 0.2720"
     ]
    },
    {
     "ename": "KeyboardInterrupt",
     "evalue": "",
     "output_type": "error",
     "traceback": [
      "\u001b[0;31m---------------------------------------------------------------------------\u001b[0m",
      "\u001b[0;31mKeyboardInterrupt\u001b[0m                         Traceback (most recent call last)",
      "\u001b[0;32m<ipython-input-3-6168300c8c4d>\u001b[0m in \u001b[0;36m<module>\u001b[0;34m\u001b[0m\n\u001b[1;32m      4\u001b[0m \u001b[0;34m\u001b[0m\u001b[0m\n\u001b[1;32m      5\u001b[0m \u001b[0;31m#save first epoch\u001b[0m\u001b[0;34m\u001b[0m\u001b[0;34m\u001b[0m\u001b[0;34m\u001b[0m\u001b[0m\n\u001b[0;32m----> 6\u001b[0;31m \u001b[0mtrainer\u001b[0m\u001b[0;34m.\u001b[0m\u001b[0mtrain\u001b[0m\u001b[0;34m(\u001b[0m\u001b[0mEpochs\u001b[0m\u001b[0;34m=\u001b[0m \u001b[0;36m600\u001b[0m\u001b[0;34m,\u001b[0m \u001b[0mBatchSize\u001b[0m\u001b[0;34m=\u001b[0m\u001b[0;36m32\u001b[0m\u001b[0;34m,\u001b[0m \u001b[0mCallbacks\u001b[0m\u001b[0;34m=\u001b[0m\u001b[0;34m{\u001b[0m\u001b[0;34m'per_epoch'\u001b[0m\u001b[0;34m:\u001b[0m \u001b[0;36m1\u001b[0m\u001b[0;34m,\u001b[0m \u001b[0;34m'csv_logger'\u001b[0m\u001b[0;34m:\u001b[0m \u001b[0;36m1\u001b[0m\u001b[0;34m,\u001b[0m \u001b[0;34m'upload_history'\u001b[0m\u001b[0;34m:\u001b[0m \u001b[0;36m1\u001b[0m\u001b[0;34m,\u001b[0m \u001b[0;34m'custom_callbacks'\u001b[0m\u001b[0;34m:\u001b[0m \u001b[0;34m'on_epoch_end'\u001b[0m\u001b[0;34m}\u001b[0m\u001b[0;34m,\u001b[0m \u001b[0mVerbose\u001b[0m\u001b[0;34m=\u001b[0m \u001b[0;36m1\u001b[0m\u001b[0;34m)\u001b[0m\u001b[0;34m\u001b[0m\u001b[0;34m\u001b[0m\u001b[0m\n\u001b[0m\u001b[1;32m      7\u001b[0m \u001b[0mtrainer\u001b[0m\u001b[0;34m.\u001b[0m\u001b[0mplt_db_logs\u001b[0m\u001b[0;34m(\u001b[0m\u001b[0;34m)\u001b[0m\u001b[0;34m\u001b[0m\u001b[0;34m\u001b[0m\u001b[0m\n",
      "\u001b[0;32m/home/work/ai_lotto/itrainer.py\u001b[0m in \u001b[0;36mtrain\u001b[0;34m(self, Epochs, BatchSize, Callbacks, Verbose)\u001b[0m\n\u001b[1;32m    177\u001b[0m                             \u001b[0;31m#, class_weight=None \\\u001b[0m\u001b[0;34m\u001b[0m\u001b[0;34m\u001b[0m\u001b[0;34m\u001b[0m\u001b[0m\n\u001b[1;32m    178\u001b[0m                             \u001b[0;31m#, sample_weight=None \\\u001b[0m\u001b[0;34m\u001b[0m\u001b[0;34m\u001b[0m\u001b[0;34m\u001b[0m\u001b[0m\n\u001b[0;32m--> 179\u001b[0;31m                             \u001b[0;34m,\u001b[0m \u001b[0minitial_epoch\u001b[0m \u001b[0;34m=\u001b[0m \u001b[0mself\u001b[0m\u001b[0;34m.\u001b[0m\u001b[0m_MODEL\u001b[0m\u001b[0;34m.\u001b[0m\u001b[0m_CHECKPOINT_EPOCH\u001b[0m\u001b[0;31m \u001b[0m\u001b[0;31m\\\u001b[0m\u001b[0;34m\u001b[0m\u001b[0;34m\u001b[0m\u001b[0m\n\u001b[0m\u001b[1;32m    180\u001b[0m                             \u001b[0;31m#, steps_per_epoch=None \\\u001b[0m\u001b[0;34m\u001b[0m\u001b[0;34m\u001b[0m\u001b[0;34m\u001b[0m\u001b[0m\n\u001b[1;32m    181\u001b[0m                             \u001b[0;31m#, validation_steps=None \\\u001b[0m\u001b[0;34m\u001b[0m\u001b[0;34m\u001b[0m\u001b[0;34m\u001b[0m\u001b[0m\n",
      "\u001b[0;32m/usr/local/lib/python3.6/dist-packages/keras/engine/training.py\u001b[0m in \u001b[0;36mfit\u001b[0;34m(self, x, y, batch_size, epochs, verbose, callbacks, validation_split, validation_data, shuffle, class_weight, sample_weight, initial_epoch, steps_per_epoch, validation_steps, validation_freq, max_queue_size, workers, use_multiprocessing, **kwargs)\u001b[0m\n\u001b[1;32m   1237\u001b[0m                                         \u001b[0msteps_per_epoch\u001b[0m\u001b[0;34m=\u001b[0m\u001b[0msteps_per_epoch\u001b[0m\u001b[0;34m,\u001b[0m\u001b[0;34m\u001b[0m\u001b[0;34m\u001b[0m\u001b[0m\n\u001b[1;32m   1238\u001b[0m                                         \u001b[0mvalidation_steps\u001b[0m\u001b[0;34m=\u001b[0m\u001b[0mvalidation_steps\u001b[0m\u001b[0;34m,\u001b[0m\u001b[0;34m\u001b[0m\u001b[0;34m\u001b[0m\u001b[0m\n\u001b[0;32m-> 1239\u001b[0;31m                                         validation_freq=validation_freq)\n\u001b[0m\u001b[1;32m   1240\u001b[0m \u001b[0;34m\u001b[0m\u001b[0m\n\u001b[1;32m   1241\u001b[0m     def evaluate(self,\n",
      "\u001b[0;32m/usr/local/lib/python3.6/dist-packages/keras/engine/training_arrays.py\u001b[0m in \u001b[0;36mfit_loop\u001b[0;34m(model, fit_function, fit_inputs, out_labels, batch_size, epochs, verbose, callbacks, val_function, val_inputs, shuffle, initial_epoch, steps_per_epoch, validation_steps, validation_freq)\u001b[0m\n\u001b[1;32m    194\u001b[0m                     \u001b[0mins_batch\u001b[0m\u001b[0;34m[\u001b[0m\u001b[0mi\u001b[0m\u001b[0;34m]\u001b[0m \u001b[0;34m=\u001b[0m \u001b[0mins_batch\u001b[0m\u001b[0;34m[\u001b[0m\u001b[0mi\u001b[0m\u001b[0;34m]\u001b[0m\u001b[0;34m.\u001b[0m\u001b[0mtoarray\u001b[0m\u001b[0;34m(\u001b[0m\u001b[0;34m)\u001b[0m\u001b[0;34m\u001b[0m\u001b[0;34m\u001b[0m\u001b[0m\n\u001b[1;32m    195\u001b[0m \u001b[0;34m\u001b[0m\u001b[0m\n\u001b[0;32m--> 196\u001b[0;31m                 \u001b[0mouts\u001b[0m \u001b[0;34m=\u001b[0m \u001b[0mfit_function\u001b[0m\u001b[0;34m(\u001b[0m\u001b[0mins_batch\u001b[0m\u001b[0;34m)\u001b[0m\u001b[0;34m\u001b[0m\u001b[0;34m\u001b[0m\u001b[0m\n\u001b[0m\u001b[1;32m    197\u001b[0m                 \u001b[0mouts\u001b[0m \u001b[0;34m=\u001b[0m \u001b[0mto_list\u001b[0m\u001b[0;34m(\u001b[0m\u001b[0mouts\u001b[0m\u001b[0;34m)\u001b[0m\u001b[0;34m\u001b[0m\u001b[0;34m\u001b[0m\u001b[0m\n\u001b[1;32m    198\u001b[0m                 \u001b[0;32mfor\u001b[0m \u001b[0ml\u001b[0m\u001b[0;34m,\u001b[0m \u001b[0mo\u001b[0m \u001b[0;32min\u001b[0m \u001b[0mzip\u001b[0m\u001b[0;34m(\u001b[0m\u001b[0mout_labels\u001b[0m\u001b[0;34m,\u001b[0m \u001b[0mouts\u001b[0m\u001b[0;34m)\u001b[0m\u001b[0;34m:\u001b[0m\u001b[0;34m\u001b[0m\u001b[0;34m\u001b[0m\u001b[0m\n",
      "\u001b[0;32m/usr/local/lib/python3.6/dist-packages/tensorflow/python/keras/backend.py\u001b[0m in \u001b[0;36m__call__\u001b[0;34m(self, inputs)\u001b[0m\n\u001b[1;32m   3790\u001b[0m         \u001b[0mvalue\u001b[0m \u001b[0;34m=\u001b[0m \u001b[0mmath_ops\u001b[0m\u001b[0;34m.\u001b[0m\u001b[0mcast\u001b[0m\u001b[0;34m(\u001b[0m\u001b[0mvalue\u001b[0m\u001b[0;34m,\u001b[0m \u001b[0mtensor\u001b[0m\u001b[0;34m.\u001b[0m\u001b[0mdtype\u001b[0m\u001b[0;34m)\u001b[0m\u001b[0;34m\u001b[0m\u001b[0;34m\u001b[0m\u001b[0m\n\u001b[1;32m   3791\u001b[0m       \u001b[0mconverted_inputs\u001b[0m\u001b[0;34m.\u001b[0m\u001b[0mappend\u001b[0m\u001b[0;34m(\u001b[0m\u001b[0mvalue\u001b[0m\u001b[0;34m)\u001b[0m\u001b[0;34m\u001b[0m\u001b[0;34m\u001b[0m\u001b[0m\n\u001b[0;32m-> 3792\u001b[0;31m     \u001b[0moutputs\u001b[0m \u001b[0;34m=\u001b[0m \u001b[0mself\u001b[0m\u001b[0;34m.\u001b[0m\u001b[0m_graph_fn\u001b[0m\u001b[0;34m(\u001b[0m\u001b[0;34m*\u001b[0m\u001b[0mconverted_inputs\u001b[0m\u001b[0;34m)\u001b[0m\u001b[0;34m\u001b[0m\u001b[0;34m\u001b[0m\u001b[0m\n\u001b[0m\u001b[1;32m   3793\u001b[0m \u001b[0;34m\u001b[0m\u001b[0m\n\u001b[1;32m   3794\u001b[0m     \u001b[0;31m# EagerTensor.numpy() will often make a copy to ensure memory safety.\u001b[0m\u001b[0;34m\u001b[0m\u001b[0;34m\u001b[0m\u001b[0;34m\u001b[0m\u001b[0m\n",
      "\u001b[0;32m/usr/local/lib/python3.6/dist-packages/tensorflow/python/eager/function.py\u001b[0m in \u001b[0;36m__call__\u001b[0;34m(self, *args, **kwargs)\u001b[0m\n\u001b[1;32m   1603\u001b[0m       \u001b[0mTypeError\u001b[0m\u001b[0;34m:\u001b[0m \u001b[0mFor\u001b[0m \u001b[0minvalid\u001b[0m \u001b[0mpositional\u001b[0m\u001b[0;34m/\u001b[0m\u001b[0mkeyword\u001b[0m \u001b[0margument\u001b[0m \u001b[0mcombinations\u001b[0m\u001b[0;34m.\u001b[0m\u001b[0;34m\u001b[0m\u001b[0;34m\u001b[0m\u001b[0m\n\u001b[1;32m   1604\u001b[0m     \"\"\"\n\u001b[0;32m-> 1605\u001b[0;31m     \u001b[0;32mreturn\u001b[0m \u001b[0mself\u001b[0m\u001b[0;34m.\u001b[0m\u001b[0m_call_impl\u001b[0m\u001b[0;34m(\u001b[0m\u001b[0margs\u001b[0m\u001b[0;34m,\u001b[0m \u001b[0mkwargs\u001b[0m\u001b[0;34m)\u001b[0m\u001b[0;34m\u001b[0m\u001b[0;34m\u001b[0m\u001b[0m\n\u001b[0m\u001b[1;32m   1606\u001b[0m \u001b[0;34m\u001b[0m\u001b[0m\n\u001b[1;32m   1607\u001b[0m   \u001b[0;32mdef\u001b[0m \u001b[0m_call_impl\u001b[0m\u001b[0;34m(\u001b[0m\u001b[0mself\u001b[0m\u001b[0;34m,\u001b[0m \u001b[0margs\u001b[0m\u001b[0;34m,\u001b[0m \u001b[0mkwargs\u001b[0m\u001b[0;34m,\u001b[0m \u001b[0mcancellation_manager\u001b[0m\u001b[0;34m=\u001b[0m\u001b[0;32mNone\u001b[0m\u001b[0;34m)\u001b[0m\u001b[0;34m:\u001b[0m\u001b[0;34m\u001b[0m\u001b[0;34m\u001b[0m\u001b[0m\n",
      "\u001b[0;32m/usr/local/lib/python3.6/dist-packages/tensorflow/python/eager/function.py\u001b[0m in \u001b[0;36m_call_impl\u001b[0;34m(self, args, kwargs, cancellation_manager)\u001b[0m\n\u001b[1;32m   1643\u001b[0m       raise TypeError(\"Keyword arguments {} unknown. Expected {}.\".format(\n\u001b[1;32m   1644\u001b[0m           list(kwargs.keys()), list(self._arg_keywords)))\n\u001b[0;32m-> 1645\u001b[0;31m     \u001b[0;32mreturn\u001b[0m \u001b[0mself\u001b[0m\u001b[0;34m.\u001b[0m\u001b[0m_call_flat\u001b[0m\u001b[0;34m(\u001b[0m\u001b[0margs\u001b[0m\u001b[0;34m,\u001b[0m \u001b[0mself\u001b[0m\u001b[0;34m.\u001b[0m\u001b[0mcaptured_inputs\u001b[0m\u001b[0;34m,\u001b[0m \u001b[0mcancellation_manager\u001b[0m\u001b[0;34m)\u001b[0m\u001b[0;34m\u001b[0m\u001b[0;34m\u001b[0m\u001b[0m\n\u001b[0m\u001b[1;32m   1646\u001b[0m \u001b[0;34m\u001b[0m\u001b[0m\n\u001b[1;32m   1647\u001b[0m   \u001b[0;32mdef\u001b[0m \u001b[0m_filtered_call\u001b[0m\u001b[0;34m(\u001b[0m\u001b[0mself\u001b[0m\u001b[0;34m,\u001b[0m \u001b[0margs\u001b[0m\u001b[0;34m,\u001b[0m \u001b[0mkwargs\u001b[0m\u001b[0;34m)\u001b[0m\u001b[0;34m:\u001b[0m\u001b[0;34m\u001b[0m\u001b[0;34m\u001b[0m\u001b[0m\n",
      "\u001b[0;32m/usr/local/lib/python3.6/dist-packages/tensorflow/python/eager/function.py\u001b[0m in \u001b[0;36m_call_flat\u001b[0;34m(self, args, captured_inputs, cancellation_manager)\u001b[0m\n\u001b[1;32m   1744\u001b[0m       \u001b[0;31m# No tape is watching; skip to running the function.\u001b[0m\u001b[0;34m\u001b[0m\u001b[0;34m\u001b[0m\u001b[0;34m\u001b[0m\u001b[0m\n\u001b[1;32m   1745\u001b[0m       return self._build_call_outputs(self._inference_function.call(\n\u001b[0;32m-> 1746\u001b[0;31m           ctx, args, cancellation_manager=cancellation_manager))\n\u001b[0m\u001b[1;32m   1747\u001b[0m     forward_backward = self._select_forward_and_backward_functions(\n\u001b[1;32m   1748\u001b[0m         \u001b[0margs\u001b[0m\u001b[0;34m,\u001b[0m\u001b[0;34m\u001b[0m\u001b[0;34m\u001b[0m\u001b[0m\n",
      "\u001b[0;32m/usr/local/lib/python3.6/dist-packages/tensorflow/python/eager/function.py\u001b[0m in \u001b[0;36mcall\u001b[0;34m(self, ctx, args, cancellation_manager)\u001b[0m\n\u001b[1;32m    596\u001b[0m               \u001b[0minputs\u001b[0m\u001b[0;34m=\u001b[0m\u001b[0margs\u001b[0m\u001b[0;34m,\u001b[0m\u001b[0;34m\u001b[0m\u001b[0;34m\u001b[0m\u001b[0m\n\u001b[1;32m    597\u001b[0m               \u001b[0mattrs\u001b[0m\u001b[0;34m=\u001b[0m\u001b[0mattrs\u001b[0m\u001b[0;34m,\u001b[0m\u001b[0;34m\u001b[0m\u001b[0;34m\u001b[0m\u001b[0m\n\u001b[0;32m--> 598\u001b[0;31m               ctx=ctx)\n\u001b[0m\u001b[1;32m    599\u001b[0m         \u001b[0;32melse\u001b[0m\u001b[0;34m:\u001b[0m\u001b[0;34m\u001b[0m\u001b[0;34m\u001b[0m\u001b[0m\n\u001b[1;32m    600\u001b[0m           outputs = execute.execute_with_cancellation(\n",
      "\u001b[0;32m/usr/local/lib/python3.6/dist-packages/tensorflow/python/eager/execute.py\u001b[0m in \u001b[0;36mquick_execute\u001b[0;34m(op_name, num_outputs, inputs, attrs, ctx, name)\u001b[0m\n\u001b[1;32m     58\u001b[0m     \u001b[0mctx\u001b[0m\u001b[0;34m.\u001b[0m\u001b[0mensure_initialized\u001b[0m\u001b[0;34m(\u001b[0m\u001b[0;34m)\u001b[0m\u001b[0;34m\u001b[0m\u001b[0;34m\u001b[0m\u001b[0m\n\u001b[1;32m     59\u001b[0m     tensors = pywrap_tfe.TFE_Py_Execute(ctx._handle, device_name, op_name,\n\u001b[0;32m---> 60\u001b[0;31m                                         inputs, attrs, num_outputs)\n\u001b[0m\u001b[1;32m     61\u001b[0m   \u001b[0;32mexcept\u001b[0m \u001b[0mcore\u001b[0m\u001b[0;34m.\u001b[0m\u001b[0m_NotOkStatusException\u001b[0m \u001b[0;32mas\u001b[0m \u001b[0me\u001b[0m\u001b[0;34m:\u001b[0m\u001b[0;34m\u001b[0m\u001b[0;34m\u001b[0m\u001b[0m\n\u001b[1;32m     62\u001b[0m     \u001b[0;32mif\u001b[0m \u001b[0mname\u001b[0m \u001b[0;32mis\u001b[0m \u001b[0;32mnot\u001b[0m \u001b[0;32mNone\u001b[0m\u001b[0;34m:\u001b[0m\u001b[0;34m\u001b[0m\u001b[0;34m\u001b[0m\u001b[0m\n",
      "\u001b[0;31mKeyboardInterrupt\u001b[0m: "
     ]
    }
   ],
   "source": [
    "trainer = Trainer(modelID, datasetID, True); #true will load latest checkpoints\n",
    "\n",
    "# trainer.train(Epochs= 500, BatchSize=32, Callbacks={'per_epoch':5}, Verbose= 1)\n",
    "\n",
    "#save first epoch\n",
    "trainer.train(Epochs= 600, BatchSize=32, Callbacks={'per_epoch': 1, 'csv_logger': 1, 'upload_history': 1, 'custom_callbacks': 'on_epoch_end'}, Verbose= 1)\n",
    "trainer.plt_db_logs()"
   ]
  },
  {
   "cell_type": "code",
   "execution_count": null,
   "metadata": {
    "colab": {},
    "colab_type": "code",
    "id": "y3LKfokmpz0c"
   },
   "outputs": [],
   "source": [
    "trainer._MODEL.load_latest_checkpoihnbnt()\n",
    "#trainer._MODEL._M.summary()"
   ]
  },
  {
   "cell_type": "code",
   "execution_count": 6,
   "metadata": {},
   "outputs": [
    {
     "ename": "KeyError",
     "evalue": "'history'",
     "output_type": "error",
     "traceback": [
      "\u001b[0;31m---------------------------------------------------------------------------\u001b[0m",
      "\u001b[0;31mKeyError\u001b[0m                                  Traceback (most recent call last)",
      "\u001b[0;32m<ipython-input-6-1a3718b0acf5>\u001b[0m in \u001b[0;36m<module>\u001b[0;34m\u001b[0m\n\u001b[0;32m----> 1\u001b[0;31m \u001b[0;32mfor\u001b[0m \u001b[0mkey\u001b[0m \u001b[0;32min\u001b[0m \u001b[0mtrainer\u001b[0m\u001b[0;34m.\u001b[0m\u001b[0m_INFO\u001b[0m\u001b[0;34m[\u001b[0m\u001b[0;34m'history'\u001b[0m\u001b[0;34m]\u001b[0m\u001b[0;34m.\u001b[0m\u001b[0mhistory\u001b[0m\u001b[0;34m:\u001b[0m\u001b[0;34m\u001b[0m\u001b[0;34m\u001b[0m\u001b[0m\n\u001b[0m\u001b[1;32m      2\u001b[0m     \u001b[0mprint\u001b[0m\u001b[0;34m(\u001b[0m\u001b[0;34m\"{0}=>{1}\"\u001b[0m\u001b[0;34m.\u001b[0m\u001b[0mformat\u001b[0m\u001b[0;34m(\u001b[0m\u001b[0mkey\u001b[0m\u001b[0;34m,\u001b[0m \u001b[0mtrainer\u001b[0m\u001b[0;34m.\u001b[0m\u001b[0m_INFO\u001b[0m\u001b[0;34m[\u001b[0m\u001b[0;34m'history'\u001b[0m\u001b[0;34m]\u001b[0m\u001b[0;34m.\u001b[0m\u001b[0mhistory\u001b[0m\u001b[0;34m[\u001b[0m\u001b[0mkey\u001b[0m\u001b[0;34m]\u001b[0m\u001b[0;34m)\u001b[0m\u001b[0;34m)\u001b[0m\u001b[0;34m\u001b[0m\u001b[0;34m\u001b[0m\u001b[0m\n",
      "\u001b[0;31mKeyError\u001b[0m: 'history'"
     ]
    }
   ],
   "source": [
    "for key in trainer._INFO['history'].history:\n",
    "    print(\"{0}=>{1}\".format(key, trainer._INFO['history'].history[key]))"
   ]
  },
  {
   "cell_type": "code",
   "execution_count": 7,
   "metadata": {},
   "outputs": [
    {
     "data": {
      "text/plain": [
       "'BB'"
      ]
     },
     "execution_count": 7,
     "metadata": {},
     "output_type": "execute_result"
    }
   ],
   "source": [
    "list = {};\n",
    "list['a'] = 'A'\n",
    "list['b'] = {'B': 'BB'}\n",
    "list['b']['B']"
   ]
  },
  {
   "cell_type": "markdown",
   "metadata": {
    "colab": {},
    "colab_type": "code",
    "id": "1fdtwrWapz0g"
   },
   "source": [
    "##### k = Sequential()\n",
    "k.add(LSTM(units=80, activation='relu', return_sequences=True, input_shape=(15,80)) ); #input_shape=(15,80) ));\n",
    "k.add(LSTM(units=160, activation='relu'))\n",
    "k.add(Dense(units=160, activation='relu'));\n",
    "k.add(Dense(80, activation='sigmoid'));\n",
    "k.compile(optimizer='adam', loss='mse', metrics=['accuracy'])\n",
    "k.summary()"
   ]
  },
  {
   "cell_type": "code",
   "execution_count": null,
   "metadata": {
    "colab": {},
    "colab_type": "code",
    "id": "q3G9_KeYpz0j"
   },
   "outputs": [],
   "source": [
    "trainer._MODEL._M = k;\n",
    "trainer.train(Epochs=10, BatchSize=100, Callbacks={'per_epoch':5})\n",
    "\n",
    "#trainer._MODEL._D_X_SHAPE"
   ]
  },
  {
   "cell_type": "code",
   "execution_count": null,
   "metadata": {
    "colab": {},
    "colab_type": "code",
    "id": "asAoOptxW1l_"
   },
   "outputs": [],
   "source": [
    "## Print tree structure of Data folder\n",
    "#!apt-get install tree\n",
    "!tree '../data/keno'"
   ]
  },
  {
   "cell_type": "code",
   "execution_count": null,
   "metadata": {
    "colab": {},
    "colab_type": "code",
    "id": "diG-yLNjpz0q",
    "outputId": "58c88518-37da-476c-bcd1-bdffd21e69a4"
   },
   "outputs": [],
   "source": [
    "dat = Dataset('keno_x15_25k_dr')\n",
    "dat.load()\n",
    "mod = Model('keno.ker.4.1.e0010',dat)\n",
    "mod.load()\n",
    "mod.print_summary()"
   ]
  },
  {
   "cell_type": "markdown",
   "metadata": {
    "colab_type": "text",
    "id": "0DHWdaI7Y3EO"
   },
   "source": [
    "## Training ground"
   ]
  },
  {
   "cell_type": "code",
   "execution_count": null,
   "metadata": {
    "colab": {},
    "colab_type": "code",
    "id": "08Qrou6cY3EP"
   },
   "outputs": [],
   "source": [
    "!python3 '../idataset.py'\n",
    "\n",
    "datasetID = 'keno_x15_100k_dr'\n",
    "\n",
    "d = Dataset(datasetID)\n",
    "d.load();\n",
    "dataset = d._D;"
   ]
  },
  {
   "cell_type": "code",
   "execution_count": null,
   "metadata": {
    "colab": {},
    "colab_type": "code",
    "id": "xaLqYQubY3ET"
   },
   "outputs": [],
   "source": [
    "import keras as kr\n",
    "from keras.models import Sequential\n",
    "from keras.layers import LSTM, Dense\n",
    "\n",
    "!python3 '../imodel.py'\n",
    "!python3 '../ker_model.py'\n",
    "!python3 '../ker_model_loader.py'\n",
    "\n",
    "modelID = 'keno.ker.4.11.0'\n",
    "\n",
    "#Keno.ker.1.1\n",
    "Model = KER_Model(modelID, d);\n",
    "KER_Model_Loader(Model);\n",
    "\n",
    "Model.save_untrained()\n",
    "Model.print_summary();"
   ]
  },
  {
   "cell_type": "code",
   "execution_count": null,
   "metadata": {
    "colab": {},
    "colab_type": "code",
    "id": "NOVlO5n5Y3EW"
   },
   "outputs": [],
   "source": [
    "Model._M.fit(d._D['X'], d._D['Y'], epochs=10, verbose=1)"
   ]
  },
  {
   "cell_type": "code",
   "execution_count": null,
   "metadata": {
    "colab": {},
    "colab_type": "code",
    "id": "Mfj7Bb7EY3EY"
   },
   "outputs": [],
   "source": [
    "kr.get_untrained_folder_path()"
   ]
  },
  {
   "cell_type": "code",
   "execution_count": null,
   "metadata": {
    "colab": {},
    "colab_type": "code",
    "id": "LUoEwr7pY3Ec"
   },
   "outputs": [],
   "source": [
    "%run 'idataset.py'"
   ]
  },
  {
   "cell_type": "code",
   "execution_count": null,
   "metadata": {
    "colab": {},
    "colab_type": "code",
    "id": "RQLASkWFp9FG"
   },
   "outputs": [],
   "source": [
    "cd ../"
   ]
  },
  {
   "cell_type": "code",
   "execution_count": null,
   "metadata": {
    "colab": {},
    "colab_type": "code",
    "id": "tjd-IpKHu0M_"
   },
   "outputs": [],
   "source": [
    "import sys\n",
    "sys.path.append('/content/g_drive/My Drive/Colab/Datascience/ai_lotto')"
   ]
  },
  {
   "cell_type": "code",
   "execution_count": null,
   "metadata": {
    "colab": {},
    "colab_type": "code",
    "id": "3VcDbFOErusT"
   },
   "outputs": [],
   "source": [
    "from idataset import Dataset\n",
    "d = Dataset('keno_x15_2.528m_dr')\n",
    "d._FULL_PATH"
   ]
  },
  {
   "cell_type": "markdown",
   "metadata": {},
   "source": [
    "# Modset"
   ]
  },
  {
   "cell_type": "code",
   "execution_count": 3,
   "metadata": {},
   "outputs": [
    {
     "name": "stdout",
     "output_type": "stream",
     "text": [
      "xndraw310k, new_st310.0, multiple1000, notationk\n",
      "[iFile:__init__]\n",
      "xndraw310k, new_st310.0, multiple1000, notationk\n",
      "[iFile:derive_game_path]data/hotspot/\n",
      "[iFile:derive_folder_path] data/hotspot/x15/310k/\n",
      "[iDataset:derive_file_path] datasets/hotspot_x15_310k_dr.npz\n",
      "[ifile:derive_full_path] ../data/hotspot/x15/310k/datasets/hotspot_x15_310k_dr.npz\n",
      "Loading dataset ../data/hotspot/x15/310k/datasets/hotspot_x15_310k_dr.npz\n",
      "[iModel:decipher_file_name]\n",
      "[iModel:set_decipher_info] {'GAME': 'hotspot', 'xnINPUTS': 'x15', 'nINPUTS': 15, 'xnDRAWS': '310k', 'nDRAWS': 310000, 'DATA_TYPE': 'dr', 'API': 'ker', 'BUILD': '6', 'MAKE': '1', 'VERSION': '0', 'CHECKPOINT': 'e0001', 'IS_CHECKPOINT': True, 'CHECKPOINT_EPOCH': 1}\n",
      "[iFile:__init__]\n",
      "[iModel:decipher_file_name]\n",
      "[iModel:set_decipher_info] {'GAME': 'hotspot', 'xnINPUTS': 'x15', 'nINPUTS': 15, 'xnDRAWS': '310k', 'nDRAWS': 310000, 'DATA_TYPE': 'dr', 'API': 'ker', 'BUILD': '6', 'MAKE': '1', 'VERSION': '0', 'CHECKPOINT': 'e0001', 'IS_CHECKPOINT': True, 'CHECKPOINT_EPOCH': 1}\n",
      "[iModel:derive_file_path] models/ker/6/1/hotspot.ker.6.1.0.e0001.e0001.h5\n",
      "[iFile:derive_game_path]data/hotspot/\n",
      "[ifile:derive_full_path] ../data/hotspot/x15/310k/models/ker/6/1/hotspot.ker.6.1.0.e0001.e0001.h5\n",
      "[iModel:derive_checkpoints_folder] Ensured ../data/hotspot/x15/310k/models/ker/6/1/checkpoints/\n",
      "Modset ID: hotspot.ker.6.1.0[x15_310k_dr]\n",
      "[iModel:__init__\n",
      "[Model:loader] converted Model to KER_Model\n",
      "Issue: Unable to load due to usage of unserializable custom model/layer/metrics\n",
      "[KER_Model_loader: loaded new build 6.1]\n",
      "Model: \"sequential_1\"\n",
      "_________________________________________________________________\n",
      "Layer (type)                 Output Shape              Param #   \n",
      "=================================================================\n",
      "lstm_80_relu_15x80 (LSTM)    (None, 15, 80)            51520     \n",
      "_________________________________________________________________\n",
      "lstm_80_relu_1 (LSTM)        (None, 15, 80)            51520     \n",
      "_________________________________________________________________\n",
      "lstm_80_relu_2 (LSTM)        (None, 80)                51520     \n",
      "_________________________________________________________________\n",
      "dense_80_sigmoid (Dense)     (None, 80)                6480      \n",
      "=================================================================\n",
      "Total params: 161,040\n",
      "Trainable params: 161,040\n",
      "Non-trainable params: 0\n",
      "_________________________________________________________________\n",
      "None\n",
      "Solution-Step#1: Built/compiled new model\n",
      "Solution-Step#2: Loaded weights into new model from ../archive/hotspot/models/hotspot.ker.6.1.0[x15_310k_dr][e0001].h5 \n",
      "[KER_Model:load_archived] Loaded ../archive/hotspot/models/hotspot.ker.6.1.0[x15_310k_dr][e0001].h5\n",
      "[KER_Model:load]: Loading archived ../data/hotspot/x15/310k/models/ker/6/1/hotspot.ker.6.1.0.e0001.e0001.h5\n"
     ]
    }
   ],
   "source": [
    "modset = Modset('hotspot.ker.6.1.0[x15_310k_dr]','e0001', True)"
   ]
  },
  {
   "cell_type": "code",
   "execution_count": 7,
   "metadata": {},
   "outputs": [
    {
     "name": "stdout",
     "output_type": "stream",
     "text": [
      "Model: \"sequential_1\"\n",
      "_________________________________________________________________\n",
      "Layer (type)                 Output Shape              Param #   \n",
      "=================================================================\n",
      "lstm_80_relu_15x80 (LSTM)    (None, 15, 80)            51520     \n",
      "_________________________________________________________________\n",
      "lstm_80_relu_1 (LSTM)        (None, 15, 80)            51520     \n",
      "_________________________________________________________________\n",
      "lstm_80_relu_2 (LSTM)        (None, 80)                51520     \n",
      "_________________________________________________________________\n",
      "dense_80_sigmoid (Dense)     (None, 80)                6480      \n",
      "=================================================================\n",
      "Total params: 161,040\n",
      "Trainable params: 161,040\n",
      "Non-trainable params: 0\n",
      "_________________________________________________________________\n",
      "None\n"
     ]
    }
   ],
   "source": [
    "modset._MODEL.print_summary()"
   ]
  },
  {
   "cell_type": "code",
   "execution_count": 4,
   "metadata": {},
   "outputs": [
    {
     "name": "stdout",
     "output_type": "stream",
     "text": [
      "[2587326] [0.2637586  0.2714798  0.25255173 0.2554642  0.23806015 0.24860847\n",
      " 0.25861675 0.24892527 0.26314825 0.24836934 0.24306288 0.25315553\n",
      " 0.25711688 0.24877322 0.25205505 0.25453258 0.259328   0.24269092\n",
      " 0.25015578 0.23907492 0.24625    0.270998   0.24117526 0.25776166\n",
      " 0.2506109  0.24367765 0.24981898 0.25077552 0.23412582 0.25141186\n",
      " 0.25663328 0.257509   0.25393808 0.24404973 0.24931875 0.23770607\n",
      " 0.24692398 0.2277591  0.25195557 0.25714886 0.24820301 0.23884487\n",
      " 0.23794314 0.2652064  0.2648548  0.25193226 0.25340843 0.2500886\n",
      " 0.23880813 0.25479493 0.2338455  0.24399185 0.25744677 0.24506462\n",
      " 0.2603436  0.25795272 0.26445398 0.24833205 0.23467103 0.25451982\n",
      " 0.23714676 0.25860506 0.25768298 0.2361573  0.24604586 0.26580918\n",
      " 0.24777484 0.254057   0.26128092 0.24432173 0.2517621  0.25784603\n",
      " 0.24254864 0.2630463  0.26025504 0.25902554 0.24945223 0.24547282\n",
      " 0.2587232  0.26591158] [0 0 1 0 0 0 0 0 0 0 0 0 1 1 0 1 0 0 1 0 0 1 1 0 1 0 0 0 0 1 0 1 0 0 0 0 1\n",
      " 0 0 0 0 0 1 0 0 1 0 0 0 0 0 0 0 0 1 0 0 0 1 0 0 0 1 0 0 1 1 0 0 1 0 0 0 0\n",
      " 0 0 0 0 0 1]\n",
      "[2587327] [0.26384944 0.27157444 0.25264418 0.2555405  0.23815125 0.24868405\n",
      " 0.25868887 0.24902055 0.263242   0.248442   0.243141   0.2532266\n",
      " 0.25718555 0.2488622  0.25213772 0.25460687 0.25941396 0.24277893\n",
      " 0.25022718 0.23917231 0.24632174 0.27105647 0.24126533 0.25784606\n",
      " 0.2506981  0.24376327 0.24989158 0.2508673  0.23420683 0.25150442\n",
      " 0.25672024 0.25758624 0.25401744 0.24412516 0.24941036 0.23778406\n",
      " 0.24699959 0.2278558  0.25204256 0.25721925 0.24828863 0.2389256\n",
      " 0.2380229  0.2652977  0.26493746 0.25203058 0.2534669  0.25015807\n",
      " 0.23889077 0.25487363 0.23392111 0.24407974 0.25751978 0.24516132\n",
      " 0.26042637 0.25801942 0.26453936 0.24840507 0.2347793  0.25461352\n",
      " 0.23723671 0.2586835  0.25777063 0.23623592 0.24613035 0.26589727\n",
      " 0.2478711  0.25413752 0.2613703  0.24440598 0.2518296  0.25792605\n",
      " 0.24263778 0.26311374 0.26033744 0.2591083  0.24952868 0.24555618\n",
      " 0.2588076  0.26598248] [0 0 0 1 0 0 0 0 0 0 0 1 0 1 1 1 0 0 0 1 0 0 1 0 0 0 0 0 0 1 0 0 0 1 0 1 1\n",
      " 1 0 0 0 0 0 0 0 0 0 1 0 0 0 0 0 0 1 0 0 0 0 0 0 0 0 1 1 0 0 0 1 0 1 0 0 1\n",
      " 0 0 0 0 0 1]\n",
      "[2587328] [0.26381123 0.27153176 0.25259483 0.25548488 0.23810118 0.24862054\n",
      " 0.25862908 0.2489703  0.26318443 0.24838135 0.24307969 0.253179\n",
      " 0.2571357  0.24880934 0.25207406 0.25455454 0.25936776 0.24272326\n",
      " 0.2501743  0.23912397 0.24626815 0.27100205 0.24120921 0.25779778\n",
      " 0.25065094 0.2437152  0.2498455  0.25082803 0.23414457 0.25145447\n",
      " 0.25667077 0.25754082 0.253972   0.24406242 0.24936163 0.23773926\n",
      " 0.2469427  0.22779143 0.25197944 0.2571534  0.24824235 0.238879\n",
      " 0.23796394 0.26524282 0.26488644 0.2519691  0.25341868 0.25010788\n",
      " 0.23883653 0.2548027  0.23386085 0.24403161 0.2574671  0.24511531\n",
      " 0.2603673  0.25796184 0.26447985 0.24835473 0.23473203 0.2545786\n",
      " 0.23718524 0.25861484 0.2577194  0.23617262 0.24607936 0.26584524\n",
      " 0.24781892 0.25409055 0.26132488 0.24436393 0.2517714  0.25787914\n",
      " 0.24257374 0.26306012 0.26027703 0.25906152 0.24947512 0.24550179\n",
      " 0.25875962 0.26593012] [0 0 0 0 0 0 0 0 1 0 0 0 1 0 0 0 0 0 0 0 0 0 0 0 0 0 0 0 0 0 1 0 0 1 0 1 0\n",
      " 1 1 0 0 0 0 0 0 0 0 0 0 0 0 0 1 1 1 1 1 1 0 1 0 0 1 0 0 0 0 1 0 0 0 1 0 0\n",
      " 0 1 0 0 1 1]\n",
      "[2587329] [0.26369402 0.2714154  0.25246465 0.2553536  0.2379764  0.24848008\n",
      " 0.25848895 0.24884024 0.2630444  0.24824736 0.24293321 0.25306466\n",
      " 0.25700152 0.24867022 0.2519282  0.25444055 0.259252   0.24258131\n",
      " 0.2500484  0.23899183 0.24613276 0.2708838  0.24106956 0.2576702\n",
      " 0.25051442 0.24357885 0.24972546 0.25070354 0.23400453 0.25131902\n",
      " 0.25653875 0.2574165  0.25384426 0.24391565 0.24923894 0.23761913\n",
      " 0.24680972 0.22763711 0.25182694 0.25700915 0.24811822 0.2387554\n",
      " 0.23783165 0.26510993 0.26475888 0.25182694 0.25329816 0.24998924\n",
      " 0.23869917 0.25465673 0.23372817 0.2439012  0.2573436  0.2449758\n",
      " 0.26023048 0.25781715 0.2643444  0.24822295 0.23459336 0.25446367\n",
      " 0.23705563 0.25846308 0.25757772 0.23603725 0.24595413 0.2657079\n",
      " 0.24768445 0.25396037 0.26119864 0.2442427  0.25164443 0.25774878\n",
      " 0.24241906 0.26292872 0.26013866 0.25892782 0.24934909 0.24536455\n",
      " 0.25863612 0.2658016 ] [0 0 1 0 0 1 0 0 0 0 0 0 0 0 0 0 0 1 0 0 0 0 0 0 0 1 0 1 0 0 0 1 1 0 0 0 1\n",
      " 0 0 1 0 0 0 1 0 0 0 0 1 1 0 1 0 0 0 0 0 0 0 1 0 1 0 1 1 0 1 0 1 0 0 0 0 0\n",
      " 1 0 0 0 0 0]\n",
      "[2587330] [0.2635336  0.27124995 0.25227553 0.25518462 0.23780861 0.24829334\n",
      " 0.25831532 0.24865937 0.26285303 0.24807236 0.24274054 0.2529171\n",
      " 0.2568311  0.24848348 0.2517407  0.2542761  0.25908923 0.24238685\n",
      " 0.24988449 0.23880383 0.2459605  0.2707461  0.24088424 0.2574885\n",
      " 0.25032392 0.24339563 0.24956888 0.25052497 0.23382017 0.25113177\n",
      " 0.2563682  0.25723964 0.25366974 0.24372968 0.2490592  0.23744246\n",
      " 0.24662578 0.22742435 0.25162125 0.256815   0.24794805 0.2385942\n",
      " 0.23765597 0.26493564 0.2645806  0.25162345 0.2531355  0.24983472\n",
      " 0.23849666 0.25446668 0.23355854 0.24371713 0.25718725 0.24478483\n",
      " 0.2600494  0.25763744 0.2641843  0.24804866 0.23439729 0.2542877\n",
      " 0.23687127 0.2582797  0.25739545 0.235849   0.24578255 0.26550806\n",
      " 0.24748719 0.25378656 0.26102716 0.24407348 0.25150058 0.2575792\n",
      " 0.24220365 0.26275742 0.2599617  0.25872737 0.24918368 0.24516854\n",
      " 0.25848454 0.26562417] [0 0 0 0 1 0 0 0 0 0 1 0 0 0 0 0 0 0 0 1 0 0 0 0 1 0 1 1 0 0 0 0 0 0 0 1 0\n",
      " 1 0 1 0 0 0 1 1 1 1 0 0 0 0 0 1 1 0 0 0 1 0 0 0 0 0 1 0 0 0 0 1 0 0 0 0 0\n",
      " 0 1 0 0 1 0]\n",
      "[2587331] [0.26346314 0.2711866  0.2521956  0.25511956 0.23773748 0.24822003\n",
      " 0.25824937 0.24858543 0.26277745 0.24800247 0.24266064 0.25286403\n",
      " 0.2567553  0.24840435 0.25166234 0.25421363 0.2590213  0.24230859\n",
      " 0.24982044 0.23872146 0.24589059 0.27069426 0.24080801 0.25741506\n",
      " 0.25024268 0.24331507 0.24950111 0.250444   0.23375428 0.25105792\n",
      " 0.25629842 0.2571691  0.2535981  0.24365991 0.24897829 0.23737335\n",
      " 0.24655643 0.22733799 0.2515393  0.2567449  0.24787971 0.23852092\n",
      " 0.23758957 0.26486778 0.26451275 0.2515391  0.2530672  0.2497727\n",
      " 0.23841691 0.2543962  0.23349264 0.24364349 0.2571267  0.24471068\n",
      " 0.25998116 0.25756276 0.26411426 0.24797902 0.23431236 0.25421292\n",
      " 0.23679784 0.25820893 0.25732034 0.23577237 0.24571171 0.26542336\n",
      " 0.24740967 0.25371492 0.26095313 0.24400756 0.2514413  0.25750768\n",
      " 0.24212044 0.2626829  0.2598924  0.2586435  0.2491219  0.2450819\n",
      " 0.2584266  0.26555637] [0 1 0 0 0 0 0 1 1 1 0 0 1 0 0 0 0 0 0 0 0 0 0 0 0 0 0 1 0 1 1 0 1 1 1 0 0\n",
      " 0 0 0 0 0 0 0 0 0 1 0 0 0 0 0 0 0 0 1 1 0 0 0 1 0 1 0 1 1 0 1 0 0 0 0 0 0\n",
      " 1 0 0 0 0 0]\n",
      "[2587332] [0.26344427 0.2711643  0.2521682  0.25510547 0.23771468 0.24821073\n",
      " 0.25823528 0.2485593  0.2627519  0.24798867 0.24264124 0.25285435\n",
      " 0.2567317  0.24838182 0.25164145 0.25419778 0.25899708 0.2422845\n",
      " 0.249809   0.23869354 0.24586943 0.27068466 0.24078822 0.25739378\n",
      " 0.25021338 0.24329078 0.24947932 0.25040892 0.2337395  0.25103575\n",
      " 0.2562816  0.2571544  0.25357848 0.24364462 0.24894777 0.23735124\n",
      " 0.24653995 0.22731659 0.25151342 0.25673324 0.24786064 0.23849836\n",
      " 0.2375766  0.26484865 0.26449358 0.25151014 0.2530505  0.24976447\n",
      " 0.23839778 0.25438046 0.23348132 0.24362102 0.2571175  0.2446883\n",
      " 0.25996944 0.25754178 0.2640986  0.24795473 0.23428243 0.2541902\n",
      " 0.23677784 0.25819856 0.257295   0.23575124 0.24569052 0.26539117\n",
      " 0.2473835  0.25369924 0.2609304  0.2439932  0.25143605 0.2574935\n",
      " 0.24209434 0.26266557 0.25987488 0.25861406 0.24911124 0.24505293\n",
      " 0.2584117  0.26554132] [0 0 0 0 0 1 1 1 0 0 0 1 0 1 0 0 1 0 1 0 0 0 1 0 0 0 0 0 1 0 1 0 0 0 1 0 0\n",
      " 1 1 0 0 0 0 0 0 1 1 0 0 0 0 1 0 0 1 0 0 0 0 0 0 0 0 0 1 0 0 0 0 0 0 1 0 0\n",
      " 0 0 0 0 0 1]\n",
      "[2587333] [0.2633687  0.27107567 0.2520675  0.25502616 0.23763078 0.24812683\n",
      " 0.2581454  0.24846777 0.26264685 0.24790671 0.2425412  0.25278962\n",
      " 0.25662962 0.24828157 0.25153726 0.25411507 0.25889832 0.24217659\n",
      " 0.2497355  0.23858765 0.24577636 0.27061456 0.24070409 0.25728983\n",
      " 0.25010192 0.24319875 0.24939203 0.25029883 0.23364687 0.25093436\n",
      " 0.2561899  0.2570697  0.25349033 0.24355558 0.24885407 0.2372483\n",
      " 0.24643531 0.22722286 0.25138474 0.25664476 0.24776086 0.23843032\n",
      " 0.23750323 0.26474324 0.2644073  0.25139734 0.25296372 0.24969488\n",
      " 0.23830059 0.25428244 0.2334086  0.24352911 0.25704652 0.24458876\n",
      " 0.25987563 0.25743923 0.26400736 0.24785608 0.23417175 0.25408867\n",
      " 0.23668975 0.2581087  0.25718758 0.2356703  0.24560401 0.26527506\n",
      " 0.24728093 0.253608   0.26082927 0.24391189 0.25136653 0.2574119\n",
      " 0.24197051 0.2625792  0.25978532 0.25849685 0.24903163 0.24495748\n",
      " 0.25833827 0.26543355] [0 1 0 0 1 0 0 1 0 0 0 0 0 0 0 0 1 0 0 0 0 1 0 0 0 0 0 0 0 0 0 0 0 0 0 0 0\n",
      " 1 1 0 1 0 1 1 0 0 1 0 0 0 0 0 0 0 0 0 0 0 0 0 0 1 1 0 1 0 0 0 0 1 1 1 1 0\n",
      " 1 0 0 0 0 1]\n",
      "[2587334] [0.26351643 0.27123827 0.25224915 0.25521243 0.23780164 0.24832484\n",
      " 0.25832483 0.24863449 0.26281542 0.24809125 0.24272376 0.25292695\n",
      " 0.25679174 0.24845457 0.25171888 0.25426322 0.2590528  0.24237454\n",
      " 0.24991018 0.23877347 0.24594665 0.27074146 0.2408753  0.2574557\n",
      " 0.25027674 0.24337605 0.24952406 0.25045288 0.23383588 0.25109798\n",
      " 0.25636974 0.25725007 0.25365454 0.24375391 0.24900743 0.23739564\n",
      " 0.24661359 0.22742549 0.25158504 0.2568401  0.24791825 0.23857957\n",
      " 0.2376785  0.26490438 0.2645813  0.2515807  0.25312364 0.2498531\n",
      " 0.23850334 0.25446874 0.23359475 0.24371445 0.25722864 0.24476817\n",
      " 0.2600601  0.2576328  0.2641799  0.24800548 0.23435149 0.25425315\n",
      " 0.23685873 0.25829768 0.25735864 0.23584113 0.24576199 0.2654549\n",
      " 0.2474683  0.25379288 0.2610041  0.24406719 0.25153628 0.25758716\n",
      " 0.24217626 0.26274562 0.25996897 0.2586835  0.24920359 0.24512663\n",
      " 0.25849384 0.2656166 ] [0 0 0 1 1 0 1 0 0 1 0 0 1 0 0 0 0 0 0 0 0 0 0 0 0 0 0 1 0 0 0 0 1 0 0 0 1\n",
      " 0 0 0 0 1 0 0 0 1 0 0 0 0 0 0 0 0 0 1 0 1 1 0 0 1 0 0 0 1 0 0 0 0 1 0 0 1\n",
      " 1 1 0 0 1 0]\n",
      "[2587335] [0.26346225 0.27117753 0.2521907  0.25516808 0.23773974 0.24828327\n",
      " 0.2582622  0.24857464 0.2627336  0.24804053 0.24265325 0.25288442\n",
      " 0.2567175  0.24838135 0.25166234 0.25421423 0.2589993  0.24230829\n",
      " 0.24986032 0.2387127  0.24588779 0.2706781  0.24082556 0.25739348\n",
      " 0.25019932 0.24331766 0.24945745 0.25037247 0.2337803  0.25102532\n",
      " 0.25630203 0.25720298 0.25359282 0.24369282 0.24893096 0.23733032\n",
      " 0.24654603 0.22736943 0.25150645 0.25679523 0.24785677 0.23851526\n",
      " 0.23762682 0.26483542 0.2645225  0.251522   0.25307465 0.24981302\n",
      " 0.23845136 0.2544067  0.23355731 0.24365708 0.2571881  0.24469587\n",
      " 0.25999814 0.25756365 0.26411796 0.2479288  0.23427415 0.25419182\n",
      " 0.23679921 0.25824237 0.2572808  0.2357916  0.24569184 0.26537567\n",
      " 0.24740922 0.25373173 0.26093417 0.24400353 0.25148898 0.25752157\n",
      " 0.24210805 0.26269805 0.25990283 0.2586149  0.24915934 0.24506304\n",
      " 0.2584246  0.2655731 ] [0 0 0 0 1 0 1 0 0 1 0 0 1 0 0 0 0 0 0 0 0 0 0 0 1 0 0 0 1 0 0 0 0 0 0 1 1\n",
      " 0 0 0 1 0 0 1 0 0 1 0 0 0 0 0 0 0 1 0 0 1 0 0 0 1 0 1 0 0 0 0 1 1 1 0 0 1\n",
      " 0 0 0 0 1 0]\n",
      "[2587336] [0.2635319  0.2712616  0.25227284 0.25525266 0.23781562 0.24837357\n",
      " 0.258336   0.24865541 0.2627993  0.24812508 0.24271894 0.2529599\n",
      " 0.25676757 0.24845743 0.25175446 0.25428414 0.25907165 0.24238095\n",
      " 0.24993074 0.23880151 0.2459631  0.27071714 0.24091235 0.2574667\n",
      " 0.25026444 0.24339718 0.2494967  0.25043422 0.23386633 0.2510916\n",
      " 0.25638017 0.25728148 0.2536576  0.24377218 0.2489793  0.23739812\n",
      " 0.24661389 0.22746196 0.25159243 0.25688347 0.24793857 0.23856747\n",
      " 0.23770067 0.26491016 0.26459858 0.25160873 0.2531411  0.24988681\n",
      " 0.23853493 0.25448272 0.23365292 0.24374026 0.25727883 0.24477619\n",
      " 0.26007795 0.25763428 0.26419055 0.24798277 0.2343505  0.25426894\n",
      " 0.23687214 0.2583311  0.25734234 0.23587245 0.24575153 0.2654492\n",
      " 0.24749452 0.2538026  0.2610066  0.24406615 0.2515648  0.25758815\n",
      " 0.24219719 0.26276445 0.2599799  0.25869143 0.24924102 0.24512738\n",
      " 0.2584923  0.26566988] [0 0 1 0 0 0 1 0 1 0 0 1 0 0 0 0 0 0 0 0 0 0 1 0 0 1 0 0 1 0 0 0 0 1 0 0 0\n",
      " 0 1 1 1 1 0 0 0 0 0 0 1 0 0 0 1 0 0 0 0 0 0 0 0 0 0 1 0 1 1 0 0 0 0 1 0 0\n",
      " 1 0 0 0 0 1]\n",
      "[2587337] [0.26357606 0.27131653 0.25231647 0.25530264 0.2378597  0.2484214\n",
      " 0.25838578 0.24870464 0.26284486 0.2481704  0.24275666 0.25300872\n",
      " 0.25679922 0.24850589 0.25180954 0.25432232 0.2591139  0.24242532\n",
      " 0.24997091 0.23884982 0.2460092  0.27075028 0.24095601 0.25751472\n",
      " 0.25030714 0.24344367 0.24951795 0.25047415 0.23392239 0.25112882\n",
      " 0.2564283  0.25731826 0.25369868 0.2438182  0.24900737 0.23744169\n",
      " 0.24665827 0.22751147 0.25164157 0.25693107 0.24799398 0.23859581\n",
      " 0.23774093 0.2649666  0.26464242 0.25164923 0.25318012 0.24993166\n",
      " 0.23858145 0.2545315  0.23370588 0.24379018 0.25732994 0.24482355\n",
      " 0.26012892 0.25767696 0.26424152 0.24802291 0.23439759 0.25431216\n",
      " 0.23691401 0.25838554 0.25737923 0.23590651 0.24578774 0.26549277\n",
      " 0.2475417  0.253843   0.26105312 0.24410468 0.25161368 0.25763255\n",
      " 0.24225321 0.26279676 0.26002938 0.25873518 0.24929509 0.2451509\n",
      " 0.25854388 0.26572883] [1 0 0 0 0 0 0 0 1 0 0 0 1 0 0 1 0 0 1 0 0 0 0 0 0 0 1 1 0 0 1 0 0 1 0 0 0\n",
      " 0 0 0 0 1 0 0 1 0 0 0 0 0 1 0 0 0 0 0 0 0 0 1 1 1 0 0 0 0 1 0 0 0 0 1 1 0\n",
      " 0 1 0 0 0 1]\n",
      "[2587338] [0.26367623 0.27144128 0.2524377  0.2554248  0.23796925 0.24855089\n",
      " 0.25851297 0.24883223 0.26297373 0.24829027 0.2428801  0.2531089\n",
      " 0.2569139  0.24863783 0.2519533  0.25442907 0.25923568 0.24256107\n",
      " 0.25007915 0.23898238 0.2461293  0.27084628 0.2410751  0.2576394\n",
      " 0.2504273  0.24357376 0.24960735 0.25058508 0.23406678 0.2512598\n",
      " 0.25654694 0.25743443 0.25381157 0.24394327 0.24910167 0.23756182\n",
      " 0.24679631 0.2276479  0.25179863 0.25706026 0.24812129 0.2386778\n",
      " 0.23785487 0.2651014  0.26476192 0.25178236 0.2532929  0.25003794\n",
      " 0.2387093  0.2546635  0.23382667 0.24391842 0.25744987 0.24494442\n",
      " 0.26025325 0.25780362 0.26436764 0.24814546 0.23452663 0.25442332\n",
      " 0.23702484 0.25852203 0.25749868 0.2360183  0.24589324 0.26562715\n",
      " 0.24766827 0.2539544  0.26117283 0.24420953 0.25172776 0.25773835\n",
      " 0.24241024 0.2629035  0.26015443 0.25886214 0.24941468 0.2452561\n",
      " 0.25865275 0.2658798 ] [0 1 0 0 0 0 0 1 0 0 0 0 0 0 0 0 1 0 0 0 1 0 0 0 0 1 0 0 0 0 0 0 0 1 0 1 0\n",
      " 1 0 0 0 0 0 1 0 0 0 1 0 1 0 1 0 0 1 0 0 1 0 0 0 0 0 0 0 0 1 0 0 0 1 1 1 0\n",
      " 1 0 0 1 0 0]\n",
      "[2587339] [0.26371008 0.27149126 0.2524715  0.25546652 0.23800048 0.24859154\n",
      " 0.25855222 0.24888599 0.2630217  0.24833238 0.24291661 0.2531395\n",
      " 0.25694788 0.24868351 0.25200593 0.2544647  0.25927153 0.24260977\n",
      " 0.2501163  0.239025   0.24617797 0.27087495 0.24111548 0.25768012\n",
      " 0.25046352 0.24362677 0.24963284 0.25061697 0.23412326 0.25131488\n",
      " 0.25657412 0.2574808  0.25385025 0.24398899 0.24912712 0.2375964\n",
      " 0.24684611 0.22769839 0.25185856 0.25711328 0.24816674 0.23870039\n",
      " 0.23790121 0.26513988 0.2648055  0.25182977 0.2533307  0.25006545\n",
      " 0.23875177 0.25471237 0.23386529 0.24396181 0.25749415 0.24498138\n",
      " 0.26028627 0.25783908 0.26440507 0.2481921  0.23456609 0.2544505\n",
      " 0.23705965 0.258568   0.25753754 0.23606133 0.24593017 0.26567787\n",
      " 0.2477116  0.25398386 0.2612004  0.24424222 0.2517674  0.25776255\n",
      " 0.24246833 0.26293653 0.26019824 0.2589004  0.24944457 0.24529552\n",
      " 0.25868905 0.26593733] [0 0 1 0 0 0 0 1 0 0 0 0 1 0 0 0 0 0 1 0 0 0 0 0 0 1 0 0 0 1 1 0 0 1 1 0 0\n",
      " 0 0 0 1 0 1 0 0 0 0 1 0 1 1 0 0 1 0 0 0 0 0 1 0 0 0 0 0 0 0 1 0 0 0 0 0 1\n",
      " 1 0 1 0 0 0]\n",
      "[2587340] [0.26368207 0.27146453 0.2524397  0.25543648 0.23796439 0.24855444\n",
      " 0.25852573 0.24886045 0.2629905  0.24830365 0.24288335 0.253115\n",
      " 0.25692144 0.24866056 0.25198197 0.254436   0.25923824 0.2425788\n",
      " 0.250098   0.23899141 0.24616402 0.27085525 0.24107349 0.25765586\n",
      " 0.2504341  0.24359405 0.24960029 0.250592   0.23409408 0.2512756\n",
      " 0.25654402 0.25744954 0.2538213  0.24395773 0.24909428 0.23756874\n",
      " 0.24681896 0.22765642 0.2518319  0.25708342 0.24814484 0.23866615\n",
      " 0.23786893 0.26511246 0.2647718  0.25178546 0.25331473 0.25003603\n",
      " 0.23872039 0.2546863  0.23383325 0.24392879 0.2574695  0.24494162\n",
      " 0.2602595  0.257813   0.26437452 0.24817342 0.2345292  0.25441778\n",
      " 0.23702589 0.25853807 0.25749257 0.23602438 0.24591097 0.26565862\n",
      " 0.24768248 0.25395456 0.26116493 0.24420768 0.25175193 0.2577353\n",
      " 0.24243659 0.26290596 0.26017642 0.25887403 0.24941659 0.24525508\n",
      " 0.25866812 0.26591825] [0 0 0 0 1 0 1 0 0 0 0 1 0 1 0 0 0 0 0 1 0 1 0 0 0 0 1 0 0 0 0 0 1 0 0 1 0\n",
      " 0 0 1 0 1 0 1 0 1 1 0 0 0 0 0 0 0 0 0 0 0 1 0 1 0 0 1 0 0 0 0 0 0 1 0 1 1\n",
      " 0 0 0 0 0 0]\n"
     ]
    }
   ],
   "source": [
    "ids_tests = modset._DATASET._D['IDs_test'];\n",
    "x_tests = modset._DATASET._D['X_test'];\n",
    "y_tests = modset._DATASET._D['Y_test'];\n",
    "y_hats = modset._MODEL.predict(x_tests, True)\n",
    "for (ids_test, x_test, y_hat, y_test) in zip(ids_tests, x_tests, y_hats, y_tests):\n",
    "    #y_hat = modset._MODEL.predict(x_test.reshape(1,15,80))\n",
    "    print(ids_test, y_hat, y_test)"
   ]
  },
  {
   "cell_type": "raw",
   "metadata": {},
   "source": [
    "y_hat[0].shape[0]"
   ]
  },
  {
   "cell_type": "code",
   "execution_count": 38,
   "metadata": {},
   "outputs": [
    {
     "name": "stdout",
     "output_type": "stream",
     "text": [
      "1 0.26368207\n",
      "2 0.27146453\n",
      "3 0.25243974\n",
      "4 0.25543648\n",
      "5 0.23796442\n",
      "6 0.24855447\n",
      "7 0.25852576\n",
      "8 0.24886048\n",
      "9 0.26299053\n",
      "10 0.24830365\n",
      "11 0.24288332\n",
      "12 0.253115\n",
      "13 0.25692144\n",
      "14 0.24866062\n",
      "15 0.25198197\n",
      "16 0.25443596\n",
      "17 0.25923824\n",
      "18 0.24257886\n",
      "19 0.250098\n",
      "20 0.23899141\n",
      "21 0.24616402\n",
      "22 0.27085525\n",
      "23 0.24107349\n",
      "24 0.25765592\n",
      "25 0.25043416\n",
      "26 0.24359405\n",
      "27 0.24960029\n",
      "28 0.250592\n",
      "29 0.23409396\n",
      "30 0.25127554\n",
      "31 0.25654402\n",
      "32 0.25744954\n",
      "33 0.2538213\n",
      "34 0.24395776\n",
      "35 0.24909428\n",
      "36 0.23756877\n",
      "37 0.24681896\n",
      "38 0.22765633\n",
      "39 0.25183195\n",
      "40 0.25708342\n",
      "41 0.2481448\n",
      "42 0.23866618\n",
      "43 0.23786893\n",
      "44 0.26511252\n",
      "45 0.2647718\n",
      "46 0.25178546\n",
      "47 0.25331473\n",
      "48 0.250036\n",
      "49 0.23872039\n",
      "50 0.2546863\n",
      "51 0.23383325\n",
      "52 0.24392879\n",
      "53 0.25746948\n",
      "54 0.24494162\n",
      "55 0.2602595\n",
      "56 0.25781304\n",
      "57 0.26437455\n",
      "58 0.24817345\n",
      "59 0.23452923\n",
      "60 0.2544178\n",
      "61 0.23702592\n",
      "62 0.2585381\n",
      "63 0.25749257\n",
      "64 0.23602441\n",
      "65 0.24591097\n",
      "66 0.26565865\n",
      "67 0.24768251\n",
      "68 0.2539546\n",
      "69 0.26116493\n",
      "70 0.24420768\n",
      "71 0.25175193\n",
      "72 0.25773537\n",
      "73 0.24243656\n",
      "74 0.262906\n",
      "75 0.26017642\n",
      "76 0.25887403\n",
      "77 0.24941665\n",
      "78 0.24525514\n",
      "79 0.25866812\n",
      "80 0.26591825\n"
     ]
    }
   ],
   "source": [
    "for (n,k),v in np.ndenumerate(y_hat):\n",
    "    print(k+1,v)"
   ]
  },
  {
   "cell_type": "code",
   "execution_count": 43,
   "metadata": {},
   "outputs": [
    {
     "data": {
      "text/plain": [
       "(15, 80)"
      ]
     },
     "execution_count": 43,
     "metadata": {},
     "output_type": "execute_result"
    }
   ],
   "source": [
    "import numpy as np\n",
    "y_hat = np.zeros((modset._DATASET._D['X_test'].shape[1], modset._DATASET._D['X_test'].shape[2]));\n",
    "y_hat.shape\n"
   ]
  },
  {
   "cell_type": "code",
   "execution_count": null,
   "metadata": {},
   "outputs": [],
   "source": []
  }
 ],
 "metadata": {
  "accelerator": "TPU",
  "colab": {
   "machine_shape": "hm",
   "name": "model_trainer.ipynb",
   "provenance": []
  },
  "kernelspec": {
   "display_name": "Python 3",
   "language": "python",
   "name": "python3"
  },
  "language_info": {
   "codemirror_mode": {
    "name": "ipython",
    "version": 3
   },
   "file_extension": ".py",
   "mimetype": "text/x-python",
   "name": "python",
   "nbconvert_exporter": "python",
   "pygments_lexer": "ipython3",
   "version": "3.6.9"
  }
 },
 "nbformat": 4,
 "nbformat_minor": 4
}
