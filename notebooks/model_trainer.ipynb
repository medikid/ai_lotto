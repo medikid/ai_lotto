{
 "cells": [
  {
   "cell_type": "markdown",
   "metadata": {
    "colab_type": "text",
    "id": "Qzqpaam_pzzE"
   },
   "source": [
    "<a href=\"https://colab.research.google.com/github/medikid/ai_lotto/blob/master/notebooks/model_trainer.ipynb\" target=\"_parent\"><img src=\"https://colab.research.google.com/assets/colab-badge.svg\" alt=\"Open In Colab\"/></a>"
   ]
  },
  {
   "cell_type": "markdown",
   "metadata": {
    "colab_type": "text",
    "id": "_faJdu-MIYpM"
   },
   "source": [
    "## **Initiate Collab Notebook and setup Google Drive**"
   ]
  },
  {
   "cell_type": "markdown",
   "metadata": {
    "colab_type": "text",
    "id": "sBdFdcifYdxv"
   },
   "source": [
    "## Mount Google Drive"
   ]
  },
  {
   "cell_type": "code",
   "execution_count": null,
   "metadata": {
    "colab": {
     "base_uri": "https://localhost:8080/",
     "height": 124
    },
    "colab_type": "code",
    "id": "QUZLPAzg_vMn",
    "outputId": "66d38aab-5b3c-482a-e81f-9fa3a512ef8b"
   },
   "outputs": [],
   "source": [
    "#init colab notebooks\n",
    "\n",
    "from google.colab import drive\n",
    "drive.mount('/content/g_drive')"
   ]
  },
  {
   "cell_type": "code",
   "execution_count": null,
   "metadata": {},
   "outputs": [],
   "source": [
    "#perform all actions at once\n",
    "#!mkdir my_drive\n",
    "!ln -s \"/content/g_drive/My Drive/Colab/Datascience/ai_lotto\" \"/content\"\n",
    "%cd \"/content/ai_lotto\"\n",
    "\n",
    "import sys\n",
    "sys.path.append('/content/ai_lotto')\n",
    "%cd notebooks/\n",
    "\n",
    "%run '../ifile.py'\n",
    "%run '../idata.py'\n",
    "%run '../idataset.py'\n",
    "%run '../imodel.py'\n",
    "%run '../ker_model.py'\n",
    "%run '../ker_model_loader.py'\n",
    "%run '../tfl_model.py'\n",
    "%run '../ai.py'\n",
    "%run '../itrainer.py'\n",
    "%run '../custom_functions.py'\n",
    "%run '../custom_callbacks.py'\n"
   ]
  },
  {
   "cell_type": "code",
   "execution_count": null,
   "metadata": {
    "colab": {},
    "colab_type": "code",
    "id": "HSiSJRZsgJ2s"
   },
   "outputs": [],
   "source": [
    "from pydrive.auth import GoogleAuth\n",
    "from pydrive.drive import GoogleDrive\n",
    "from google.colab import auth\n",
    "from oauth2client.client import GoogleCredentials\n",
    "\n",
    "auth.authenticate_user()\n",
    "gauth = GoogleAuth()\n",
    "gauth.credentials = GoogleCredentials.get_application_default()\n",
    "drive = GoogleDrive(gauth)"
   ]
  },
  {
   "cell_type": "code",
   "execution_count": null,
   "metadata": {
    "colab": {},
    "colab_type": "code",
    "id": "1k0iQXOSha1f"
   },
   "outputs": [],
   "source": [
    "#!mkdir my_drive\n",
    "!ln -s \"/content/g_drive/My Drive/Colab/Datascience/ai_lotto\" \"/content\""
   ]
  },
  {
   "cell_type": "code",
   "execution_count": null,
   "metadata": {
    "colab": {
     "base_uri": "https://localhost:8080/",
     "height": 35
    },
    "colab_type": "code",
    "id": "_lhfdVWHURF6",
    "outputId": "f45139bf-ec7c-4cd4-f7f7-f175bb2decb0"
   },
   "outputs": [],
   "source": [
    "%cd \"/content/ai_lotto\"\n",
    "\n",
    "import sys\n",
    "sys.path.append('/content/ai_lotto')"
   ]
  },
  {
   "cell_type": "code",
   "execution_count": null,
   "metadata": {
    "colab": {
     "base_uri": "https://localhost:8080/",
     "height": 35
    },
    "colab_type": "code",
    "id": "r530UEutqIBB",
    "outputId": "7109934a-eec1-4642-8c96-e6f0d87f28e8"
   },
   "outputs": [],
   "source": [
    "%cd notebooks/"
   ]
  },
  {
   "cell_type": "markdown",
   "metadata": {
    "colab_type": "text",
    "id": "3oixeDY6pzzh"
   },
   "source": [
    "# GIthub Functions"
   ]
  },
  {
   "cell_type": "markdown",
   "metadata": {
    "colab_type": "text",
    "id": "lPoAgspipzzi"
   },
   "source": [
    "## Git ADD, COMMIT and PUSH to remote"
   ]
  },
  {
   "cell_type": "code",
   "execution_count": null,
   "metadata": {
    "colab": {},
    "colab_type": "code",
    "id": "MxORrMbxpzzj"
   },
   "outputs": [],
   "source": [
    "!git add -A .\n",
    "!git commit -m \"Added git functions\"\n",
    "!git push origin master"
   ]
  },
  {
   "cell_type": "markdown",
   "metadata": {
    "colab_type": "text",
    "id": "PTSDkZqTpzzp"
   },
   "source": [
    "## Git Pull from remote github repo"
   ]
  },
  {
   "cell_type": "code",
   "execution_count": null,
   "metadata": {
    "colab": {
     "base_uri": "https://localhost:8080/",
     "height": 35
    },
    "colab_type": "code",
    "id": "kads4KiNpzzq",
    "outputId": "806b2527-d8da-44d0-ed79-2151692f1962"
   },
   "outputs": [],
   "source": [
    "!git pull"
   ]
  },
  {
   "cell_type": "markdown",
   "metadata": {
    "colab_type": "text",
    "id": "_9LGmmy0pzzv"
   },
   "source": [
    "## Git conflict local - so reset local to match remote"
   ]
  },
  {
   "cell_type": "code",
   "execution_count": null,
   "metadata": {
    "colab": {},
    "colab_type": "code",
    "id": "w4ogIOktpzzw"
   },
   "outputs": [],
   "source": [
    "!git fetch --all\n",
    "!git reset --hard origin/master\n",
    "!git pull"
   ]
  },
  {
   "cell_type": "markdown",
   "metadata": {
    "colab_type": "text",
    "id": "kaRhCiXWpzz0"
   },
   "source": [
    "## Unpushed local changes - Stash local, Pull Remote and write local changes to pulled remote"
   ]
  },
  {
   "cell_type": "code",
   "execution_count": null,
   "metadata": {
    "colab": {},
    "colab_type": "code",
    "id": "JF_Mvzh2pzz1"
   },
   "outputs": [],
   "source": [
    "!git stash\n",
    "!git pull\n",
    "!git stash pop"
   ]
  },
  {
   "cell_type": "markdown",
   "metadata": {
    "colab_type": "text",
    "id": "nMLT0utQpzz6"
   },
   "source": [
    "## Setup git config repo"
   ]
  },
  {
   "cell_type": "code",
   "execution_count": null,
   "metadata": {
    "colab": {},
    "colab_type": "code",
    "id": "_YqFc8H7pzz7"
   },
   "outputs": [],
   "source": [
    "#!git config --global user.email \"soma.programmer@gmail.com\"\n",
    "#!git config --global user.name \"medikid\"\n",
    "\n",
    "#!git remote set-url origin https://github.com/medikid/ai_lotto.git\n"
   ]
  },
  {
   "cell_type": "code",
   "execution_count": null,
   "metadata": {
    "colab": {},
    "colab_type": "code",
    "id": "uQR0184Opzz_"
   },
   "outputs": [],
   "source": [
    "!git remote show origin"
   ]
  },
  {
   "cell_type": "markdown",
   "metadata": {
    "colab_type": "text",
    "id": "ZTGj4TiYA56S"
   },
   "source": [
    "# lists all classes in the order of loading"
   ]
  },
  {
   "cell_type": "code",
   "execution_count": null,
   "metadata": {
    "colab": {},
    "colab_type": "code",
    "id": "uPJSKlxjTq7h"
   },
   "outputs": [],
   "source": [
    "!pip install -r ../requirements.txt"
   ]
  },
  {
   "cell_type": "code",
   "execution_count": 3,
   "metadata": {
    "colab": {},
    "colab_type": "code",
    "id": "HQ96r5CZpz0J"
   },
   "outputs": [],
   "source": [
    "# %load '../load_lib.py'\n",
    "\n",
    "%run '../ifile.py'\n",
    "%run '../idata.py'\n",
    "%run '../idataset.py'\n",
    "%run '../imodel.py'\n",
    "%run '../ker_model.py'\n",
    "%run '../ker_model_loader.py'\n",
    "%run '../tfl_model.py'\n",
    "%run '../ai.py'\n",
    "%run '../itrainer.py'\n",
    "%run '../custom_functions.py'\n",
    "%run '../custom_callbacks.py'\n"
   ]
  },
  {
   "cell_type": "code",
   "execution_count": null,
   "metadata": {
    "colab": {},
    "colab_type": "code",
    "id": "7RX-fWSopz0P"
   },
   "outputs": [],
   "source": [
    "%cd '..'\n",
    "\n",
    "from ifile import iFile\n",
    "from idata import Data\n",
    "from idataset import Dataset\n",
    "from imodel import Model\n",
    "from ker_model import KER_Model\n",
    "from ker_model_loader import KER_Model_Loader\n",
    "from tfl_model import TFL_Model\n",
    "from ai import AI\n",
    "from itrainer import Trainer\n",
    "\n",
    "%cd 'notebooks'"
   ]
  },
  {
   "cell_type": "markdown",
   "metadata": {
    "colab_type": "text",
    "id": "EDGSqErkA57E"
   },
   "source": [
    "## Dataset Prep"
   ]
  },
  {
   "cell_type": "markdown",
   "metadata": {
    "colab_type": "text",
    "id": "DqhO4xyyLHsQ"
   },
   "source": [
    "## Initial Training"
   ]
  },
  {
   "cell_type": "code",
   "execution_count": null,
   "metadata": {
    "colab": {
     "base_uri": "https://localhost:8080/",
     "height": 52
    },
    "colab_type": "code",
    "id": "pX9l2CT3A57K",
    "outputId": "0533f252-5a44-4ce4-bf16-cd65ba1804bc"
   },
   "outputs": [],
   "source": [
    "import keras as kr\n",
    "from keras.models import Sequential\n",
    "from keras.layers import LSTM, Dense\n",
    "\n",
    "#----------------------------------------------------\n",
    "_GAME = 'hotspot';  _API = 'ker';\n",
    "_xnINPUTS='x15'; _xnDRAWS='25k'; _DATA_TYPE = 'dr'; \n",
    "_BUILD = '4'; _MAKE = '13' ; _VERSION='1'; #v0 is untrained, 1 is load new build\n",
    "\n",
    "datasetID = \"{0}_{1}_{2}_{3}\".format(_GAME,_xnINPUTS,_xnDRAWS,_DATA_TYPE)\n",
    "modelID = \"{0}.{1}.{2}.{3}.{4}\".format(_GAME,_API,_BUILD,_MAKE,_VERSION)\n",
    "#------------------------------------------------------------\n",
    "\n",
    "print(\"Dataset ID: {0}\".format(datasetID))\n",
    "print(\"Model ID: {0}\".format(modelID))"
   ]
  },
  {
   "cell_type": "markdown",
   "metadata": {
    "colab_type": "text",
    "id": "qDt9wmLRLHsS"
   },
   "source": [
    "## Incremental Checkpoint Training"
   ]
  },
  {
   "cell_type": "code",
   "execution_count": 4,
   "metadata": {
    "colab": {
     "base_uri": "https://localhost:8080/",
     "height": 51
    },
    "colab_type": "code",
    "id": "F9zdElq3LHsT",
    "outputId": "d731d42a-448a-405f-a9b0-17bba6dfbb25"
   },
   "outputs": [
    {
     "name": "stdout",
     "output_type": "stream",
     "text": [
      "Dataset ID: hotspot_x15_25k_dr\n",
      "Model ID: hotspot.ker.4.13.e0001\n"
     ]
    }
   ],
   "source": [
    "import keras as kr\n",
    "from keras.models import Sequential\n",
    "from keras.layers import LSTM, Dense\n",
    "\n",
    "#----------------------------------------------------\n",
    "_GAME = 'hotspot';  _LOAD_CHECKPOINT = 1;\n",
    "_xnINPUTS='x15'; _xnDRAWS='25k'; _DATA_TYPE = 'dr'; \n",
    "_API = 'ker'; _BUILD = '4'; _MAKE = '13' ; _VERSION='e' + str(_LOAD_CHECKPOINT).zfill(4);\n",
    "\n",
    "datasetID = \"{0}_{1}_{2}_{3}\".format(_GAME,_xnINPUTS,_xnDRAWS,_DATA_TYPE)\n",
    "modelID = \"{0}.{1}.{2}.{3}.{4}\".format(_GAME,_API,_BUILD,_MAKE,_VERSION)\n",
    "#------------------------------------------------------------\n",
    "\n",
    "print(\"Dataset ID: {0}\".format(datasetID))\n",
    "print(\"Model ID: {0}\".format(modelID))"
   ]
  },
  {
   "cell_type": "markdown",
   "metadata": {
    "colab_type": "text",
    "id": "_L08tPUnLHsV"
   },
   "source": [
    "# TRAINING"
   ]
  },
  {
   "cell_type": "code",
   "execution_count": 5,
   "metadata": {
    "colab": {
     "base_uri": "https://localhost:8080/",
     "height": 486
    },
    "colab_type": "code",
    "id": "ipSXZSs1pz0Y",
    "outputId": "2227d18e-cd2c-47d9-de00-239278169984"
   },
   "outputs": [
    {
     "name": "stdout",
     "output_type": "stream",
     "text": [
      "xndraw25k, new_st25.0, multiple1000, notationk\n",
      "[iFile:__init__]\n",
      "xndraw25k, new_st25.0, multiple1000, notationk\n",
      "[iFile:derive_game_path]data/hotspot/\n",
      "[iFile:derive_folder_path] data/hotspot/x15/25k/\n",
      "[iDataset:derive_file_path] datasets/hotspot_x15_25k_dr.npz\n",
      "[ifile:derive_full_path] ../data/hotspot/x15/25k/datasets/hotspot_x15_25k_dr.npz\n",
      "Loading dataset ../data/hotspot/x15/25k/datasets/hotspot_x15_25k_dr.npz\n",
      "[iModel:decipher_file_name]\n",
      "[iModel:set_decipher_info] {'GAME': 'hotspot', 'xnINPUTS': 'x15', 'nINPUTS': 15, 'xnDRAWS': '25k', 'nDRAWS': 25000, 'DATA_TYPE': 'dr', 'API': 'ker', 'BUILD': '4', 'MAKE': '13', 'VERSION': 'e0001', 'IS_CHECKPOINT': True, 'CHECKPOINT_EPOCH': 1}\n",
      "[iFile:__init__]\n",
      "[iModel:decipher_file_name]\n",
      "[iModel:set_decipher_info] {'GAME': 'hotspot', 'xnINPUTS': 'x15', 'nINPUTS': 15, 'xnDRAWS': '25k', 'nDRAWS': 25000, 'DATA_TYPE': 'dr', 'API': 'ker', 'BUILD': '4', 'MAKE': '13', 'VERSION': 'e0001', 'IS_CHECKPOINT': True, 'CHECKPOINT_EPOCH': 1}\n",
      "[iModel:derive_file_path] models/ker/4/13/hotspot.ker.4.13.e0001.h5\n",
      "[iFile:derive_game_path]data/hotspot/\n",
      "[ifile:derive_full_path] ../data/hotspot/x15/25k/models/ker/4/13/hotspot.ker.4.13.e0001.h5\n",
      "[iModel:derive_checkpoints_folder] Ensured ../data/hotspot/x15/25k/models/ker/4/13/checkpoints/\n",
      "[iModel:__init__\n",
      "[Model:loader] converted Model to KER_Model\n",
      "[KER_Model:load]: Loading checkpoint ../data/hotspot/x15/25k/models/ker/4/13/hotspot.ker.4.13.e0001.h5\n",
      "Issue: Unable to load due to usage of unserializable custom model/layer/metrics\n",
      "[KER_Model_loader: loaded new build 4.13]\n",
      "Solution-Step#1: Built/compiled new model\n",
      "Solution-Step#2: Loaded weights into new model from ../data/hotspot/x15/25k/models/ker/4/13/checkpoints/hotspot.ker.4.13.e0001.h5 \n",
      "[KER_Model:load_checkpoint] Loaded ../data/hotspot/x15/25k/models/ker/4/13/checkpoints/hotspot.ker.4.13.e0001.h5\n",
      "Latest checkpoint is 75\n",
      "Issue: Unable to load due to usage of unserializable custom model/layer/metrics\n",
      "[KER_Model_loader: loaded new build 4.13]\n",
      "Solution-Step#1: Built/compiled new model\n",
      "Solution-Step#2: Loaded weights into new model from ../data/hotspot/x15/25k/models/ker/4/13/checkpoints/hotspot.ker.4.13.e0075.h5 \n",
      "[KER_Model:load_checkpoint] Loaded ../data/hotspot/x15/25k/models/ker/4/13/checkpoints/hotspot.ker.4.13.e0075.h5\n",
      "[iModel:derive_checkpoints_folder] Ensured ../data/hotspot/x15/25k/models/ker/4/13/checkpoints/\n",
      "[itrainer:set_checkpoint_per_epoch] added model_checkpoint callback\n"
     ]
    },
    {
     "ename": "NameError",
     "evalue": "name 'pwd' is not defined",
     "output_type": "error",
     "traceback": [
      "\u001b[0;31m---------------------------------------------------------------------------\u001b[0m",
      "\u001b[0;31mNameError\u001b[0m                                 Traceback (most recent call last)",
      "\u001b[0;32m<ipython-input-5-43e7c8d95e78>\u001b[0m in \u001b[0;36m<module>\u001b[0;34m\u001b[0m\n\u001b[1;32m      4\u001b[0m \u001b[0;34m\u001b[0m\u001b[0m\n\u001b[1;32m      5\u001b[0m \u001b[0;31m#save first epoch\u001b[0m\u001b[0;34m\u001b[0m\u001b[0;34m\u001b[0m\u001b[0;34m\u001b[0m\u001b[0m\n\u001b[0;32m----> 6\u001b[0;31m \u001b[0mtrainer\u001b[0m\u001b[0;34m.\u001b[0m\u001b[0mtrain\u001b[0m\u001b[0;34m(\u001b[0m\u001b[0mEpochs\u001b[0m\u001b[0;34m=\u001b[0m \u001b[0;36m200\u001b[0m\u001b[0;34m,\u001b[0m \u001b[0mBatchSize\u001b[0m\u001b[0;34m=\u001b[0m\u001b[0;36m32\u001b[0m\u001b[0;34m,\u001b[0m \u001b[0mCallbacks\u001b[0m\u001b[0;34m=\u001b[0m\u001b[0;34m{\u001b[0m\u001b[0;34m'per_epoch'\u001b[0m\u001b[0;34m:\u001b[0m \u001b[0;36m1\u001b[0m\u001b[0;34m,\u001b[0m \u001b[0;34m'csv_logger'\u001b[0m\u001b[0;34m:\u001b[0m \u001b[0;36m1\u001b[0m\u001b[0;34m,\u001b[0m \u001b[0;34m'upload_history'\u001b[0m\u001b[0;34m:\u001b[0m \u001b[0;36m1\u001b[0m\u001b[0;34m,\u001b[0m \u001b[0;34m'custom_callbacks'\u001b[0m\u001b[0;34m:\u001b[0m \u001b[0;34m'on_epoch_end'\u001b[0m\u001b[0;34m}\u001b[0m\u001b[0;34m,\u001b[0m \u001b[0mVerbose\u001b[0m\u001b[0;34m=\u001b[0m \u001b[0;36m1\u001b[0m\u001b[0;34m)\u001b[0m\u001b[0;34m\u001b[0m\u001b[0;34m\u001b[0m\u001b[0m\n\u001b[0m\u001b[1;32m      7\u001b[0m \u001b[0mtrainer\u001b[0m\u001b[0;34m.\u001b[0m\u001b[0mplt_history\u001b[0m\u001b[0;34m(\u001b[0m\u001b[0;34m)\u001b[0m\u001b[0;34m\u001b[0m\u001b[0;34m\u001b[0m\u001b[0m\n",
      "\u001b[0;32m/home/work/ai_lotto/itrainer.py\u001b[0m in \u001b[0;36mtrain\u001b[0;34m(self, Epochs, BatchSize, Callbacks, Verbose)\u001b[0m\n\u001b[1;32m     83\u001b[0m         \u001b[0mself\u001b[0m\u001b[0;34m.\u001b[0m\u001b[0m_EPOCHS\u001b[0m \u001b[0;34m=\u001b[0m \u001b[0mEpochs\u001b[0m\u001b[0;34m;\u001b[0m\u001b[0;34m\u001b[0m\u001b[0;34m\u001b[0m\u001b[0m\n\u001b[1;32m     84\u001b[0m         \u001b[0mself\u001b[0m\u001b[0;34m.\u001b[0m\u001b[0m_BATCH_SIZE\u001b[0m \u001b[0;34m=\u001b[0m \u001b[0mBatchSize\u001b[0m\u001b[0;34m;\u001b[0m\u001b[0;34m\u001b[0m\u001b[0;34m\u001b[0m\u001b[0m\n\u001b[0;32m---> 85\u001b[0;31m         \u001b[0mself\u001b[0m\u001b[0;34m.\u001b[0m\u001b[0mset_callbacks\u001b[0m\u001b[0;34m(\u001b[0m\u001b[0mCallbacks\u001b[0m\u001b[0;34m)\u001b[0m\u001b[0;34m;\u001b[0m\u001b[0;34m\u001b[0m\u001b[0;34m\u001b[0m\u001b[0m\n\u001b[0m\u001b[1;32m     86\u001b[0m \u001b[0;34m\u001b[0m\u001b[0m\n\u001b[1;32m     87\u001b[0m         self._INFO['HISTORY'] = self._MODEL._M.fit( x= self._DATASET._D['X'] \\\n",
      "\u001b[0;32m/home/work/ai_lotto/itrainer.py\u001b[0m in \u001b[0;36mset_callbacks\u001b[0;34m(self, Callbacks)\u001b[0m\n\u001b[1;32m     32\u001b[0m                 \u001b[0mself\u001b[0m\u001b[0;34m.\u001b[0m\u001b[0mset_checkpoint_per_epoch\u001b[0m\u001b[0;34m(\u001b[0m\u001b[0mval\u001b[0m\u001b[0;34m)\u001b[0m\u001b[0;34m;\u001b[0m\u001b[0;34m\u001b[0m\u001b[0;34m\u001b[0m\u001b[0m\n\u001b[1;32m     33\u001b[0m             \u001b[0;32mif\u001b[0m\u001b[0;34m(\u001b[0m\u001b[0mkey\u001b[0m\u001b[0;34m==\u001b[0m\u001b[0;34m'csv_logger'\u001b[0m\u001b[0;34m)\u001b[0m\u001b[0;34m:\u001b[0m\u001b[0;34m\u001b[0m\u001b[0;34m\u001b[0m\u001b[0m\n\u001b[0;32m---> 34\u001b[0;31m                 \u001b[0mself\u001b[0m\u001b[0;34m.\u001b[0m\u001b[0mget_csv_history\u001b[0m\u001b[0;34m(\u001b[0m\u001b[0mval\u001b[0m\u001b[0;34m)\u001b[0m\u001b[0;34m;\u001b[0m\u001b[0;34m\u001b[0m\u001b[0;34m\u001b[0m\u001b[0m\n\u001b[0m\u001b[1;32m     35\u001b[0m             \u001b[0;32mif\u001b[0m\u001b[0;34m(\u001b[0m\u001b[0mkey\u001b[0m\u001b[0;34m==\u001b[0m\u001b[0;34m'upload_history'\u001b[0m\u001b[0;34m)\u001b[0m\u001b[0;34m:\u001b[0m\u001b[0;34m\u001b[0m\u001b[0;34m\u001b[0m\u001b[0m\n\u001b[1;32m     36\u001b[0m                 \u001b[0mself\u001b[0m\u001b[0;34m.\u001b[0m\u001b[0mupload_history_per_epoch\u001b[0m\u001b[0;34m(\u001b[0m\u001b[0mval\u001b[0m\u001b[0;34m)\u001b[0m\u001b[0;34m;\u001b[0m\u001b[0;34m\u001b[0m\u001b[0;34m\u001b[0m\u001b[0m\n",
      "\u001b[0;32m/home/work/ai_lotto/itrainer.py\u001b[0m in \u001b[0;36mget_csv_history\u001b[0;34m(self, PerEpoch)\u001b[0m\n\u001b[1;32m     45\u001b[0m \u001b[0;34m\u001b[0m\u001b[0m\n\u001b[1;32m     46\u001b[0m     \u001b[0;32mdef\u001b[0m \u001b[0mget_csv_history\u001b[0m\u001b[0;34m(\u001b[0m\u001b[0mself\u001b[0m\u001b[0;34m,\u001b[0m \u001b[0mPerEpoch\u001b[0m\u001b[0;34m=\u001b[0m\u001b[0;36m1\u001b[0m\u001b[0;34m)\u001b[0m\u001b[0;34m:\u001b[0m\u001b[0;34m\u001b[0m\u001b[0;34m\u001b[0m\u001b[0m\n\u001b[0;32m---> 47\u001b[0;31m         \u001b[0mcurrent_folder\u001b[0m \u001b[0;34m=\u001b[0m \u001b[0mpwd\u001b[0m \u001b[0;31m#gives a array with current working folder i.e notebook folder\u001b[0m\u001b[0;34m\u001b[0m\u001b[0;34m\u001b[0m\u001b[0m\n\u001b[0m\u001b[1;32m     48\u001b[0m         \u001b[0mdb_folder\u001b[0m \u001b[0;34m=\u001b[0m \u001b[0mcurrent_folder\u001b[0m\u001b[0;34m[\u001b[0m\u001b[0;36m0\u001b[0m\u001b[0;34m]\u001b[0m \u001b[0;34m+\u001b[0m \u001b[0;34m'/db/'\u001b[0m\u001b[0;34m\u001b[0m\u001b[0;34m\u001b[0m\u001b[0m\n\u001b[1;32m     49\u001b[0m         \u001b[0mcsv_file\u001b[0m\u001b[0;34m=\u001b[0m \u001b[0mdb_folder\u001b[0m \u001b[0;34m+\u001b[0m \u001b[0;34m'csv_logs.csv'\u001b[0m\u001b[0;34m\u001b[0m\u001b[0;34m\u001b[0m\u001b[0m\n",
      "\u001b[0;31mNameError\u001b[0m: name 'pwd' is not defined"
     ]
    }
   ],
   "source": [
    "trainer = Trainer(modelID, datasetID, True); #true will load latest checkpoints\n",
    "\n",
    "# trainer.train(Epochs= 500, BatchSize=32, Callbacks={'per_epoch':5}, Verbose= 1)\n",
    "\n",
    "#save first epoch\n",
    "trainer.train(Epochs= 200, BatchSize=32, Callbacks={'per_epoch': 1, 'csv_logger': 1, 'upload_history': 1, 'custom_callbacks': 'on_epoch_end'}, Verbose= 1)\n",
    "trainer.plt_history()"
   ]
  },
  {
   "cell_type": "code",
   "execution_count": null,
   "metadata": {
    "colab": {},
    "colab_type": "code",
    "id": "y3LKfokmpz0c"
   },
   "outputs": [],
   "source": [
    "trainer._MODEL.load_latest_checkpoihnbnt()\n",
    "#trainer._MODEL._M.summary()"
   ]
  },
  {
   "cell_type": "code",
   "execution_count": null,
   "metadata": {},
   "outputs": [],
   "source": [
    "for key in trainer._INFO['history'].history:\n",
    "    print(\"{0}=>{1}\".format(key, trainer._INFO['history'].history[key]))"
   ]
  },
  {
   "cell_type": "code",
   "execution_count": null,
   "metadata": {},
   "outputs": [],
   "source": [
    "list = {};\n",
    "list['a'] = 'A'\n",
    "list['b'] = {'B': 'BB'}\n",
    "list['b']['B']"
   ]
  },
  {
   "cell_type": "markdown",
   "metadata": {
    "colab": {},
    "colab_type": "code",
    "id": "1fdtwrWapz0g"
   },
   "source": [
    "##### k = Sequential()\n",
    "k.add(LSTM(units=80, activation='relu', return_sequences=True, input_shape=(15,80)) ); #input_shape=(15,80) ));\n",
    "k.add(LSTM(units=160, activation='relu'))\n",
    "k.add(Dense(units=160, activation='relu'));\n",
    "k.add(Dense(80, activation='sigmoid'));\n",
    "k.compile(optimizer='adam', loss='mse', metrics=['accuracy'])\n",
    "k.summary()"
   ]
  },
  {
   "cell_type": "code",
   "execution_count": null,
   "metadata": {
    "colab": {},
    "colab_type": "code",
    "id": "q3G9_KeYpz0j"
   },
   "outputs": [],
   "source": [
    "trainer._MODEL._M = k;\n",
    "trainer.train(Epochs=10, BatchSize=100, Callbacks={'per_epoch':5})\n",
    "\n",
    "#trainer._MODEL._D_X_SHAPE"
   ]
  },
  {
   "cell_type": "code",
   "execution_count": null,
   "metadata": {
    "colab": {},
    "colab_type": "code",
    "id": "asAoOptxW1l_"
   },
   "outputs": [],
   "source": [
    "## Print tree structure of Data folder\n",
    "#!apt-get install tree\n",
    "!tree '../data/keno'"
   ]
  },
  {
   "cell_type": "code",
   "execution_count": null,
   "metadata": {
    "colab": {},
    "colab_type": "code",
    "id": "diG-yLNjpz0q",
    "outputId": "58c88518-37da-476c-bcd1-bdffd21e69a4"
   },
   "outputs": [],
   "source": [
    "dat = Dataset('keno_x15_25k_dr')\n",
    "dat.load()\n",
    "mod = Model('keno.ker.4.1.e0010',dat)\n",
    "mod.load()\n",
    "mod.print_summary()"
   ]
  },
  {
   "cell_type": "markdown",
   "metadata": {
    "colab_type": "text",
    "id": "0DHWdaI7Y3EO"
   },
   "source": [
    "## Training ground"
   ]
  },
  {
   "cell_type": "code",
   "execution_count": null,
   "metadata": {
    "colab": {},
    "colab_type": "code",
    "id": "08Qrou6cY3EP"
   },
   "outputs": [],
   "source": [
    "!python3 '../idataset.py'\n",
    "\n",
    "datasetID = 'keno_x15_100k_dr'\n",
    "\n",
    "d = Dataset(datasetID)\n",
    "d.load();\n",
    "dataset = d._D;"
   ]
  },
  {
   "cell_type": "code",
   "execution_count": null,
   "metadata": {
    "colab": {},
    "colab_type": "code",
    "id": "xaLqYQubY3ET"
   },
   "outputs": [],
   "source": [
    "import keras as kr\n",
    "from keras.models import Sequential\n",
    "from keras.layers import LSTM, Dense\n",
    "\n",
    "!python3 '../imodel.py'\n",
    "!python3 '../ker_model.py'\n",
    "!python3 '../ker_model_loader.py'\n",
    "\n",
    "modelID = 'keno.ker.4.11.0'\n",
    "\n",
    "#Keno.ker.1.1\n",
    "Model = KER_Model(modelID, d);\n",
    "KER_Model_Loader(Model);\n",
    "\n",
    "Model.save_untrained()\n",
    "Model.print_summary();"
   ]
  },
  {
   "cell_type": "code",
   "execution_count": null,
   "metadata": {
    "colab": {},
    "colab_type": "code",
    "id": "NOVlO5n5Y3EW"
   },
   "outputs": [],
   "source": [
    "Model._M.fit(d._D['X'], d._D['Y'], epochs=10, verbose=1)"
   ]
  },
  {
   "cell_type": "code",
   "execution_count": null,
   "metadata": {
    "colab": {},
    "colab_type": "code",
    "id": "Mfj7Bb7EY3EY"
   },
   "outputs": [],
   "source": [
    "kr.get_untrained_folder_path()"
   ]
  },
  {
   "cell_type": "code",
   "execution_count": null,
   "metadata": {
    "colab": {},
    "colab_type": "code",
    "id": "LUoEwr7pY3Ec"
   },
   "outputs": [],
   "source": [
    "%run 'idataset.py'"
   ]
  },
  {
   "cell_type": "code",
   "execution_count": null,
   "metadata": {
    "colab": {},
    "colab_type": "code",
    "id": "RQLASkWFp9FG"
   },
   "outputs": [],
   "source": [
    "cd ../"
   ]
  },
  {
   "cell_type": "code",
   "execution_count": null,
   "metadata": {
    "colab": {},
    "colab_type": "code",
    "id": "tjd-IpKHu0M_"
   },
   "outputs": [],
   "source": [
    "import sys\n",
    "sys.path.append('/content/g_drive/My Drive/Colab/Datascience/ai_lotto')"
   ]
  },
  {
   "cell_type": "code",
   "execution_count": null,
   "metadata": {
    "colab": {},
    "colab_type": "code",
    "id": "3VcDbFOErusT"
   },
   "outputs": [],
   "source": [
    "from idataset import Dataset\n",
    "d = Dataset('keno_x15_2.528m_dr')\n",
    "d._FULL_PATH"
   ]
  },
  {
   "cell_type": "code",
   "execution_count": null,
   "metadata": {
    "colab": {},
    "colab_type": "code",
    "id": "HuW0pgE-pz1M"
   },
   "outputs": [],
   "source": []
  },
  {
   "cell_type": "code",
   "execution_count": null,
   "metadata": {
    "colab": {},
    "colab_type": "code",
    "id": "SDgu4-lEpz1Q"
   },
   "outputs": [],
   "source": []
  }
 ],
 "metadata": {
  "accelerator": "TPU",
  "colab": {
   "machine_shape": "hm",
   "name": "model_trainer.ipynb",
   "provenance": []
  },
  "kernelspec": {
   "display_name": "Python 3",
   "language": "python",
   "name": "python3"
  },
  "language_info": {
   "codemirror_mode": {
    "name": "ipython",
    "version": 3
   },
   "file_extension": ".py",
   "mimetype": "text/x-python",
   "name": "python",
   "nbconvert_exporter": "python",
   "pygments_lexer": "ipython3",
   "version": "3.6.9"
  }
 },
 "nbformat": 4,
 "nbformat_minor": 4
}
