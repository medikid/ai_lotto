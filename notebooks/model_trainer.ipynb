{
  "nbformat": 4,
  "nbformat_minor": 0,
  "metadata": {
    "accelerator": "TPU",
    "colab": {
      "name": "model_trainer.ipynb",
      "provenance": [],
      "machine_shape": "hm"
    },
    "kernelspec": {
      "display_name": "Python 3",
      "language": "python",
      "name": "python3"
    },
    "language_info": {
      "codemirror_mode": {
        "name": "ipython",
        "version": 3
      },
      "file_extension": ".py",
      "mimetype": "text/x-python",
      "name": "python",
      "nbconvert_exporter": "python",
      "pygments_lexer": "ipython3",
      "version": "3.6.9"
    }
  },
  "cells": [
    {
      "cell_type": "markdown",
      "metadata": {
        "colab_type": "text",
        "id": "Qzqpaam_pzzE"
      },
      "source": [
        "<a href=\"https://colab.research.google.com/github/medikid/ai_lotto/blob/master/notebooks/model_trainer.ipynb\" target=\"_parent\"><img src=\"https://colab.research.google.com/assets/colab-badge.svg\" alt=\"Open In Colab\"/></a>"
      ]
    },
    {
      "cell_type": "markdown",
      "metadata": {
        "colab_type": "text",
        "id": "_faJdu-MIYpM"
      },
      "source": [
        "## **Initiate Collab Notebook and setup Google Drive**"
      ]
    },
    {
      "cell_type": "markdown",
      "metadata": {
        "colab_type": "text",
        "id": "sBdFdcifYdxv"
      },
      "source": [
        "## Mount Google Drive"
      ]
    },
    {
      "cell_type": "code",
      "metadata": {
        "colab_type": "code",
        "id": "QUZLPAzg_vMn",
        "outputId": "66d38aab-5b3c-482a-e81f-9fa3a512ef8b",
        "colab": {
          "base_uri": "https://localhost:8080/",
          "height": 124
        }
      },
      "source": [
        "#init colab notebooks\n",
        "\n",
        "from google.colab import drive\n",
        "drive.mount('/content/g_drive')"
      ],
      "execution_count": 0,
      "outputs": [
        {
          "output_type": "stream",
          "text": [
            "Go to this URL in a browser: https://accounts.google.com/o/oauth2/auth?client_id=947318989803-6bn6qk8qdgf4n4g3pfee6491hc0brc4i.apps.googleusercontent.com&redirect_uri=urn%3aietf%3awg%3aoauth%3a2.0%3aoob&response_type=code&scope=email%20https%3a%2f%2fwww.googleapis.com%2fauth%2fdocs.test%20https%3a%2f%2fwww.googleapis.com%2fauth%2fdrive%20https%3a%2f%2fwww.googleapis.com%2fauth%2fdrive.photos.readonly%20https%3a%2f%2fwww.googleapis.com%2fauth%2fpeopleapi.readonly\n",
            "\n",
            "Enter your authorization code:\n",
            "··········\n",
            "Mounted at /content/g_drive\n"
          ],
          "name": "stdout"
        }
      ]
    },
    {
      "cell_type": "code",
      "metadata": {
        "colab_type": "code",
        "id": "HSiSJRZsgJ2s",
        "colab": {}
      },
      "source": [
        "from pydrive.auth import GoogleAuth\n",
        "from pydrive.drive import GoogleDrive\n",
        "from google.colab import auth\n",
        "from oauth2client.client import GoogleCredentials\n",
        "\n",
        "auth.authenticate_user()\n",
        "gauth = GoogleAuth()\n",
        "gauth.credentials = GoogleCredentials.get_application_default()\n",
        "drive = GoogleDrive(gauth)"
      ],
      "execution_count": 0,
      "outputs": []
    },
    {
      "cell_type": "code",
      "metadata": {
        "colab_type": "code",
        "id": "1k0iQXOSha1f",
        "colab": {}
      },
      "source": [
        "#!mkdir my_drive\n",
        "!ln -s \"/content/g_drive/My Drive/Colab/Datascience/ai_lotto\" \"/content\""
      ],
      "execution_count": 0,
      "outputs": []
    },
    {
      "cell_type": "code",
      "metadata": {
        "colab_type": "code",
        "id": "_lhfdVWHURF6",
        "outputId": "f45139bf-ec7c-4cd4-f7f7-f175bb2decb0",
        "colab": {
          "base_uri": "https://localhost:8080/",
          "height": 35
        }
      },
      "source": [
        "%cd \"/content/ai_lotto\"\n",
        "\n",
        "import sys\n",
        "sys.path.append('/content/ai_lotto')"
      ],
      "execution_count": 0,
      "outputs": [
        {
          "output_type": "stream",
          "text": [
            "/content/g_drive/My Drive/Colab/Datascience/ai_lotto\n"
          ],
          "name": "stdout"
        }
      ]
    },
    {
      "cell_type": "code",
      "metadata": {
        "colab_type": "code",
        "id": "r530UEutqIBB",
        "outputId": "7109934a-eec1-4642-8c96-e6f0d87f28e8",
        "colab": {
          "base_uri": "https://localhost:8080/",
          "height": 35
        }
      },
      "source": [
        "%cd notebooks/"
      ],
      "execution_count": 0,
      "outputs": [
        {
          "output_type": "stream",
          "text": [
            "/content/g_drive/My Drive/Colab/Datascience/ai_lotto/notebooks\n"
          ],
          "name": "stdout"
        }
      ]
    },
    {
      "cell_type": "code",
      "metadata": {
        "colab_type": "code",
        "id": "enjywhQgZinP",
        "outputId": "89497527-93c6-4279-cced-38703096eaf9",
        "colab": {
          "base_uri": "https://localhost:8080/",
          "height": 34
        }
      },
      "source": [
        "pwd"
      ],
      "execution_count": 15,
      "outputs": [
        {
          "output_type": "execute_result",
          "data": {
            "text/plain": [
              "'/content/g_drive/My Drive/Colab/Datascience/ai_lotto/notebooks'"
            ]
          },
          "metadata": {
            "tags": []
          },
          "execution_count": 15
        }
      ]
    },
    {
      "cell_type": "markdown",
      "metadata": {
        "colab_type": "text",
        "id": "3oixeDY6pzzh"
      },
      "source": [
        "# GIthub Functions"
      ]
    },
    {
      "cell_type": "markdown",
      "metadata": {
        "colab_type": "text",
        "id": "lPoAgspipzzi"
      },
      "source": [
        "## Git ADD, COMMIT and PUSH to remote"
      ]
    },
    {
      "cell_type": "code",
      "metadata": {
        "colab_type": "code",
        "id": "MxORrMbxpzzj",
        "colab": {}
      },
      "source": [
        "!git add -A .\n",
        "!git commit -m \"Added git functions\"\n",
        "!git push origin master"
      ],
      "execution_count": 0,
      "outputs": []
    },
    {
      "cell_type": "markdown",
      "metadata": {
        "colab_type": "text",
        "id": "PTSDkZqTpzzp"
      },
      "source": [
        "## Git Pull from remote github repo"
      ]
    },
    {
      "cell_type": "code",
      "metadata": {
        "colab_type": "code",
        "id": "kads4KiNpzzq",
        "outputId": "806b2527-d8da-44d0-ed79-2151692f1962",
        "colab": {
          "base_uri": "https://localhost:8080/",
          "height": 35
        }
      },
      "source": [
        "!git pull"
      ],
      "execution_count": 0,
      "outputs": [
        {
          "output_type": "stream",
          "text": [
            "Already up to date.\n"
          ],
          "name": "stdout"
        }
      ]
    },
    {
      "cell_type": "markdown",
      "metadata": {
        "colab_type": "text",
        "id": "_9LGmmy0pzzv"
      },
      "source": [
        "## Git conflict local - so reset local to match remote"
      ]
    },
    {
      "cell_type": "code",
      "metadata": {
        "colab_type": "code",
        "id": "w4ogIOktpzzw",
        "colab": {}
      },
      "source": [
        "!git fetch --all\n",
        "!git reset --hard origin/master\n",
        "!git pull"
      ],
      "execution_count": 0,
      "outputs": []
    },
    {
      "cell_type": "markdown",
      "metadata": {
        "colab_type": "text",
        "id": "kaRhCiXWpzz0"
      },
      "source": [
        "## Unpushed local changes - Stash local, Pull Remote and write local changes to pulled remote"
      ]
    },
    {
      "cell_type": "code",
      "metadata": {
        "colab_type": "code",
        "id": "JF_Mvzh2pzz1",
        "colab": {}
      },
      "source": [
        "!git stash\n",
        "!git pull\n",
        "!git stash pop"
      ],
      "execution_count": 0,
      "outputs": []
    },
    {
      "cell_type": "markdown",
      "metadata": {
        "colab_type": "text",
        "id": "nMLT0utQpzz6"
      },
      "source": [
        "## Setup git config repo"
      ]
    },
    {
      "cell_type": "code",
      "metadata": {
        "colab_type": "code",
        "id": "_YqFc8H7pzz7",
        "colab": {}
      },
      "source": [
        "#!git config --global user.email \"soma.programmer@gmail.com\"\n",
        "#!git config --global user.name \"medikid\"\n",
        "\n",
        "#!git remote set-url origin https://github.com/medikid/ai_lotto.git\n"
      ],
      "execution_count": 0,
      "outputs": []
    },
    {
      "cell_type": "code",
      "metadata": {
        "colab_type": "code",
        "id": "uQR0184Opzz_",
        "colab": {}
      },
      "source": [
        "!git remote show origin"
      ],
      "execution_count": 0,
      "outputs": []
    },
    {
      "cell_type": "markdown",
      "metadata": {
        "colab_type": "text",
        "id": "ZTGj4TiYA56S"
      },
      "source": [
        "# lists all classes in the order of loading"
      ]
    },
    {
      "cell_type": "code",
      "metadata": {
        "colab_type": "code",
        "id": "uPJSKlxjTq7h",
        "colab": {}
      },
      "source": [
        "!pip install -r ../requirements.txt"
      ],
      "execution_count": 0,
      "outputs": []
    },
    {
      "cell_type": "code",
      "metadata": {
        "colab_type": "code",
        "id": "HQ96r5CZpz0J",
        "colab": {}
      },
      "source": [
        "# %load '../load_lib.py'\n",
        "\n",
        "%run '../ifile.py'\n",
        "%run '../idata.py'\n",
        "%run '../idataset.py'\n",
        "%run '../imodel.py'\n",
        "%run '../ker_model.py'\n",
        "%run '../ker_model_loader.py'\n",
        "%run '../tfl_model.py'\n",
        "%run '../ai.py'\n",
        "%run '../itrainer.py'\n"
      ],
      "execution_count": 0,
      "outputs": []
    },
    {
      "cell_type": "code",
      "metadata": {
        "colab_type": "code",
        "id": "7RX-fWSopz0P",
        "colab": {}
      },
      "source": [
        "%cd '..'\n",
        "\n",
        "from ifile import iFile\n",
        "from idata import Data\n",
        "from idataset import Dataset\n",
        "from imodel import Model\n",
        "from ker_model import KER_Model\n",
        "from ker_model_loader import KER_Model_Loader\n",
        "from tfl_model import TFL_Model\n",
        "from ai import AI\n",
        "from itrainer import Trainer\n",
        "\n",
        "%cd 'notebooks'"
      ],
      "execution_count": 0,
      "outputs": []
    },
    {
      "cell_type": "markdown",
      "metadata": {
        "colab_type": "text",
        "id": "EDGSqErkA57E"
      },
      "source": [
        "## Dataset Prep"
      ]
    },
    {
      "cell_type": "markdown",
      "metadata": {
        "id": "DqhO4xyyLHsQ",
        "colab_type": "text"
      },
      "source": [
        "## Initial Training"
      ]
    },
    {
      "cell_type": "code",
      "metadata": {
        "colab_type": "code",
        "id": "pX9l2CT3A57K",
        "outputId": "0533f252-5a44-4ce4-bf16-cd65ba1804bc",
        "colab": {
          "base_uri": "https://localhost:8080/",
          "height": 52
        }
      },
      "source": [
        "import keras as kr\n",
        "from keras.models import Sequential\n",
        "from keras.layers import LSTM, Dense\n",
        "\n",
        "#----------------------------------------------------\n",
        "_GAME = 'keno';  _API = 'ker';\n",
        "_xnINPUTS='x15'; _xnDRAWS='25k'; _DATA_TYPE = 'dr'; \n",
        " _BUILD = '4'; _MAKE = '1' ; _VERSION='1';\n",
        "\n",
        "datasetID = \"{0}_{1}_{2}_{3}\".format(_GAME,_xnINPUTS,_xnDRAWS,_DATA_TYPE)\n",
        "modelID = \"{0}.{1}.{2}.{3}.{4}\".format(_GAME,_API,_BUILD,_MAKE,_VERSION)\n",
        "#------------------------------------------------------------\n",
        "\n",
        "print(\"Dataset ID: {0}\".format(datasetID))\n",
        "print(\"Model ID: {0}\".format(modelID))"
      ],
      "execution_count": 0,
      "outputs": [
        {
          "output_type": "stream",
          "text": [
            "Dataset ID: keno_x15_25k_dr\n",
            "Model ID: keno.ker.4.1.e0010\n"
          ],
          "name": "stdout"
        }
      ]
    },
    {
      "cell_type": "markdown",
      "metadata": {
        "id": "qDt9wmLRLHsS",
        "colab_type": "text"
      },
      "source": [
        "## Incremental Checkpoint Training"
      ]
    },
    {
      "cell_type": "code",
      "metadata": {
        "id": "F9zdElq3LHsT",
        "colab_type": "code",
        "colab": {
          "base_uri": "https://localhost:8080/",
          "height": 51
        },
        "outputId": "d731d42a-448a-405f-a9b0-17bba6dfbb25"
      },
      "source": [
        "import keras as kr\n",
        "from keras.models import Sequential\n",
        "from keras.layers import LSTM, Dense\n",
        "\n",
        "#----------------------------------------------------\n",
        "_GAME = 'keno';  _LOAD_CHECKPOINT = 12;\n",
        "_xnINPUTS='x15'; _xnDRAWS='2.528m'; _DATA_TYPE = 'dr'; \n",
        "_API = 'ker'; _BUILD = '4'; _MAKE = '1' ; _VERSION='e' + str(_LOAD_CHECKPOINT).zfill(4);\n",
        "\n",
        "datasetID = \"{0}_{1}_{2}_{3}\".format(_GAME,_xnINPUTS,_xnDRAWS,_DATA_TYPE)\n",
        "modelID = \"{0}.{1}.{2}.{3}.{4}\".format(_GAME,_API,_BUILD,_MAKE,_VERSION)\n",
        "#------------------------------------------------------------\n",
        "\n",
        "print(\"Dataset ID: {0}\".format(datasetID))\n",
        "print(\"Model ID: {0}\".format(modelID))"
      ],
      "execution_count": 19,
      "outputs": [
        {
          "output_type": "stream",
          "text": [
            "Dataset ID: keno_x15_2.528m_dr\n",
            "Model ID: keno.ker.4.1.e0012\n"
          ],
          "name": "stdout"
        }
      ]
    },
    {
      "cell_type": "markdown",
      "metadata": {
        "id": "_L08tPUnLHsV",
        "colab_type": "text"
      },
      "source": [
        "# TRAINING"
      ]
    },
    {
      "cell_type": "code",
      "metadata": {
        "colab_type": "code",
        "id": "ipSXZSs1pz0Y",
        "outputId": "2227d18e-cd2c-47d9-de00-239278169984",
        "colab": {
          "base_uri": "https://localhost:8080/",
          "height": 486
        }
      },
      "source": [
        "trainer = Trainer(modelID, datasetID);\n",
        "\n",
        "trainer.train(Epochs= 50, BatchSize=1000, Callbacks={'per_epoch':1}, Verbose= 0)\n"
      ],
      "execution_count": 18,
      "outputs": [
        {
          "output_type": "stream",
          "text": [
            "xndraw2.528k, new_st2.528, multiple1000, notationk\n",
            "[iFile:__init__]\n",
            "xndraw2.528k, new_st2.528, multiple1000, notationk\n",
            "[iFile:derive_game_path]data/keno/\n",
            "[iFile:derive_folder_path] data/keno/x15/2.528k/\n",
            "[iDataset:derive_file_path] datasets/keno_x15_2.528k_dr.npz\n",
            "[ifile:derive_full_path] ../data/keno/x15/2.528k/datasets/keno_x15_2.528k_dr.npz\n"
          ],
          "name": "stdout"
        },
        {
          "output_type": "error",
          "ename": "FileNotFoundError",
          "evalue": "ignored",
          "traceback": [
            "\u001b[0;31m---------------------------------------------------------------------------\u001b[0m",
            "\u001b[0;31mFileNotFoundError\u001b[0m                         Traceback (most recent call last)",
            "\u001b[0;32m<ipython-input-18-8cc5852b554c>\u001b[0m in \u001b[0;36m<module>\u001b[0;34m()\u001b[0m\n\u001b[0;32m----> 1\u001b[0;31m \u001b[0mtrainer\u001b[0m \u001b[0;34m=\u001b[0m \u001b[0mTrainer\u001b[0m\u001b[0;34m(\u001b[0m\u001b[0mmodelID\u001b[0m\u001b[0;34m,\u001b[0m \u001b[0mdatasetID\u001b[0m\u001b[0;34m)\u001b[0m\u001b[0;34m;\u001b[0m\u001b[0;34m\u001b[0m\u001b[0;34m\u001b[0m\u001b[0m\n\u001b[0m\u001b[1;32m      2\u001b[0m \u001b[0;34m\u001b[0m\u001b[0m\n\u001b[1;32m      3\u001b[0m \u001b[0mtrainer\u001b[0m\u001b[0;34m.\u001b[0m\u001b[0mtrain\u001b[0m\u001b[0;34m(\u001b[0m\u001b[0mEpochs\u001b[0m\u001b[0;34m=\u001b[0m \u001b[0;36m50\u001b[0m\u001b[0;34m,\u001b[0m \u001b[0mBatchSize\u001b[0m\u001b[0;34m=\u001b[0m\u001b[0;36m1000\u001b[0m\u001b[0;34m,\u001b[0m \u001b[0mCallbacks\u001b[0m\u001b[0;34m=\u001b[0m\u001b[0;34m{\u001b[0m\u001b[0;34m'per_epoch'\u001b[0m\u001b[0;34m:\u001b[0m\u001b[0;36m1\u001b[0m\u001b[0;34m}\u001b[0m\u001b[0;34m,\u001b[0m \u001b[0mVerbose\u001b[0m\u001b[0;34m=\u001b[0m \u001b[0;36m0\u001b[0m\u001b[0;34m)\u001b[0m\u001b[0;34m\u001b[0m\u001b[0;34m\u001b[0m\u001b[0m\n",
            "\u001b[0;32m/content/g_drive/My Drive/Colab/Datascience/ai_lotto/itrainer.py\u001b[0m in \u001b[0;36m__init__\u001b[0;34m(self, ModelID, DatasetID)\u001b[0m\n\u001b[1;32m     16\u001b[0m     \u001b[0;32mdef\u001b[0m \u001b[0m__init__\u001b[0m\u001b[0;34m(\u001b[0m\u001b[0mself\u001b[0m\u001b[0;34m,\u001b[0m \u001b[0mModelID\u001b[0m\u001b[0;34m,\u001b[0m \u001b[0mDatasetID\u001b[0m\u001b[0;34m)\u001b[0m\u001b[0;34m:\u001b[0m\u001b[0;34m\u001b[0m\u001b[0;34m\u001b[0m\u001b[0m\n\u001b[1;32m     17\u001b[0m         \u001b[0mself\u001b[0m\u001b[0;34m.\u001b[0m\u001b[0m_DATASET\u001b[0m \u001b[0;34m=\u001b[0m \u001b[0mDataset\u001b[0m\u001b[0;34m(\u001b[0m\u001b[0mDatasetID\u001b[0m\u001b[0;34m)\u001b[0m\u001b[0;34m;\u001b[0m\u001b[0;34m\u001b[0m\u001b[0;34m\u001b[0m\u001b[0m\n\u001b[0;32m---> 18\u001b[0;31m         \u001b[0mself\u001b[0m\u001b[0;34m.\u001b[0m\u001b[0m_DATASET\u001b[0m\u001b[0;34m.\u001b[0m\u001b[0mload\u001b[0m\u001b[0;34m(\u001b[0m\u001b[0;34m)\u001b[0m\u001b[0;34m\u001b[0m\u001b[0;34m\u001b[0m\u001b[0m\n\u001b[0m\u001b[1;32m     19\u001b[0m \u001b[0;34m\u001b[0m\u001b[0m\n\u001b[1;32m     20\u001b[0m         \u001b[0mself\u001b[0m\u001b[0;34m.\u001b[0m\u001b[0m_MODEL\u001b[0m \u001b[0;34m=\u001b[0m \u001b[0mModel\u001b[0m\u001b[0;34m(\u001b[0m\u001b[0mModelID\u001b[0m\u001b[0;34m,\u001b[0m \u001b[0mself\u001b[0m\u001b[0;34m.\u001b[0m\u001b[0m_DATASET\u001b[0m\u001b[0;34m)\u001b[0m\u001b[0;34m;\u001b[0m\u001b[0;34m\u001b[0m\u001b[0;34m\u001b[0m\u001b[0m\n",
            "\u001b[0;32m/content/g_drive/My Drive/Colab/Datascience/ai_lotto/idataset.py\u001b[0m in \u001b[0;36mload\u001b[0;34m(self)\u001b[0m\n\u001b[1;32m     92\u001b[0m \u001b[0;34m\u001b[0m\u001b[0m\n\u001b[1;32m     93\u001b[0m     \u001b[0;32mdef\u001b[0m \u001b[0mload\u001b[0m\u001b[0;34m(\u001b[0m\u001b[0mself\u001b[0m\u001b[0;34m)\u001b[0m\u001b[0;34m:\u001b[0m\u001b[0;34m\u001b[0m\u001b[0;34m\u001b[0m\u001b[0m\n\u001b[0;32m---> 94\u001b[0;31m         \u001b[0mself\u001b[0m\u001b[0;34m.\u001b[0m\u001b[0m_D\u001b[0m \u001b[0;34m=\u001b[0m \u001b[0mnp\u001b[0m\u001b[0;34m.\u001b[0m\u001b[0mload\u001b[0m\u001b[0;34m(\u001b[0m\u001b[0mself\u001b[0m\u001b[0;34m.\u001b[0m\u001b[0m_FULL_PATH\u001b[0m\u001b[0;34m)\u001b[0m\u001b[0;34m\u001b[0m\u001b[0;34m\u001b[0m\u001b[0m\n\u001b[0m\u001b[1;32m     95\u001b[0m         \u001b[0mprint\u001b[0m\u001b[0;34m(\u001b[0m\u001b[0;34m\"Loading dataset {0}\"\u001b[0m\u001b[0;34m.\u001b[0m\u001b[0mformat\u001b[0m\u001b[0;34m(\u001b[0m\u001b[0mself\u001b[0m\u001b[0;34m.\u001b[0m\u001b[0m_FULL_PATH\u001b[0m\u001b[0;34m)\u001b[0m\u001b[0;34m)\u001b[0m\u001b[0;34m\u001b[0m\u001b[0;34m\u001b[0m\u001b[0m\n\u001b[1;32m     96\u001b[0m \u001b[0;34m\u001b[0m\u001b[0m\n",
            "\u001b[0;32m/usr/local/lib/python3.6/dist-packages/numpy/lib/npyio.py\u001b[0m in \u001b[0;36mload\u001b[0;34m(file, mmap_mode, allow_pickle, fix_imports, encoding)\u001b[0m\n\u001b[1;32m    426\u001b[0m         \u001b[0mown_fid\u001b[0m \u001b[0;34m=\u001b[0m \u001b[0;32mFalse\u001b[0m\u001b[0;34m\u001b[0m\u001b[0;34m\u001b[0m\u001b[0m\n\u001b[1;32m    427\u001b[0m     \u001b[0;32melse\u001b[0m\u001b[0;34m:\u001b[0m\u001b[0;34m\u001b[0m\u001b[0;34m\u001b[0m\u001b[0m\n\u001b[0;32m--> 428\u001b[0;31m         \u001b[0mfid\u001b[0m \u001b[0;34m=\u001b[0m \u001b[0mopen\u001b[0m\u001b[0;34m(\u001b[0m\u001b[0mos_fspath\u001b[0m\u001b[0;34m(\u001b[0m\u001b[0mfile\u001b[0m\u001b[0;34m)\u001b[0m\u001b[0;34m,\u001b[0m \u001b[0;34m\"rb\"\u001b[0m\u001b[0;34m)\u001b[0m\u001b[0;34m\u001b[0m\u001b[0;34m\u001b[0m\u001b[0m\n\u001b[0m\u001b[1;32m    429\u001b[0m         \u001b[0mown_fid\u001b[0m \u001b[0;34m=\u001b[0m \u001b[0;32mTrue\u001b[0m\u001b[0;34m\u001b[0m\u001b[0;34m\u001b[0m\u001b[0m\n\u001b[1;32m    430\u001b[0m \u001b[0;34m\u001b[0m\u001b[0m\n",
            "\u001b[0;31mFileNotFoundError\u001b[0m: [Errno 2] No such file or directory: '../data/keno/x15/2.528k/datasets/keno_x15_2.528k_dr.npz'"
          ]
        }
      ]
    },
    {
      "cell_type": "code",
      "metadata": {
        "colab_type": "code",
        "id": "y3LKfokmpz0c",
        "colab": {}
      },
      "source": [
        "trainer._MODEL.load()\n",
        "#trainer._MODEL._M.summary()"
      ],
      "execution_count": 0,
      "outputs": []
    },
    {
      "cell_type": "code",
      "metadata": {
        "colab_type": "code",
        "id": "1fdtwrWapz0g",
        "colab": {}
      },
      "source": [
        "k = Sequential()\n",
        "k.add(LSTM(units=80, activation='relu', return_sequences=True, input_shape=(15,80)) ); #input_shape=(15,80) ));\n",
        "k.add(LSTM(units=160, activation='relu'))\n",
        "k.add(Dense(units=160, activation='relu'));\n",
        "k.add(Dense(80, activation='sigmoid'));\n",
        "k.compile(optimizer='adam', loss='mse', metrics=['accuracy'])\n",
        "k.summary()"
      ],
      "execution_count": 0,
      "outputs": []
    },
    {
      "cell_type": "code",
      "metadata": {
        "colab_type": "code",
        "id": "q3G9_KeYpz0j",
        "colab": {}
      },
      "source": [
        "trainer._MODEL._M = k;\n",
        "trainer.train(Epochs=10, BatchSize=100, Callbacks={'per_epoch':5})\n",
        "\n",
        "#trainer._MODEL._D_X_SHAPE"
      ],
      "execution_count": 0,
      "outputs": []
    },
    {
      "cell_type": "code",
      "metadata": {
        "colab_type": "code",
        "id": "asAoOptxW1l_",
        "colab": {}
      },
      "source": [
        "## Print tree structure of Data folder\n",
        "#!apt-get install tree\n",
        "!tree '../data/keno'"
      ],
      "execution_count": 0,
      "outputs": []
    },
    {
      "cell_type": "code",
      "metadata": {
        "colab_type": "code",
        "id": "diG-yLNjpz0q",
        "outputId": "58c88518-37da-476c-bcd1-bdffd21e69a4",
        "colab": {}
      },
      "source": [
        "dat = Dataset('keno_x15_25k_dr')\n",
        "dat.load()\n",
        "mod = Model('keno.ker.4.1.e0010',dat)\n",
        "mod.load()\n",
        "mod.print_summary()"
      ],
      "execution_count": 0,
      "outputs": [
        {
          "output_type": "stream",
          "text": [
            "xndraw25k, new_st25.0, multiple1000, notationk\n",
            "[iFile:__init__]\n",
            "xndraw25k, new_st25.0, multiple1000, notationk\n",
            "[iFile:derive_game_path]data/keno/\n",
            "[iFile:derive_folder_path] data/keno/x15/25k/\n",
            "[iDataset:derive_file_path] datasets/keno_x15_25k_dr.npz\n",
            "[ifile:derive_full_path] ../data/keno/x15/25k/datasets/keno_x15_25k_dr.npz\n",
            "Loading dataset ../data/keno/x15/25k/datasets/keno_x15_25k_dr.npz\n",
            "[iModel:decipher_file_name]\n",
            "[iModel:set_decipher_info] {'GAME': 'keno', 'xnINPUTS': 'x15', 'nINPUTS': 15, 'xnDRAWS': '25k', 'nDRAWS': 25000, 'DATA_TYPE': 'dr', 'API': 'ker', 'BUILD': '4', 'MAKE': '1', 'VERSION': 'e0010', 'IS_CHECKPOINT': True, 'CHECKPOINT_EPOCH': 10}\n",
            "[iFile:__init__]\n",
            "[iModel:decipher_file_name]\n",
            "[iModel:set_decipher_info] {'GAME': 'keno', 'xnINPUTS': 'x15', 'nINPUTS': 15, 'xnDRAWS': '25k', 'nDRAWS': 25000, 'DATA_TYPE': 'dr', 'API': 'ker', 'BUILD': '4', 'MAKE': '1', 'VERSION': 'e0010', 'IS_CHECKPOINT': True, 'CHECKPOINT_EPOCH': 10}\n",
            "[iModel:derive_file_path] models/ker/4/1/keno.ker.4.1.e0010.h5\n",
            "[iFile:derive_game_path]data/keno/\n",
            "[ifile:derive_full_path] ../data/keno/x15/25k/models/ker/4/1/keno.ker.4.1.e0010.h5\n",
            "[iModel:derive_checkpoints_folder] Ensured ../data/keno/x15/25k/models/ker/4/1/checkpoints/\n",
            "[iModel:__init__\n",
            "[Model:loader] converted Model to KER_Model\n",
            "[KER_Model:load]: Loading ../data/keno/x15/25k/models/ker/4/1/keno.ker.4.1.e0010.h5\n",
            "[KER_Model:load_checkpoint] Loaded ../data/keno/x15/25k/models/ker/4/1/checkpoints/keno.ker.4.1.e0010.h5\n",
            "Model: \"sequential_2\"\n",
            "_________________________________________________________________\n",
            "Layer (type)                 Output Shape              Param #   \n",
            "=================================================================\n",
            "lstm_3 (LSTM)                (None, 15, 80)            51520     \n",
            "_________________________________________________________________\n",
            "lstm_4 (LSTM)                (None, 160)               154240    \n",
            "_________________________________________________________________\n",
            "dense_3 (Dense)              (None, 160)               25760     \n",
            "_________________________________________________________________\n",
            "dense_4 (Dense)              (None, 80)                12880     \n",
            "=================================================================\n",
            "Total params: 244,400\n",
            "Trainable params: 244,400\n",
            "Non-trainable params: 0\n",
            "_________________________________________________________________\n",
            "None\n"
          ],
          "name": "stdout"
        }
      ]
    },
    {
      "cell_type": "markdown",
      "metadata": {
        "colab_type": "text",
        "id": "0DHWdaI7Y3EO"
      },
      "source": [
        "## Training ground"
      ]
    },
    {
      "cell_type": "code",
      "metadata": {
        "colab_type": "code",
        "id": "08Qrou6cY3EP",
        "colab": {}
      },
      "source": [
        "!python3 '../idataset.py'\n",
        "\n",
        "datasetID = 'keno_x15_100k_dr'\n",
        "\n",
        "d = Dataset(datasetID)\n",
        "d.load();\n",
        "dataset = d._D;"
      ],
      "execution_count": 0,
      "outputs": []
    },
    {
      "cell_type": "code",
      "metadata": {
        "colab_type": "code",
        "id": "xaLqYQubY3ET",
        "colab": {}
      },
      "source": [
        "!python3 '../imodel.py'\n",
        "!python3 '../ker_model.py'\n",
        "\n",
        "modelID = 'keno.ker.2.1'\n",
        "\n",
        "\n",
        "#Keno.ker.1.1\n",
        "k = KER_Model(modelID, d);\n",
        "k._M = Sequential()\n",
        "k._M.add(LSTM(units=100, activation='relu', input_shape=(dataset['X'].shape[1], dataset['X'].shape[2]) , return_sequences=True ));\n",
        "k._M.add(LSTM(units=100, activation='relu'))\n",
        "k._M.add(Dense(dataset['Y'].shape[1]));\n",
        "k._M.compile(optimizer='adam', loss='mse', metrics=['accuracy'])\n",
        "\n",
        "k.save_untrained();\n",
        "k.print_summary();"
      ],
      "execution_count": 0,
      "outputs": []
    },
    {
      "cell_type": "code",
      "metadata": {
        "colab_type": "code",
        "id": "NOVlO5n5Y3EW",
        "colab": {}
      },
      "source": [
        "!python3 '../imodel.py'\n",
        "!python3 '../ker_model.py'\n",
        "\n",
        "modelID = 'keno.ker.2.1'\n",
        "kr = KER_Model(modelID, d);\n",
        "kr.load_untrained();\n",
        "kr.print_summary()"
      ],
      "execution_count": 0,
      "outputs": []
    },
    {
      "cell_type": "code",
      "metadata": {
        "colab_type": "code",
        "id": "Mfj7Bb7EY3EY",
        "colab": {}
      },
      "source": [
        "kr.get_untrained_folder_path()"
      ],
      "execution_count": 0,
      "outputs": []
    },
    {
      "cell_type": "code",
      "metadata": {
        "colab_type": "code",
        "id": "LUoEwr7pY3Ec",
        "colab": {}
      },
      "source": [
        "%run 'idataset.py'"
      ],
      "execution_count": 0,
      "outputs": []
    },
    {
      "cell_type": "code",
      "metadata": {
        "colab_type": "code",
        "id": "RQLASkWFp9FG",
        "colab": {}
      },
      "source": [
        "cd ../"
      ],
      "execution_count": 0,
      "outputs": []
    },
    {
      "cell_type": "code",
      "metadata": {
        "colab_type": "code",
        "id": "tjd-IpKHu0M_",
        "colab": {}
      },
      "source": [
        "import sys\n",
        "sys.path.append('/content/g_drive/My Drive/Colab/Datascience/ai_lotto')"
      ],
      "execution_count": 0,
      "outputs": []
    },
    {
      "cell_type": "code",
      "metadata": {
        "colab_type": "code",
        "id": "3VcDbFOErusT",
        "colab": {}
      },
      "source": [
        "from idataset import Dataset\n",
        "d = Dataset('keno_x15_2.528m_dr')\n",
        "d._FULL_PATH"
      ],
      "execution_count": 0,
      "outputs": []
    },
    {
      "cell_type": "code",
      "metadata": {
        "colab_type": "code",
        "id": "HuW0pgE-pz1M",
        "colab": {}
      },
      "source": [
        ""
      ],
      "execution_count": 0,
      "outputs": []
    },
    {
      "cell_type": "code",
      "metadata": {
        "colab_type": "code",
        "id": "SDgu4-lEpz1Q",
        "colab": {}
      },
      "source": [
        ""
      ],
      "execution_count": 0,
      "outputs": []
    }
  ]
}