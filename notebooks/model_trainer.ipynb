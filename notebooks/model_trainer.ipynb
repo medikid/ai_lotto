{
 "cells": [
  {
   "cell_type": "markdown",
   "metadata": {
    "colab_type": "text",
    "id": "Qzqpaam_pzzE"
   },
   "source": [
    "<a href=\"https://colab.research.google.com/github/medikid/ai_lotto/blob/master/notebooks/model_trainer.ipynb\" target=\"_parent\"><img src=\"https://colab.research.google.com/assets/colab-badge.svg\" alt=\"Open In Colab\"/></a>"
   ]
  },
  {
   "cell_type": "markdown",
   "metadata": {
    "colab_type": "text",
    "id": "_faJdu-MIYpM"
   },
   "source": [
    "## **Initiate Collab Notebook and setup Google Drive**"
   ]
  },
  {
   "cell_type": "markdown",
   "metadata": {
    "colab_type": "text",
    "id": "sBdFdcifYdxv"
   },
   "source": [
    "## Mount Google Drive"
   ]
  },
  {
   "cell_type": "code",
   "execution_count": null,
   "metadata": {
    "colab": {
     "base_uri": "https://localhost:8080/",
     "height": 124
    },
    "colab_type": "code",
    "id": "QUZLPAzg_vMn",
    "outputId": "66d38aab-5b3c-482a-e81f-9fa3a512ef8b"
   },
   "outputs": [],
   "source": [
    "#init colab notebooks\n",
    "\n",
    "from google.colab import drive\n",
    "drive.mount('/content/g_drive')"
   ]
  },
  {
   "cell_type": "code",
   "execution_count": null,
   "metadata": {},
   "outputs": [],
   "source": [
    "#perform all actions at once\n",
    "#!mkdir my_drive\n",
    "!ln -s \"/content/g_drive/My Drive/Colab/Datascience/ai_lotto\" \"/content\"\n",
    "%cd \"/content/ai_lotto\"\n",
    "\n",
    "import sys\n",
    "sys.path.append('/content/ai_lotto')\n",
    "%cd notebooks/\n",
    "\n",
    "%run '../ifile.py'\n",
    "%run '../idata.py'\n",
    "%run '../idataset.py'\n",
    "%run '../imodel.py'\n",
    "%run '../ker_model.py'\n",
    "%run '../ker_model_loader.py'\n",
    "%run '../tfl_model.py'\n",
    "%run '../ai.py'\n",
    "%run '../itrainer.py'\n",
    "%run '../custom_functions.py'\n",
    "%run '../custom_callbacks.py'\n"
   ]
  },
  {
   "cell_type": "code",
   "execution_count": null,
   "metadata": {
    "colab": {},
    "colab_type": "code",
    "id": "HSiSJRZsgJ2s"
   },
   "outputs": [],
   "source": [
    "from pydrive.auth import GoogleAuth\n",
    "from pydrive.drive import GoogleDrive\n",
    "from google.colab import auth\n",
    "from oauth2client.client import GoogleCredentials\n",
    "\n",
    "auth.authenticate_user()\n",
    "gauth = GoogleAuth()\n",
    "gauth.credentials = GoogleCredentials.get_application_default()\n",
    "drive = GoogleDrive(gauth)"
   ]
  },
  {
   "cell_type": "code",
   "execution_count": null,
   "metadata": {
    "colab": {},
    "colab_type": "code",
    "id": "1k0iQXOSha1f"
   },
   "outputs": [],
   "source": [
    "#!mkdir my_drive\n",
    "!ln -s \"/content/g_drive/My Drive/Colab/Datascience/ai_lotto\" \"/content\""
   ]
  },
  {
   "cell_type": "code",
   "execution_count": null,
   "metadata": {
    "colab": {
     "base_uri": "https://localhost:8080/",
     "height": 35
    },
    "colab_type": "code",
    "id": "_lhfdVWHURF6",
    "outputId": "f45139bf-ec7c-4cd4-f7f7-f175bb2decb0"
   },
   "outputs": [],
   "source": [
    "%cd \"/content/ai_lotto\"\n",
    "\n",
    "import sys\n",
    "sys.path.append('/content/ai_lotto')"
   ]
  },
  {
   "cell_type": "code",
   "execution_count": null,
   "metadata": {
    "colab": {
     "base_uri": "https://localhost:8080/",
     "height": 35
    },
    "colab_type": "code",
    "id": "r530UEutqIBB",
    "outputId": "7109934a-eec1-4642-8c96-e6f0d87f28e8"
   },
   "outputs": [],
   "source": [
    "%cd notebooks/"
   ]
  },
  {
   "cell_type": "markdown",
   "metadata": {
    "colab_type": "text",
    "id": "3oixeDY6pzzh"
   },
   "source": [
    "# GIthub Functions"
   ]
  },
  {
   "cell_type": "markdown",
   "metadata": {
    "colab_type": "text",
    "id": "lPoAgspipzzi"
   },
   "source": [
    "## Git ADD, COMMIT and PUSH to remote"
   ]
  },
  {
   "cell_type": "code",
   "execution_count": null,
   "metadata": {
    "colab": {},
    "colab_type": "code",
    "id": "MxORrMbxpzzj"
   },
   "outputs": [],
   "source": [
    "!git add -A .\n",
    "!git commit -m \"Added git functions\"\n",
    "!git push origin master"
   ]
  },
  {
   "cell_type": "markdown",
   "metadata": {
    "colab_type": "text",
    "id": "PTSDkZqTpzzp"
   },
   "source": [
    "## Git Pull from remote github repo"
   ]
  },
  {
   "cell_type": "code",
   "execution_count": null,
   "metadata": {
    "colab": {
     "base_uri": "https://localhost:8080/",
     "height": 35
    },
    "colab_type": "code",
    "id": "kads4KiNpzzq",
    "outputId": "806b2527-d8da-44d0-ed79-2151692f1962"
   },
   "outputs": [],
   "source": [
    "!git pull"
   ]
  },
  {
   "cell_type": "markdown",
   "metadata": {
    "colab_type": "text",
    "id": "_9LGmmy0pzzv"
   },
   "source": [
    "## Git conflict local - so reset local to match remote"
   ]
  },
  {
   "cell_type": "code",
   "execution_count": null,
   "metadata": {
    "colab": {},
    "colab_type": "code",
    "id": "w4ogIOktpzzw"
   },
   "outputs": [],
   "source": [
    "!git fetch --all\n",
    "!git reset --hard origin/master\n",
    "!git pull"
   ]
  },
  {
   "cell_type": "markdown",
   "metadata": {
    "colab_type": "text",
    "id": "kaRhCiXWpzz0"
   },
   "source": [
    "## Unpushed local changes - Stash local, Pull Remote and write local changes to pulled remote"
   ]
  },
  {
   "cell_type": "code",
   "execution_count": null,
   "metadata": {
    "colab": {},
    "colab_type": "code",
    "id": "JF_Mvzh2pzz1"
   },
   "outputs": [],
   "source": [
    "!git stash\n",
    "!git pull\n",
    "!git stash pop"
   ]
  },
  {
   "cell_type": "markdown",
   "metadata": {
    "colab_type": "text",
    "id": "nMLT0utQpzz6"
   },
   "source": [
    "## Setup git config repo"
   ]
  },
  {
   "cell_type": "code",
   "execution_count": null,
   "metadata": {
    "colab": {},
    "colab_type": "code",
    "id": "_YqFc8H7pzz7"
   },
   "outputs": [],
   "source": [
    "#!git config --global user.email \"soma.programmer@gmail.com\"\n",
    "#!git config --global user.name \"medikid\"\n",
    "\n",
    "#!git remote set-url origin https://github.com/medikid/ai_lotto.git\n"
   ]
  },
  {
   "cell_type": "code",
   "execution_count": null,
   "metadata": {
    "colab": {},
    "colab_type": "code",
    "id": "uQR0184Opzz_"
   },
   "outputs": [],
   "source": [
    "!git remote show origin"
   ]
  },
  {
   "cell_type": "markdown",
   "metadata": {
    "colab_type": "text",
    "id": "ZTGj4TiYA56S"
   },
   "source": [
    "# lists all classes in the order of loading"
   ]
  },
  {
   "cell_type": "code",
   "execution_count": null,
   "metadata": {
    "colab": {},
    "colab_type": "code",
    "id": "uPJSKlxjTq7h"
   },
   "outputs": [],
   "source": [
    "!pip install -r ../requirements.txt"
   ]
  },
  {
   "cell_type": "code",
   "execution_count": 1,
   "metadata": {
    "colab": {},
    "colab_type": "code",
    "id": "HQ96r5CZpz0J"
   },
   "outputs": [
    {
     "name": "stderr",
     "output_type": "stream",
     "text": [
      "Using TensorFlow backend.\n"
     ]
    }
   ],
   "source": [
    "# %load '../load_lib.py'\n",
    "\n",
    "%run '../ifile.py'\n",
    "%run '../idata.py'\n",
    "%run '../idataset.py'\n",
    "%run '../imodel.py'\n",
    "%run '../ker_model.py'\n",
    "%run '../ker_model_loader.py'\n",
    "%run '../tfl_model.py'\n",
    "%run '../ai.py'\n",
    "%run '../itrainer.py'\n",
    "%run '../custom_functions.py'\n",
    "%run '../custom_callbacks.py'\n"
   ]
  },
  {
   "cell_type": "code",
   "execution_count": null,
   "metadata": {
    "colab": {},
    "colab_type": "code",
    "id": "7RX-fWSopz0P"
   },
   "outputs": [],
   "source": [
    "%cd '..'\n",
    "\n",
    "from ifile import iFile\n",
    "from idata import Data\n",
    "from idataset import Dataset\n",
    "from imodel import Model\n",
    "from ker_model import KER_Model\n",
    "from ker_model_loader import KER_Model_Loader\n",
    "from tfl_model import TFL_Model\n",
    "from ai import AI\n",
    "from itrainer import Trainer\n",
    "\n",
    "%cd 'notebooks'"
   ]
  },
  {
   "cell_type": "markdown",
   "metadata": {
    "colab_type": "text",
    "id": "EDGSqErkA57E"
   },
   "source": [
    "## Dataset Prep"
   ]
  },
  {
   "cell_type": "markdown",
   "metadata": {
    "colab_type": "text",
    "id": "DqhO4xyyLHsQ"
   },
   "source": [
    "## Initial Training"
   ]
  },
  {
   "cell_type": "code",
   "execution_count": null,
   "metadata": {
    "colab": {
     "base_uri": "https://localhost:8080/",
     "height": 52
    },
    "colab_type": "code",
    "id": "pX9l2CT3A57K",
    "outputId": "0533f252-5a44-4ce4-bf16-cd65ba1804bc"
   },
   "outputs": [],
   "source": [
    "import keras as kr\n",
    "from keras.models import Sequential\n",
    "from keras.layers import LSTM, Dense\n",
    "\n",
    "#----------------------------------------------------\n",
    "_GAME = 'hotspot';  _API = 'ker';\n",
    "_xnINPUTS='x15'; _xnDRAWS='25k'; _DATA_TYPE = 'dr'; \n",
    "_BUILD = '4'; _MAKE = '13' ; _VERSION='1'; #v0 is untrained, 1 is load new build\n",
    "\n",
    "datasetID = \"{0}_{1}_{2}_{3}\".format(_GAME,_xnINPUTS,_xnDRAWS,_DATA_TYPE)\n",
    "modelID = \"{0}.{1}.{2}.{3}.{4}\".format(_GAME,_API,_BUILD,_MAKE,_VERSION)\n",
    "#------------------------------------------------------------\n",
    "\n",
    "print(\"Dataset ID: {0}\".format(datasetID))\n",
    "print(\"Model ID: {0}\".format(modelID))"
   ]
  },
  {
   "cell_type": "markdown",
   "metadata": {
    "colab_type": "text",
    "id": "qDt9wmLRLHsS"
   },
   "source": [
    "## Incremental Checkpoint Training"
   ]
  },
  {
   "cell_type": "code",
   "execution_count": 2,
   "metadata": {
    "colab": {
     "base_uri": "https://localhost:8080/",
     "height": 51
    },
    "colab_type": "code",
    "id": "F9zdElq3LHsT",
    "outputId": "d731d42a-448a-405f-a9b0-17bba6dfbb25"
   },
   "outputs": [
    {
     "name": "stdout",
     "output_type": "stream",
     "text": [
      "Dataset ID: hotspot_x15_25k_dr\n",
      "Model ID: hotspot.ker.4.13.e0001\n"
     ]
    }
   ],
   "source": [
    "import keras as kr\n",
    "from keras.models import Sequential\n",
    "from keras.layers import LSTM, Dense\n",
    "\n",
    "#----------------------------------------------------\n",
    "_GAME = 'hotspot';  _LOAD_CHECKPOINT = 1;\n",
    "_xnINPUTS='x15'; _xnDRAWS='25k'; _DATA_TYPE = 'dr'; \n",
    "_API = 'ker'; _BUILD = '4'; _MAKE = '13' ; _VERSION='e' + str(_LOAD_CHECKPOINT).zfill(4);\n",
    "\n",
    "datasetID = \"{0}_{1}_{2}_{3}\".format(_GAME,_xnINPUTS,_xnDRAWS,_DATA_TYPE)\n",
    "modelID = \"{0}.{1}.{2}.{3}.{4}\".format(_GAME,_API,_BUILD,_MAKE,_VERSION)\n",
    "#------------------------------------------------------------\n",
    "\n",
    "print(\"Dataset ID: {0}\".format(datasetID))\n",
    "print(\"Model ID: {0}\".format(modelID))"
   ]
  },
  {
   "cell_type": "markdown",
   "metadata": {
    "colab_type": "text",
    "id": "_L08tPUnLHsV"
   },
   "source": [
    "# TRAINING"
   ]
  },
  {
   "cell_type": "code",
   "execution_count": null,
   "metadata": {
    "colab": {
     "base_uri": "https://localhost:8080/",
     "height": 486
    },
    "colab_type": "code",
    "id": "ipSXZSs1pz0Y",
    "outputId": "2227d18e-cd2c-47d9-de00-239278169984"
   },
   "outputs": [
    {
     "name": "stdout",
     "output_type": "stream",
     "text": [
      "xndraw25k, new_st25.0, multiple1000, notationk\n",
      "[iFile:__init__]\n",
      "xndraw25k, new_st25.0, multiple1000, notationk\n",
      "[iFile:derive_game_path]data/hotspot/\n",
      "[iFile:derive_folder_path] data/hotspot/x15/25k/\n",
      "[iDataset:derive_file_path] datasets/hotspot_x15_25k_dr.npz\n",
      "[ifile:derive_full_path] ../data/hotspot/x15/25k/datasets/hotspot_x15_25k_dr.npz\n",
      "Loading dataset ../data/hotspot/x15/25k/datasets/hotspot_x15_25k_dr.npz\n",
      "[iModel:decipher_file_name]\n",
      "[iModel:set_decipher_info] {'GAME': 'hotspot', 'xnINPUTS': 'x15', 'nINPUTS': 15, 'xnDRAWS': '25k', 'nDRAWS': 25000, 'DATA_TYPE': 'dr', 'API': 'ker', 'BUILD': '4', 'MAKE': '13', 'VERSION': 'e0001', 'IS_CHECKPOINT': True, 'CHECKPOINT_EPOCH': 1}\n",
      "[iFile:__init__]\n",
      "[iModel:decipher_file_name]\n",
      "[iModel:set_decipher_info] {'GAME': 'hotspot', 'xnINPUTS': 'x15', 'nINPUTS': 15, 'xnDRAWS': '25k', 'nDRAWS': 25000, 'DATA_TYPE': 'dr', 'API': 'ker', 'BUILD': '4', 'MAKE': '13', 'VERSION': 'e0001', 'IS_CHECKPOINT': True, 'CHECKPOINT_EPOCH': 1}\n",
      "[iModel:derive_file_path] models/ker/4/13/hotspot.ker.4.13.e0001.h5\n",
      "[iFile:derive_game_path]data/hotspot/\n",
      "[ifile:derive_full_path] ../data/hotspot/x15/25k/models/ker/4/13/hotspot.ker.4.13.e0001.h5\n",
      "[iModel:derive_checkpoints_folder] Ensured ../data/hotspot/x15/25k/models/ker/4/13/checkpoints/\n",
      "[iModel:__init__\n",
      "[Model:loader] converted Model to KER_Model\n",
      "[KER_Model:load]: Loading checkpoint ../data/hotspot/x15/25k/models/ker/4/13/hotspot.ker.4.13.e0001.h5\n",
      "Issue: Unable to load due to usage of unserializable custom model/layer/metrics\n",
      "[KER_Model_loader: loaded new build 4.13]\n",
      "Solution-Step#1: Built/compiled new model\n",
      "Solution-Step#2: Loaded weights into new model from ../data/hotspot/x15/25k/models/ker/4/13/checkpoints/hotspot.ker.4.13.e0001.h5 \n",
      "[KER_Model:load_checkpoint] Loaded ../data/hotspot/x15/25k/models/ker/4/13/checkpoints/hotspot.ker.4.13.e0001.h5\n",
      "Latest checkpoint is 75\n",
      "Issue: Unable to load due to usage of unserializable custom model/layer/metrics\n",
      "[KER_Model_loader: loaded new build 4.13]\n",
      "Solution-Step#1: Built/compiled new model\n",
      "Solution-Step#2: Loaded weights into new model from ../data/hotspot/x15/25k/models/ker/4/13/checkpoints/hotspot.ker.4.13.e0075.h5 \n",
      "[KER_Model:load_checkpoint] Loaded ../data/hotspot/x15/25k/models/ker/4/13/checkpoints/hotspot.ker.4.13.e0075.h5\n",
      "[iModel:derive_checkpoints_folder] Ensured ../data/hotspot/x15/25k/models/ker/4/13/checkpoints/\n",
      "[itrainer:set_checkpoint_per_epoch] added model_checkpoint callback\n",
      "[itrainer:get_csv_histry] added csv_logger callback\n",
      "[itrainer:uplload_histry_per_epoch] added db_upload_history callback\n",
      "[itrainer:set_custom_callbacks] added custom_callback on_epoch_end\n",
      "Epoch 76/200\n",
      "[cf_callbacks] Start epoch 75 of training; got log keys: []\n",
      "25000/25000 [==============================] - 30s 1ms/step - loss: 0.5072 - precision_top10: 0.5141\n",
      "[cf_callbacks] End epoch 75 of training; got log keys: ['loss', 'precision_top10']\n",
      "Epoch 77/200\n",
      "[cf_callbacks] Start epoch 76 of training; got log keys: []\n",
      "25000/25000 [==============================] - 28s 1ms/step - loss: 0.5055 - precision_top10: 0.5179\n",
      "[cf_callbacks] End epoch 76 of training; got log keys: ['loss', 'precision_top10']\n",
      "Epoch 78/200\n",
      "[cf_callbacks] Start epoch 77 of training; got log keys: []\n",
      "25000/25000 [==============================] - 28s 1ms/step - loss: 0.5050 - precision_top10: 0.5197\n",
      "[cf_callbacks] End epoch 77 of training; got log keys: ['loss', 'precision_top10']\n",
      "Epoch 79/200\n",
      "[cf_callbacks] Start epoch 78 of training; got log keys: []\n",
      "25000/25000 [==============================] - 28s 1ms/step - loss: 0.5053 - precision_top10: 0.5190\n",
      "[cf_callbacks] End epoch 78 of training; got log keys: ['loss', 'precision_top10']\n",
      "Epoch 80/200\n",
      "[cf_callbacks] Start epoch 79 of training; got log keys: []\n",
      "25000/25000 [==============================] - 28s 1ms/step - loss: 0.5053 - precision_top10: 0.5193\n",
      "[cf_callbacks] End epoch 79 of training; got log keys: ['loss', 'precision_top10']\n",
      "Epoch 81/200\n",
      "[cf_callbacks] Start epoch 80 of training; got log keys: []\n",
      "25000/25000 [==============================] - 28s 1ms/step - loss: 0.5044 - precision_top10: 0.5217\n",
      "[cf_callbacks] End epoch 80 of training; got log keys: ['loss', 'precision_top10']\n",
      "Epoch 82/200\n",
      "[cf_callbacks] Start epoch 81 of training; got log keys: []\n",
      "25000/25000 [==============================] - 28s 1ms/step - loss: 0.5033 - precision_top10: 0.5250\n",
      "[cf_callbacks] End epoch 81 of training; got log keys: ['loss', 'precision_top10']\n",
      "Epoch 83/200\n",
      "[cf_callbacks] Start epoch 82 of training; got log keys: []\n",
      "25000/25000 [==============================] - 28s 1ms/step - loss: 0.5026 - precision_top10: 0.5258\n",
      "[cf_callbacks] End epoch 82 of training; got log keys: ['loss', 'precision_top10']\n",
      "Epoch 84/200\n",
      "[cf_callbacks] Start epoch 83 of training; got log keys: []\n",
      "25000/25000 [==============================] - 28s 1ms/step - loss: 0.5022 - precision_top10: 0.5264\n",
      "[cf_callbacks] End epoch 83 of training; got log keys: ['loss', 'precision_top10']\n",
      "Epoch 85/200\n",
      "[cf_callbacks] Start epoch 84 of training; got log keys: []\n",
      "25000/25000 [==============================] - 28s 1ms/step - loss: 0.5018 - precision_top10: 0.5278\n",
      "[cf_callbacks] End epoch 84 of training; got log keys: ['loss', 'precision_top10']\n",
      "Epoch 86/200\n",
      "[cf_callbacks] Start epoch 85 of training; got log keys: []\n",
      "25000/25000 [==============================] - 28s 1ms/step - loss: 0.5012 - precision_top10: 0.5296\n",
      "[cf_callbacks] End epoch 85 of training; got log keys: ['loss', 'precision_top10']\n",
      "Epoch 87/200\n",
      "[cf_callbacks] Start epoch 86 of training; got log keys: []\n",
      "25000/25000 [==============================] - 28s 1ms/step - loss: 0.5016 - precision_top10: 0.5280\n",
      "[cf_callbacks] End epoch 86 of training; got log keys: ['loss', 'precision_top10']\n",
      "Epoch 88/200\n",
      "[cf_callbacks] Start epoch 87 of training; got log keys: []\n",
      "25000/25000 [==============================] - 27s 1ms/step - loss: 0.5009 - precision_top10: 0.5307\n",
      "[cf_callbacks] End epoch 87 of training; got log keys: ['loss', 'precision_top10']\n",
      "Epoch 89/200\n",
      "[cf_callbacks] Start epoch 88 of training; got log keys: []\n",
      "25000/25000 [==============================] - 26s 1ms/step - loss: 0.4998 - precision_top10: 0.5343\n",
      "[cf_callbacks] End epoch 88 of training; got log keys: ['loss', 'precision_top10']\n",
      "Epoch 90/200\n",
      "[cf_callbacks] Start epoch 89 of training; got log keys: []\n",
      "25000/25000 [==============================] - 26s 1ms/step - loss: 0.4989 - precision_top10: 0.5351\n",
      "[cf_callbacks] End epoch 89 of training; got log keys: ['loss', 'precision_top10']\n",
      "Epoch 91/200\n",
      "[cf_callbacks] Start epoch 90 of training; got log keys: []\n",
      "25000/25000 [==============================] - 26s 1ms/step - loss: 0.4990 - precision_top10: 0.5354\n",
      "[cf_callbacks] End epoch 90 of training; got log keys: ['loss', 'precision_top10']\n",
      "Epoch 92/200\n",
      "[cf_callbacks] Start epoch 91 of training; got log keys: []\n",
      "25000/25000 [==============================] - 26s 1ms/step - loss: 0.4983 - precision_top10: 0.5367\n",
      "[cf_callbacks] End epoch 91 of training; got log keys: ['loss', 'precision_top10']\n",
      "Epoch 93/200\n",
      "[cf_callbacks] Start epoch 92 of training; got log keys: []\n",
      "25000/25000 [==============================] - 26s 1ms/step - loss: 0.4979 - precision_top10: 0.5392\n",
      "[cf_callbacks] End epoch 92 of training; got log keys: ['loss', 'precision_top10']\n",
      "Epoch 94/200\n",
      "[cf_callbacks] Start epoch 93 of training; got log keys: []\n",
      "25000/25000 [==============================] - 26s 1ms/step - loss: 0.4971 - precision_top10: 0.5409\n",
      "[cf_callbacks] End epoch 93 of training; got log keys: ['loss', 'precision_top10']\n",
      "Epoch 95/200\n",
      "[cf_callbacks] Start epoch 94 of training; got log keys: []\n",
      "25000/25000 [==============================] - 27s 1ms/step - loss: 0.4968 - precision_top10: 0.5410\n",
      "[cf_callbacks] End epoch 94 of training; got log keys: ['loss', 'precision_top10']\n",
      "Epoch 96/200\n",
      "[cf_callbacks] Start epoch 95 of training; got log keys: []\n",
      "25000/25000 [==============================] - 27s 1ms/step - loss: 0.4966 - precision_top10: 0.5430\n",
      "[cf_callbacks] End epoch 95 of training; got log keys: ['loss', 'precision_top10']\n",
      "Epoch 97/200\n",
      "[cf_callbacks] Start epoch 96 of training; got log keys: []\n",
      "25000/25000 [==============================] - 27s 1ms/step - loss: 0.4961 - precision_top10: 0.5429\n",
      "[cf_callbacks] End epoch 96 of training; got log keys: ['loss', 'precision_top10']\n",
      "Epoch 98/200\n",
      "[cf_callbacks] Start epoch 97 of training; got log keys: []\n",
      "25000/25000 [==============================] - 27s 1ms/step - loss: 0.4957 - precision_top10: 0.5436\n",
      "[cf_callbacks] End epoch 97 of training; got log keys: ['loss', 'precision_top10']\n",
      "Epoch 99/200\n",
      "[cf_callbacks] Start epoch 98 of training; got log keys: []\n",
      "25000/25000 [==============================] - 27s 1ms/step - loss: 0.4954 - precision_top10: 0.5457\n",
      "[cf_callbacks] End epoch 98 of training; got log keys: ['loss', 'precision_top10']\n",
      "Epoch 100/200\n",
      "[cf_callbacks] Start epoch 99 of training; got log keys: []\n",
      "25000/25000 [==============================] - 28s 1ms/step - loss: 0.4949 - precision_top10: 0.5457\n",
      "[cf_callbacks] End epoch 99 of training; got log keys: ['loss', 'precision_top10']\n",
      "Epoch 101/200\n",
      "[cf_callbacks] Start epoch 100 of training; got log keys: []\n",
      "25000/25000 [==============================] - 28s 1ms/step - loss: 0.4942 - precision_top10: 0.5479\n",
      "[cf_callbacks] End epoch 100 of training; got log keys: ['loss', 'precision_top10']\n",
      "Epoch 102/200\n",
      "[cf_callbacks] Start epoch 101 of training; got log keys: []\n",
      "25000/25000 [==============================] - 28s 1ms/step - loss: 0.4942 - precision_top10: 0.5477\n",
      "[cf_callbacks] End epoch 101 of training; got log keys: ['loss', 'precision_top10']\n",
      "Epoch 103/200\n",
      "[cf_callbacks] Start epoch 102 of training; got log keys: []\n",
      "25000/25000 [==============================] - 28s 1ms/step - loss: 0.4936 - precision_top10: 0.5489\n",
      "[cf_callbacks] End epoch 102 of training; got log keys: ['loss', 'precision_top10']\n",
      "Epoch 104/200\n",
      "[cf_callbacks] Start epoch 103 of training; got log keys: []\n",
      "25000/25000 [==============================] - 28s 1ms/step - loss: 0.4929 - precision_top10: 0.5508\n",
      "[cf_callbacks] End epoch 103 of training; got log keys: ['loss', 'precision_top10']\n",
      "Epoch 105/200\n",
      "[cf_callbacks] Start epoch 104 of training; got log keys: []\n",
      "25000/25000 [==============================] - 30s 1ms/step - loss: 0.4928 - precision_top10: 0.5507\n",
      "[cf_callbacks] End epoch 104 of training; got log keys: ['loss', 'precision_top10']\n",
      "Epoch 106/200\n",
      "[cf_callbacks] Start epoch 105 of training; got log keys: []\n",
      "25000/25000 [==============================] - 29s 1ms/step - loss: 0.4924 - precision_top10: 0.5516\n",
      "[cf_callbacks] End epoch 105 of training; got log keys: ['loss', 'precision_top10']\n",
      "Epoch 107/200\n",
      "[cf_callbacks] Start epoch 106 of training; got log keys: []\n",
      "25000/25000 [==============================] - 28s 1ms/step - loss: 0.4918 - precision_top10: 0.5540\n",
      "[cf_callbacks] End epoch 106 of training; got log keys: ['loss', 'precision_top10']\n",
      "Epoch 108/200\n",
      "[cf_callbacks] Start epoch 107 of training; got log keys: []\n",
      "25000/25000 [==============================] - 28s 1ms/step - loss: 0.4912 - precision_top10: 0.5550\n",
      "[cf_callbacks] End epoch 107 of training; got log keys: ['loss', 'precision_top10']\n",
      "Epoch 109/200\n",
      "[cf_callbacks] Start epoch 108 of training; got log keys: []\n",
      "25000/25000 [==============================] - 28s 1ms/step - loss: 0.4915 - precision_top10: 0.5538\n",
      "[cf_callbacks] End epoch 108 of training; got log keys: ['loss', 'precision_top10']\n",
      "Epoch 110/200\n",
      "[cf_callbacks] Start epoch 109 of training; got log keys: []\n",
      "25000/25000 [==============================] - 28s 1ms/step - loss: 0.4912 - precision_top10: 0.5558\n",
      "[cf_callbacks] End epoch 109 of training; got log keys: ['loss', 'precision_top10']\n",
      "Epoch 111/200\n",
      "[cf_callbacks] Start epoch 110 of training; got log keys: []\n",
      "25000/25000 [==============================] - 28s 1ms/step - loss: 0.4906 - precision_top10: 0.5568\n",
      "[cf_callbacks] End epoch 110 of training; got log keys: ['loss', 'precision_top10']\n",
      "Epoch 112/200\n",
      "[cf_callbacks] Start epoch 111 of training; got log keys: []\n",
      "25000/25000 [==============================] - 28s 1ms/step - loss: 0.4900 - precision_top10: 0.5574\n",
      "[cf_callbacks] End epoch 111 of training; got log keys: ['loss', 'precision_top10']\n",
      "Epoch 113/200\n",
      "[cf_callbacks] Start epoch 112 of training; got log keys: []\n",
      "25000/25000 [==============================] - 28s 1ms/step - loss: 0.4900 - precision_top10: 0.5578\n",
      "[cf_callbacks] End epoch 112 of training; got log keys: ['loss', 'precision_top10']\n",
      "Epoch 114/200\n",
      "[cf_callbacks] Start epoch 113 of training; got log keys: []\n",
      "25000/25000 [==============================] - 28s 1ms/step - loss: 0.4899 - precision_top10: 0.5590\n",
      "[cf_callbacks] End epoch 113 of training; got log keys: ['loss', 'precision_top10']\n",
      "Epoch 115/200\n",
      "[cf_callbacks] Start epoch 114 of training; got log keys: []\n",
      "25000/25000 [==============================] - 28s 1ms/step - loss: 0.4892 - precision_top10: 0.5617\n",
      "[cf_callbacks] End epoch 114 of training; got log keys: ['loss', 'precision_top10']\n",
      "Epoch 116/200\n",
      "[cf_callbacks] Start epoch 115 of training; got log keys: []\n",
      "25000/25000 [==============================] - 28s 1ms/step - loss: 0.4892 - precision_top10: 0.5606\n",
      "[cf_callbacks] End epoch 115 of training; got log keys: ['loss', 'precision_top10']\n",
      "Epoch 117/200\n",
      "[cf_callbacks] Start epoch 116 of training; got log keys: []\n",
      "25000/25000 [==============================] - 28s 1ms/step - loss: 0.4880 - precision_top10: 0.5640\n",
      "[cf_callbacks] End epoch 116 of training; got log keys: ['loss', 'precision_top10']\n",
      "Epoch 118/200\n",
      "[cf_callbacks] Start epoch 117 of training; got log keys: []\n",
      "25000/25000 [==============================] - 28s 1ms/step - loss: 0.4878 - precision_top10: 0.5644\n",
      "[cf_callbacks] End epoch 117 of training; got log keys: ['loss', 'precision_top10']\n",
      "Epoch 119/200\n",
      "[cf_callbacks] Start epoch 118 of training; got log keys: []\n",
      "25000/25000 [==============================] - 28s 1ms/step - loss: 0.4873 - precision_top10: 0.5653\n",
      "[cf_callbacks] End epoch 118 of training; got log keys: ['loss', 'precision_top10']\n",
      "Epoch 120/200\n",
      "[cf_callbacks] Start epoch 119 of training; got log keys: []\n",
      "25000/25000 [==============================] - 26s 1ms/step - loss: 0.4879 - precision_top10: 0.5638\n",
      "[cf_callbacks] End epoch 119 of training; got log keys: ['loss', 'precision_top10']\n",
      "Epoch 121/200\n",
      "[cf_callbacks] Start epoch 120 of training; got log keys: []\n",
      "25000/25000 [==============================] - 27s 1ms/step - loss: 0.4875 - precision_top10: 0.5645\n",
      "[cf_callbacks] End epoch 120 of training; got log keys: ['loss', 'precision_top10']\n",
      "Epoch 122/200\n",
      "[cf_callbacks] Start epoch 121 of training; got log keys: []\n",
      "25000/25000 [==============================] - 26s 1ms/step - loss: 0.4868 - precision_top10: 0.5658\n",
      "[cf_callbacks] End epoch 121 of training; got log keys: ['loss', 'precision_top10']\n",
      "Epoch 123/200\n",
      "[cf_callbacks] Start epoch 122 of training; got log keys: []\n",
      "25000/25000 [==============================] - 26s 1ms/step - loss: 0.4867 - precision_top10: 0.5667\n",
      "[cf_callbacks] End epoch 122 of training; got log keys: ['loss', 'precision_top10']\n",
      "Epoch 124/200\n",
      "[cf_callbacks] Start epoch 123 of training; got log keys: []\n",
      "25000/25000 [==============================] - 26s 1ms/step - loss: 0.4864 - precision_top10: 0.5688\n",
      "[cf_callbacks] End epoch 123 of training; got log keys: ['loss', 'precision_top10']\n",
      "Epoch 125/200\n",
      "[cf_callbacks] Start epoch 124 of training; got log keys: []\n",
      "25000/25000 [==============================] - 26s 1ms/step - loss: 0.4861 - precision_top10: 0.5679\n",
      "[cf_callbacks] End epoch 124 of training; got log keys: ['loss', 'precision_top10']\n",
      "Epoch 126/200\n",
      "[cf_callbacks] Start epoch 125 of training; got log keys: []\n",
      "25000/25000 [==============================] - 26s 1ms/step - loss: 0.4853 - precision_top10: 0.5706\n",
      "[cf_callbacks] End epoch 125 of training; got log keys: ['loss', 'precision_top10']\n",
      "Epoch 127/200\n",
      "[cf_callbacks] Start epoch 126 of training; got log keys: []\n",
      "25000/25000 [==============================] - 26s 1ms/step - loss: 0.4854 - precision_top10: 0.5699\n",
      "[cf_callbacks] End epoch 126 of training; got log keys: ['loss', 'precision_top10']\n",
      "Epoch 128/200\n",
      "[cf_callbacks] Start epoch 127 of training; got log keys: []\n",
      "25000/25000 [==============================] - 26s 1ms/step - loss: 0.4856 - precision_top10: 0.5698\n",
      "[cf_callbacks] End epoch 127 of training; got log keys: ['loss', 'precision_top10']\n",
      "Epoch 129/200\n",
      "[cf_callbacks] Start epoch 128 of training; got log keys: []\n",
      "25000/25000 [==============================] - 26s 1ms/step - loss: 0.4852 - precision_top10: 0.5701\n",
      "[cf_callbacks] End epoch 128 of training; got log keys: ['loss', 'precision_top10']\n",
      "Epoch 130/200\n",
      "[cf_callbacks] Start epoch 129 of training; got log keys: []\n",
      "25000/25000 [==============================] - 27s 1ms/step - loss: 0.4841 - precision_top10: 0.5741\n",
      "[cf_callbacks] End epoch 129 of training; got log keys: ['loss', 'precision_top10']\n",
      "Epoch 131/200\n",
      "[cf_callbacks] Start epoch 130 of training; got log keys: []\n",
      "25000/25000 [==============================] - 26s 1ms/step - loss: 0.4840 - precision_top10: 0.5731\n",
      "[cf_callbacks] End epoch 130 of training; got log keys: ['loss', 'precision_top10']\n",
      "Epoch 132/200\n",
      "[cf_callbacks] Start epoch 131 of training; got log keys: []\n",
      "25000/25000 [==============================] - 27s 1ms/step - loss: 0.4836 - precision_top10: 0.5737\n",
      "[cf_callbacks] End epoch 131 of training; got log keys: ['loss', 'precision_top10']\n",
      "Epoch 133/200\n",
      "[cf_callbacks] Start epoch 132 of training; got log keys: []\n",
      "25000/25000 [==============================] - 27s 1ms/step - loss: 0.4838 - precision_top10: 0.5729\n",
      "[cf_callbacks] End epoch 132 of training; got log keys: ['loss', 'precision_top10']\n",
      "Epoch 134/200\n",
      "[cf_callbacks] Start epoch 133 of training; got log keys: []\n",
      "25000/25000 [==============================] - 27s 1ms/step - loss: 0.4828 - precision_top10: 0.5752\n",
      "[cf_callbacks] End epoch 133 of training; got log keys: ['loss', 'precision_top10']\n",
      "Epoch 135/200\n",
      "[cf_callbacks] Start epoch 134 of training; got log keys: []\n",
      "17152/25000 [===================>..........] - ETA: 8s - loss: 0.4833 - precision_top10: 0.5755"
     ]
    }
   ],
   "source": [
    "trainer = Trainer(modelID, datasetID, True); #true will load latest checkpoints\n",
    "\n",
    "# trainer.train(Epochs= 500, BatchSize=32, Callbacks={'per_epoch':5}, Verbose= 1)\n",
    "\n",
    "#save first epoch\n",
    "trainer.train(Epochs= 200, BatchSize=32, Callbacks={'per_epoch': 1, 'csv_logger': 1, 'upload_history': 1, 'custom_callbacks': 'on_epoch_end'}, Verbose= 1)\n",
    "trainer.plt_history()"
   ]
  },
  {
   "cell_type": "code",
   "execution_count": null,
   "metadata": {
    "colab": {},
    "colab_type": "code",
    "id": "y3LKfokmpz0c"
   },
   "outputs": [],
   "source": [
    "trainer._MODEL.load_latest_checkpoihnbnt()\n",
    "#trainer._MODEL._M.summary()"
   ]
  },
  {
   "cell_type": "code",
   "execution_count": null,
   "metadata": {},
   "outputs": [],
   "source": [
    "for key in trainer._INFO['history'].history:\n",
    "    print(\"{0}=>{1}\".format(key, trainer._INFO['history'].history[key]))"
   ]
  },
  {
   "cell_type": "code",
   "execution_count": null,
   "metadata": {},
   "outputs": [],
   "source": [
    "list = {};\n",
    "list['a'] = 'A'\n",
    "list['b'] = {'B': 'BB'}\n",
    "list['b']['B']"
   ]
  },
  {
   "cell_type": "markdown",
   "metadata": {
    "colab": {},
    "colab_type": "code",
    "id": "1fdtwrWapz0g"
   },
   "source": [
    "##### k = Sequential()\n",
    "k.add(LSTM(units=80, activation='relu', return_sequences=True, input_shape=(15,80)) ); #input_shape=(15,80) ));\n",
    "k.add(LSTM(units=160, activation='relu'))\n",
    "k.add(Dense(units=160, activation='relu'));\n",
    "k.add(Dense(80, activation='sigmoid'));\n",
    "k.compile(optimizer='adam', loss='mse', metrics=['accuracy'])\n",
    "k.summary()"
   ]
  },
  {
   "cell_type": "code",
   "execution_count": null,
   "metadata": {
    "colab": {},
    "colab_type": "code",
    "id": "q3G9_KeYpz0j"
   },
   "outputs": [],
   "source": [
    "trainer._MODEL._M = k;\n",
    "trainer.train(Epochs=10, BatchSize=100, Callbacks={'per_epoch':5})\n",
    "\n",
    "#trainer._MODEL._D_X_SHAPE"
   ]
  },
  {
   "cell_type": "code",
   "execution_count": null,
   "metadata": {
    "colab": {},
    "colab_type": "code",
    "id": "asAoOptxW1l_"
   },
   "outputs": [],
   "source": [
    "## Print tree structure of Data folder\n",
    "#!apt-get install tree\n",
    "!tree '../data/keno'"
   ]
  },
  {
   "cell_type": "code",
   "execution_count": null,
   "metadata": {
    "colab": {},
    "colab_type": "code",
    "id": "diG-yLNjpz0q",
    "outputId": "58c88518-37da-476c-bcd1-bdffd21e69a4"
   },
   "outputs": [],
   "source": [
    "dat = Dataset('keno_x15_25k_dr')\n",
    "dat.load()\n",
    "mod = Model('keno.ker.4.1.e0010',dat)\n",
    "mod.load()\n",
    "mod.print_summary()"
   ]
  },
  {
   "cell_type": "markdown",
   "metadata": {
    "colab_type": "text",
    "id": "0DHWdaI7Y3EO"
   },
   "source": [
    "## Training ground"
   ]
  },
  {
   "cell_type": "code",
   "execution_count": null,
   "metadata": {
    "colab": {},
    "colab_type": "code",
    "id": "08Qrou6cY3EP"
   },
   "outputs": [],
   "source": [
    "!python3 '../idataset.py'\n",
    "\n",
    "datasetID = 'keno_x15_100k_dr'\n",
    "\n",
    "d = Dataset(datasetID)\n",
    "d.load();\n",
    "dataset = d._D;"
   ]
  },
  {
   "cell_type": "code",
   "execution_count": null,
   "metadata": {
    "colab": {},
    "colab_type": "code",
    "id": "xaLqYQubY3ET"
   },
   "outputs": [],
   "source": [
    "import keras as kr\n",
    "from keras.models import Sequential\n",
    "from keras.layers import LSTM, Dense\n",
    "\n",
    "!python3 '../imodel.py'\n",
    "!python3 '../ker_model.py'\n",
    "!python3 '../ker_model_loader.py'\n",
    "\n",
    "modelID = 'keno.ker.4.11.0'\n",
    "\n",
    "#Keno.ker.1.1\n",
    "Model = KER_Model(modelID, d);\n",
    "KER_Model_Loader(Model);\n",
    "\n",
    "Model.save_untrained()\n",
    "Model.print_summary();"
   ]
  },
  {
   "cell_type": "code",
   "execution_count": null,
   "metadata": {
    "colab": {},
    "colab_type": "code",
    "id": "NOVlO5n5Y3EW"
   },
   "outputs": [],
   "source": [
    "Model._M.fit(d._D['X'], d._D['Y'], epochs=10, verbose=1)"
   ]
  },
  {
   "cell_type": "code",
   "execution_count": null,
   "metadata": {
    "colab": {},
    "colab_type": "code",
    "id": "Mfj7Bb7EY3EY"
   },
   "outputs": [],
   "source": [
    "kr.get_untrained_folder_path()"
   ]
  },
  {
   "cell_type": "code",
   "execution_count": null,
   "metadata": {
    "colab": {},
    "colab_type": "code",
    "id": "LUoEwr7pY3Ec"
   },
   "outputs": [],
   "source": [
    "%run 'idataset.py'"
   ]
  },
  {
   "cell_type": "code",
   "execution_count": null,
   "metadata": {
    "colab": {},
    "colab_type": "code",
    "id": "RQLASkWFp9FG"
   },
   "outputs": [],
   "source": [
    "cd ../"
   ]
  },
  {
   "cell_type": "code",
   "execution_count": null,
   "metadata": {
    "colab": {},
    "colab_type": "code",
    "id": "tjd-IpKHu0M_"
   },
   "outputs": [],
   "source": [
    "import sys\n",
    "sys.path.append('/content/g_drive/My Drive/Colab/Datascience/ai_lotto')"
   ]
  },
  {
   "cell_type": "code",
   "execution_count": null,
   "metadata": {
    "colab": {},
    "colab_type": "code",
    "id": "3VcDbFOErusT"
   },
   "outputs": [],
   "source": [
    "from idataset import Dataset\n",
    "d = Dataset('keno_x15_2.528m_dr')\n",
    "d._FULL_PATH"
   ]
  },
  {
   "cell_type": "code",
   "execution_count": null,
   "metadata": {
    "colab": {},
    "colab_type": "code",
    "id": "HuW0pgE-pz1M"
   },
   "outputs": [],
   "source": []
  },
  {
   "cell_type": "code",
   "execution_count": null,
   "metadata": {
    "colab": {},
    "colab_type": "code",
    "id": "SDgu4-lEpz1Q"
   },
   "outputs": [],
   "source": []
  }
 ],
 "metadata": {
  "accelerator": "TPU",
  "colab": {
   "machine_shape": "hm",
   "name": "model_trainer.ipynb",
   "provenance": []
  },
  "kernelspec": {
   "display_name": "Python 3",
   "language": "python",
   "name": "python3"
  },
  "language_info": {
   "codemirror_mode": {
    "name": "ipython",
    "version": 3
   },
   "file_extension": ".py",
   "mimetype": "text/x-python",
   "name": "python",
   "nbconvert_exporter": "python",
   "pygments_lexer": "ipython3",
   "version": "3.6.9"
  }
 },
 "nbformat": 4,
 "nbformat_minor": 4
}
