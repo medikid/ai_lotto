{
  "nbformat": 4,
  "nbformat_minor": 0,
  "metadata": {
    "kernelspec": {
      "display_name": "Python 3",
      "language": "python",
      "name": "python3"
    },
    "language_info": {
      "codemirror_mode": {
        "name": "ipython",
        "version": 3
      },
      "file_extension": ".py",
      "mimetype": "text/x-python",
      "name": "python",
      "nbconvert_exporter": "python",
      "pygments_lexer": "ipython3",
      "version": "3.6.9"
    },
    "colab": {
      "name": "model_trainer.ipynb",
      "provenance": [],
      "machine_shape": "hm"
    },
    "accelerator": "TPU"
  },
  "cells": [
    {
      "cell_type": "markdown",
      "metadata": {
        "id": "Qzqpaam_pzzE",
        "colab_type": "text"
      },
      "source": [
        "<a href=\"https://colab.research.google.com/github/medikid/ai_lotto/blob/master/notebooks/model_trainer.ipynb\" target=\"_parent\"><img src=\"https://colab.research.google.com/assets/colab-badge.svg\" alt=\"Open In Colab\"/></a>"
      ]
    },
    {
      "cell_type": "markdown",
      "metadata": {
        "colab_type": "text",
        "id": "_faJdu-MIYpM"
      },
      "source": [
        "## **Initiate Collab Notebook and setup Google Drive**"
      ]
    },
    {
      "cell_type": "markdown",
      "metadata": {
        "colab_type": "text",
        "id": "sBdFdcifYdxv"
      },
      "source": [
        "## Mount Google Drive"
      ]
    },
    {
      "cell_type": "code",
      "metadata": {
        "colab_type": "code",
        "id": "QUZLPAzg_vMn",
        "outputId": "66d38aab-5b3c-482a-e81f-9fa3a512ef8b",
        "colab": {
          "base_uri": "https://localhost:8080/",
          "height": 124
        }
      },
      "source": [
        "#init colab notebooks\n",
        "\n",
        "from google.colab import drive\n",
        "drive.mount('/content/g_drive')"
      ],
      "execution_count": 1,
      "outputs": [
        {
          "output_type": "stream",
          "text": [
            "Go to this URL in a browser: https://accounts.google.com/o/oauth2/auth?client_id=947318989803-6bn6qk8qdgf4n4g3pfee6491hc0brc4i.apps.googleusercontent.com&redirect_uri=urn%3aietf%3awg%3aoauth%3a2.0%3aoob&response_type=code&scope=email%20https%3a%2f%2fwww.googleapis.com%2fauth%2fdocs.test%20https%3a%2f%2fwww.googleapis.com%2fauth%2fdrive%20https%3a%2f%2fwww.googleapis.com%2fauth%2fdrive.photos.readonly%20https%3a%2f%2fwww.googleapis.com%2fauth%2fpeopleapi.readonly\n",
            "\n",
            "Enter your authorization code:\n",
            "··········\n",
            "Mounted at /content/g_drive\n"
          ],
          "name": "stdout"
        }
      ]
    },
    {
      "cell_type": "code",
      "metadata": {
        "colab_type": "code",
        "id": "HSiSJRZsgJ2s",
        "colab": {}
      },
      "source": [
        "from pydrive.auth import GoogleAuth\n",
        "from pydrive.drive import GoogleDrive\n",
        "from google.colab import auth\n",
        "from oauth2client.client import GoogleCredentials\n",
        "\n",
        "auth.authenticate_user()\n",
        "gauth = GoogleAuth()\n",
        "gauth.credentials = GoogleCredentials.get_application_default()\n",
        "drive = GoogleDrive(gauth)"
      ],
      "execution_count": 0,
      "outputs": []
    },
    {
      "cell_type": "code",
      "metadata": {
        "colab_type": "code",
        "id": "1k0iQXOSha1f",
        "colab": {}
      },
      "source": [
        "#!mkdir my_drive\n",
        "!ln -s \"/content/g_drive/My Drive/Colab/Datascience/ai_lotto\" \"/content\""
      ],
      "execution_count": 0,
      "outputs": []
    },
    {
      "cell_type": "code",
      "metadata": {
        "colab_type": "code",
        "id": "_lhfdVWHURF6",
        "outputId": "f45139bf-ec7c-4cd4-f7f7-f175bb2decb0",
        "colab": {
          "base_uri": "https://localhost:8080/",
          "height": 35
        }
      },
      "source": [
        "%cd \"/content/ai_lotto\"\n",
        "\n",
        "import sys\n",
        "sys.path.append('/content/ai_lotto')"
      ],
      "execution_count": 3,
      "outputs": [
        {
          "output_type": "stream",
          "text": [
            "/content/g_drive/My Drive/Colab/Datascience/ai_lotto\n"
          ],
          "name": "stdout"
        }
      ]
    },
    {
      "cell_type": "code",
      "metadata": {
        "id": "r530UEutqIBB",
        "colab_type": "code",
        "colab": {
          "base_uri": "https://localhost:8080/",
          "height": 35
        },
        "outputId": "7109934a-eec1-4642-8c96-e6f0d87f28e8"
      },
      "source": [
        "%cd notebooks/"
      ],
      "execution_count": 4,
      "outputs": [
        {
          "output_type": "stream",
          "text": [
            "/content/g_drive/My Drive/Colab/Datascience/ai_lotto/notebooks\n"
          ],
          "name": "stdout"
        }
      ]
    },
    {
      "cell_type": "code",
      "metadata": {
        "colab_type": "code",
        "id": "enjywhQgZinP",
        "outputId": "ca164619-fdc6-4650-b01f-4c5b7581b60e",
        "colab": {
          "base_uri": "https://localhost:8080/",
          "height": 35
        }
      },
      "source": [
        "pwd"
      ],
      "execution_count": 5,
      "outputs": [
        {
          "output_type": "execute_result",
          "data": {
            "text/plain": [
              "'/content/g_drive/My Drive/Colab/Datascience/ai_lotto/notebooks'"
            ]
          },
          "metadata": {
            "tags": []
          },
          "execution_count": 5
        }
      ]
    },
    {
      "cell_type": "markdown",
      "metadata": {
        "id": "3oixeDY6pzzh",
        "colab_type": "text"
      },
      "source": [
        "# GIthub Functions"
      ]
    },
    {
      "cell_type": "markdown",
      "metadata": {
        "id": "lPoAgspipzzi",
        "colab_type": "text"
      },
      "source": [
        "## Git ADD, COMMIT and PUSH to remote"
      ]
    },
    {
      "cell_type": "code",
      "metadata": {
        "id": "MxORrMbxpzzj",
        "colab_type": "code",
        "colab": {}
      },
      "source": [
        "!git add -A .\n",
        "!git commit -m \"Added git functions\"\n",
        "!git push origin master"
      ],
      "execution_count": 0,
      "outputs": []
    },
    {
      "cell_type": "markdown",
      "metadata": {
        "id": "PTSDkZqTpzzp",
        "colab_type": "text"
      },
      "source": [
        "## Git Pull from remote github repo"
      ]
    },
    {
      "cell_type": "code",
      "metadata": {
        "id": "kads4KiNpzzq",
        "colab_type": "code",
        "colab": {
          "base_uri": "https://localhost:8080/",
          "height": 35
        },
        "outputId": "806b2527-d8da-44d0-ed79-2151692f1962"
      },
      "source": [
        "!git pull"
      ],
      "execution_count": 9,
      "outputs": [
        {
          "output_type": "stream",
          "text": [
            "Already up to date.\n"
          ],
          "name": "stdout"
        }
      ]
    },
    {
      "cell_type": "markdown",
      "metadata": {
        "id": "_9LGmmy0pzzv",
        "colab_type": "text"
      },
      "source": [
        "## Git conflict local - so reset local to match remote"
      ]
    },
    {
      "cell_type": "code",
      "metadata": {
        "id": "w4ogIOktpzzw",
        "colab_type": "code",
        "colab": {}
      },
      "source": [
        "!git fetch --all\n",
        "!git reset --hard origin/master\n",
        "!git pull"
      ],
      "execution_count": 0,
      "outputs": []
    },
    {
      "cell_type": "markdown",
      "metadata": {
        "id": "kaRhCiXWpzz0",
        "colab_type": "text"
      },
      "source": [
        "## Unpushed local changes - Stash local, Pull Remote and write local changes to pulled remote"
      ]
    },
    {
      "cell_type": "code",
      "metadata": {
        "id": "JF_Mvzh2pzz1",
        "colab_type": "code",
        "colab": {}
      },
      "source": [
        "!git stash\n",
        "!git pull\n",
        "!git stash pop"
      ],
      "execution_count": 0,
      "outputs": []
    },
    {
      "cell_type": "markdown",
      "metadata": {
        "id": "nMLT0utQpzz6",
        "colab_type": "text"
      },
      "source": [
        "## Setup git config repo"
      ]
    },
    {
      "cell_type": "code",
      "metadata": {
        "id": "_YqFc8H7pzz7",
        "colab_type": "code",
        "colab": {}
      },
      "source": [
        "#!git config --global user.email \"soma.programmer@gmail.com\"\n",
        "#!git config --global user.name \"medikid\"\n",
        "\n",
        "#!git remote set-url origin https://github.com/medikid/ai_lotto.git\n"
      ],
      "execution_count": 0,
      "outputs": []
    },
    {
      "cell_type": "code",
      "metadata": {
        "id": "uQR0184Opzz_",
        "colab_type": "code",
        "colab": {}
      },
      "source": [
        "!git remote show origin"
      ],
      "execution_count": 0,
      "outputs": []
    },
    {
      "cell_type": "markdown",
      "metadata": {
        "colab_type": "text",
        "id": "ZTGj4TiYA56S"
      },
      "source": [
        "# lists all classes in the order of loading"
      ]
    },
    {
      "cell_type": "code",
      "metadata": {
        "colab_type": "code",
        "id": "uPJSKlxjTq7h",
        "colab": {}
      },
      "source": [
        "!pip install -r ../requirements.txt"
      ],
      "execution_count": 0,
      "outputs": []
    },
    {
      "cell_type": "code",
      "metadata": {
        "id": "HQ96r5CZpz0J",
        "colab_type": "code",
        "colab": {
          "base_uri": "https://localhost:8080/",
          "height": 89
        },
        "outputId": "04d9d320-a639-4d0d-c69e-0d6f48ae1b0d"
      },
      "source": [
        "# %load '../load_lib.py'\n",
        "\n",
        "%run '../ifile.py'\n",
        "%run '../idata.py'\n",
        "%run '../idataset.py'\n",
        "%run '../imodel.py'\n",
        "%run '../ker_model.py'\n",
        "%run '../ker_model_loader.py'\n",
        "%run '../tfl_model.py'\n",
        "%run '../ai.py'\n",
        "%run '../itrainer.py'\n"
      ],
      "execution_count": 6,
      "outputs": [
        {
          "output_type": "stream",
          "text": [
            "/usr/local/lib/python3.6/dist-packages/statsmodels/tools/_testing.py:19: FutureWarning: pandas.util.testing is deprecated. Use the functions in the public API at pandas.testing instead.\n",
            "  import pandas.util.testing as tm\n",
            "Using TensorFlow backend.\n"
          ],
          "name": "stderr"
        }
      ]
    },
    {
      "cell_type": "code",
      "metadata": {
        "id": "7RX-fWSopz0P",
        "colab_type": "code",
        "colab": {}
      },
      "source": [
        "%cd '..'\n",
        "\n",
        "from ifile import iFile\n",
        "from idata import Data\n",
        "from idataset import Dataset\n",
        "from imodel import Model\n",
        "from ker_model import KER_Model\n",
        "from ker_model_loader import KER_Model_Loader\n",
        "from tfl_model import TFL_Model\n",
        "from ai import AI\n",
        "from itrainer import Trainer\n",
        "\n",
        "%cd 'notebooks'"
      ],
      "execution_count": 0,
      "outputs": []
    },
    {
      "cell_type": "markdown",
      "metadata": {
        "colab_type": "text",
        "id": "EDGSqErkA57E"
      },
      "source": [
        "## Dataset Prep"
      ]
    },
    {
      "cell_type": "code",
      "metadata": {
        "colab_type": "code",
        "id": "pX9l2CT3A57K",
        "colab": {
          "base_uri": "https://localhost:8080/",
          "height": 52
        },
        "outputId": "0533f252-5a44-4ce4-bf16-cd65ba1804bc"
      },
      "source": [
        "import keras as kr\n",
        "from keras.models import Sequential\n",
        "from keras.layers import LSTM, Dense\n",
        "\n",
        "#----------------------------------------------------\n",
        "_GAME = 'keno';  \n",
        "_xnINPUTS='x15'; _xnDRAWS='25k'; _DATA_TYPE = 'dr'; \n",
        "_API = 'ker'; _BUILD = '4'; _MAKE = '1' ; _VERSION='1';\n",
        "\n",
        "datasetID = \"{0}_{1}_{2}_{3}\".format(_GAME,_xnINPUTS,_xnDRAWS,_DATA_TYPE)\n",
        "modelID = \"{0}.{1}.{2}.{3}.{4}\".format(_GAME,_API,_BUILD,_MAKE,_VERSION)\n",
        "#------------------------------------------------------------\n",
        "\n",
        "print(\"Dataset ID: {0}\".format(datasetID))\n",
        "print(\"Model ID: {0}\".format(modelID))"
      ],
      "execution_count": 7,
      "outputs": [
        {
          "output_type": "stream",
          "text": [
            "Dataset ID: keno_x15_25k_dr\n",
            "Model ID: keno.ker.4.1.1\n"
          ],
          "name": "stdout"
        }
      ]
    },
    {
      "cell_type": "code",
      "metadata": {
        "id": "ipSXZSs1pz0Y",
        "colab_type": "code",
        "colab": {
          "base_uri": "https://localhost:8080/",
          "height": 765
        },
        "outputId": "5bffefef-c1b3-4c2e-94e0-3127e731d284"
      },
      "source": [
        "trainer = Trainer(modelID, datasetID);\n",
        "# trainer._DATASET.load()\n",
        "# trainer._MODEL.load()\n",
        "# trainer._MODEL._M.compile(optimizer='adam', loss='mse', metrics=['accuracy'])\n",
        "#trainer.set_callbacks(callbacks_list)\n",
        "# trainer._MODEL.print_summary()\n",
        "\n",
        "# trainer._MODEL._M.build()\n",
        "trainer.train(Epochs=10, BatchSize=100, Callbacks={'per_epoch':5}, Verbose=1)\n"
      ],
      "execution_count": 8,
      "outputs": [
        {
          "output_type": "stream",
          "text": [
            "xndraw25k, new_st25.0, multiple1000, notationk\n",
            "[iFile:__init__]\n",
            "xndraw25k, new_st25.0, multiple1000, notationk\n",
            "[iFile:derive_game_path]data/keno/\n",
            "[iFile:derive_folder_path] data/keno/x15/25k/\n",
            "[iDataset:derive_file_path] datasets/keno_x15_25k_dr.npz\n",
            "[ifile:derive_full_path] ../data/keno/x15/25k/datasets/keno_x15_25k_dr.npz\n",
            "Loading dataset ../data/keno/x15/25k/datasets/keno_x15_25k_dr.npz\n",
            "[iModel:decipher_file_name]\n",
            "[iModel:set_decipher_info] {'GAME': 'keno', 'xnINPUTS': 'x15', 'nINPUTS': 15, 'xnDRAWS': '25k', 'nDRAWS': 25000, 'DATA_TYPE': 'dr', 'API': 'ker', 'BUILD': '4', 'MAKE': '1', 'VERSION': '1', 'IS_CHECKPOINT': False, 'CHECKPOINT_EPOCH': 0}\n",
            "[iFile:__init__]\n",
            "[iModel:decipher_file_name]\n",
            "[iModel:set_decipher_info] {'GAME': 'keno', 'xnINPUTS': 'x15', 'nINPUTS': 15, 'xnDRAWS': '25k', 'nDRAWS': 25000, 'DATA_TYPE': 'dr', 'API': 'ker', 'BUILD': '4', 'MAKE': '1', 'VERSION': '1', 'IS_CHECKPOINT': False, 'CHECKPOINT_EPOCH': 0}\n",
            "[iModel:derive_file_path] models/ker/4/1/keno.ker.4.1.1.h5\n",
            "[iFile:derive_game_path]data/keno/\n",
            "[ifile:derive_full_path] ../data/keno/x15/25k/models/ker/4/1/keno.ker.4.1.1.h5\n",
            "[iModel:derive_checkpoints_folder] Ensured ../data/keno/x15/25k/models/ker/4/1/checkpoints/\n",
            "[iModel:__init__\n",
            "[Model:loader] converted Model to KER_Model\n",
            "[KER_Model:load]: Loading ../data/keno/x15/25k/models/ker/4/1/keno.ker.4.1.1.h5\n",
            "[KER_Model_loader: loaded build 4]\n",
            "[iModel:derive_checkpoints_folder] Ensured ../data/keno/x15/25k/models/ker/4/1/checkpoints/\n",
            "Epoch 1/10\n",
            "25000/25000 [==============================] - 16s 629us/step - loss: 0.1904 - accuracy: 0.0185\n",
            "Epoch 2/10\n",
            "25000/25000 [==============================] - 17s 664us/step - loss: 0.1877 - accuracy: 0.0214\n",
            "Epoch 3/10\n",
            "25000/25000 [==============================] - 15s 601us/step - loss: 0.1876 - accuracy: 0.0195\n",
            "Epoch 4/10\n",
            "25000/25000 [==============================] - 15s 610us/step - loss: 0.1876 - accuracy: 0.0170\n",
            "Epoch 5/10\n",
            "25000/25000 [==============================] - 15s 611us/step - loss: 0.1876 - accuracy: 0.0139\n",
            "Epoch 6/10\n",
            "25000/25000 [==============================] - 15s 616us/step - loss: 0.1876 - accuracy: 0.0132\n",
            "Epoch 7/10\n",
            "25000/25000 [==============================] - 15s 611us/step - loss: 0.1876 - accuracy: 0.0126\n",
            "Epoch 8/10\n",
            "25000/25000 [==============================] - 15s 616us/step - loss: 0.1875 - accuracy: 0.0124\n",
            "Epoch 9/10\n",
            "25000/25000 [==============================] - 15s 615us/step - loss: 0.1875 - accuracy: 0.0140\n",
            "Epoch 10/10\n",
            "25000/25000 [==============================] - 16s 623us/step - loss: 0.1874 - accuracy: 0.0166\n"
          ],
          "name": "stdout"
        }
      ]
    },
    {
      "cell_type": "code",
      "metadata": {
        "id": "y3LKfokmpz0c",
        "colab_type": "code",
        "colab": {}
      },
      "source": [
        "trainer._MODEL.load()\n",
        "#trainer._MODEL._M.summary()"
      ],
      "execution_count": 0,
      "outputs": []
    },
    {
      "cell_type": "code",
      "metadata": {
        "id": "1fdtwrWapz0g",
        "colab_type": "code",
        "colab": {}
      },
      "source": [
        "k = Sequential()\n",
        "k.add(LSTM(units=80, activation='relu', return_sequences=True, input_shape=(15,80)) ); #input_shape=(15,80) ));\n",
        "k.add(LSTM(units=160, activation='relu'))\n",
        "k.add(Dense(units=160, activation='relu'));\n",
        "k.add(Dense(80, activation='sigmoid'));\n",
        "k.compile(optimizer='adam', loss='mse', metrics=['accuracy'])\n",
        "k.summary()"
      ],
      "execution_count": 0,
      "outputs": []
    },
    {
      "cell_type": "code",
      "metadata": {
        "id": "q3G9_KeYpz0j",
        "colab_type": "code",
        "colab": {}
      },
      "source": [
        "trainer._MODEL._M = k;\n",
        "trainer.train(Epochs=10, BatchSize=100, Callbacks={'per_epoch':5})\n",
        "\n",
        "#trainer._MODEL._D_X_SHAPE"
      ],
      "execution_count": 0,
      "outputs": []
    },
    {
      "cell_type": "code",
      "metadata": {
        "colab_type": "code",
        "id": "asAoOptxW1l_",
        "colab": {}
      },
      "source": [
        "## Print tree structure of Data folder\n",
        "#!apt-get install tree\n",
        "!tree '../data/keno'"
      ],
      "execution_count": 0,
      "outputs": []
    },
    {
      "cell_type": "code",
      "metadata": {
        "id": "diG-yLNjpz0q",
        "colab_type": "code",
        "colab": {},
        "outputId": "58c88518-37da-476c-bcd1-bdffd21e69a4"
      },
      "source": [
        "dat = Dataset('keno_x15_25k_dr')\n",
        "dat.load()\n",
        "mod = Model('keno.ker.4.1.e0010',dat)\n",
        "mod.load()\n",
        "mod.print_summary()"
      ],
      "execution_count": 0,
      "outputs": [
        {
          "output_type": "stream",
          "text": [
            "xndraw25k, new_st25.0, multiple1000, notationk\n",
            "[iFile:__init__]\n",
            "xndraw25k, new_st25.0, multiple1000, notationk\n",
            "[iFile:derive_game_path]data/keno/\n",
            "[iFile:derive_folder_path] data/keno/x15/25k/\n",
            "[iDataset:derive_file_path] datasets/keno_x15_25k_dr.npz\n",
            "[ifile:derive_full_path] ../data/keno/x15/25k/datasets/keno_x15_25k_dr.npz\n",
            "Loading dataset ../data/keno/x15/25k/datasets/keno_x15_25k_dr.npz\n",
            "[iModel:decipher_file_name]\n",
            "[iModel:set_decipher_info] {'GAME': 'keno', 'xnINPUTS': 'x15', 'nINPUTS': 15, 'xnDRAWS': '25k', 'nDRAWS': 25000, 'DATA_TYPE': 'dr', 'API': 'ker', 'BUILD': '4', 'MAKE': '1', 'VERSION': 'e0010', 'IS_CHECKPOINT': True, 'CHECKPOINT_EPOCH': 10}\n",
            "[iFile:__init__]\n",
            "[iModel:decipher_file_name]\n",
            "[iModel:set_decipher_info] {'GAME': 'keno', 'xnINPUTS': 'x15', 'nINPUTS': 15, 'xnDRAWS': '25k', 'nDRAWS': 25000, 'DATA_TYPE': 'dr', 'API': 'ker', 'BUILD': '4', 'MAKE': '1', 'VERSION': 'e0010', 'IS_CHECKPOINT': True, 'CHECKPOINT_EPOCH': 10}\n",
            "[iModel:derive_file_path] models/ker/4/1/keno.ker.4.1.e0010.h5\n",
            "[iFile:derive_game_path]data/keno/\n",
            "[ifile:derive_full_path] ../data/keno/x15/25k/models/ker/4/1/keno.ker.4.1.e0010.h5\n",
            "[iModel:derive_checkpoints_folder] Ensured ../data/keno/x15/25k/models/ker/4/1/checkpoints/\n",
            "[iModel:__init__\n",
            "[Model:loader] converted Model to KER_Model\n",
            "[KER_Model:load]: Loading ../data/keno/x15/25k/models/ker/4/1/keno.ker.4.1.e0010.h5\n",
            "[KER_Model:load_checkpoint] Loaded ../data/keno/x15/25k/models/ker/4/1/checkpoints/keno.ker.4.1.e0010.h5\n",
            "Model: \"sequential_2\"\n",
            "_________________________________________________________________\n",
            "Layer (type)                 Output Shape              Param #   \n",
            "=================================================================\n",
            "lstm_3 (LSTM)                (None, 15, 80)            51520     \n",
            "_________________________________________________________________\n",
            "lstm_4 (LSTM)                (None, 160)               154240    \n",
            "_________________________________________________________________\n",
            "dense_3 (Dense)              (None, 160)               25760     \n",
            "_________________________________________________________________\n",
            "dense_4 (Dense)              (None, 80)                12880     \n",
            "=================================================================\n",
            "Total params: 244,400\n",
            "Trainable params: 244,400\n",
            "Non-trainable params: 0\n",
            "_________________________________________________________________\n",
            "None\n"
          ],
          "name": "stdout"
        }
      ]
    },
    {
      "cell_type": "markdown",
      "metadata": {
        "colab_type": "text",
        "id": "0DHWdaI7Y3EO"
      },
      "source": [
        "## Training ground"
      ]
    },
    {
      "cell_type": "code",
      "metadata": {
        "colab_type": "code",
        "id": "08Qrou6cY3EP",
        "colab": {}
      },
      "source": [
        "!python3 '../idataset.py'\n",
        "\n",
        "datasetID = 'keno_x15_100k_dr'\n",
        "\n",
        "d = Dataset(datasetID)\n",
        "d.load();\n",
        "dataset = d._D;"
      ],
      "execution_count": 0,
      "outputs": []
    },
    {
      "cell_type": "code",
      "metadata": {
        "colab_type": "code",
        "id": "xaLqYQubY3ET",
        "colab": {}
      },
      "source": [
        "!python3 '../imodel.py'\n",
        "!python3 '../ker_model.py'\n",
        "\n",
        "modelID = 'keno.ker.2.1'\n",
        "\n",
        "\n",
        "#Keno.ker.1.1\n",
        "k = KER_Model(modelID, d);\n",
        "k._M = Sequential()\n",
        "k._M.add(LSTM(units=100, activation='relu', input_shape=(dataset['X'].shape[1], dataset['X'].shape[2]) , return_sequences=True ));\n",
        "k._M.add(LSTM(units=100, activation='relu'))\n",
        "k._M.add(Dense(dataset['Y'].shape[1]));\n",
        "k._M.compile(optimizer='adam', loss='mse', metrics=['accuracy'])\n",
        "\n",
        "k.save_untrained();\n",
        "k.print_summary();"
      ],
      "execution_count": 0,
      "outputs": []
    },
    {
      "cell_type": "code",
      "metadata": {
        "colab_type": "code",
        "id": "NOVlO5n5Y3EW",
        "colab": {}
      },
      "source": [
        "!python3 '../imodel.py'\n",
        "!python3 '../ker_model.py'\n",
        "\n",
        "modelID = 'keno.ker.2.1'\n",
        "kr = KER_Model(modelID, d);\n",
        "kr.load_untrained();\n",
        "kr.print_summary()"
      ],
      "execution_count": 0,
      "outputs": []
    },
    {
      "cell_type": "code",
      "metadata": {
        "colab_type": "code",
        "id": "Mfj7Bb7EY3EY",
        "colab": {}
      },
      "source": [
        "kr.get_untrained_folder_path()"
      ],
      "execution_count": 0,
      "outputs": []
    },
    {
      "cell_type": "code",
      "metadata": {
        "colab_type": "code",
        "id": "LUoEwr7pY3Ec",
        "colab": {}
      },
      "source": [
        "%run 'idataset.py'"
      ],
      "execution_count": 0,
      "outputs": []
    },
    {
      "cell_type": "code",
      "metadata": {
        "colab_type": "code",
        "id": "RQLASkWFp9FG",
        "colab": {}
      },
      "source": [
        "cd ../"
      ],
      "execution_count": 0,
      "outputs": []
    },
    {
      "cell_type": "code",
      "metadata": {
        "colab_type": "code",
        "id": "tjd-IpKHu0M_",
        "colab": {}
      },
      "source": [
        "import sys\n",
        "sys.path.append('/content/g_drive/My Drive/Colab/Datascience/ai_lotto')"
      ],
      "execution_count": 0,
      "outputs": []
    },
    {
      "cell_type": "code",
      "metadata": {
        "colab_type": "code",
        "id": "3VcDbFOErusT",
        "colab": {}
      },
      "source": [
        "from idataset import Dataset\n",
        "d = Dataset('keno_x15_2.528m_dr')\n",
        "d._FULL_PATH"
      ],
      "execution_count": 0,
      "outputs": []
    },
    {
      "cell_type": "code",
      "metadata": {
        "id": "HuW0pgE-pz1M",
        "colab_type": "code",
        "colab": {}
      },
      "source": [
        ""
      ],
      "execution_count": 0,
      "outputs": []
    },
    {
      "cell_type": "code",
      "metadata": {
        "id": "SDgu4-lEpz1Q",
        "colab_type": "code",
        "colab": {}
      },
      "source": [
        ""
      ],
      "execution_count": 0,
      "outputs": []
    }
  ]
}