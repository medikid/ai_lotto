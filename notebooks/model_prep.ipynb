{
 "cells": [
  {
   "cell_type": "markdown",
   "metadata": {
    "colab_type": "text",
    "id": "view-in-github"
   },
   "source": [
    "<a href=\"https://colab.research.google.com/github/medikid/ai_lotto/blob/master/notebooks/model_prep.ipynb\" target=\"_parent\"><img src=\"https://colab.research.google.com/assets/colab-badge.svg\" alt=\"Open In Colab\"/></a>"
   ]
  },
  {
   "cell_type": "markdown",
   "metadata": {
    "colab_type": "text",
    "id": "OTDrhfBtnhDA"
   },
   "source": [
    "# Prepare models and save"
   ]
  },
  {
   "cell_type": "code",
   "execution_count": null,
   "metadata": {
    "colab": {
     "base_uri": "https://localhost:8080/",
     "height": 122
    },
    "colab_type": "code",
    "id": "LcC9k8pL69mG",
    "outputId": "070effca-e255-4469-96c0-a7f1944781f1"
   },
   "outputs": [],
   "source": [
    "from google.colab import drive\n",
    "drive.mount('/content/drive')"
   ]
  },
  {
   "cell_type": "code",
   "execution_count": null,
   "metadata": {
    "colab": {
     "base_uri": "https://localhost:8080/",
     "height": 34
    },
    "colab_type": "code",
    "id": "SRxlVqEY6s3N",
    "outputId": "52c74e00-0028-4806-864e-83d8f8c29020"
   },
   "outputs": [],
   "source": [
    "cd 'drive/My Drive/Colab/Datascience/ai_lotto'"
   ]
  },
  {
   "cell_type": "code",
   "execution_count": null,
   "metadata": {
    "colab": {
     "base_uri": "https://localhost:8080/",
     "height": 35
    },
    "colab_type": "code",
    "id": "eGwTkm9J7XKg",
    "outputId": "eeabd1c1-0d74-43e6-e6c5-81abd45135ef"
   },
   "outputs": [],
   "source": [
    "pwd"
   ]
  },
  {
   "cell_type": "code",
   "execution_count": null,
   "metadata": {
    "colab": {
     "base_uri": "https://localhost:8080/",
     "height": 88
    },
    "colab_type": "code",
    "id": "0kFA2UntnhDC",
    "outputId": "9848360b-c910-4397-a86d-48da0783614a"
   },
   "outputs": [],
   "source": [
    "# !python3 '../idataset.py'\n",
    "# !python3 '../imodel.py'\n",
    "# !python3 '../ker_model.py'\n",
    "# !python3 '../tfl_model.py'\n",
    "from idataset import Dataset\n",
    "from imodel import Model\n",
    "from ker_model import KER_Model\n",
    "from tfl_model import TFL_Model\n",
    "\n",
    "import keras as kr\n",
    "from keras.models import Sequential\n",
    "from keras.layers import LSTM, Dense"
   ]
  },
  {
   "cell_type": "code",
   "execution_count": null,
   "metadata": {
    "colab": {
     "base_uri": "https://localhost:8080/",
     "height": 34
    },
    "colab_type": "code",
    "id": "tPUDnV7a4AT2",
    "outputId": "b1acfc36-f556-471f-9647-c8d4a1e99c57"
   },
   "outputs": [],
   "source": [
    "cd 'notebooks'"
   ]
  },
  {
   "cell_type": "markdown",
   "metadata": {
    "colab_type": "text",
    "id": "bjRdSSIgnhDI"
   },
   "source": [
    "# KERAS Models"
   ]
  },
  {
   "cell_type": "code",
   "execution_count": null,
   "metadata": {
    "colab": {
     "base_uri": "https://localhost:8080/",
     "height": 52
    },
    "colab_type": "code",
    "id": "ffNuclnT5QhG",
    "outputId": "4a9af07f-41f4-4288-9dd1-2c727d6a79ab"
   },
   "outputs": [],
   "source": [
    "cd notebooks"
   ]
  },
  {
   "cell_type": "code",
   "execution_count": null,
   "metadata": {
    "colab": {
     "base_uri": "https://localhost:8080/",
     "height": 153
    },
    "colab_type": "code",
    "id": "4s55W337nhDJ",
    "outputId": "abdc5e73-5390-4b88-a68d-03049649de79"
   },
   "outputs": [],
   "source": [
    "d = Dataset('keno_x15_2.528m_dr')\n",
    "d.load();\n",
    "dataset = d._D;"
   ]
  },
  {
   "cell_type": "code",
   "execution_count": null,
   "metadata": {
    "colab": {
     "base_uri": "https://localhost:8080/",
     "height": 34
    },
    "colab_type": "code",
    "id": "HcRvqCLgnhDP",
    "outputId": "fdf5ccaf-d81a-4181-cc37-be49108e7252"
   },
   "outputs": [],
   "source": [
    "dataset['Y'].shape"
   ]
  },
  {
   "cell_type": "code",
   "execution_count": null,
   "metadata": {
    "colab": {
     "base_uri": "https://localhost:8080/",
     "height": 598
    },
    "colab_type": "code",
    "id": "Du1xE3tpnhDU",
    "outputId": "17a49b1a-f618-4c54-a9ac-43c161316c18"
   },
   "outputs": [],
   "source": [
    "#Keno.ker.1.1\n",
    "k11 = KER_Model('keno.ker.1.1', d);\n",
    "k11._M = Sequential()\n",
    "k11._M.add(LSTM(units=100, activation='relu', input_shape=(dataset['X'].shape[1], dataset['X'].shape[2]) , return_sequences=True ));\n",
    "k11._M.add(LSTM(units=100, activation='relu'))\n",
    "k11._M.add(Dense(dataset['Y'].shape[1]));\n",
    "k11._M.compile(optimizer='adam', loss='mse', metrics=['accuracy'])\n",
    "k11.save_untrained();\n",
    "\n",
    "# k.train(dataset['X'], dataset['Y'], epochs=10, batch_size=256)\n",
    "# k.save()"
   ]
  },
  {
   "cell_type": "code",
   "execution_count": null,
   "metadata": {
    "colab": {},
    "colab_type": "code",
    "id": "eoPSZaUInhDZ"
   },
   "outputs": [],
   "source": [
    "#Keno.ker.2.1\n",
    "k21 = KER_Model('keno.ker.2.1', d);\n",
    "k21._M = Sequential()\n",
    "k21._M.add(LSTM(units=100, activation='relu', input_shape=(dataset['X'].shape[1], dataset['X'].shape[2]) , return_sequences=True ));\n",
    "k21._M.add(LSTM(units=100, activation='relu'))\n",
    "k21._M.add(Dense(dataset['Y'].shape[1]));\n",
    "k21._M.compile(optimizer='adam', loss='mse', metrics=['accuracy'])\n",
    "k21.save_untrained();\n",
    "\n",
    "# k21.train(dataset['X'], dataset['Y'], epochs=10, batch_size=256)\n",
    "# k21.save()\n"
   ]
  },
  {
   "cell_type": "code",
   "execution_count": null,
   "metadata": {
    "colab": {
     "base_uri": "https://localhost:8080/",
     "height": 257
    },
    "colab_type": "code",
    "id": "HSzm4bfhnhDe",
    "outputId": "b04b3bd6-ac9f-472c-94c0-d427948d507c"
   },
   "outputs": [],
   "source": [
    "#Keno.ker.3.1\n",
    "k31 = KER_Model('keno.ker.3.1', d);\n",
    "k31._M = Sequential()\n",
    "k31._M.add(LSTM(units=80, activation='relu', input_shape=(dataset['X'].shape[1], dataset['X'].shape[2]) , return_sequences=True ));\n",
    "k31._M.add(LSTM(units=160, activation='relu'))\n",
    "k31._M.add(Dense(units=160, activation='relu'));\n",
    "k31._M.add(Dense(dataset['Y'].shape[1]));\n",
    "k31._M.compile(optimizer='adam', loss='mse', metrics=['accuracy'])\n",
    "k31.save_untrained();\n",
    "\n",
    "# k31.train(dataset['X'], dataset['Y'], epochs=10, batch_size=256)\n",
    "# k31.save()"
   ]
  },
  {
   "cell_type": "code",
   "execution_count": null,
   "metadata": {
    "colab": {
     "base_uri": "https://localhost:8080/",
     "height": 257
    },
    "colab_type": "code",
    "id": "2DdzbDrN3xLy",
    "outputId": "9c6fc9f1-49cb-4660-e768-a0d677241030"
   },
   "outputs": [],
   "source": [
    "#Keno.ker.4.1\n",
    "k41 = KER_Model('keno.ker.4.1', d);\n",
    "k41._M = Sequential()\n",
    "k41._M.add(LSTM(units=80, activation='relu', input_shape=(dataset['X'].shape[1], dataset['X'].shape[2]) , return_sequences=True ));\n",
    "k41._M.add(LSTM(units=160, activation='relu'))\n",
    "k41._M.add(Dense(units=160, activation='relu'));\n",
    "k41._M.add(Dense(dataset['Y'].shape[1], activation='sigmoid'));\n",
    "k41._M.compile(optimizer='adam', loss='mse', metrics=['accuracy'])\n",
    "k41.save_untrained();\n",
    "\n",
    "k41.train(dataset['X'], dataset['Y'], epochs=10, batch_size=256))\n",
    "k41.save()"
   ]
  }
 ],
 "metadata": {
  "accelerator": "TPU",
  "colab": {
   "include_colab_link": true,
   "machine_shape": "hm",
   "name": "model_prep.ipynb",
   "provenance": []
  },
  "kernelspec": {
   "display_name": "Python 3",
   "language": "python",
   "name": "python3"
  },
  "language_info": {
   "codemirror_mode": {
    "name": "ipython",
    "version": 3
   },
   "file_extension": ".py",
   "mimetype": "text/x-python",
   "name": "python",
   "nbconvert_exporter": "python",
   "pygments_lexer": "ipython3",
   "version": "3.6.9"
  }
 },
 "nbformat": 4,
 "nbformat_minor": 4
}
