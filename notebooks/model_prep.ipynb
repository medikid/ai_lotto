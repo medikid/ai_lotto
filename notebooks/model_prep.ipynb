{
 "cells": [
  {
   "cell_type": "markdown",
   "metadata": {
    "colab_type": "text",
    "id": "view-in-github"
   },
   "source": [
    "<a href=\"https://colab.research.google.com/github/medikid/ai_lotto/blob/master/notebooks/model_prep.ipynb\" target=\"_parent\"><img src=\"https://colab.research.google.com/assets/colab-badge.svg\" alt=\"Open In Colab\"/></a>"
   ]
  },
  {
   "cell_type": "markdown",
   "metadata": {
    "colab_type": "text",
    "id": "OTDrhfBtnhDA"
   },
   "source": [
    "# Prepare models and save"
   ]
  },
  {
   "cell_type": "code",
   "execution_count": null,
   "metadata": {
    "colab": {
     "base_uri": "https://localhost:8080/",
     "height": 122
    },
    "colab_type": "code",
    "id": "LcC9k8pL69mG",
    "outputId": "070effca-e255-4469-96c0-a7f1944781f1"
   },
   "outputs": [],
   "source": [
    "from google.colab import drive\n",
    "drive.mount('/content/drive')"
   ]
  },
  {
   "cell_type": "code",
   "execution_count": null,
   "metadata": {
    "colab": {
     "base_uri": "https://localhost:8080/",
     "height": 34
    },
    "colab_type": "code",
    "id": "SRxlVqEY6s3N",
    "outputId": "52c74e00-0028-4806-864e-83d8f8c29020"
   },
   "outputs": [],
   "source": [
    "cd 'drive/My Drive/Colab/Datascience/ai_lotto'"
   ]
  },
  {
   "cell_type": "code",
   "execution_count": null,
   "metadata": {
    "colab": {
     "base_uri": "https://localhost:8080/",
     "height": 35
    },
    "colab_type": "code",
    "id": "eGwTkm9J7XKg",
    "outputId": "eeabd1c1-0d74-43e6-e6c5-81abd45135ef"
   },
   "outputs": [],
   "source": [
    "pwd"
   ]
  },
  {
   "cell_type": "code",
   "execution_count": 4,
   "metadata": {
    "colab": {
     "base_uri": "https://localhost:8080/",
     "height": 88
    },
    "colab_type": "code",
    "id": "0kFA2UntnhDC",
    "outputId": "9848360b-c910-4397-a86d-48da0783614a"
   },
   "outputs": [],
   "source": [
    "# %load '../load_lib.py'\n",
    "\n",
    "%run '../ifile.py'\n",
    "%run '../idata.py'\n",
    "%run '../idataset.py'\n",
    "%run '../imodel.py'\n",
    "%run '../ker_model.py'\n",
    "%run '../ker_model_loader.py'\n",
    "%run '../tfl_model.py'\n",
    "%run '../ai.py'\n",
    "%run '../itrainer.py'\n",
    "%run '../custom_functions.py'\n",
    "\n",
    "import keras as kr\n",
    "from keras.models import Sequential\n",
    "from keras.layers import LSTM, Dense"
   ]
  },
  {
   "cell_type": "markdown",
   "metadata": {
    "colab_type": "text",
    "id": "bjRdSSIgnhDI"
   },
   "source": [
    "# KERAS Models"
   ]
  },
  {
   "cell_type": "code",
   "execution_count": 5,
   "metadata": {
    "colab": {
     "base_uri": "https://localhost:8080/",
     "height": 153
    },
    "colab_type": "code",
    "id": "4s55W337nhDJ",
    "outputId": "abdc5e73-5390-4b88-a68d-03049649de79"
   },
   "outputs": [
    {
     "name": "stdout",
     "output_type": "stream",
     "text": [
      "xndraw100k, new_st100.0, multiple1000, notationk\n",
      "[iFile:__init__]\n",
      "xndraw100k, new_st100.0, multiple1000, notationk\n",
      "[iFile:derive_game_path]data/keno/\n",
      "[iFile:derive_folder_path] data/keno/x15/100k/\n",
      "[iDataset:derive_file_path] datasets/keno_x15_100k_dr.npz\n",
      "[ifile:derive_full_path] ../data/keno/x15/100k/datasets/keno_x15_100k_dr.npz\n",
      "Loading dataset ../data/keno/x15/100k/datasets/keno_x15_100k_dr.npz\n",
      "xndraw25k, new_st25.0, multiple1000, notationk\n",
      "[iFile:__init__]\n",
      "xndraw25k, new_st25.0, multiple1000, notationk\n",
      "[iFile:derive_game_path]data/hotspot/\n",
      "[iFile:derive_folder_path] data/hotspot/x15/25k/\n",
      "[iDataset:derive_file_path] datasets/hotspot_x15_25k_dr.npz\n",
      "[ifile:derive_full_path] ../data/hotspot/x15/25k/datasets/hotspot_x15_25k_dr.npz\n",
      "Loading dataset ../data/hotspot/x15/25k/datasets/hotspot_x15_25k_dr.npz\n"
     ]
    }
   ],
   "source": [
    "keno_d = Dataset('keno_x15_100k_dr')\n",
    "keno_d.load();\n",
    "\n",
    "hotspot_d = Dataset('hotspot_x15_25k_dr')\n",
    "hotspot_d.load();"
   ]
  },
  {
   "cell_type": "code",
   "execution_count": 13,
   "metadata": {
    "colab": {
     "base_uri": "https://localhost:8080/",
     "height": 34
    },
    "colab_type": "code",
    "id": "HcRvqCLgnhDP",
    "outputId": "fdf5ccaf-d81a-4181-cc37-be49108e7252"
   },
   "outputs": [
    {
     "name": "stdout",
     "output_type": "stream",
     "text": [
      "[iModel:decipher_file_name]\n",
      "[iModel:set_decipher_info] {'GAME': 'keno', 'xnINPUTS': 'x15', 'nINPUTS': 15, 'xnDRAWS': '25k', 'nDRAWS': 25000, 'DATA_TYPE': 'dr', 'API': 'ker', 'BUILD': '5', 'MAKE': '3', 'VERSION': '0', 'IS_CHECKPOINT': False, 'CHECKPOINT_EPOCH': 0}\n",
      "[iFile:__init__]\n",
      "[iModel:decipher_file_name]\n",
      "[iModel:set_decipher_info] {'GAME': 'keno', 'xnINPUTS': 'x15', 'nINPUTS': 15, 'xnDRAWS': '25k', 'nDRAWS': 25000, 'DATA_TYPE': 'dr', 'API': 'ker', 'BUILD': '5', 'MAKE': '3', 'VERSION': '0', 'IS_CHECKPOINT': False, 'CHECKPOINT_EPOCH': 0}\n",
      "[iModel:derive_file_path] models/ker/5/3/keno.ker.5.3.h5\n",
      "[iFile:derive_game_path]data/keno/\n",
      "[ifile:derive_full_path] ../data/keno/x15/100k/models/ker/5/3/keno.ker.5.3.h5\n",
      "[iModel:derive_checkpoints_folder] Ensured ../data/keno/x15/100k/models/ker/5/3/checkpoints/\n",
      "[iModel:__init__\n",
      "[KER_Model:__init__]\n",
      "[KER_Model_loader: loaded new build 5.3]\n",
      "[iModel:save_untrained] Saved untrained model ../data/keno/untrained_models/keno.ker.5.3.0.h5\n",
      "[iModel:decipher_file_name]\n",
      "[iModel:set_decipher_info] {'GAME': 'hotspot', 'xnINPUTS': 'x15', 'nINPUTS': 15, 'xnDRAWS': '25k', 'nDRAWS': 25000, 'DATA_TYPE': 'dr', 'API': 'ker', 'BUILD': '5', 'MAKE': '3', 'VERSION': '0', 'IS_CHECKPOINT': False, 'CHECKPOINT_EPOCH': 0}\n",
      "[iFile:__init__]\n",
      "[iModel:decipher_file_name]\n",
      "[iModel:set_decipher_info] {'GAME': 'hotspot', 'xnINPUTS': 'x15', 'nINPUTS': 15, 'xnDRAWS': '25k', 'nDRAWS': 25000, 'DATA_TYPE': 'dr', 'API': 'ker', 'BUILD': '5', 'MAKE': '3', 'VERSION': '0', 'IS_CHECKPOINT': False, 'CHECKPOINT_EPOCH': 0}\n",
      "[iModel:derive_file_path] models/ker/5/3/hotspot.ker.5.3.h5\n",
      "[iFile:derive_game_path]data/hotspot/\n",
      "[ifile:derive_full_path] ../data/hotspot/x15/25k/models/ker/5/3/hotspot.ker.5.3.h5\n",
      "[iModel:derive_checkpoints_folder] Ensured ../data/hotspot/x15/25k/models/ker/5/3/checkpoints/\n",
      "[iModel:__init__\n",
      "[KER_Model:__init__]\n",
      "[KER_Model_loader: loaded new build 5.3]\n",
      "[iModel:save_untrained] Saved untrained model ../data/hotspot/untrained_models/hotspot.ker.5.3.0.h5\n"
     ]
    }
   ],
   "source": [
    "BUILD = 5;\n",
    "MAKE= 3;\n",
    "\n",
    "kkm_id = 'keno.ker.{0}.{1}'.format(BUILD, MAKE)\n",
    "hkm_id = 'hotspot.ker.{0}.{1}'.format(BUILD, MAKE)\n",
    "\n",
    "kkm = KER_Model(kkm_id, keno_d)\n",
    "KER_Model_Loader(kkm);\n",
    "kkm.save_untrained();\n",
    "\n",
    "hkm= KER_Model(hkm_id, hotspot_d)\n",
    "KER_Model_Loader(hkm);\n",
    "hkm.save_untrained();"
   ]
  },
  {
   "cell_type": "code",
   "execution_count": null,
   "metadata": {},
   "outputs": [],
   "source": []
  }
 ],
 "metadata": {
  "accelerator": "TPU",
  "colab": {
   "include_colab_link": true,
   "machine_shape": "hm",
   "name": "model_prep.ipynb",
   "provenance": []
  },
  "kernelspec": {
   "display_name": "Python 3",
   "language": "python",
   "name": "python3"
  },
  "language_info": {
   "codemirror_mode": {
    "name": "ipython",
    "version": 3
   },
   "file_extension": ".py",
   "mimetype": "text/x-python",
   "name": "python",
   "nbconvert_exporter": "python",
   "pygments_lexer": "ipython3",
   "version": "3.6.9"
  }
 },
 "nbformat": 4,
 "nbformat_minor": 4
}
