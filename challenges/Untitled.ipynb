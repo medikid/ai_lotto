{
 "cells": [
  {
   "cell_type": "markdown",
   "metadata": {},
   "source": [
    "# Tasks to-do"
   ]
  },
  {
   "cell_type": "markdown",
   "metadata": {},
   "source": [
    "## Add database support and operations\n",
    "<list>\n",
    "<input type='checkbox'> Add local database\n",
    "<input type='checkbox'> Add SQLAlchemy\n",
    "<input type='checkbox'> Create SQLAlchemy Classes\n",
    "<input type='checkbox'> Save SQLAlchemy objects\n",
    "<input type='checkbox'> Add SQLAlchemy objects from keras callbacks\n",
    "    </list>"
   ]
  },
  {
   "cell_type": "code",
   "execution_count": 10,
   "metadata": {},
   "outputs": [],
   "source": [
    "import ipywidgets as widgets\n",
    "from ipywidgets import Checkbox"
   ]
  },
  {
   "cell_type": "code",
   "execution_count": 11,
   "metadata": {},
   "outputs": [
    {
     "data": {
      "application/vnd.jupyter.widget-view+json": {
       "model_id": "4b7328f057ab46b982fa460f66c95533",
       "version_major": 2,
       "version_minor": 0
      },
      "text/plain": [
       "HBox(children=(Checkbox(value=False, layout=Layout(width='30px')), Label(value='description', layout=Layout(ma…"
      ]
     },
     "metadata": {},
     "output_type": "display_data"
    }
   ],
   "source": [
    "from ipywidgets import widgets, Layout\n",
    "from IPython.display import display\n",
    "\n",
    "checkbox = widgets.Checkbox(value=False, disabled=False, layout=Layout(width='30px'))\n",
    "label = widgets.Label('description', layout=Layout(width='500px', margin='6px 0 0 -10px'))\n",
    "box = widgets.HBox([checkbox, label])\n",
    "display(box)"
   ]
  },
  {
   "cell_type": "code",
   "execution_count": 1,
   "metadata": {},
   "outputs": [
    {
     "ename": "SyntaxError",
     "evalue": "invalid syntax (<ipython-input-1-fe880b44e19d>, line 2)",
     "output_type": "error",
     "traceback": [
      "\u001b[0;36m  File \u001b[0;32m\"<ipython-input-1-fe880b44e19d>\"\u001b[0;36m, line \u001b[0;32m2\u001b[0m\n\u001b[0;31m    jupyter nbextension enable --py widgetsnbextension\u001b[0m\n\u001b[0m                      ^\u001b[0m\n\u001b[0;31mSyntaxError\u001b[0m\u001b[0;31m:\u001b[0m invalid syntax\n"
     ]
    }
   ],
   "source": [
    "#!pip install ipywidgets\n",
    "jupyter nbextension enable --py widgetsnbextension\n"
   ]
  },
  {
   "cell_type": "code",
   "execution_count": null,
   "metadata": {},
   "outputs": [],
   "source": []
  }
 ],
 "metadata": {
  "kernelspec": {
   "display_name": "Python 3",
   "language": "python",
   "name": "python3"
  },
  "language_info": {
   "codemirror_mode": {
    "name": "ipython",
    "version": 3
   },
   "file_extension": ".py",
   "mimetype": "text/x-python",
   "name": "python",
   "nbconvert_exporter": "python",
   "pygments_lexer": "ipython3",
   "version": "3.6.9"
  }
 },
 "nbformat": 4,
 "nbformat_minor": 4
}
