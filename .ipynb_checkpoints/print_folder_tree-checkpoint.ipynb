{
 "cells": [
  {
   "cell_type": "code",
   "execution_count": 2,
   "metadata": {},
   "outputs": [
    {
     "name": "stdout",
     "output_type": "stream",
     "text": [
      "keno\n",
      "├── master\n",
      "│   ├── keno_master_dp.pkl\n",
      "│   ├── keno_master_dr.pkl\n",
      "│   ├── keno_master.pkl\n",
      "│   └── keno_master_r.pkl\n",
      "└── x15\n",
      "    ├── 100k\n",
      "    │   └── datasets\n",
      "    │       └── keno_x15_100k_dr.npz\n",
      "    ├── 1m\n",
      "    │   └── datasets\n",
      "    │       └── keno_x15_1m_dr.npz\n",
      "    ├── 250k\n",
      "    │   └── datasets\n",
      "    │       └── keno_x15_250k_dr.npz\n",
      "    ├── 2.528m\n",
      "    │   └── datasets\n",
      "    │       └── keno_x15_2.528m_dr.npz\n",
      "    ├── 25k\n",
      "    │   ├── datasets\n",
      "    │   │   └── keno_x15_25k_dr.npz\n",
      "    │   └── models\n",
      "    │       └── ker\n",
      "    │           └── 2\n",
      "    ├── 2m\n",
      "    │   ├── datasets\n",
      "    │   │   └── keno_x15_2m_dr.npz\n",
      "    │   └── models\n",
      "    │       └── ker\n",
      "    │           └── 2\n",
      "    └── 500k\n",
      "        └── datasets\n",
      "            └── keno_x15_500k_dr.npz\n",
      "\n",
      "22 directories, 11 files\n"
     ]
    }
   ],
   "source": [
    "#!apt-get install tree\n",
    "!tree keno"
   ]
  }
 ],
 "metadata": {
  "kernelspec": {
   "display_name": "Python 3",
   "language": "python",
   "name": "python3"
  },
  "language_info": {
   "codemirror_mode": {
    "name": "ipython",
    "version": 3
   },
   "file_extension": ".py",
   "mimetype": "text/x-python",
   "name": "python",
   "nbconvert_exporter": "python",
   "pygments_lexer": "ipython3",
   "version": "3.6.9"
  }
 },
 "nbformat": 4,
 "nbformat_minor": 4
}
