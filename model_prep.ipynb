{
  "nbformat": 4,
  "nbformat_minor": 0,
  "metadata": {
    "colab": {
      "name": "model_prep.ipynb",
      "provenance": [],
      "machine_shape": "hm",
      "include_colab_link": true
    },
    "kernelspec": {
      "display_name": "Python 3",
      "language": "python",
      "name": "python3"
    },
    "language_info": {
      "codemirror_mode": {
        "name": "ipython",
        "version": 3
      },
      "file_extension": ".py",
      "mimetype": "text/x-python",
      "name": "python",
      "nbconvert_exporter": "python",
      "pygments_lexer": "ipython3",
      "version": "3.6.9"
    },
    "accelerator": "TPU"
  },
  "cells": [
    {
      "cell_type": "markdown",
      "metadata": {
        "id": "view-in-github",
        "colab_type": "text"
      },
      "source": [
        "<a href=\"https://colab.research.google.com/github/medikid/ai_lotto/blob/master/model_prep.ipynb\" target=\"_parent\"><img src=\"https://colab.research.google.com/assets/colab-badge.svg\" alt=\"Open In Colab\"/></a>"
      ]
    },
    {
      "cell_type": "markdown",
      "metadata": {
        "colab_type": "text",
        "id": "OTDrhfBtnhDA"
      },
      "source": [
        "# Prepare models and save"
      ]
    },
    {
      "cell_type": "code",
      "metadata": {
        "id": "LcC9k8pL69mG",
        "colab_type": "code",
        "outputId": "1d87c0b0-ea06-4633-d3b8-4117cdde0f67",
        "colab": {
          "base_uri": "https://localhost:8080/",
          "height": 122
        }
      },
      "source": [
        "from google.colab import drive\n",
        "drive.mount('/content/drive')"
      ],
      "execution_count": 2,
      "outputs": [
        {
          "output_type": "stream",
          "text": [
            "Go to this URL in a browser: https://accounts.google.com/o/oauth2/auth?client_id=947318989803-6bn6qk8qdgf4n4g3pfee6491hc0brc4i.apps.googleusercontent.com&redirect_uri=urn%3aietf%3awg%3aoauth%3a2.0%3aoob&response_type=code&scope=email%20https%3a%2f%2fwww.googleapis.com%2fauth%2fdocs.test%20https%3a%2f%2fwww.googleapis.com%2fauth%2fdrive%20https%3a%2f%2fwww.googleapis.com%2fauth%2fdrive.photos.readonly%20https%3a%2f%2fwww.googleapis.com%2fauth%2fpeopleapi.readonly\n",
            "\n",
            "Enter your authorization code:\n",
            "··········\n",
            "Mounted at /content/drive\n"
          ],
          "name": "stdout"
        }
      ]
    },
    {
      "cell_type": "code",
      "metadata": {
        "id": "SRxlVqEY6s3N",
        "colab_type": "code",
        "outputId": "de79cbd8-88ae-4977-eb0c-21e577c1c2d5",
        "colab": {
          "base_uri": "https://localhost:8080/",
          "height": 34
        }
      },
      "source": [
        "cd 'drive/My Drive/Colab/Datascience/ai_lotto'"
      ],
      "execution_count": 4,
      "outputs": [
        {
          "output_type": "stream",
          "text": [
            "/content/drive/My Drive/Colab/Datascience/ai_lotto\n"
          ],
          "name": "stdout"
        }
      ]
    },
    {
      "cell_type": "code",
      "metadata": {
        "id": "eGwTkm9J7XKg",
        "colab_type": "code",
        "outputId": "eeabd1c1-0d74-43e6-e6c5-81abd45135ef",
        "colab": {
          "base_uri": "https://localhost:8080/",
          "height": 35
        }
      },
      "source": [
        "pwd"
      ],
      "execution_count": 0,
      "outputs": [
        {
          "output_type": "execute_result",
          "data": {
            "text/plain": [
              "'/content/drive/My Drive/Colab/Datascience/ai_lotto/notebooks'"
            ]
          },
          "metadata": {
            "tags": []
          },
          "execution_count": 8
        }
      ]
    },
    {
      "cell_type": "code",
      "metadata": {
        "colab_type": "code",
        "id": "0kFA2UntnhDC",
        "outputId": "f4e3c520-5184-4463-9991-89cc299840f5",
        "colab": {
          "base_uri": "https://localhost:8080/",
          "height": 88
        }
      },
      "source": [
        "# !python3 '../idataset.py'\n",
        "# !python3 '../imodel.py'\n",
        "# !python3 '../ker_model.py'\n",
        "# !python3 '../tfl_model.py'\n",
        "from idataset import Dataset\n",
        "from imodel import Model\n",
        "from ker_model import KER_Model\n",
        "from tfl_model import TFL_Model\n",
        "\n",
        "import keras as kr\n",
        "from keras.models import Sequential\n",
        "from keras.layers import LSTM, Dense"
      ],
      "execution_count": 5,
      "outputs": [
        {
          "output_type": "stream",
          "text": [
            "/usr/local/lib/python3.6/dist-packages/statsmodels/tools/_testing.py:19: FutureWarning: pandas.util.testing is deprecated. Use the functions in the public API at pandas.testing instead.\n",
            "  import pandas.util.testing as tm\n",
            "Using TensorFlow backend.\n"
          ],
          "name": "stderr"
        }
      ]
    },
    {
      "cell_type": "markdown",
      "metadata": {
        "colab_type": "text",
        "id": "bjRdSSIgnhDI"
      },
      "source": [
        "# KERAS Models"
      ]
    },
    {
      "cell_type": "code",
      "metadata": {
        "id": "ffNuclnT5QhG",
        "colab_type": "code",
        "outputId": "4a9af07f-41f4-4288-9dd1-2c727d6a79ab",
        "colab": {
          "base_uri": "https://localhost:8080/",
          "height": 52
        }
      },
      "source": [
        "cd notebooks"
      ],
      "execution_count": 0,
      "outputs": [
        {
          "output_type": "stream",
          "text": [
            "[Errno 2] No such file or directory: 'notebooks'\n",
            "/content/drive/My Drive/Colab/Datascience/ai_lotto/notebooks\n"
          ],
          "name": "stdout"
        }
      ]
    },
    {
      "cell_type": "code",
      "metadata": {
        "colab_type": "code",
        "id": "4s55W337nhDJ",
        "outputId": "a6dcd99e-8413-480d-d326-abda1963e7cc",
        "colab": {
          "base_uri": "https://localhost:8080/",
          "height": 153
        }
      },
      "source": [
        "d = Dataset('keno_x15_2.528m_dr')\n",
        "d.load();\n",
        "dataset = d._D;"
      ],
      "execution_count": 9,
      "outputs": [
        {
          "output_type": "stream",
          "text": [
            "xndraw2.528m, new_st2.528, multiple1000000, notationm\n",
            "[iFile:__init__]\n",
            "xndraw2.528m, new_st2.528, multiple1000000, notationm\n",
            "[iFile:derive_game_path]data/keno/\n",
            "[iFile:derive_folder_path] data/keno/x15/2.528m/\n",
            "[iDataset:derive_file_path] datasets/keno_x15_2.528m_dr.npz\n",
            "[ifile:derive_full_path] ../data/keno/x15/2.528m/datasets/keno_x15_2.528m_dr.npz\n",
            "Loading dataset ../data/keno/x15/2.528m/datasets/keno_x15_2.528m_dr.npz\n"
          ],
          "name": "stdout"
        }
      ]
    },
    {
      "cell_type": "code",
      "metadata": {
        "colab_type": "code",
        "id": "HcRvqCLgnhDP",
        "outputId": "8fa6c3e3-31d8-4c62-9f39-ccdc5aeddb47",
        "colab": {
          "base_uri": "https://localhost:8080/",
          "height": 163
        }
      },
      "source": [
        "dataset['Y'].shape"
      ],
      "execution_count": 8,
      "outputs": [
        {
          "output_type": "error",
          "ename": "NameError",
          "evalue": "ignored",
          "traceback": [
            "\u001b[0;31m---------------------------------------------------------------------------\u001b[0m",
            "\u001b[0;31mNameError\u001b[0m                                 Traceback (most recent call last)",
            "\u001b[0;32m<ipython-input-8-b9ec5aa85493>\u001b[0m in \u001b[0;36m<module>\u001b[0;34m()\u001b[0m\n\u001b[0;32m----> 1\u001b[0;31m \u001b[0mdataset\u001b[0m\u001b[0;34m[\u001b[0m\u001b[0;34m'Y'\u001b[0m\u001b[0;34m]\u001b[0m\u001b[0;34m.\u001b[0m\u001b[0mshape\u001b[0m\u001b[0;34m\u001b[0m\u001b[0;34m\u001b[0m\u001b[0m\n\u001b[0m",
            "\u001b[0;31mNameError\u001b[0m: name 'dataset' is not defined"
          ]
        }
      ]
    },
    {
      "cell_type": "code",
      "metadata": {
        "colab_type": "code",
        "id": "Du1xE3tpnhDU",
        "outputId": "710bb0eb-df55-4eff-9d70-bade4b09a7d9",
        "colab": {
          "base_uri": "https://localhost:8080/",
          "height": 421
        }
      },
      "source": [
        "#Keno.ker.1.1\n",
        "k11 = KER_Model('keno.ker.1.1', d);\n",
        "k11._M = Sequential()\n",
        "k11._M.add(LSTM(units=100, activation='relu', input_shape=(dataset['X'].shape[1], dataset['X'].shape[2]) , return_sequences=True ));\n",
        "k11._M.add(LSTM(units=100, activation='relu'))\n",
        "k11._M.add(Dense(dataset['Y'].shape[1]));\n",
        "k11._M.compile(optimizer='adam', loss='mse', metrics=['accuracy'])\n",
        "k11.save_untrained();\n",
        "\n",
        "k11._M.fit(dataset['X'], dataset['Y'], epochs=10, batch_size=256)\n",
        "k11.save()"
      ],
      "execution_count": 10,
      "outputs": [
        {
          "output_type": "stream",
          "text": [
            "[iModel:decipher_file_name]\n",
            "[iModel:set_decipher_info] {'GAME': 'keno', 'xnINPUTS': 'x15', 'nINPUTS': 15, 'xnDRAWS': '2.528m', 'nDRAWS': 2528000, 'DATA_TYPE': 'dr', 'API': 'ker', 'BUILD': '1', 'VERSION': '1'}\n",
            "[iFile:__init__]\n",
            "[iModel:decipher_file_name]\n",
            "[iModel:set_decipher_info] {'GAME': 'keno', 'xnINPUTS': 'x15', 'nINPUTS': 15, 'xnDRAWS': '2.528m', 'nDRAWS': 2528000, 'DATA_TYPE': 'dr', 'API': 'ker', 'BUILD': '1', 'VERSION': '1'}\n",
            "[iModel:derive_file_path] models/ker/1/keno.ker.1.1.h5\n",
            "[iFile:derive_game_path]data/keno/\n",
            "[ifile:derive_full_path] ../data/keno/x15/2.528m/models/ker/1/keno.ker.1.1.h5\n",
            "[iModel:__init__\n",
            "[KER_Model:__init__]\n",
            "Saved untrained model ../data/keno/untrained_models/keno.ker.1.h5\n"
          ],
          "name": "stdout"
        },
        {
          "output_type": "error",
          "ename": "TypeError",
          "evalue": "ignored",
          "traceback": [
            "\u001b[0;31m---------------------------------------------------------------------------\u001b[0m",
            "\u001b[0;31mTypeError\u001b[0m                                 Traceback (most recent call last)",
            "\u001b[0;32m<ipython-input-10-4b008b257e57>\u001b[0m in \u001b[0;36m<module>\u001b[0;34m()\u001b[0m\n\u001b[1;32m      7\u001b[0m \u001b[0mk11\u001b[0m\u001b[0;34m.\u001b[0m\u001b[0msave_untrained\u001b[0m\u001b[0;34m(\u001b[0m\u001b[0;34m)\u001b[0m\u001b[0;34m;\u001b[0m\u001b[0;34m\u001b[0m\u001b[0;34m\u001b[0m\u001b[0m\n\u001b[1;32m      8\u001b[0m \u001b[0;34m\u001b[0m\u001b[0m\n\u001b[0;32m----> 9\u001b[0;31m \u001b[0mk11\u001b[0m\u001b[0;34m.\u001b[0m\u001b[0mtrain\u001b[0m\u001b[0;34m(\u001b[0m\u001b[0mdataset\u001b[0m\u001b[0;34m[\u001b[0m\u001b[0;34m'X'\u001b[0m\u001b[0;34m]\u001b[0m\u001b[0;34m,\u001b[0m \u001b[0mdataset\u001b[0m\u001b[0;34m[\u001b[0m\u001b[0;34m'Y'\u001b[0m\u001b[0;34m]\u001b[0m\u001b[0;34m,\u001b[0m \u001b[0mepochs\u001b[0m\u001b[0;34m=\u001b[0m\u001b[0;36m10\u001b[0m\u001b[0;34m,\u001b[0m \u001b[0mbatch_size\u001b[0m\u001b[0;34m=\u001b[0m\u001b[0;36m256\u001b[0m\u001b[0;34m)\u001b[0m\u001b[0;34m\u001b[0m\u001b[0;34m\u001b[0m\u001b[0m\n\u001b[0m\u001b[1;32m     10\u001b[0m \u001b[0mk11\u001b[0m\u001b[0;34m.\u001b[0m\u001b[0msave\u001b[0m\u001b[0;34m(\u001b[0m\u001b[0;34m)\u001b[0m\u001b[0;34m\u001b[0m\u001b[0;34m\u001b[0m\u001b[0m\n",
            "\u001b[0;31mTypeError\u001b[0m: train() got an unexpected keyword argument 'epochs'"
          ]
        }
      ]
    },
    {
      "cell_type": "code",
      "metadata": {
        "colab_type": "code",
        "id": "eoPSZaUInhDZ",
        "colab": {}
      },
      "source": [
        "#Keno.ker.2.1\n",
        "k21 = KER_Model('keno.ker.2.1', d);\n",
        "k21._M = Sequential()\n",
        "k21._M.add(LSTM(units=100, activation='relu', input_shape=(dataset['X'].shape[1], dataset['X'].shape[2]) , return_sequences=True ));\n",
        "k21._M.add(LSTM(units=100, activation='relu'))\n",
        "k21._M.add(Dense(dataset['Y'].shape[1]));\n",
        "k21._M.compile(optimizer='adam', loss='mse', metrics=['accuracy'])\n",
        "k21.save_untrained();\n",
        "\n",
        "k21._M.fit(dataset['X'], dataset['Y'], epochs=10, batch_size=256)\n",
        "k21.save()\n"
      ],
      "execution_count": 0,
      "outputs": []
    },
    {
      "cell_type": "code",
      "metadata": {
        "colab_type": "code",
        "id": "HSzm4bfhnhDe",
        "colab": {}
      },
      "source": [
        "#Keno.ker.3.1\n",
        "k31 = KER_Model('keno.ker.3.1', d);\n",
        "k31._M = Sequential()\n",
        "k31._M.add(LSTM(units=80, activation='relu', input_shape=(dataset['X'].shape[1], dataset['X'].shape[2]) , return_sequences=True ));\n",
        "k31._M.add(LSTM(units=160, activation='relu'))\n",
        "k31._M.add(Dense(units=160, activation='relu'));\n",
        "k31._M.add(Dense(dataset['Y'].shape[1]));\n",
        "k31._M.compile(optimizer='adam', loss='mse', metrics=['accuracy'])\n",
        "k31.save_untrained();\n",
        "\n",
        "k31._M.fit(dataset['X'], dataset['Y'], epochs=10, batch_size=256)\n",
        "k31.save()"
      ],
      "execution_count": 0,
      "outputs": []
    },
    {
      "cell_type": "code",
      "metadata": {
        "id": "2DdzbDrN3xLy",
        "colab_type": "code",
        "colab": {}
      },
      "source": [
        "#Keno.ker.4.1\n",
        "k41 = KER_Model('keno.ker.4.1', d);\n",
        "k41._M = Sequential()\n",
        "k41._M.add(LSTM(units=80, activation='relu', input_shape=(dataset['X'].shape[1], dataset['X'].shape[2]) , return_sequences=True ));\n",
        "k41._M.add(LSTM(units=160, activation='relu'))\n",
        "k41._M.add(Dense(units=160, activation='relu'));\n",
        "k41._M.add(Dense(dataset['Y'].shape[1], activation='sigmoid'));\n",
        "k41._M.compile(optimizer='adam', loss='mse', metrics=['accuracy'])\n",
        "k41.save_untrained();\n",
        "\n",
        "k41._M.fit(dataset['X'], dataset['Y'], epochs=10, batch_size=256))\n",
        "k41.save()"
      ],
      "execution_count": 0,
      "outputs": []
    }
  ]
}